{
    "cells": [
        {
            "cell_type": "markdown",
            "metadata": {
                "collapsed": true
            },
            "source": "### Data Cleansing\n\nIn some process models Data Cleansing is a separate task, it is closely tied to Feature Creation but also draws findings from the Initial Data Exploration task. The actual data transformations are implemented in the Feature Creation asset deliverable; therefore, Data Cleansing is part of the Feature Creation task in this process model.\n\nWhile tuning machine learning models, this deliverable asset is touched on a regular basis anyway because features need to be transformed to increase model performance. In such iterations, often issues with data are detected and therefore need to be corrected/addressed here as well.\n\nThe following none exhaustive list gives you some guidelines:\n\n- Data types Are data types of columns matching their content? E.g. is age stored as integer and not as string?  \n\n- Ranges Does the value distribution of values in a column make sense? Use stats (e.g. min, max, mean, standard deviation) and visualizations (e.g. box-plot, histogram) for help  \n\n- Emptiness Are all values non-null where mandatory? E.g. client IDs  \n\n- Uniqueness Are duplicates present where undesired? E.g. client IDs  \n\n- Set memberships Are only allowed values chosen for categorical or ordinal fields? E.g. Female, Male, Unknown  \n\n- Foreign key set memberships Are only allowed values chosen as field? E.g. ZIP code  \n\n- Regular expressions Some files need to stick to a pattern expressed by a regular expression. E.g. a lower-case character followed by 6 digits  \n\n- Cross-field validation Some fields can impact validity of other fields. E.g. a male person can\u2019t be pregnant   \n\nPlease transform your data set accordingly and add all code to the Feature Creation asset deliverable. Please comply with the naming convention documented in the process model.\n\n### Feature Engineering\n\nFeature Creation and Feature Engineering is one of the most important tasks in machine learning since it hugely impacts model performance. This also holds for deep learning, although to a lesser extent. Features can be changed or new features can be created from existing ones\n\nThe following none exhaustive list gives you some guidelines for feature transformation:\n\n- Imputing Some algorithms are very sensitive to missing values. Therefore, imputing allows for filling of empty fields based on its value distribution  \n\n- Imputed time-series quantization Time series often contain streams with measurements at different timestamps. Therefore, it is beneficial to quantize measurements to a common \u201cheart beat\u201d and impute the corresponding values. This can be done by sampling from the source time series distributions on the respective quantized time steps  \n\n- Scaling / Normalizing / Centering Some algorithms are very sensitive differences in value ranges for individual fields. Therefore, it is best practice to center data around zero and scale values to a standard deviation of one  \n\n- Filtering Sometimes imputing values doesn\u2019t perform well, therefore deletion of low quality records is a better strategy  \n\n- Discretizing Continuous fields might confuse the model, e.g. a discrete set of age ranges sometimes performs better than continuous values, especially on smaller amounts of data and with simpler models \n\nThe following none exhaustive list gives you some guidelines for feature creation:\n\n- One-hot-encoding Categorical integer features should be transformed into \u201cone-hot\u201d vectors. In relational terms this results in addition of additional columns \u2013 one columns for each distinct category  \n\n- Time-to-Frequency transformation Time-series (and sometimes also sequence data) is recorded in the time domain but can easily transformed into the frequency domain e.g. using FFT (Fast Fourier Transformation)  \n\n- Month-From-Date Creating an additional feature containing the month independent from data captures seasonal aspects. Sometimes further discretization in to quarters helps as well  \n\n- Aggregate-on-Target Simply aggregating fields the target variable (or even other fields) can improve performance, e.g. count number of data points per ZIP code or take the median of all values by geographical region\n\nAs feature engineering is an art on itself, this list cannot be exhaustive. It\u2019s not expected to become an expert in this topic at this point. Most of it you\u2019ll learn by practicing data science on real projects and talk to peers which might share their secrets and tricks with you.  \n\nPlease transform your data set accordingly and add all code to the Feature Creation asset deliverable. Please comply with the naming convention documented in the process model.\n\n### Milestones Checklist Week 2\n\n- Created an ETL Notebook\n\n- Added Data Cleansing code to the ETL Notebook\n\n- Created a Feature Creation Notebook\n\n- Transformed Features\n\n- Created additional Features"
        },
        {
            "cell_type": "code",
            "execution_count": 1,
            "metadata": {},
            "outputs": [
                {
                    "name": "stdout",
                    "output_type": "stream",
                    "text": "Waiting for a Spark session to start...\nSpark Initialization Done! ApplicationId = app-20210702170125-0000\nKERNEL_ID = c9d4ee8f-f0b1-4fb5-a2f2-f089fad693a6\nCollecting tensorflow\n  Downloading tensorflow-2.5.0-cp37-cp37m-manylinux2010_x86_64.whl (454.3 MB)\n\u001b[K     |\u2588\u2588\u2588\u2588\u2588\u2588\u2588\u2588\u2588\u2588\u2588\u2588\u2588\u2588\u2588\u2588\u2588\u2588\u2588\u2588\u2588\u2588\u2588\u2588\u2588\u2588\u2588\u2588\u2588\u2588\u2588\u2588| 454.3 MB 20 kB/s s eta 0:00:01    |\u2588\u2588\u2588\u258e                            | 46.0 MB 10.1 MB/s eta 0:00:41         | 75.9 MB 55.0 MB/s eta 0:00:07\ufffd\ufffd\u2588\u258d            | 275.2 MB 76.2 MB/s eta 0:00:03\ufffd\u2588\u2588\u2588\u2588\u2588\u2588\u2588\u2588\u2588\u2588\u2588        | 339.4 MB 90.0 MB/s eta 0:00:02\n\u001b[?25hCollecting grpcio~=1.34.0\n  Downloading grpcio-1.34.1-cp37-cp37m-manylinux2014_x86_64.whl (4.0 MB)\n\u001b[K     |\u2588\u2588\u2588\u2588\u2588\u2588\u2588\u2588\u2588\u2588\u2588\u2588\u2588\u2588\u2588\u2588\u2588\u2588\u2588\u2588\u2588\u2588\u2588\u2588\u2588\u2588\u2588\u2588\u2588\u2588\u2588\u2588| 4.0 MB 44.1 MB/s eta 0:00:01\n\u001b[?25hCollecting google-pasta~=0.2\n  Downloading google_pasta-0.2.0-py3-none-any.whl (57 kB)\n\u001b[K     |\u2588\u2588\u2588\u2588\u2588\u2588\u2588\u2588\u2588\u2588\u2588\u2588\u2588\u2588\u2588\u2588\u2588\u2588\u2588\u2588\u2588\u2588\u2588\u2588\u2588\u2588\u2588\u2588\u2588\u2588\u2588\u2588| 57 kB 3.4 MB/s  eta 0:00:01\n\u001b[?25hCollecting keras-preprocessing~=1.1.2\n  Downloading Keras_Preprocessing-1.1.2-py2.py3-none-any.whl (42 kB)\n\u001b[K     |\u2588\u2588\u2588\u2588\u2588\u2588\u2588\u2588\u2588\u2588\u2588\u2588\u2588\u2588\u2588\u2588\u2588\u2588\u2588\u2588\u2588\u2588\u2588\u2588\u2588\u2588\u2588\u2588\u2588\u2588\u2588\u2588| 42 kB 735 kB/s  eta 0:00:01\n\u001b[?25hCollecting wrapt~=1.12.1\n  Downloading wrapt-1.12.1.tar.gz (27 kB)\nCollecting six~=1.15.0\n  Downloading six-1.15.0-py2.py3-none-any.whl (10 kB)\nCollecting termcolor~=1.1.0\n  Downloading termcolor-1.1.0.tar.gz (3.9 kB)\nCollecting numpy~=1.19.2\n  Downloading numpy-1.19.5-cp37-cp37m-manylinux2010_x86_64.whl (14.8 MB)\n\u001b[K     |\u2588\u2588\u2588\u2588\u2588\u2588\u2588\u2588\u2588\u2588\u2588\u2588\u2588\u2588\u2588\u2588\u2588\u2588\u2588\u2588\u2588\u2588\u2588\u2588\u2588\u2588\u2588\u2588\u2588\u2588\u2588\u2588| 14.8 MB 39.0 MB/s eta 0:00:01\n\u001b[?25hCollecting tensorflow-estimator<2.6.0,>=2.5.0rc0\n  Downloading tensorflow_estimator-2.5.0-py2.py3-none-any.whl (462 kB)\n\u001b[K     |\u2588\u2588\u2588\u2588\u2588\u2588\u2588\u2588\u2588\u2588\u2588\u2588\u2588\u2588\u2588\u2588\u2588\u2588\u2588\u2588\u2588\u2588\u2588\u2588\u2588\u2588\u2588\u2588\u2588\u2588\u2588\u2588| 462 kB 82.3 MB/s eta 0:00:01\n\u001b[?25hCollecting wheel~=0.35\n  Downloading wheel-0.36.2-py2.py3-none-any.whl (35 kB)\nCollecting opt-einsum~=3.3.0\n  Downloading opt_einsum-3.3.0-py3-none-any.whl (65 kB)\n\u001b[K     |\u2588\u2588\u2588\u2588\u2588\u2588\u2588\u2588\u2588\u2588\u2588\u2588\u2588\u2588\u2588\u2588\u2588\u2588\u2588\u2588\u2588\u2588\u2588\u2588\u2588\u2588\u2588\u2588\u2588\u2588\u2588\u2588| 65 kB 1.9 MB/s  eta 0:00:01\n\u001b[?25hCollecting flatbuffers~=1.12.0\n  Downloading flatbuffers-1.12-py2.py3-none-any.whl (15 kB)\nCollecting tensorboard~=2.5\n  Downloading tensorboard-2.5.0-py3-none-any.whl (6.0 MB)\n\u001b[K     |\u2588\u2588\u2588\u2588\u2588\u2588\u2588\u2588\u2588\u2588\u2588\u2588\u2588\u2588\u2588\u2588\u2588\u2588\u2588\u2588\u2588\u2588\u2588\u2588\u2588\u2588\u2588\u2588\u2588\u2588\u2588\u2588| 6.0 MB 68.2 MB/s eta 0:00:01\n\u001b[?25hCollecting absl-py~=0.10\n  Downloading absl_py-0.13.0-py3-none-any.whl (132 kB)\n\u001b[K     |\u2588\u2588\u2588\u2588\u2588\u2588\u2588\u2588\u2588\u2588\u2588\u2588\u2588\u2588\u2588\u2588\u2588\u2588\u2588\u2588\u2588\u2588\u2588\u2588\u2588\u2588\u2588\u2588\u2588\u2588\u2588\u2588| 132 kB 83.9 MB/s eta 0:00:01\n\u001b[?25hCollecting protobuf>=3.9.2\n  Downloading protobuf-3.17.3-cp37-cp37m-manylinux_2_5_x86_64.manylinux1_x86_64.whl (1.0 MB)\n\u001b[K     |\u2588\u2588\u2588\u2588\u2588\u2588\u2588\u2588\u2588\u2588\u2588\u2588\u2588\u2588\u2588\u2588\u2588\u2588\u2588\u2588\u2588\u2588\u2588\u2588\u2588\u2588\u2588\u2588\u2588\u2588\u2588\u2588| 1.0 MB 80.6 MB/s eta 0:00:01\n\u001b[?25hCollecting keras-nightly~=2.5.0.dev\n  Downloading keras_nightly-2.5.0.dev2021032900-py2.py3-none-any.whl (1.2 MB)\n\u001b[K     |\u2588\u2588\u2588\u2588\u2588\u2588\u2588\u2588\u2588\u2588\u2588\u2588\u2588\u2588\u2588\u2588\u2588\u2588\u2588\u2588\u2588\u2588\u2588\u2588\u2588\u2588\u2588\u2588\u2588\u2588\u2588\u2588| 1.2 MB 76.8 MB/s eta 0:00:01\n\u001b[?25hCollecting astunparse~=1.6.3\n  Downloading astunparse-1.6.3-py2.py3-none-any.whl (12 kB)\nCollecting typing-extensions~=3.7.4\n  Downloading typing_extensions-3.7.4.3-py3-none-any.whl (22 kB)\nCollecting gast==0.4.0\n  Downloading gast-0.4.0-py3-none-any.whl (9.8 kB)\nCollecting h5py~=3.1.0\n  Downloading h5py-3.1.0-cp37-cp37m-manylinux1_x86_64.whl (4.0 MB)\n\u001b[K     |\u2588\u2588\u2588\u2588\u2588\u2588\u2588\u2588\u2588\u2588\u2588\u2588\u2588\u2588\u2588\u2588\u2588\u2588\u2588\u2588\u2588\u2588\u2588\u2588\u2588\u2588\u2588\u2588\u2588\u2588\u2588\u2588| 4.0 MB 18.7 MB/s eta 0:00:01\n\u001b[?25hCollecting tensorboard-plugin-wit>=1.6.0\n  Downloading tensorboard_plugin_wit-1.8.0-py3-none-any.whl (781 kB)\n\u001b[K     |\u2588\u2588\u2588\u2588\u2588\u2588\u2588\u2588\u2588\u2588\u2588\u2588\u2588\u2588\u2588\u2588\u2588\u2588\u2588\u2588\u2588\u2588\u2588\u2588\u2588\u2588\u2588\u2588\u2588\u2588\u2588\u2588| 781 kB 63.7 MB/s eta 0:00:01\n\u001b[?25hCollecting tensorboard-data-server<0.7.0,>=0.6.0\n  Downloading tensorboard_data_server-0.6.1-py3-none-manylinux2010_x86_64.whl (4.9 MB)\n\u001b[K     |\u2588\u2588\u2588\u2588\u2588\u2588\u2588\u2588\u2588\u2588\u2588\u2588\u2588\u2588\u2588\u2588\u2588\u2588\u2588\u2588\u2588\u2588\u2588\u2588\u2588\u2588\u2588\u2588\u2588\u2588\u2588\u2588| 4.9 MB 56.0 MB/s eta 0:00:01\n\u001b[?25hCollecting werkzeug>=0.11.15\n  Downloading Werkzeug-2.0.1-py3-none-any.whl (288 kB)\n\u001b[K     |\u2588\u2588\u2588\u2588\u2588\u2588\u2588\u2588\u2588\u2588\u2588\u2588\u2588\u2588\u2588\u2588\u2588\u2588\u2588\u2588\u2588\u2588\u2588\u2588\u2588\u2588\u2588\u2588\u2588\u2588\u2588\u2588| 288 kB 78.4 MB/s eta 0:00:01\n\u001b[?25hCollecting google-auth-oauthlib<0.5,>=0.4.1\n  Downloading google_auth_oauthlib-0.4.4-py2.py3-none-any.whl (18 kB)\nCollecting google-auth<2,>=1.6.3\n  Downloading google_auth-1.32.1-py2.py3-none-any.whl (147 kB)\n\u001b[K     |\u2588\u2588\u2588\u2588\u2588\u2588\u2588\u2588\u2588\u2588\u2588\u2588\u2588\u2588\u2588\u2588\u2588\u2588\u2588\u2588\u2588\u2588\u2588\u2588\u2588\u2588\u2588\u2588\u2588\u2588\u2588\u2588| 147 kB 21.5 MB/s eta 0:00:01\n\u001b[?25hCollecting setuptools>=41.0.0\n  Downloading setuptools-57.0.0-py3-none-any.whl (821 kB)\n\u001b[K     |\u2588\u2588\u2588\u2588\u2588\u2588\u2588\u2588\u2588\u2588\u2588\u2588\u2588\u2588\u2588\u2588\u2588\u2588\u2588\u2588\u2588\u2588\u2588\u2588\u2588\u2588\u2588\u2588\u2588\u2588\u2588\u2588| 821 kB 72.7 MB/s eta 0:00:01\n\u001b[?25hCollecting markdown>=2.6.8\n  Downloading Markdown-3.3.4-py3-none-any.whl (97 kB)\n\u001b[K     |\u2588\u2588\u2588\u2588\u2588\u2588\u2588\u2588\u2588\u2588\u2588\u2588\u2588\u2588\u2588\u2588\u2588\u2588\u2588\u2588\u2588\u2588\u2588\u2588\u2588\u2588\u2588\u2588\u2588\u2588\u2588\u2588| 97 kB 6.2 MB/s  eta 0:00:01\n\u001b[?25hCollecting requests<3,>=2.21.0\n  Downloading requests-2.25.1-py2.py3-none-any.whl (61 kB)\n\u001b[K     |\u2588\u2588\u2588\u2588\u2588\u2588\u2588\u2588\u2588\u2588\u2588\u2588\u2588\u2588\u2588\u2588\u2588\u2588\u2588\u2588\u2588\u2588\u2588\u2588\u2588\u2588\u2588\u2588\u2588\u2588\u2588\u2588| 61 kB 4.6 MB/s  eta 0:00:01\n\u001b[?25hCollecting cached-property; python_version < \"3.8\"\n  Downloading cached_property-1.5.2-py2.py3-none-any.whl (7.6 kB)\nCollecting requests-oauthlib>=0.7.0\n  Downloading requests_oauthlib-1.3.0-py2.py3-none-any.whl (23 kB)\nCollecting pyasn1-modules>=0.2.1\n  Downloading pyasn1_modules-0.2.8-py2.py3-none-any.whl (155 kB)\n\u001b[K     |\u2588\u2588\u2588\u2588\u2588\u2588\u2588\u2588\u2588\u2588\u2588\u2588\u2588\u2588\u2588\u2588\u2588\u2588\u2588\u2588\u2588\u2588\u2588\u2588\u2588\u2588\u2588\u2588\u2588\u2588\u2588\u2588| 155 kB 72.4 MB/s eta 0:00:01\n\u001b[?25hCollecting rsa<5,>=3.1.4; python_version >= \"3.6\"\n  Downloading rsa-4.7.2-py3-none-any.whl (34 kB)\nCollecting cachetools<5.0,>=2.0.0\n  Downloading cachetools-4.2.2-py3-none-any.whl (11 kB)\nCollecting importlib-metadata; python_version < \"3.8\"\n  Downloading importlib_metadata-4.6.0-py3-none-any.whl (17 kB)\nCollecting chardet<5,>=3.0.2\n  Downloading chardet-4.0.0-py2.py3-none-any.whl (178 kB)\n\u001b[K     |\u2588\u2588\u2588\u2588\u2588\u2588\u2588\u2588\u2588\u2588\u2588\u2588\u2588\u2588\u2588\u2588\u2588\u2588\u2588\u2588\u2588\u2588\u2588\u2588\u2588\u2588\u2588\u2588\u2588\u2588\u2588\u2588| 178 kB 29.4 MB/s eta 0:00:01\n\u001b[?25hCollecting idna<3,>=2.5\n  Downloading idna-2.10-py2.py3-none-any.whl (58 kB)\n\u001b[K     |\u2588\u2588\u2588\u2588\u2588\u2588\u2588\u2588\u2588\u2588\u2588\u2588\u2588\u2588\u2588\u2588\u2588\u2588\u2588\u2588\u2588\u2588\u2588\u2588\u2588\u2588\u2588\u2588\u2588\u2588\u2588\u2588| 58 kB 5.8 MB/s  eta 0:00:01\n\u001b[?25hCollecting certifi>=2017.4.17\n  Downloading certifi-2021.5.30-py2.py3-none-any.whl (145 kB)\n\u001b[K     |\u2588\u2588\u2588\u2588\u2588\u2588\u2588\u2588\u2588\u2588\u2588\u2588\u2588\u2588\u2588\u2588\u2588\u2588\u2588\u2588\u2588\u2588\u2588\u2588\u2588\u2588\u2588\u2588\u2588\u2588\u2588\u2588| 145 kB 88.8 MB/s eta 0:00:01\n\u001b[?25hCollecting urllib3<1.27,>=1.21.1\n  Downloading urllib3-1.26.6-py2.py3-none-any.whl (138 kB)\n\u001b[K     |\u2588\u2588\u2588\u2588\u2588\u2588\u2588\u2588\u2588\u2588\u2588\u2588\u2588\u2588\u2588\u2588\u2588\u2588\u2588\u2588\u2588\u2588\u2588\u2588\u2588\u2588\u2588\u2588\u2588\u2588\u2588\u2588| 138 kB 81.2 MB/s eta 0:00:01\n\u001b[?25hCollecting oauthlib>=3.0.0\n  Downloading oauthlib-3.1.1-py2.py3-none-any.whl (146 kB)\n\u001b[K     |\u2588\u2588\u2588\u2588\u2588\u2588\u2588\u2588\u2588\u2588\u2588\u2588\u2588\u2588\u2588\u2588\u2588\u2588\u2588\u2588\u2588\u2588\u2588\u2588\u2588\u2588\u2588\u2588\u2588\u2588\u2588\u2588| 146 kB 82.5 MB/s eta 0:00:01\n\u001b[?25hCollecting pyasn1<0.5.0,>=0.4.6\n  Downloading pyasn1-0.4.8-py2.py3-none-any.whl (77 kB)\n\u001b[K     |\u2588\u2588\u2588\u2588\u2588\u2588\u2588\u2588\u2588\u2588\u2588\u2588\u2588\u2588\u2588\u2588\u2588\u2588\u2588\u2588\u2588\u2588\u2588\u2588\u2588\u2588\u2588\u2588\u2588\u2588\u2588\u2588| 77 kB 4.7 MB/s  eta 0:00:01\n\u001b[?25hCollecting zipp>=0.5\n  Downloading zipp-3.4.1-py3-none-any.whl (5.2 kB)\nBuilding wheels for collected packages: wrapt, termcolor\n  Building wheel for wrapt (setup.py) ... \u001b[?25ldone\n\u001b[?25h  Created wheel for wrapt: filename=wrapt-1.12.1-cp37-cp37m-linux_x86_64.whl size=76688 sha256=239a0e6bda4bda01a560c565967378d9549b52c91198d212095e8549d3e7289d\n  Stored in directory: /home/spark/shared/.cache/pip/wheels/62/76/4c/aa25851149f3f6d9785f6c869387ad82b3fd37582fa8147ac6\n  Building wheel for termcolor (setup.py) ... \u001b[?25ldone\n\u001b[?25h  Created wheel for termcolor: filename=termcolor-1.1.0-py3-none-any.whl size=4830 sha256=8ddc88a952042e19ae3f6060d86798611e0c29b4ed04c24c9d50f85c020e1bf0\n  Stored in directory: /home/spark/shared/.cache/pip/wheels/3f/e3/ec/8a8336ff196023622fbcb36de0c5a5c218cbb24111d1d4c7f2\nSuccessfully built wrapt termcolor\n\u001b[31mERROR: conda 4.8.2 requires ruamel_yaml>=0.11.14, which is not installed.\u001b[0m\n\u001b[31mERROR: botocore 1.16.11 has requirement urllib3<1.26,>=1.20, but you'll have urllib3 1.26.6 which is incompatible.\u001b[0m\n\u001b[31mERROR: aiohttp 3.6.2 has requirement chardet<4.0,>=2.0, but you'll have chardet 4.0.0 which is incompatible.\u001b[0m\nInstalling collected packages: six, grpcio, google-pasta, numpy, keras-preprocessing, wrapt, termcolor, tensorflow-estimator, wheel, opt-einsum, flatbuffers, protobuf, tensorboard-plugin-wit, tensorboard-data-server, werkzeug, pyasn1, pyasn1-modules, rsa, setuptools, cachetools, google-auth, oauthlib, chardet, idna, certifi, urllib3, requests, requests-oauthlib, google-auth-oauthlib, absl-py, zipp, typing-extensions, importlib-metadata, markdown, tensorboard, keras-nightly, astunparse, gast, cached-property, h5py, tensorflow\nSuccessfully installed absl-py-0.13.0 astunparse-1.6.3 cached-property-1.5.2 cachetools-4.2.2 certifi-2021.5.30 chardet-4.0.0 flatbuffers-1.12 gast-0.4.0 google-auth-1.32.1 google-auth-oauthlib-0.4.4 google-pasta-0.2.0 grpcio-1.34.1 h5py-3.1.0 idna-2.10 importlib-metadata-4.6.0 keras-nightly-2.5.0.dev2021032900 keras-preprocessing-1.1.2 markdown-3.3.4 numpy-1.19.5 oauthlib-3.1.1 opt-einsum-3.3.0 protobuf-3.17.3 pyasn1-0.4.8 pyasn1-modules-0.2.8 requests-2.25.1 requests-oauthlib-1.3.0 rsa-4.7.2 setuptools-57.0.0 six-1.15.0 tensorboard-2.5.0 tensorboard-data-server-0.6.1 tensorboard-plugin-wit-1.8.0 tensorflow-2.5.0 tensorflow-estimator-2.5.0 termcolor-1.1.0 typing-extensions-3.7.4.3 urllib3-1.26.6 werkzeug-2.0.1 wheel-0.36.2 wrapt-1.12.1 zipp-3.4.1\nCollecting python-mnist\n  Downloading python_mnist-0.7-py2.py3-none-any.whl (9.6 kB)\nInstalling collected packages: python-mnist\nSuccessfully installed python-mnist-0.7\n\u001b[33mWARNING: Target directory /home/spark/shared/user-libs/python3.7/bin already exists. Specify --upgrade to force replacement.\u001b[0m\nCollecting Pillow\n  Downloading Pillow-8.3.0-cp37-cp37m-manylinux_2_5_x86_64.manylinux1_x86_64.whl (3.0 MB)\n\u001b[K     |\u2588\u2588\u2588\u2588\u2588\u2588\u2588\u2588\u2588\u2588\u2588\u2588\u2588\u2588\u2588\u2588\u2588\u2588\u2588\u2588\u2588\u2588\u2588\u2588\u2588\u2588\u2588\u2588\u2588\u2588\u2588\u2588| 3.0 MB 15.6 MB/s eta 0:00:01\n\u001b[?25hInstalling collected packages: Pillow\nSuccessfully installed Pillow-8.3.0\nCollecting pyspark\n  Downloading pyspark-3.1.2.tar.gz (212.4 MB)\n\u001b[K     |\u2588\u2588\u2588\u2588\u2588\u2588\u2588\u2588\u2588\u2588\u2588\u2588\u2588\u2588\u2588\u2588\u2588\u2588\u2588\u2588\u2588\u2588\u2588\u2588\u2588\u2588\u2588\u2588\u2588\u2588\u2588\u2588| 212.4 MB 112 kB/s  eta 0:00:01     |\u258c                               | 3.5 MB 16.2 MB/s eta 0:00:13    |\u2588\u2588\u2588\u2588\u2588\u2588\u2588\u2588\u2588\u2588\u2589                     | 71.7 MB 16.2 MB/s eta 0:00:09\n\u001b[?25hCollecting py4j==0.10.9\n  Downloading py4j-0.10.9-py2.py3-none-any.whl (198 kB)\n\u001b[K     |\u2588\u2588\u2588\u2588\u2588\u2588\u2588\u2588\u2588\u2588\u2588\u2588\u2588\u2588\u2588\u2588\u2588\u2588\u2588\u2588\u2588\u2588\u2588\u2588\u2588\u2588\u2588\u2588\u2588\u2588\u2588\u2588| 198 kB 53.3 MB/s eta 0:00:01\n\u001b[?25hBuilding wheels for collected packages: pyspark\n  Building wheel for pyspark (setup.py) ... \u001b[?25ldone\n\u001b[?25h  Created wheel for pyspark: filename=pyspark-3.1.2-py2.py3-none-any.whl size=212880768 sha256=1b3e99789bb6c53d850ae8a519228f9c951a3c3d5cafc1e328572422a1cafd2c\n  Stored in directory: /home/spark/shared/.cache/pip/wheels/a5/0a/c1/9561f6fecb759579a7d863dcd846daaa95f598744e71b02c77\nSuccessfully built pyspark\n\u001b[31mERROR: sparktspy-nojars 2.0.5.0 has requirement pyspark==3.0.1, but you'll have pyspark 3.1.2 which is incompatible.\u001b[0m\nInstalling collected packages: py4j, pyspark\nSuccessfully installed py4j-0.10.9 pyspark-3.1.2\n\u001b[33mWARNING: Target directory /home/spark/shared/user-libs/python3.7/bin already exists. Specify --upgrade to force replacement.\u001b[0m\nCollecting scikit-learn\n  Downloading scikit_learn-0.24.2-cp37-cp37m-manylinux2010_x86_64.whl (22.3 MB)\n\u001b[K     |\u2588\u2588\u2588\u2588\u2588\u2588\u2588\u2588\u2588\u2588\u2588\u2588\u2588\u2588\u2588\u2588\u2588\u2588\u2588\u2588\u2588\u2588\u2588\u2588\u2588\u2588\u2588\u2588\u2588\u2588\u2588\u2588| 22.3 MB 11.5 MB/s eta 0:00:01\n\u001b[?25hCollecting joblib>=0.11\n  Downloading joblib-1.0.1-py3-none-any.whl (303 kB)\n\u001b[K     |\u2588\u2588\u2588\u2588\u2588\u2588\u2588\u2588\u2588\u2588\u2588\u2588\u2588\u2588\u2588\u2588\u2588\u2588\u2588\u2588\u2588\u2588\u2588\u2588\u2588\u2588\u2588\u2588\u2588\u2588\u2588\u2588| 303 kB 30.4 MB/s eta 0:00:01\n\u001b[?25hCollecting scipy>=0.19.1\n  Downloading scipy-1.7.0-cp37-cp37m-manylinux_2_5_x86_64.manylinux1_x86_64.whl (28.5 MB)\n\u001b[K     |\u2588\u2588\u2588\u2588\u2588\u2588\u2588\u2588\u2588\u2588\u2588\u2588\u2588\u2588\u2588\u2588\u2588\u2588\u2588\u2588\u2588\u2588\u2588\u2588\u2588\u2588\u2588\u2588\u2588\u2588\u2588\u2588| 28.5 MB 23.9 MB/s eta 0:00:01 MB 23.9 MB/s eta 0:00:01\n\u001b[?25hCollecting threadpoolctl>=2.0.0\n  Downloading threadpoolctl-2.1.0-py3-none-any.whl (12 kB)\nCollecting numpy>=1.13.3\n  Downloading numpy-1.21.0-cp37-cp37m-manylinux_2_12_x86_64.manylinux2010_x86_64.whl (15.7 MB)\n\u001b[K     |\u2588\u2588\u2588\u2588\u2588\u2588\u2588\u2588\u2588\u2588\u2588\u2588\u2588\u2588\u2588\u2588\u2588\u2588\u2588\u2588\u2588\u2588\u2588\u2588\u2588\u2588\u2588\u2588\u2588\u2588\u2588\u2588| 15.7 MB 85.1 MB/s eta 0:00:01\n\u001b[31mERROR: tensorflow 2.5.0 has requirement numpy~=1.19.2, but you'll have numpy 1.21.0 which is incompatible.\u001b[0m\n\u001b[31mERROR: sparktspy-nojars 2.0.5.0 has requirement pyspark==3.0.1, but you'll have pyspark 3.1.2 which is incompatible.\u001b[0m\n\u001b[?25hInstalling collected packages: joblib, numpy, scipy, threadpoolctl, scikit-learn\nSuccessfully installed joblib-1.0.1 numpy-1.21.0 scikit-learn-0.24.2 scipy-1.7.0 threadpoolctl-2.1.0\n\u001b[33mWARNING: Target directory /home/spark/shared/user-libs/python3.7/__pycache__ already exists. Specify --upgrade to force replacement.\u001b[0m\n\u001b[33mWARNING: Target directory /home/spark/shared/user-libs/python3.7/numpy.libs already exists. Specify --upgrade to force replacement.\u001b[0m\n\u001b[33mWARNING: Target directory /home/spark/shared/user-libs/python3.7/numpy already exists. Specify --upgrade to force replacement.\u001b[0m\n\u001b[33mWARNING: Target directory /home/spark/shared/user-libs/python3.7/bin already exists. Specify --upgrade to force replacement.\u001b[0m\n"
                }
            ],
            "source": "!pip install tensorflow\n!pip install python-mnist\n!pip install Pillow\n!pip install pyspark\n!pip install scikit-learn"
        },
        {
            "cell_type": "code",
            "execution_count": 2,
            "metadata": {},
            "outputs": [],
            "source": "%matplotlib inline\nfrom sklearn.model_selection import train_test_split\nimport matplotlib.pyplot as plt\nfrom matplotlib import image\nimport tensorflow as tf\nimport seaborn as sns\nfrom mnist import MNIST\nimport numpy as np\nimport PIL\nfrom PIL import Image\nimport os\nimport matplotlib.image as mping\nfrom pyspark import SparkContext, SparkConf\nfrom pyspark.sql import SparkSession\nfrom pyspark.ml.feature import StringIndexer\nfrom numpy import asarray\nimport pandas as pd"
        },
        {
            "cell_type": "code",
            "execution_count": 3,
            "metadata": {},
            "outputs": [
                {
                    "data": {
                        "text/plain": "'2.5.0'"
                    },
                    "execution_count": 3,
                    "metadata": {},
                    "output_type": "execute_result"
                }
            ],
            "source": "tf.__version__"
        },
        {
            "cell_type": "code",
            "execution_count": 4,
            "metadata": {},
            "outputs": [
                {
                    "data": {
                        "text/plain": "'8.3.0'"
                    },
                    "execution_count": 4,
                    "metadata": {},
                    "output_type": "execute_result"
                }
            ],
            "source": "PIL.__version__"
        },
        {
            "cell_type": "markdown",
            "metadata": {},
            "source": "## First dataset\n\n#### 60,000 images and 10 classes, each image is 28 x 28 or represented by a 794 element array"
        },
        {
            "cell_type": "code",
            "execution_count": 5,
            "metadata": {},
            "outputs": [
                {
                    "name": "stdout",
                    "output_type": "stream",
                    "text": "--2021-07-02 17:05:17--  http://codh.rois.ac.jp/kmnist/dataset/kmnist/train-images-idx3-ubyte.gz?raw=True\nResolving codh.rois.ac.jp (codh.rois.ac.jp)... 136.187.88.58\nConnecting to codh.rois.ac.jp (codh.rois.ac.jp)|136.187.88.58|:80... connected.\nHTTP request sent, awaiting response... 200 OK\nLength: 18165135 (17M)\nSaving to: \u2018train-images-idx3-ubyte.gz?raw=True\u2019\n\ntrain-images-idx3-u 100%[===================>]  17.32M  2.24MB/s    in 8.2s    \n\n2021-07-02 17:05:27 (2.11 MB/s) - \u2018train-images-idx3-ubyte.gz?raw=True\u2019 saved [18165135/18165135]\n\n-rw-rw-r-- 1 spark spark 45M Feb  4  2019 train-images-idx3-ubyte\n--2021-07-02 17:05:30--  http://codh.rois.ac.jp/kmnist/dataset/kmnist/train-labels-idx1-ubyte.gz?raw=True\nResolving codh.rois.ac.jp (codh.rois.ac.jp)... 136.187.88.58\nConnecting to codh.rois.ac.jp (codh.rois.ac.jp)|136.187.88.58|:80... connected.\nHTTP request sent, awaiting response... 200 OK\nLength: 29497 (29K)\nSaving to: \u2018train-labels-idx1-ubyte.gz?raw=True\u2019\n\ntrain-labels-idx1-u 100%[===================>]  28.81K  --.-KB/s    in 0.1s    \n\n2021-07-02 17:05:30 (201 KB/s) - \u2018train-labels-idx1-ubyte.gz?raw=True\u2019 saved [29497/29497]\n\n-rw-rw-r-- 1 spark spark 59K Feb  4  2019 train-labels-idx1-ubyte\n--2021-07-02 17:05:33--  http://codh.rois.ac.jp/kmnist/dataset/kmnist/t10k-images-idx3-ubyte.gz?raw=True\nResolving codh.rois.ac.jp (codh.rois.ac.jp)... 136.187.88.58\nConnecting to codh.rois.ac.jp (codh.rois.ac.jp)|136.187.88.58|:80... connected.\nHTTP request sent, awaiting response... 200 OK\nLength: 3041136 (2.9M)\nSaving to: \u2018t10k-images-idx3-ubyte.gz?raw=True\u2019\n\nt10k-images-idx3-ub 100%[===================>]   2.90M  1.41MB/s    in 2.1s    \n\n2021-07-02 17:05:35 (1.41 MB/s) - \u2018t10k-images-idx3-ubyte.gz?raw=True\u2019 saved [3041136/3041136]\n\n-rw-rw-r-- 1 spark spark 7.5M Feb  4  2019 t10k-images-idx3-ubyte\n--2021-07-02 17:05:38--  http://codh.rois.ac.jp/kmnist/dataset/kmnist/t10k-labels-idx1-ubyte.gz?raw=True\nResolving codh.rois.ac.jp (codh.rois.ac.jp)... 136.187.88.58\nConnecting to codh.rois.ac.jp (codh.rois.ac.jp)|136.187.88.58|:80... connected.\nHTTP request sent, awaiting response... 200 OK\nLength: 5120 (5.0K)\nSaving to: \u2018t10k-labels-idx1-ubyte.gz?raw=True\u2019\n\nt10k-labels-idx1-ub 100%[===================>]   5.00K  --.-KB/s    in 0s      \n\n2021-07-02 17:05:38 (135 MB/s) - \u2018t10k-labels-idx1-ubyte.gz?raw=True\u2019 saved [5120/5120]\n\n-rw-rw-r-- 1 spark spark 9.8K Feb  4  2019 t10k-labels-idx1-ubyte\n"
                }
            ],
            "source": "# need to download and gunzip each of the train and test images and labels\n\n!wget http://codh.rois.ac.jp/kmnist/dataset/kmnist/train-images-idx3-ubyte.gz?raw=True\n!mv train-images-idx3-ubyte.gz?raw=True train-images-idx3-ubyte.gz\n!gunzip train-images-idx3-ubyte.gz\n!ls -lahr train-images-idx3-ubyte\n\n!wget http://codh.rois.ac.jp/kmnist/dataset/kmnist/train-labels-idx1-ubyte.gz?raw=True\n!mv train-labels-idx1-ubyte.gz?raw=True train-labels-idx1-ubyte.gz\n!gunzip train-labels-idx1-ubyte.gz\n!ls -lahr train-labels-idx1-ubyte\n\n!wget http://codh.rois.ac.jp/kmnist/dataset/kmnist/t10k-images-idx3-ubyte.gz?raw=True\n!mv t10k-images-idx3-ubyte.gz?raw=True t10k-images-idx3-ubyte.gz\n!gunzip t10k-images-idx3-ubyte.gz\n!ls -lahr t10k-images-idx3-ubyte\n\n!wget http://codh.rois.ac.jp/kmnist/dataset/kmnist/t10k-labels-idx1-ubyte.gz?raw=True\n!mv t10k-labels-idx1-ubyte.gz?raw=True t10k-labels-idx1-ubyte.gz\n!gunzip t10k-labels-idx1-ubyte.gz\n!ls -lahr t10k-labels-idx1-ubyte"
        },
        {
            "cell_type": "code",
            "execution_count": 6,
            "metadata": {},
            "outputs": [
                {
                    "data": {
                        "text/html": "<div>\n<style scoped>\n    .dataframe tbody tr th:only-of-type {\n        vertical-align: middle;\n    }\n\n    .dataframe tbody tr th {\n        vertical-align: top;\n    }\n\n    .dataframe thead th {\n        text-align: right;\n    }\n</style>\n<table border=\"1\" class=\"dataframe\">\n  <thead>\n    <tr style=\"text-align: right;\">\n      <th></th>\n      <th>index</th>\n      <th>codepoint</th>\n      <th>char</th>\n      <th>phonetic</th>\n    </tr>\n  </thead>\n  <tbody>\n    <tr>\n      <th>0</th>\n      <td>0</td>\n      <td>U+304A</td>\n      <td>\u304a</td>\n      <td>o</td>\n    </tr>\n    <tr>\n      <th>1</th>\n      <td>1</td>\n      <td>U+304D</td>\n      <td>\u304d</td>\n      <td>ki</td>\n    </tr>\n    <tr>\n      <th>2</th>\n      <td>2</td>\n      <td>U+3059</td>\n      <td>\u3059</td>\n      <td>su</td>\n    </tr>\n    <tr>\n      <th>3</th>\n      <td>3</td>\n      <td>U+3064</td>\n      <td>\u3064</td>\n      <td>tsu</td>\n    </tr>\n    <tr>\n      <th>4</th>\n      <td>4</td>\n      <td>U+306A</td>\n      <td>\u306a</td>\n      <td>na</td>\n    </tr>\n    <tr>\n      <th>5</th>\n      <td>5</td>\n      <td>U+306F</td>\n      <td>\u306f</td>\n      <td>ha</td>\n    </tr>\n    <tr>\n      <th>6</th>\n      <td>6</td>\n      <td>U+307E</td>\n      <td>\u307e</td>\n      <td>ma</td>\n    </tr>\n    <tr>\n      <th>7</th>\n      <td>7</td>\n      <td>U+3084</td>\n      <td>\u3084</td>\n      <td>ya</td>\n    </tr>\n    <tr>\n      <th>8</th>\n      <td>8</td>\n      <td>U+308C</td>\n      <td>\u308c</td>\n      <td>re</td>\n    </tr>\n    <tr>\n      <th>9</th>\n      <td>9</td>\n      <td>U+3092</td>\n      <td>\u3092</td>\n      <td>wo</td>\n    </tr>\n  </tbody>\n</table>\n</div>",
                        "text/plain": "   index codepoint char phonetic\n0      0    U+304A    \u304a        o\n1      1    U+304D    \u304d       ki\n2      2    U+3059    \u3059       su\n3      3    U+3064    \u3064      tsu\n4      4    U+306A    \u306a       na\n5      5    U+306F    \u306f       ha\n6      6    U+307E    \u307e       ma\n7      7    U+3084    \u3084       ya\n8      8    U+308C    \u308c       re\n9      9    U+3092    \u3092       wo"
                    },
                    "execution_count": 6,
                    "metadata": {},
                    "output_type": "execute_result"
                }
            ],
            "source": "# download the classmap for the first dataset, add the phonetics, and display it\n# the classmap shows the classes that each written kuzushiji can be classified into\n# and we add the phonetic sound that the characters makes when spoken\n\nurl = \"http://codh.rois.ac.jp/kmnist/dataset/kmnist/kmnist_classmap.csv\"\ndf_classmap = pd.read_csv(url)\nphonetic = ['o','ki','su','tsu','na','ha','ma','ya','re','wo']\ndf_classmap['phonetic'] = phonetic\ndf_classmap"
        },
        {
            "cell_type": "code",
            "execution_count": 7,
            "metadata": {},
            "outputs": [
                {
                    "name": "stdout",
                    "output_type": "stream",
                    "text": "total 53908\r\ndrwxrwxr-x  2 spark spark     4096 Jul  2 17:05 .\r\ndrwxr-xr-x 11 spark  2000     4096 Jul  2 17:05 ..\r\n-rw-rw-r--  1 spark spark  7840016 Jul  2 17:05 t10k-images-idx3-ubyte\r\n-rw-rw-r--  1 spark spark    10008 Jul  2 17:05 t10k-labels-idx1-ubyte\r\n-rw-rw-r--  1 spark spark 47040016 Jul  2 17:05 train-images-idx3-ubyte\r\n-rw-rw-r--  1 spark spark    60008 Jul  2 17:05 train-labels-idx1-ubyte\r\n"
                }
            ],
            "source": "# create a directory and move these files into it\n# then show what is in the directory\n\n!mkdir kmnistdata\n!cp t10k-images-idx3-ubyte kmnistdata/t10k-images-idx3-ubyte\n!cp t10k-labels-idx1-ubyte kmnistdata/t10k-labels-idx1-ubyte\n!cp train-images-idx3-ubyte kmnistdata/train-images-idx3-ubyte\n!cp train-labels-idx1-ubyte kmnistdata/train-labels-idx1-ubyte\n!ls -al kmnistdata"
        },
        {
            "cell_type": "code",
            "execution_count": 8,
            "metadata": {},
            "outputs": [],
            "source": "# load the data into arrays\n\ndata = MNIST('kmnistdata')\ntrain_images, train_labels = data.load_training()\ntest_images, test_labels = data.load_testing()"
        },
        {
            "cell_type": "code",
            "execution_count": 9,
            "metadata": {},
            "outputs": [
                {
                    "name": "stdout",
                    "output_type": "stream",
                    "text": "8\n[0, 0, 0, 0, 0, 0, 0, 0, 0, 0, 0, 118, 255, 255, 124, 1, 0, 0, 0, 0, 0, 0, 0, 0, 0, 0, 0, 0, 0, 0, 0, 0, 0, 0, 0, 0, 0, 0, 36, 238, 255, 146, 2, 0, 0, 0, 0, 0, 0, 0, 0, 0, 0, 0, 0, 0, 0, 0, 0, 0, 0, 0, 0, 0, 0, 12, 203, 255, 220, 14, 0, 0, 0, 11, 132, 95, 187, 95, 0, 0, 0, 0, 0, 0, 0, 0, 0, 0, 0, 0, 0, 0, 0, 149, 255, 251, 66, 0, 0, 0, 7, 168, 136, 10, 223, 245, 67, 0, 0, 0, 0, 0, 0, 0, 0, 0, 0, 0, 0, 0, 51, 247, 255, 156, 1, 0, 0, 0, 130, 201, 9, 0, 158, 255, 170, 0, 0, 0, 0, 0, 0, 0, 0, 0, 0, 0, 0, 11, 212, 255, 226, 22, 0, 0, 0, 79, 240, 38, 0, 0, 143, 255, 197, 0, 0, 0, 0, 0, 0, 0, 0, 0, 0, 0, 0, 148, 255, 255, 107, 0, 0, 0, 33, 237, 121, 0, 0, 0, 144, 255, 222, 0, 0, 0, 0, 0, 0, 0, 0, 0, 0, 0, 0, 205, 255, 178, 3, 0, 0, 1, 179, 208, 5, 0, 0, 0, 126, 255, 166, 0, 0, 0, 0, 0, 0, 0, 0, 0, 0, 0, 7, 245, 255, 76, 0, 0, 0, 124, 254, 108, 0, 0, 0, 0, 91, 255, 156, 0, 0, 0, 0, 0, 0, 0, 0, 0, 0, 0, 23, 255, 239, 12, 0, 0, 62, 250, 225, 8, 0, 0, 0, 0, 78, 255, 197, 0, 0, 0, 0, 0, 0, 0, 0, 0, 0, 0, 48, 255, 192, 0, 0, 16, 207, 252, 84, 0, 0, 0, 0, 0, 81, 255, 178, 0, 0, 0, 0, 0, 0, 0, 0, 0, 0, 0, 53, 255, 148, 0, 0, 133, 255, 148, 0, 0, 0, 0, 0, 0, 73, 255, 157, 0, 0, 0, 0, 0, 0, 0, 0, 0, 0, 0, 95, 255, 143, 0, 105, 252, 220, 17, 0, 0, 0, 0, 0, 0, 79, 255, 96, 0, 0, 0, 0, 0, 0, 0, 0, 0, 0, 0, 149, 255, 121, 58, 246, 254, 79, 0, 0, 0, 0, 7, 53, 1, 102, 255, 100, 0, 0, 0, 0, 0, 0, 0, 0, 0, 0, 0, 202, 255, 213, 233, 255, 186, 2, 0, 0, 0, 0, 0, 10, 47, 132, 255, 97, 0, 0, 0, 0, 0, 0, 0, 0, 0, 0, 16, 246, 255, 255, 255, 230, 19, 0, 0, 0, 0, 0, 0, 0, 0, 144, 255, 95, 0, 0, 0, 0, 0, 0, 0, 0, 0, 0, 89, 255, 255, 255, 243, 71, 0, 0, 0, 0, 0, 0, 0, 0, 0, 157, 255, 105, 0, 0, 0, 0, 0, 0, 0, 0, 0, 0, 192, 255, 255, 254, 54, 0, 0, 0, 0, 0, 0, 0, 0, 0, 0, 189, 255, 104, 0, 0, 0, 0, 0, 0, 0, 0, 0, 45, 252, 255, 255, 252, 28, 0, 0, 0, 0, 0, 0, 0, 0, 0, 3, 233, 255, 116, 0, 0, 0, 0, 0, 0, 0, 0, 0, 161, 255, 255, 255, 251, 23, 0, 0, 0, 0, 0, 0, 0, 0, 0, 1, 223, 255, 178, 7, 0, 0, 0, 0, 0, 0, 0, 56, 252, 255, 255, 255, 249, 17, 0, 0, 0, 0, 0, 0, 0, 0, 0, 0, 159, 255, 255, 181, 12, 0, 0, 0, 0, 0, 0, 180, 255, 255, 255, 255, 250, 18, 0, 0, 0, 0, 0, 0, 0, 0, 0, 0, 39, 245, 255, 255, 177, 0, 0, 0, 0, 0, 15, 252, 255, 255, 255, 255, 237, 5, 0, 0, 0, 0, 0, 0, 0, 0, 0, 0, 0, 97, 253, 255, 231, 0, 0, 0, 0, 0, 17, 254, 243, 224, 255, 255, 239, 6, 0, 0, 0, 0, 0, 0, 0, 0, 0, 0, 0, 24, 241, 255, 213, 0, 0, 0, 0, 0, 5, 150, 70, 103, 255, 255, 168, 0, 0, 0, 0, 0, 0, 0, 0, 0, 0, 0, 35, 222, 255, 174, 21, 0, 0, 0, 0, 0, 0, 0, 0, 65, 255, 254, 62, 0, 0, 0, 0, 0, 0, 0, 0, 0, 0, 59, 227, 246, 93, 2, 0, 0, 0, 0, 0, 0, 0, 0, 0, 30, 253, 186, 2, 0, 0, 0, 0, 0, 0, 0, 0, 0, 24, 240, 240, 76, 0, 0, 0, 0, 0, 0, 0, 0, 0, 0, 0, 8, 144, 26, 0, 0, 0, 0, 0, 0, 0, 0, 0, 0, 122, 255, 90, 0, 0, 0, 0, 0, 0, 0]\n"
                }
            ],
            "source": "print(train_labels[0])\nprint(train_images[0])"
        },
        {
            "cell_type": "code",
            "execution_count": 10,
            "metadata": {},
            "outputs": [
                {
                    "data": {
                        "text/plain": "array.array"
                    },
                    "execution_count": 10,
                    "metadata": {},
                    "output_type": "execute_result"
                }
            ],
            "source": "type(train_labels)"
        },
        {
            "cell_type": "code",
            "execution_count": 11,
            "metadata": {},
            "outputs": [
                {
                    "data": {
                        "text/plain": "list"
                    },
                    "execution_count": 11,
                    "metadata": {},
                    "output_type": "execute_result"
                }
            ],
            "source": "type(train_images)"
        },
        {
            "cell_type": "code",
            "execution_count": 12,
            "metadata": {},
            "outputs": [],
            "source": "# the data needs to be transformed into numpy arrays for use  in the model\n\ntrain_images = np.array(train_images)\ntrain_labels = np.array(train_labels)\ntest_images = np.array(test_images)\ntest_labels = np.array(test_labels)"
        },
        {
            "cell_type": "code",
            "execution_count": 13,
            "metadata": {},
            "outputs": [
                {
                    "data": {
                        "text/plain": "numpy.ndarray"
                    },
                    "execution_count": 13,
                    "metadata": {},
                    "output_type": "execute_result"
                }
            ],
            "source": "type(train_images[0])"
        },
        {
            "cell_type": "code",
            "execution_count": 14,
            "metadata": {},
            "outputs": [
                {
                    "data": {
                        "text/plain": "numpy.ndarray"
                    },
                    "execution_count": 14,
                    "metadata": {},
                    "output_type": "execute_result"
                }
            ],
            "source": "type(train_images)"
        },
        {
            "cell_type": "code",
            "execution_count": null,
            "metadata": {},
            "outputs": [],
            "source": ""
        },
        {
            "cell_type": "code",
            "execution_count": 15,
            "metadata": {},
            "outputs": [
                {
                    "name": "stdout",
                    "output_type": "stream",
                    "text": "[  0   0   0   0   0   0   0   0   0   0   0 118 255 255 124   1   0   0\n   0   0   0   0   0   0   0   0   0   0   0   0   0   0   0   0   0   0\n   0   0  36 238 255 146   2   0   0   0   0   0   0   0   0   0   0   0\n   0   0   0   0   0   0   0   0   0   0   0  12 203 255 220  14   0   0\n   0  11 132  95 187  95   0   0   0   0   0   0   0   0   0   0   0   0\n   0   0   0 149 255 251  66   0   0   0   7 168 136  10 223 245  67   0\n   0   0   0   0   0   0   0   0   0   0   0   0  51 247 255 156   1   0\n   0   0 130 201   9   0 158 255 170   0   0   0   0   0   0   0   0   0\n   0   0   0  11 212 255 226  22   0   0   0  79 240  38   0   0 143 255\n 197   0   0   0   0   0   0   0   0   0   0   0   0 148 255 255 107   0\n   0   0  33 237 121   0   0   0 144 255 222   0   0   0   0   0   0   0\n   0   0   0   0   0 205 255 178   3   0   0   1 179 208   5   0   0   0\n 126 255 166   0   0   0   0   0   0   0   0   0   0   0   7 245 255  76\n   0   0   0 124 254 108   0   0   0   0  91 255 156   0   0   0   0   0\n   0   0   0   0   0   0  23 255 239  12   0   0  62 250 225   8   0   0\n   0   0  78 255 197   0   0   0   0   0   0   0   0   0   0   0  48 255\n 192   0   0  16 207 252  84   0   0   0   0   0  81 255 178   0   0   0\n   0   0   0   0   0   0   0   0  53 255 148   0   0 133 255 148   0   0\n   0   0   0   0  73 255 157   0   0   0   0   0   0   0   0   0   0   0\n  95 255 143   0 105 252 220  17   0   0   0   0   0   0  79 255  96   0\n   0   0   0   0   0   0   0   0   0   0 149 255 121  58 246 254  79   0\n   0   0   0   7  53   1 102 255 100   0   0   0   0   0   0   0   0   0\n   0   0 202 255 213 233 255 186   2   0   0   0   0   0  10  47 132 255\n  97   0   0   0   0   0   0   0   0   0   0  16 246 255 255 255 230  19\n   0   0   0   0   0   0   0   0 144 255  95   0   0   0   0   0   0   0\n   0   0   0  89 255 255 255 243  71   0   0   0   0   0   0   0   0   0\n 157 255 105   0   0   0   0   0   0   0   0   0   0 192 255 255 254  54\n   0   0   0   0   0   0   0   0   0   0 189 255 104   0   0   0   0   0\n   0   0   0   0  45 252 255 255 252  28   0   0   0   0   0   0   0   0\n   0   3 233 255 116   0   0   0   0   0   0   0   0   0 161 255 255 255\n 251  23   0   0   0   0   0   0   0   0   0   1 223 255 178   7   0   0\n   0   0   0   0   0  56 252 255 255 255 249  17   0   0   0   0   0   0\n   0   0   0   0 159 255 255 181  12   0   0   0   0   0   0 180 255 255\n 255 255 250  18   0   0   0   0   0   0   0   0   0   0  39 245 255 255\n 177   0   0   0   0   0  15 252 255 255 255 255 237   5   0   0   0   0\n   0   0   0   0   0   0   0  97 253 255 231   0   0   0   0   0  17 254\n 243 224 255 255 239   6   0   0   0   0   0   0   0   0   0   0   0  24\n 241 255 213   0   0   0   0   0   5 150  70 103 255 255 168   0   0   0\n   0   0   0   0   0   0   0   0  35 222 255 174  21   0   0   0   0   0\n   0   0   0  65 255 254  62   0   0   0   0   0   0   0   0   0   0  59\n 227 246  93   2   0   0   0   0   0   0   0   0   0  30 253 186   2   0\n   0   0   0   0   0   0   0   0  24 240 240  76   0   0   0   0   0   0\n   0   0   0   0   0   8 144  26   0   0   0   0   0   0   0   0   0   0\n 122 255  90   0   0   0   0   0   0   0]\n"
                }
            ],
            "source": "# the train_images are now a numpy array of numbers between 0 and 255\nprint(train_images[0])"
        },
        {
            "cell_type": "code",
            "execution_count": 16,
            "metadata": {},
            "outputs": [],
            "source": "# Let's further divide the training dataset into validation data.\n\ntrain_images, val_images, train_labels, val_labels = train_test_split(train_images, train_labels, test_size = 0.2, random_state=39)"
        },
        {
            "cell_type": "code",
            "execution_count": 17,
            "metadata": {},
            "outputs": [],
            "source": "# we need to normalize the numpy arrays so that each number in the numpy\n# array is between 0 and 1:\n\ntrain_images = train_images / 255\nval_images = val_images / 255\ntest_images = test_images / 255"
        },
        {
            "cell_type": "code",
            "execution_count": 18,
            "metadata": {},
            "outputs": [
                {
                    "data": {
                        "text/plain": "array([0.        , 0.        , 0.        , 0.        , 0.        ,\n       0.        , 0.        , 0.        , 0.        , 0.        ,\n       0.        , 0.        , 0.        , 0.        , 0.        ,\n       0.        , 0.        , 0.        , 0.        , 0.        ,\n       0.23921569, 0.1372549 , 0.02352941, 0.        , 0.        ,\n       0.        , 0.        , 0.        , 0.        , 0.        ,\n       0.        , 0.        , 0.        , 0.        , 0.        ,\n       0.        , 0.        , 0.        , 0.        , 0.        ,\n       0.        , 0.        , 0.        , 0.        , 0.        ,\n       0.        , 0.        , 0.        , 0.01960784, 0.43529412,\n       0.79215686, 0.51372549, 0.10196078, 0.00392157, 0.        ,\n       0.        , 0.        , 0.        , 0.        , 0.        ,\n       0.        , 0.        , 0.        , 0.        , 0.        ,\n       0.        , 0.        , 0.        , 0.        , 0.        ,\n       0.        , 0.        , 0.        , 0.        , 0.        ,\n       0.        , 0.        , 0.        , 0.54117647, 0.99607843,\n       0.90980392, 0.52156863, 0.04313725, 0.        , 0.        ,\n       0.        , 0.        , 0.        , 0.        , 0.        ,\n       0.        , 0.        , 0.        , 0.04705882, 0.14901961,\n       0.57254902, 0.68235294, 0.46666667, 0.15294118, 0.        ,\n       0.        , 0.        , 0.        , 0.        , 0.        ,\n       0.        , 0.43137255, 0.98823529, 0.99607843, 0.99607843,\n       0.6627451 , 0.05882353, 0.        , 0.        , 0.        ,\n       0.        , 0.        , 0.        , 0.        , 0.        ,\n       0.03137255, 0.67843137, 0.95686275, 1.        , 1.        ,\n       1.        , 0.77647059, 0.05490196, 0.        , 0.        ,\n       0.        , 0.        , 0.        , 0.        , 0.01568627,\n       0.08627451, 0.19607843, 0.45882353, 0.81568627, 0.22745098,\n       0.        , 0.        , 0.        , 0.        , 0.        ,\n       0.        , 0.        , 0.        , 0.18039216, 0.96078431,\n       1.        , 1.        , 1.        , 1.        , 0.50980392,\n       0.00392157, 0.        , 0.        , 0.        , 0.        ,\n       0.04313725, 0.13333333, 0.        , 0.        , 0.        ,\n       0.        , 0.01176471, 0.00392157, 0.        , 0.        ,\n       0.        , 0.        , 0.        , 0.        , 0.        ,\n       0.02745098, 0.36078431, 0.99215686, 1.        , 1.        ,\n       1.        , 0.9372549 , 0.23529412, 0.        , 0.        ,\n       0.        , 0.        , 0.        , 0.16078431, 0.3254902 ,\n       0.        , 0.        , 0.        , 0.        , 0.        ,\n       0.        , 0.        , 0.09411765, 0.22352941, 0.20392157,\n       0.23529412, 0.38431373, 0.58823529, 0.83137255, 0.99215686,\n       1.        , 1.        , 1.        , 0.98039216, 0.39215686,\n       0.00784314, 0.        , 0.        , 0.        , 0.        ,\n       0.        , 0.23137255, 0.31764706, 0.        , 0.        ,\n       0.        , 0.        , 0.        , 0.        , 0.05490196,\n       0.80784314, 0.98039216, 0.99607843, 1.        , 1.        ,\n       1.        , 1.        , 1.        , 1.        , 1.        ,\n       0.99607843, 0.69411765, 0.08235294, 0.01176471, 0.        ,\n       0.        , 0.        , 0.        , 0.        , 0.22352941,\n       0.32941176, 0.        , 0.        , 0.        , 0.        ,\n       0.        , 0.        , 0.        , 0.25882353, 0.89019608,\n       1.        , 1.        , 1.        , 1.        , 1.        ,\n       1.        , 1.        , 0.92156863, 0.31372549, 0.03529412,\n       0.        , 0.        , 0.00784314, 0.        , 0.        ,\n       0.        , 0.        , 0.28235294, 0.2745098 , 0.        ,\n       0.        , 0.        , 0.        , 0.        , 0.        ,\n       0.        , 0.        , 0.19215686, 0.85882353, 1.        ,\n       1.        , 1.        , 1.        , 1.        , 1.        ,\n       0.4       , 0.        , 0.00392157, 0.00784314, 0.03137255,\n       0.21568627, 0.01568627, 0.        , 0.        , 0.        ,\n       0.38039216, 0.43529412, 0.        , 0.        , 0.        ,\n       0.        , 0.        , 0.        , 0.        , 0.        ,\n       0.        , 0.08235294, 0.49803922, 0.71764706, 0.89019608,\n       1.        , 1.        , 0.94901961, 0.13333333, 0.        ,\n       0.01568627, 0.0745098 , 0.00392157, 0.02745098, 0.        ,\n       0.        , 0.        , 0.        , 0.40784314, 0.49411765,\n       0.        , 0.        , 0.        , 0.        , 0.        ,\n       0.        , 0.        , 0.        , 0.        , 0.        ,\n       0.        , 0.        , 0.07843137, 0.92156863, 1.        ,\n       0.90980392, 0.04313725, 0.        , 0.        , 0.        ,\n       0.        , 0.        , 0.        , 0.        , 0.        ,\n       0.        , 0.56078431, 0.50196078, 0.        , 0.        ,\n       0.        , 0.        , 0.        , 0.        , 0.        ,\n       0.        , 0.        , 0.        , 0.        , 0.        ,\n       0.11764706, 0.95294118, 0.98823529, 0.60784314, 0.00784314,\n       0.        , 0.        , 0.        , 0.        , 0.        ,\n       0.        , 0.        , 0.        , 0.        , 0.49019608,\n       0.58431373, 0.        , 0.        , 0.        , 0.        ,\n       0.        , 0.        , 0.        , 0.        , 0.        ,\n       0.        , 0.        , 0.        , 0.39215686, 1.        ,\n       0.98431373, 0.27843137, 0.        , 0.        , 0.        ,\n       0.        , 0.        , 0.        , 0.        , 0.        ,\n       0.        , 0.        , 0.55686275, 0.48235294, 0.        ,\n       0.        , 0.        , 0.        , 0.        , 0.        ,\n       0.        , 0.        , 0.        , 0.        , 0.        ,\n       0.02352941, 0.84705882, 1.        , 0.76470588, 0.02352941,\n       0.        , 0.        , 0.        , 0.        , 0.        ,\n       0.        , 0.        , 0.        , 0.        , 0.        ,\n       0.6627451 , 0.50588235, 0.        , 0.        , 0.        ,\n       0.        , 0.        , 0.        , 0.        , 0.        ,\n       0.        , 0.        , 0.        , 0.29019608, 0.98431373,\n       1.        , 0.42745098, 0.        , 0.        , 0.        ,\n       0.        , 0.        , 0.        , 0.        , 0.        ,\n       0.        , 0.        , 0.        , 0.70588235, 0.43529412,\n       0.        , 0.        , 0.        , 0.        , 0.        ,\n       0.        , 0.        , 0.        , 0.        , 0.        ,\n       0.01960784, 0.72941176, 1.        , 0.89019608, 0.10196078,\n       0.        , 0.        , 0.        , 0.        , 0.        ,\n       0.00392157, 0.        , 0.00392157, 0.03137255, 0.00784314,\n       0.        , 0.67058824, 0.42745098, 0.        , 0.        ,\n       0.        , 0.        , 0.        , 0.        , 0.        ,\n       0.        , 0.        , 0.        , 0.23921569, 0.97647059,\n       1.        , 0.5254902 , 0.        , 0.        , 0.        ,\n       0.        , 0.        , 0.        , 0.14901961, 0.43529412,\n       0.63137255, 0.85490196, 0.49019608, 0.03921569, 0.61568627,\n       0.33333333, 0.        , 0.        , 0.        , 0.        ,\n       0.        , 0.        , 0.        , 0.        , 0.        ,\n       0.        , 0.60784314, 1.        , 0.94117647, 0.13333333,\n       0.        , 0.        , 0.        , 0.        , 0.        ,\n       0.28235294, 0.79215686, 0.92941176, 0.83137255, 0.91372549,\n       0.89803922, 0.67058824, 0.29803922, 0.0745098 , 0.        ,\n       0.        , 0.        , 0.        , 0.        , 0.        ,\n       0.        , 0.        , 0.        , 0.        , 0.54117647,\n       1.        , 0.71764706, 0.        , 0.        , 0.        ,\n       0.        , 0.        , 0.02352941, 0.76862745, 0.99607843,\n       0.32156863, 0.02745098, 0.07058824, 0.07058824, 0.69411765,\n       0.77647059, 0.10196078, 0.        , 0.        , 0.        ,\n       0.        , 0.        , 0.        , 0.        , 0.        ,\n       0.        , 0.        , 0.32156863, 0.99215686, 0.37647059,\n       0.        , 0.        , 0.        , 0.        , 0.        ,\n       0.03529412, 0.81176471, 0.90196078, 0.05882353, 0.        ,\n       0.        , 0.        , 0.60784314, 1.        , 0.60784314,\n       0.00392157, 0.        , 0.        , 0.        , 0.        ,\n       0.        , 0.        , 0.        , 0.        , 0.        ,\n       0.00392157, 0.12156863, 0.01960784, 0.        , 0.        ,\n       0.        , 0.        , 0.        , 0.00784314, 0.73333333,\n       0.94901961, 0.1372549 , 0.        , 0.        , 0.05098039,\n       0.84313725, 1.        , 0.94901961, 0.01960784, 0.        ,\n       0.        , 0.        , 0.        , 0.        , 0.        ,\n       0.        , 0.        , 0.        , 0.        , 0.        ,\n       0.        , 0.        , 0.        , 0.        , 0.        ,\n       0.        , 0.        , 0.63137255, 1.        , 0.55686275,\n       0.00392157, 0.00392157, 0.37647059, 0.97647059, 0.99607843,\n       0.98431373, 0.12941176, 0.        , 0.        , 0.        ,\n       0.        , 0.        , 0.        , 0.        , 0.        ,\n       0.        , 0.        , 0.        , 0.        , 0.        ,\n       0.        , 0.        , 0.        , 0.        , 0.        ,\n       0.40784314, 0.99607843, 0.97254902, 0.28627451, 0.14117647,\n       0.9254902 , 0.95686275, 0.69411765, 1.        , 0.18431373,\n       0.        , 0.        , 0.        , 0.        , 0.        ,\n       0.        , 0.        , 0.        , 0.        , 0.        ,\n       0.        , 0.        , 0.        , 0.        , 0.        ,\n       0.        , 0.        , 0.        , 0.05882353, 0.76862745,\n       1.        , 0.90196078, 0.74509804, 0.99215686, 0.58039216,\n       0.34117647, 0.98431373, 0.13333333, 0.        , 0.        ,\n       0.        , 0.        , 0.        , 0.        , 0.        ,\n       0.        , 0.        , 0.        , 0.        , 0.        ,\n       0.        , 0.        , 0.        , 0.        , 0.        ,\n       0.        , 0.        , 0.18039216, 0.92156863, 1.        ,\n       1.        , 0.67843137, 0.05490196, 0.44705882, 0.90196078,\n       0.04705882, 0.        , 0.        , 0.        , 0.        ,\n       0.        , 0.        , 0.        , 0.        , 0.        ,\n       0.        , 0.        , 0.        , 0.        , 0.        ,\n       0.        , 0.        , 0.        , 0.        , 0.        ,\n       0.        , 0.45882353, 0.99607843, 0.67843137, 0.08235294,\n       0.        , 0.55686275, 0.91764706, 0.01568627, 0.        ,\n       0.        , 0.        , 0.        , 0.        ])"
                    },
                    "execution_count": 18,
                    "metadata": {},
                    "output_type": "execute_result"
                }
            ],
            "source": "train_images[0]"
        },
        {
            "cell_type": "code",
            "execution_count": 19,
            "metadata": {},
            "outputs": [
                {
                    "data": {
                        "text/plain": "(48000, 784)"
                    },
                    "execution_count": 19,
                    "metadata": {},
                    "output_type": "execute_result"
                }
            ],
            "source": "# the data as downloaded has two dimensions\n# there are 60000 images, each image is represented\n# in one dimension as 784 numbers\n\n# (see the notebook kuzushiji.data_exp for displayed images)\n\ntrain_images.shape"
        },
        {
            "cell_type": "code",
            "execution_count": 20,
            "metadata": {},
            "outputs": [
                {
                    "data": {
                        "text/plain": "(12000, 784)"
                    },
                    "execution_count": 20,
                    "metadata": {},
                    "output_type": "execute_result"
                }
            ],
            "source": "val_images.shape"
        },
        {
            "cell_type": "code",
            "execution_count": 21,
            "metadata": {},
            "outputs": [
                {
                    "data": {
                        "text/plain": "(10000, 784)"
                    },
                    "execution_count": 21,
                    "metadata": {},
                    "output_type": "execute_result"
                }
            ],
            "source": "test_images.shape"
        },
        {
            "cell_type": "markdown",
            "metadata": {},
            "source": "## Second dataset\n\n#### 232,365 images, 49 classes, each image is 28 x 28 or represented by a 794 element array"
        },
        {
            "cell_type": "code",
            "execution_count": 22,
            "metadata": {},
            "outputs": [
                {
                    "name": "stdout",
                    "output_type": "stream",
                    "text": "--2021-07-02 17:05:53--  http://codh.rois.ac.jp/kmnist/dataset/k49/k49-train-imgs.npz?raw=True\nResolving codh.rois.ac.jp (codh.rois.ac.jp)... 136.187.88.58\nConnecting to codh.rois.ac.jp (codh.rois.ac.jp)|136.187.88.58|:80... connected.\nHTTP request sent, awaiting response... 200 OK\nLength: 66117696 (63M)\nSaving to: \u2018k49-train-imgs.npz?raw=True\u2019\n\nk49-train-imgs.npz? 100%[===================>]  63.05M  2.89MB/s    in 30s     \n\n2021-07-02 17:06:24 (2.12 MB/s) - \u2018k49-train-imgs.npz?raw=True\u2019 saved [66117696/66117696]\n\n-rw-rw-r-- 1 spark spark 64M Feb  4  2019 k49-train-imgs.npz\n--2021-07-02 17:06:26--  http://codh.rois.ac.jp/kmnist/dataset/k49/k49-train-labels.npz?raw=True\nResolving codh.rois.ac.jp (codh.rois.ac.jp)... 136.187.88.58\nConnecting to codh.rois.ac.jp (codh.rois.ac.jp)|136.187.88.58|:80... connected.\nHTTP request sent, awaiting response... 200 OK\nLength: 164485 (161K)\nSaving to: \u2018k49-train-labels.npz?raw=True\u2019\n\nk49-train-labels.np 100%[===================>] 160.63K   382KB/s    in 0.4s    \n\n2021-07-02 17:06:26 (382 KB/s) - \u2018k49-train-labels.npz?raw=True\u2019 saved [164485/164485]\n\n-rw-rw-r-- 1 spark spark 161K Feb  4  2019 k49-train-labels.npz\n--2021-07-02 17:06:29--  http://codh.rois.ac.jp/kmnist/dataset/k49/k49-test-imgs.npz?raw=True\nResolving codh.rois.ac.jp (codh.rois.ac.jp)... 136.187.88.58\nConnecting to codh.rois.ac.jp (codh.rois.ac.jp)|136.187.88.58|:80... connected.\nHTTP request sent, awaiting response... 200 OK\nLength: 10971201 (10M)\nSaving to: \u2018k49-test-imgs.npz?raw=True\u2019\n\nk49-test-imgs.npz?r 100%[===================>]  10.46M  2.93MB/s    in 3.6s    \n\n2021-07-02 17:06:32 (2.93 MB/s) - \u2018k49-test-imgs.npz?raw=True\u2019 saved [10971201/10971201]\n\n-rw-rw-r-- 1 spark spark 11M Feb  4  2019 k49-test-imgs.npz\n--2021-07-02 17:06:35--  http://codh.rois.ac.jp/kmnist/dataset/k49/k49-test-labels.npz?raw=True\nResolving codh.rois.ac.jp (codh.rois.ac.jp)... 136.187.88.58\nConnecting to codh.rois.ac.jp (codh.rois.ac.jp)|136.187.88.58|:80... connected.\nHTTP request sent, awaiting response... 200 OK\nLength: 27450 (27K)\nSaving to: \u2018k49-test-labels.npz?raw=True\u2019\n\nk49-test-labels.npz 100%[===================>]  26.81K  --.-KB/s    in 0.1s    \n\n2021-07-02 17:06:35 (195 KB/s) - \u2018k49-test-labels.npz?raw=True\u2019 saved [27450/27450]\n\n-rw-rw-r-- 1 spark spark 27K Feb  4  2019 k49-test-labels.npz\n"
                }
            ],
            "source": "# download the train and test labels and images, \n# which are in .npz format \n\n!wget http://codh.rois.ac.jp/kmnist/dataset/k49/k49-train-imgs.npz?raw=True\n!mv k49-train-imgs.npz?raw=True k49-train-imgs.npz\n!ls -lahr k49-train-imgs.npz\n\n!wget http://codh.rois.ac.jp/kmnist/dataset/k49/k49-train-labels.npz?raw=True\n!mv k49-train-labels.npz?raw=True k49-train-labels.npz\n!ls -lahr k49-train-labels.npz\n\n!wget http://codh.rois.ac.jp/kmnist/dataset/k49/k49-test-imgs.npz?raw=True\n!mv k49-test-imgs.npz?raw=True k49-test-imgs.npz\n!ls -lahr k49-test-imgs.npz\n\n!wget http://codh.rois.ac.jp/kmnist/dataset/k49/k49-test-labels.npz?raw=True\n!mv k49-test-labels.npz?raw=True k49-test-labels.npz\n!ls -lahr k49-test-labels.npz"
        },
        {
            "cell_type": "code",
            "execution_count": 23,
            "metadata": {},
            "outputs": [],
            "source": "# we need to define a load function in order to extract the data\n# from the .npz format, and then use  it to extract:\n\ndef load(f):\n    return np.load(f)['arr_0']\n\nk49_train_images = load('k49-train-imgs.npz')\nk49_train_labels = load('k49-train-labels.npz')\nk49_test_images = load('k49-test-imgs.npz')\nk49_test_labels = load('k49-test-labels.npz')"
        },
        {
            "cell_type": "code",
            "execution_count": 24,
            "metadata": {},
            "outputs": [
                {
                    "name": "stdout",
                    "output_type": "stream",
                    "text": "49\n"
                },
                {
                    "data": {
                        "text/html": "<div>\n<style scoped>\n    .dataframe tbody tr th:only-of-type {\n        vertical-align: middle;\n    }\n\n    .dataframe tbody tr th {\n        vertical-align: top;\n    }\n\n    .dataframe thead th {\n        text-align: right;\n    }\n</style>\n<table border=\"1\" class=\"dataframe\">\n  <thead>\n    <tr style=\"text-align: right;\">\n      <th></th>\n      <th>index</th>\n      <th>codepoint</th>\n      <th>char</th>\n      <th>phonetic</th>\n    </tr>\n  </thead>\n  <tbody>\n    <tr>\n      <th>0</th>\n      <td>0</td>\n      <td>U+3042</td>\n      <td>\u3042</td>\n      <td>a</td>\n    </tr>\n    <tr>\n      <th>1</th>\n      <td>1</td>\n      <td>U+3044</td>\n      <td>\u3044</td>\n      <td>i</td>\n    </tr>\n    <tr>\n      <th>2</th>\n      <td>2</td>\n      <td>U+3046</td>\n      <td>\u3046</td>\n      <td>u</td>\n    </tr>\n    <tr>\n      <th>3</th>\n      <td>3</td>\n      <td>U+3048</td>\n      <td>\u3048</td>\n      <td>e</td>\n    </tr>\n    <tr>\n      <th>4</th>\n      <td>4</td>\n      <td>U+304A</td>\n      <td>\u304a</td>\n      <td>o</td>\n    </tr>\n    <tr>\n      <th>5</th>\n      <td>5</td>\n      <td>U+304B</td>\n      <td>\u304b</td>\n      <td>ka</td>\n    </tr>\n    <tr>\n      <th>6</th>\n      <td>6</td>\n      <td>U+304D</td>\n      <td>\u304d</td>\n      <td>ki</td>\n    </tr>\n    <tr>\n      <th>7</th>\n      <td>7</td>\n      <td>U+304F</td>\n      <td>\u304f</td>\n      <td>ku</td>\n    </tr>\n    <tr>\n      <th>8</th>\n      <td>8</td>\n      <td>U+3051</td>\n      <td>\u3051</td>\n      <td>ke</td>\n    </tr>\n    <tr>\n      <th>9</th>\n      <td>9</td>\n      <td>U+3053</td>\n      <td>\u3053</td>\n      <td>ko</td>\n    </tr>\n    <tr>\n      <th>10</th>\n      <td>10</td>\n      <td>U+3055</td>\n      <td>\u3055</td>\n      <td>sa</td>\n    </tr>\n    <tr>\n      <th>11</th>\n      <td>11</td>\n      <td>U+3057</td>\n      <td>\u3057</td>\n      <td>shi</td>\n    </tr>\n    <tr>\n      <th>12</th>\n      <td>12</td>\n      <td>U+3059</td>\n      <td>\u3059</td>\n      <td>su</td>\n    </tr>\n    <tr>\n      <th>13</th>\n      <td>13</td>\n      <td>U+305B</td>\n      <td>\u305b</td>\n      <td>se</td>\n    </tr>\n    <tr>\n      <th>14</th>\n      <td>14</td>\n      <td>U+305D</td>\n      <td>\u305d</td>\n      <td>so</td>\n    </tr>\n    <tr>\n      <th>15</th>\n      <td>15</td>\n      <td>U+305F</td>\n      <td>\u305f</td>\n      <td>ta</td>\n    </tr>\n    <tr>\n      <th>16</th>\n      <td>16</td>\n      <td>U+3061</td>\n      <td>\u3061</td>\n      <td>chi</td>\n    </tr>\n    <tr>\n      <th>17</th>\n      <td>17</td>\n      <td>U+3064</td>\n      <td>\u3064</td>\n      <td>tsu</td>\n    </tr>\n    <tr>\n      <th>18</th>\n      <td>18</td>\n      <td>U+3066</td>\n      <td>\u3066</td>\n      <td>te</td>\n    </tr>\n    <tr>\n      <th>19</th>\n      <td>19</td>\n      <td>U+3068</td>\n      <td>\u3068</td>\n      <td>to</td>\n    </tr>\n    <tr>\n      <th>20</th>\n      <td>20</td>\n      <td>U+306A</td>\n      <td>\u306a</td>\n      <td>na</td>\n    </tr>\n    <tr>\n      <th>21</th>\n      <td>21</td>\n      <td>U+306B</td>\n      <td>\u306b</td>\n      <td>ni</td>\n    </tr>\n    <tr>\n      <th>22</th>\n      <td>22</td>\n      <td>U+306C</td>\n      <td>\u306c</td>\n      <td>nu</td>\n    </tr>\n    <tr>\n      <th>23</th>\n      <td>23</td>\n      <td>U+306D</td>\n      <td>\u306d</td>\n      <td>ne</td>\n    </tr>\n    <tr>\n      <th>24</th>\n      <td>24</td>\n      <td>U+306E</td>\n      <td>\u306e</td>\n      <td>no</td>\n    </tr>\n    <tr>\n      <th>25</th>\n      <td>25</td>\n      <td>U+306F</td>\n      <td>\u306f</td>\n      <td>ha</td>\n    </tr>\n    <tr>\n      <th>26</th>\n      <td>26</td>\n      <td>U+3072</td>\n      <td>\u3072</td>\n      <td>hi</td>\n    </tr>\n    <tr>\n      <th>27</th>\n      <td>27</td>\n      <td>U+3075</td>\n      <td>\u3075</td>\n      <td>fu</td>\n    </tr>\n    <tr>\n      <th>28</th>\n      <td>28</td>\n      <td>U+3078</td>\n      <td>\u3078</td>\n      <td>he</td>\n    </tr>\n    <tr>\n      <th>29</th>\n      <td>29</td>\n      <td>U+307B</td>\n      <td>\u307b</td>\n      <td>ho</td>\n    </tr>\n    <tr>\n      <th>30</th>\n      <td>30</td>\n      <td>U+307E</td>\n      <td>\u307e</td>\n      <td>ma</td>\n    </tr>\n    <tr>\n      <th>31</th>\n      <td>31</td>\n      <td>U+307F</td>\n      <td>\u307f</td>\n      <td>mi</td>\n    </tr>\n    <tr>\n      <th>32</th>\n      <td>32</td>\n      <td>U+3080</td>\n      <td>\u3080</td>\n      <td>mu</td>\n    </tr>\n    <tr>\n      <th>33</th>\n      <td>33</td>\n      <td>U+3081</td>\n      <td>\u3081</td>\n      <td>me</td>\n    </tr>\n    <tr>\n      <th>34</th>\n      <td>34</td>\n      <td>U+3082</td>\n      <td>\u3082</td>\n      <td>mo</td>\n    </tr>\n    <tr>\n      <th>35</th>\n      <td>35</td>\n      <td>U+3084</td>\n      <td>\u3084</td>\n      <td>ya</td>\n    </tr>\n    <tr>\n      <th>36</th>\n      <td>36</td>\n      <td>U+3086</td>\n      <td>\u3086</td>\n      <td>yu</td>\n    </tr>\n    <tr>\n      <th>37</th>\n      <td>37</td>\n      <td>U+3088</td>\n      <td>\u3088</td>\n      <td>yo</td>\n    </tr>\n    <tr>\n      <th>38</th>\n      <td>38</td>\n      <td>U+3089</td>\n      <td>\u3089</td>\n      <td>ra</td>\n    </tr>\n    <tr>\n      <th>39</th>\n      <td>39</td>\n      <td>U+308A</td>\n      <td>\u308a</td>\n      <td>ri</td>\n    </tr>\n    <tr>\n      <th>40</th>\n      <td>40</td>\n      <td>U+308B</td>\n      <td>\u308b</td>\n      <td>ru</td>\n    </tr>\n    <tr>\n      <th>41</th>\n      <td>41</td>\n      <td>U+308C</td>\n      <td>\u308c</td>\n      <td>re</td>\n    </tr>\n    <tr>\n      <th>42</th>\n      <td>42</td>\n      <td>U+308D</td>\n      <td>\u308d</td>\n      <td>ro</td>\n    </tr>\n    <tr>\n      <th>43</th>\n      <td>43</td>\n      <td>U+308F</td>\n      <td>\u308f</td>\n      <td>wa</td>\n    </tr>\n    <tr>\n      <th>44</th>\n      <td>44</td>\n      <td>U+3090</td>\n      <td>\u3090</td>\n      <td>wi</td>\n    </tr>\n    <tr>\n      <th>45</th>\n      <td>45</td>\n      <td>U+3091</td>\n      <td>\u3091</td>\n      <td>we</td>\n    </tr>\n    <tr>\n      <th>46</th>\n      <td>46</td>\n      <td>U+3092</td>\n      <td>\u3092</td>\n      <td>wo</td>\n    </tr>\n    <tr>\n      <th>47</th>\n      <td>47</td>\n      <td>U+3093</td>\n      <td>\u3093</td>\n      <td>n</td>\n    </tr>\n    <tr>\n      <th>48</th>\n      <td>48</td>\n      <td>U+309D</td>\n      <td>\u309d</td>\n      <td>iteration_mark</td>\n    </tr>\n  </tbody>\n</table>\n</div>",
                        "text/plain": "    index codepoint char        phonetic\n0       0    U+3042    \u3042               a\n1       1    U+3044    \u3044               i\n2       2    U+3046    \u3046               u\n3       3    U+3048    \u3048               e\n4       4    U+304A    \u304a               o\n5       5    U+304B    \u304b              ka\n6       6    U+304D    \u304d              ki\n7       7    U+304F    \u304f              ku\n8       8    U+3051    \u3051              ke\n9       9    U+3053    \u3053              ko\n10     10    U+3055    \u3055              sa\n11     11    U+3057    \u3057             shi\n12     12    U+3059    \u3059              su\n13     13    U+305B    \u305b              se\n14     14    U+305D    \u305d              so\n15     15    U+305F    \u305f              ta\n16     16    U+3061    \u3061             chi\n17     17    U+3064    \u3064             tsu\n18     18    U+3066    \u3066              te\n19     19    U+3068    \u3068              to\n20     20    U+306A    \u306a              na\n21     21    U+306B    \u306b              ni\n22     22    U+306C    \u306c              nu\n23     23    U+306D    \u306d              ne\n24     24    U+306E    \u306e              no\n25     25    U+306F    \u306f              ha\n26     26    U+3072    \u3072              hi\n27     27    U+3075    \u3075              fu\n28     28    U+3078    \u3078              he\n29     29    U+307B    \u307b              ho\n30     30    U+307E    \u307e              ma\n31     31    U+307F    \u307f              mi\n32     32    U+3080    \u3080              mu\n33     33    U+3081    \u3081              me\n34     34    U+3082    \u3082              mo\n35     35    U+3084    \u3084              ya\n36     36    U+3086    \u3086              yu\n37     37    U+3088    \u3088              yo\n38     38    U+3089    \u3089              ra\n39     39    U+308A    \u308a              ri\n40     40    U+308B    \u308b              ru\n41     41    U+308C    \u308c              re\n42     42    U+308D    \u308d              ro\n43     43    U+308F    \u308f              wa\n44     44    U+3090    \u3090              wi\n45     45    U+3091    \u3091             we \n46     46    U+3092    \u3092              wo\n47     47    U+3093    \u3093               n\n48     48    U+309D    \u309d  iteration_mark"
                    },
                    "execution_count": 24,
                    "metadata": {},
                    "output_type": "execute_result"
                }
            ],
            "source": "# next we download the classmap for this dataset\n# and add the phonetic, and display it:\n\nurl = \"http://codh.rois.ac.jp/kmnist/dataset/k49/k49_classmap.csv\"\ndf_k49_classmap = pd.read_csv(url)\n\nk49_phonetic = ['a', 'i',  'u',  'e',  'o',\\\n                'ka','ki', 'ku', 'ke', 'ko',\\\n                'sa','shi','su', 'se', 'so',\\\n                'ta','chi','tsu','te', 'to',\\\n                'na','ni', 'nu', 'ne', 'no',\\\n                'ha','hi', 'fu', 'he', 'ho',\\\n                'ma','mi', 'mu', 'me', 'mo',\\\n                'ya','yu', 'yo',\\\n                'ra','ri', 'ru', 're', 'ro',\\\n                'wa','wi', 'we ','wo', 'n','iteration_mark']\nprint(len(k49_phonetic))\ndf_k49_classmap['phonetic'] = k49_phonetic\ndf_k49_classmap"
        },
        {
            "cell_type": "code",
            "execution_count": 25,
            "metadata": {},
            "outputs": [
                {
                    "data": {
                        "text/plain": "numpy.ndarray"
                    },
                    "execution_count": 25,
                    "metadata": {},
                    "output_type": "execute_result"
                }
            ],
            "source": "# the data is already a numpy array\n# since we pulled it out of the .nps formatted structure\n\ntype(k49_train_images)"
        },
        {
            "cell_type": "code",
            "execution_count": 26,
            "metadata": {},
            "outputs": [
                {
                    "data": {
                        "text/plain": "(232365, 28, 28)"
                    },
                    "execution_count": 26,
                    "metadata": {},
                    "output_type": "execute_result"
                }
            ],
            "source": "# need to check the dimensionality of the data:\n\nk49_train_images.shape"
        },
        {
            "cell_type": "code",
            "execution_count": 27,
            "metadata": {},
            "outputs": [
                {
                    "data": {
                        "text/plain": "(232365,)"
                    },
                    "execution_count": 27,
                    "metadata": {},
                    "output_type": "execute_result"
                }
            ],
            "source": "k49_train_labels.shape"
        },
        {
            "cell_type": "code",
            "execution_count": 28,
            "metadata": {},
            "outputs": [
                {
                    "data": {
                        "text/plain": "(38547, 28, 28)"
                    },
                    "execution_count": 28,
                    "metadata": {},
                    "output_type": "execute_result"
                }
            ],
            "source": "k49_test_images.shape"
        },
        {
            "cell_type": "code",
            "execution_count": 29,
            "metadata": {},
            "outputs": [],
            "source": "# this means we need to flatten the data\n# to two dimensions\n\nk49_train_images = np.reshape(k49_train_images, (232365, 784))\nk49_test_images = np.reshape(k49_test_images, (38547, 784))"
        },
        {
            "cell_type": "code",
            "execution_count": 30,
            "metadata": {},
            "outputs": [
                {
                    "data": {
                        "text/plain": "(232365, 784)"
                    },
                    "execution_count": 30,
                    "metadata": {},
                    "output_type": "execute_result"
                }
            ],
            "source": "k49_train_images.shape"
        },
        {
            "cell_type": "code",
            "execution_count": 31,
            "metadata": {},
            "outputs": [
                {
                    "data": {
                        "text/plain": "(38547, 784)"
                    },
                    "execution_count": 31,
                    "metadata": {},
                    "output_type": "execute_result"
                }
            ],
            "source": "k49_test_images.shape"
        },
        {
            "cell_type": "code",
            "execution_count": 32,
            "metadata": {},
            "outputs": [
                {
                    "name": "stdout",
                    "output_type": "stream",
                    "text": "[  0   0   0   0   0   0   0   0   0   0  69 213  39  32 193  52   0   0\n   0   0   0   0   0   0   0   0   0   0   0   0   0   0   0   0   0   0\n   0  58 235  65   0   0  64 222  15   0   0   0   0   0   0   0   0   0\n   0   0   0   0   0   0   0   0   0   0   8 213  59   0   0   0   9 229\n  93   0   0   0   0   0   0   0   0   0   0   0   0   0   0   0   0   0\n   0   0  47 164   0   0   1  37  30 174  90   0   0   0   0   0   0   0\n   0   0   0   0   0   0   0   0   0   0   0   0  77 132  28  84 172 252\n 239 199  10   0   0   0   0   0   0   0   0   0   0   0   0   0   0   0\n   0   0   0   0  65 253 248 255 203 132  26 200 123  56  62  38   0   0\n   0   0   0   0   0   0   0   0   0   0   0   0   0   0   1 117 150  72\n   6   0   0 176 255 255 255 200   0   0   0   0   0   0   0   0   0   0\n   0   0   0   0   0   0   0   0   0   0   0   0   0 208 255 250 173  39\n   0   0   0   0   0   0   0   0   0   0   0   0   0   0   0   0   0   0\n   0   0   0  15 150 246 132  48   1   0   0   0   0   0   0   0   0   0\n   0   0   0   0   0   0   0   0   1  28   0   8  92 230 254 247  39   0\n   0   0   0   0   0   0   0   0   0   0   0   0   0   0   0   0   0   0\n  46 213 142 227 227 119  67 254  50   0   0   0   0   0   0   0   0   0\n   0   0   0   0   0   0   0   0   0   0  61 212 244 176  33   0   9 244\n  63   0   0   0   0   0   0   0   0   0   0   0   0   0   0   0   0   0\n   0   0   0   7  17   1   0   0   1 220 109   0   0   0   0   0   0   0\n   0   0   0   0   0   0   0   0   0   0   0   0   0   0   0   0   0   0\n   0 188 127   0   0   0   0   0   0   0   0   0   0   0   0   0   0   0\n   0   0   0   0   0   0   0   0   0   0  28 190 128   0   0   0   0   0\n   0   0   0   0   0   0   0   0   0   0   0   0   0   0   0   0   0   0\n   3 126 253 254 118   0   0   0   0   0   0   0   0   0   0   0   0   0\n   0   0   0   0   0   0   0   0   0   4 185 255 255 255 203  16   0   0\n   0   0   0   0   0   0   0   0   0   0   0   0   0   0   0   0   0   0\n   0  42 242 249 255 255 255 165   2   0   0   0   0   0   0   0   0   0\n   0   0   0   0   0   0   0   0   0   0   0  99 235 246 255 179 178 253\n 115   0   0   0   0   0   0   0   0   0   0   0   0   0   0   0   0   0\n   0   0   0  51 226 255 212  24  30 249 192   0   0   0   0   0   0   0\n   0   0   0   0   0   0   0   0   0   0   0   0   0   0  32 157  38   0\n   0 197 229   2   0   0   0   0   0   0   0   0   0   0   0   0   0   0\n   0   0   0   0   0   0   0   0   0   0   0 170 242   6   0   0   0   0\n   0   0   0   0   0   0   0   0   0   0   0   0   0   0   0   0   0   0\n   0   0   0 197 188   0   0   0   0   0   0   0   0   0   0   0   0   0\n   0   0   0   0   0   0   0   0   0   0   0   0   6 231 129   0   0   0\n   0   0   0   0   0   0   0   0   0   0   0   0   0   0   0   0   0   0\n   0   0   0   0  39 254  50   0   0   0   0   0   0   0   0   0   0   0\n   0   0   0   0   0   0   0   0   0   0   0   0   0   0 115 216   6   0\n   0   0   0   0   0   0   0   0   0   0   0   0   0   0   0   0   0   0\n   0   0   0   0   0   0 196 104   0   0   0   0   0   0   0   0   0   0\n   0   0   0   0   0   0   0   0   0   0   0   0   0   0   0  55 246  36\n   0   0   0   0   0   0   0   0   0   0]\n"
                }
            ],
            "source": "# the k49_train_images are now a numpy array of numbers between 0 and 255\nprint(k49_train_images[0])"
        },
        {
            "cell_type": "code",
            "execution_count": 33,
            "metadata": {},
            "outputs": [],
            "source": "# create the validattion set\n\nk49_train_images, k49_val_images, k49_train_labels, k49_val_labels = train_test_split(k49_train_images, k49_train_labels, test_size = 0.2, random_state=35)"
        },
        {
            "cell_type": "code",
            "execution_count": 34,
            "metadata": {},
            "outputs": [],
            "source": "# we need to normalize the numpy arrays so that each number in the numpy\n# array is between 0 and 1:\n\nk49_train_images = k49_train_images / 255\nk49_val_images = k49_val_images /255\nk49_test_images = k49_test_images / 255"
        },
        {
            "cell_type": "code",
            "execution_count": 35,
            "metadata": {},
            "outputs": [
                {
                    "data": {
                        "text/plain": "(185892, 784)"
                    },
                    "execution_count": 35,
                    "metadata": {},
                    "output_type": "execute_result"
                }
            ],
            "source": "k49_train_images.shape"
        },
        {
            "cell_type": "code",
            "execution_count": 36,
            "metadata": {},
            "outputs": [
                {
                    "data": {
                        "text/plain": "(46473, 784)"
                    },
                    "execution_count": 36,
                    "metadata": {},
                    "output_type": "execute_result"
                }
            ],
            "source": "k49_val_images.shape"
        },
        {
            "cell_type": "code",
            "execution_count": 37,
            "metadata": {},
            "outputs": [
                {
                    "data": {
                        "text/plain": "(38547, 784)"
                    },
                    "execution_count": 37,
                    "metadata": {},
                    "output_type": "execute_result"
                }
            ],
            "source": "k49_test_images.shape"
        },
        {
            "cell_type": "code",
            "execution_count": 38,
            "metadata": {},
            "outputs": [
                {
                    "name": "stdout",
                    "output_type": "stream",
                    "text": "[0.         0.         0.         0.         0.         0.\n 0.         0.         0.         0.         0.         0.\n 0.         0.         0.         0.         0.         0.\n 0.         0.         0.         0.         0.         0.\n 0.         0.         0.         0.         0.         0.\n 0.         0.         0.         0.         0.         0.\n 0.         0.         0.         0.         0.         0.\n 0.         0.         0.         0.         0.         0.\n 0.         0.         0.         0.         0.         0.\n 0.         0.         0.         0.         0.         0.\n 0.         0.         0.         0.         0.         0.\n 0.         0.         0.         0.         0.         0.\n 0.         0.         0.         0.00784314 0.07843137 0.00784314\n 0.         0.         0.         0.         0.         0.\n 0.         0.         0.         0.         0.         0.\n 0.         0.         0.         0.         0.         0.\n 0.         0.         0.         0.         0.         0.\n 0.         0.36862745 0.9372549  0.77647059 0.50196078 0.22352941\n 0.01176471 0.         0.         0.         0.         0.\n 0.         0.         0.         0.         0.         0.\n 0.         0.         0.         0.         0.         0.\n 0.         0.         0.         0.         0.02745098 0.78823529\n 0.94117647 0.65490196 0.72156863 0.84705882 0.90196078 0.54509804\n 0.19215686 0.00784314 0.         0.         0.         0.\n 0.         0.         0.         0.         0.         0.\n 0.         0.         0.         0.         0.         0.\n 0.         0.         0.23529412 0.99607843 0.69019608 0.00392157\n 0.00392157 0.25882353 1.         1.         0.97254902 0.42745098\n 0.         0.         0.         0.         0.         0.\n 0.         0.         0.         0.         0.         0.\n 0.         0.         0.         0.         0.         0.\n 0.53333333 1.         0.72156863 0.23137255 0.57254902 0.9254902\n 1.         1.         1.         0.91372549 0.         0.\n 0.         0.         0.         0.         0.         0.\n 0.         0.         0.         0.         0.         0.\n 0.         0.         0.         0.01568627 0.83137255 1.\n 0.99607843 0.98431373 1.         1.         1.         1.\n 1.         0.81960784 0.         0.         0.         0.\n 0.         0.         0.         0.         0.         0.00784314\n 0.00392157 0.         0.         0.         0.00392157 0.0745098\n 0.18431373 0.51372549 1.         1.         1.         1.\n 1.         0.95294118 0.90588235 0.9372549  0.62745098 0.13333333\n 0.         0.         0.         0.         0.         0.\n 0.         0.         0.         0.32156863 0.36078431 0.01176471\n 0.30588235 0.52941176 0.77647059 0.92941176 0.99607843 1.\n 1.         1.         1.         0.98823529 0.64313725 0.14509804\n 0.04705882 0.10588235 0.01568627 0.         0.21568627 0.00784314\n 0.         0.         0.         0.         0.         0.\n 0.         0.70588235 0.93333333 0.82352941 1.         1.\n 1.         1.         1.         1.         1.         1.\n 0.95686275 0.30196078 0.         0.         0.         0.\n 0.         0.         0.68627451 0.42745098 0.01568627 0.\n 0.03921569 0.07058824 0.11764706 0.36862745 0.50196078 0.91764706\n 1.         1.         1.         0.97254902 0.75294118 0.50980392\n 0.30196078 0.76862745 1.         1.         0.57254902 0.00784314\n 0.         0.         0.         0.         0.         0.\n 0.47058824 1.         0.89019608 0.84705882 1.         0.98039216\n 0.98039216 1.         1.         1.         1.         0.87843137\n 0.56078431 0.29411765 0.01176471 0.         0.01176471 0.69411765\n 1.         0.99215686 0.21960784 0.00392157 0.         0.\n 0.         0.         0.03137255 0.00392157 0.19607843 0.97254902\n 1.         1.         1.         1.         1.         0.96862745\n 0.91764706 0.98823529 1.         0.25490196 0.         0.\n 0.         0.         0.07058824 0.82745098 1.         0.90196078\n 0.00784314 0.04705882 0.         0.         0.         0.\n 0.03921569 0.         0.01568627 0.48627451 0.88627451 1.\n 0.9372549  0.74901961 0.3254902  0.10980392 0.01176471 0.7254902\n 0.97647059 0.11764706 0.         0.21960784 0.15686275 0.\n 0.05882353 0.90980392 1.         0.82745098 0.00392157 0.\n 0.         0.         0.         0.         0.         0.\n 0.         0.         0.10980392 0.29803922 0.11372549 0.01960784\n 0.         0.         0.         0.60784314 0.98039216 0.12156863\n 0.         0.0627451  0.68235294 0.33333333 0.11372549 0.93333333\n 1.         0.5372549  0.         0.         0.         0.\n 0.         0.09019608 0.02352941 0.         0.         0.\n 0.         0.         0.         0.         0.         0.\n 0.         0.54509804 0.99607843 0.20784314 0.         0.\n 0.25098039 0.94117647 0.9372549  1.         0.97647059 0.25882353\n 0.         0.         0.         0.         0.12156863 0.15294118\n 0.         0.         0.         0.         0.         0.\n 0.         0.         0.         0.         0.         0.52156863\n 1.         0.36862745 0.         0.         0.         0.31764706\n 0.92941176 0.99215686 0.6        0.03137255 0.         0.\n 0.         0.         0.01176471 0.         0.         0.\n 0.         0.         0.         0.         0.         0.\n 0.         0.         0.         0.39215686 1.         0.65490196\n 0.         0.         0.         0.01568627 0.14509804 0.1254902\n 0.         0.         0.01960784 0.00784314 0.         0.06666667\n 0.01568627 0.00392157 0.         0.         0.         0.\n 0.         0.         0.         0.         0.         0.\n 0.         0.23921569 1.         0.81176471 0.         0.\n 0.         0.         0.         0.         0.         0.\n 0.00784314 0.         0.         0.         0.07843137 0.02352941\n 0.         0.         0.         0.         0.         0.\n 0.         0.         0.         0.         0.         0.1372549\n 1.         0.98431373 0.22745098 0.         0.         0.\n 0.01176471 0.15294118 0.32156863 0.31764706 0.01568627 0.\n 0.         0.         0.         0.         0.         0.\n 0.         0.         0.         0.         0.         0.\n 0.         0.         0.         0.10196078 0.98431373 1.\n 0.77254902 0.43921569 0.40392157 0.4        0.71764706 0.96078431\n 1.         0.98039216 0.63137255 0.06666667 0.         0.\n 0.         0.         0.00784314 0.00392157 0.         0.\n 0.         0.         0.         0.         0.         0.\n 0.         0.         0.65490196 1.         1.         1.\n 1.         0.98431373 1.         1.         1.         1.\n 1.         0.52156863 0.         0.         0.         0.\n 0.         0.         0.         0.         0.         0.\n 0.         0.         0.         0.         0.         0.\n 0.20784314 0.96862745 1.         1.         1.         1.\n 1.         1.         1.         1.         1.         0.56862745\n 0.         0.         0.         0.         0.         0.\n 0.         0.         0.         0.         0.         0.\n 0.         0.         0.         0.         0.00392157 0.48235294\n 0.85882353 0.85882353 0.85882353 0.73333333 0.34901961 0.31764706\n 0.84705882 0.85882353 0.85882353 0.36078431 0.         0.\n 0.         0.         0.         0.         0.         0.\n 0.         0.         0.         0.         0.         0.\n 0.         0.         0.         0.         0.         0.\n 0.         0.         0.         0.         0.         0.\n 0.         0.         0.         0.         0.         0.\n 0.         0.         0.         0.         0.         0.\n 0.         0.         0.         0.         0.         0.\n 0.         0.         0.         0.         0.         0.\n 0.         0.         0.         0.         0.         0.\n 0.         0.         0.         0.         0.         0.\n 0.         0.         0.         0.         0.         0.\n 0.         0.         0.         0.         0.         0.\n 0.         0.         0.         0.         0.         0.\n 0.         0.         0.         0.         0.         0.\n 0.         0.         0.         0.        ]\n"
                }
            ],
            "source": "print(k49_train_images[0])"
        },
        {
            "cell_type": "code",
            "execution_count": 39,
            "metadata": {},
            "outputs": [],
            "source": "# this is the format we need for the machine learning model"
        },
        {
            "cell_type": "markdown",
            "metadata": {},
            "source": "## The Third Dataset \n\n#### includes Kanji characters, this data has 3832 different classes and consists of 140,426 images, each image is 64 X 64 pixels\n#### This dataset is not as processed as the other two.  It is just a bunch of png images in a directory inside an archive file."
        },
        {
            "cell_type": "code",
            "execution_count": 40,
            "metadata": {},
            "outputs": [
                {
                    "name": "stdout",
                    "output_type": "stream",
                    "text": "--2021-07-02 17:06:40--  http://codh.rois.ac.jp/kmnist/dataset/kkanji/kkanji.tar?raw=True\nResolving codh.rois.ac.jp (codh.rois.ac.jp)... 136.187.88.58\nConnecting to codh.rois.ac.jp (codh.rois.ac.jp)|136.187.88.58|:80... connected.\nHTTP request sent, awaiting response... 200 OK\nLength: 324290560 (309M) [application/x-tar]\nSaving to: \u2018kkanji.tar?raw=True\u2019\n\nkkanji.tar?raw=True 100%[===================>] 309.27M  3.60MB/s    in 1m 46s  \n\n2021-07-02 17:08:26 (2.91 MB/s) - \u2018kkanji.tar?raw=True\u2019 saved [324290560/324290560]\n\n-rw-rw-r-- 1 spark spark 310M Dec  8  2018 kkanji.tar\nkkanji2/\nkkanji2/U+5B87/\nkkanji2/U+5B87/72d56fcb33d10fe0.png\nkkanji2/U+5B87/75f7923797777c74.png\nkkanji2/U+5B87/69d6becd4f8f2d61.png\nkkanji2/U+5B87/522dd01c5f9573f5.png\nkkanji2/U+5B87/36aadd8d92c64049.png\nkkanji2/U+5B87/58f75629e53b9e63.png\nkkanji2/U+5B87/557950fbb39b019b.png\nkkanji2/U+5B87/c4ca643dbc0299b6.png\nkkanji2/U+5B87/02f161e7e7a3c364.png\nkkanji2/U+5B87/c45553bb4a35c8d4.png\nkkanji2/U+5B87/ffa955bd6cb43af8.png\nkkanji2/U+5B87/d0387f14448f2a95.png\nkkanji2/U+5B87/d8c4a0dbd99fc02f.png\nkkanji2/U+5B87/419beef7f2c593da.png\nkkanji2/U+5B87/f2308287339f973d.png\nkkanji2/U+5B87/f885e3a957b99e8e.png\nkkanji2/U+5B87/f5e7a417e3d831d8.png\nkkanji2/U+5B87/17681a9b66db23e0.png\nkkanji2/U+5B87/cc2b8cd01c984262.png\nkkanji2/U+5B87/3e76b512ef42c8f2.png\nkkanji2/U+5B87/49276561d0ca08e0.png\nkkanji2/U+5B87/a169cf27462e020d.png\nkkanji2/U+5B87/61b85600b3fdbea9.png\nkkanji2/U+5B87/112b17b885fbfa61.png\nkkanji2/U+5B87/99654e0e2e597032.png\nkkanji2/U+5B87/7af7faf202121801.png\nkkanji2/U+5B87/8a6b7ea64d025e6d.png\nkkanji2/U+5B87/3c965132ab259d2b.png\nkkanji2/U+5B87/e5e120e4a9d70b6b.png\nkkanji2/U+5B87/a83b76ab3c9ab31c.png\nkkanji2/U+5B87/5a3cf89898fb6100.png\nkkanji2/U+5B87/d84ddc102e8425b6.png\nkkanji2/U+5B87/bdf7cd68b0df8857.png\nkkanji2/U+5B87/a0a4815c3bfe9f15.png\nkkanji2/U+5B87/b2e74a3d92ef78ac.png\nkkanji2/U+5B87/25e9d668d9b64914.png\nkkanji2/U+5B87/5b6ee9b9d03fc3ad.png\nkkanji2/U+583A/\nkkanji2/U+583A/2adaddcb1db613b1.png\nkkanji2/U+583A/3bd7379e66373395.png\nkkanji2/U+583A/ea8dd8f0d7375e9c.png\nkkanji2/U+583A/f738049a58a97177.png\nkkanji2/U+583A/b3a041d6510720b2.png\nkkanji2/U+583A/3921ca3a71dcaaff.png\nkkanji2/U+583A/21d02bce1618fd05.png\nkkanji2/U+583A/df87ce26b03e824d.png\nkkanji2/U+583A/5e5b7454b683e6b0.png\nkkanji2/U+583A/10063d313e1474aa.png\nkkanji2/U+583A/84e528c1a87102b4.png\nkkanji2/U+583A/f8db9187baf4b352.png\nkkanji2/U+583A/e1eb722d60ac207c.png\nkkanji2/U+583A/ab464d2670b260bc.png\nkkanji2/U+583A/596e410f8ae20a07.png\nkkanji2/U+583A/805fa5f10779d104.png\nkkanji2/U+583A/66e27da7a955f8ea.png\nkkanji2/U+583A/d43d5197995e7345.png\nkkanji2/U+583A/0ceea4b4033e6c66.png\nkkanji2/U+5ECA/\nkkanji2/U+5ECA/47d36e0f7df9b8ab.png\nkkanji2/U+5ECA/ea6adb0abe33425c.png\nkkanji2/U+5ECA/542e3b1950722456.png\nkkanji2/U+5ECA/3b16e7bcc8a3a717.png\nkkanji2/U+5ECA/7f899bc5008c5824.png\nkkanji2/U+9CF6/\nkkanji2/U+9CF6/e52af171049817f9.png\nkkanji2/U+9CF6/3a09e6488fd81fcd.png\nkkanji2/U+9CF6/ae5f75bd30a73375.png\nkkanji2/U+5A9B/\ntar: write error\n"
                }
            ],
            "source": "# we download the archive:\n\n!wget http://codh.rois.ac.jp/kmnist/dataset/kkanji/kkanji.tar?raw=True\n!mv kkanji.tar?raw=True kkanji.tar\n!ls -lahr kkanji.tar\n\n# list the contents of the archive\n# limit output to the first 70 files\n\n!tar -tf kkanji.tar | head -70"
        },
        {
            "cell_type": "code",
            "execution_count": 41,
            "metadata": {},
            "outputs": [
                {
                    "name": "stdout",
                    "output_type": "stream",
                    "text": "total 447984\r\ndrwxr-xr-x   12 spark  2000      4096 Jul  2 17:08 .\r\ndrwxrwxr-x    1 spark spark      4096 Jul  2 17:00 ..\r\ndrwxrwxr-x    4 spark spark      4096 Jul  2 17:04 .cache\r\ndrwxrwxr-x    3 spark spark      4096 Jul  2 17:00 conda\r\ndrwxrwxr-x    3 spark spark      4096 Jul  2 17:04 .config\r\ndrwxr-xr-x    5 spark spark      4096 Jul  2 17:00 .ipython\r\n-rw-rw-r--    1 spark spark  10971201 Feb  4  2019 k49-test-imgs.npz\r\n-rw-rw-r--    1 spark spark     27450 Feb  4  2019 k49-test-labels.npz\r\n-rw-rw-r--    1 spark spark  66117696 Feb  4  2019 k49-train-imgs.npz\r\n-rw-rw-r--    1 spark spark    164485 Feb  4  2019 k49-train-labels.npz\r\ndrwxrwxr-x    2 spark spark      4096 Jul  2 17:05 .keras\r\ndrwxr-xr-x 3834 spark spark    299008 Dec  8  2018 kkanji2\r\n-rw-rw-r--    1 spark spark 324290560 Dec  8  2018 kkanji.tar\r\ndrwxrwxr-x    2 spark spark      4096 Jul  2 17:05 kmnistdata\r\ndrwxrwxr-x    2 spark spark      4096 Jul  2 17:01 logs\r\ndrwxrwxr-x    2 spark spark      4096 Jul  2 17:00 spark-events\r\n-rw-rw-r--    1 spark spark   7840016 Feb  4  2019 t10k-images-idx3-ubyte\r\n-rw-rw-r--    1 spark spark     10008 Feb  4  2019 t10k-labels-idx1-ubyte\r\n-rw-rw-r--    1 spark spark  47040016 Feb  4  2019 train-images-idx3-ubyte\r\n-rw-rw-r--    1 spark spark     60008 Feb  4  2019 train-labels-idx1-ubyte\r\ndrwxrwxr-x    6 spark spark      4096 Jul  2 17:00 user-libs\r\n"
                }
            ],
            "source": "# extract the archive:\n!tar -xf kkanji.tar\n\n# check whats in the current working directory:\n!ls -al"
        },
        {
            "cell_type": "code",
            "execution_count": 42,
            "metadata": {},
            "outputs": [
                {
                    "name": "stdout",
                    "output_type": "stream",
                    "text": "U+241C6\r\nU+24FA3\r\nU+25DA1\r\nU+27752\r\nU+29780\r\nU+29DDA\r\nU+29E75\r\nU+4093\r\nU+4453\r\nU+4543\r\nU+4572\r\nU+4C61\r\nU+4C99\r\nU+4E00\r\nU+4E01\r\nU+4E03\r\nU+4E07\r\nU+4E08\r\nU+4E09\r\nU+4E0A\r\nU+4E0B\r\nU+4E0D\r\nU+4E0E\r\nU+4E11\r\nU+4E14\r\nU+4E16\r\nU+4E17\r\nU+4E18\r\nU+4E19\r\nU+4E1E\r\nU+4E21\r\nU+4E26\r\nU+4E2D\r\nU+4E32\r\nU+4E38\r\nU+4E39\r\nU+4E3B\r\nU+4E3C\r\nU+4E42\r\nU+4E43\r\nU+4E45\r\nU+4E4B\r\nU+4E4D\r\nU+4E4E\r\nU+4E4F\r\nU+4E57\r\nU+4E58\r\nU+4E59\r\nU+4E5D\r\nU+4E5E\r\nls: write error: Broken pipe\r\n"
                }
            ],
            "source": "# check the extracted png files in the newly extracted directory\n# List out the first 50 folder names in the directory kkanji2\n# the folder names are also the codepoint of each of the characters:\n\n!ls kkanji2 | head -50"
        },
        {
            "cell_type": "code",
            "execution_count": 43,
            "metadata": {},
            "outputs": [
                {
                    "name": "stdout",
                    "output_type": "stream",
                    "text": "codepoint\r\nU+241C6\r\nU+24FA3\r\nU+25DA1\r\nU+27752\r\nU+29780\r\nU+29DDA\r\nU+29E75\r\nU+4093\r\nU+4453\r\nU+4543\r\nU+4572\r\nU+4C61\r\nU+4C99\r\nU+4E00\r\nU+4E01\r\nU+4E03\r\nU+4E07\r\nU+4E08\r\nU+4E09\r\nU+4E0A\r\nU+4E0B\r\nU+4E0D\r\nU+4E0E\r\nU+4E11\r\nU+4E14\r\nU+4E16\r\nU+4E17\r\nU+4E18\r\nU+4E19\r\nU+4E1E\r\nU+4E21\r\nU+4E26\r\nU+4E2D\r\nU+4E32\r\nU+4E38\r\nU+4E39\r\nU+4E3B\r\nU+4E3C\r\nU+4E42\r\nU+4E43\r\nU+4E45\r\nU+4E4B\r\nU+4E4D\r\nU+4E4E\r\nU+4E4F\r\nU+4E57\r\nU+4E58\r\nU+4E59\r\nU+4E5D\r\n"
                }
            ],
            "source": "# put the codepoints in a file\n# let the first line of the file be name\n# of the column in the dataframe we are creating\n!echo codepoint > codepoints.csv\n!ls kkanji2 >> codepoints.csv\n!cat codepoints.csv | head -50"
        },
        {
            "cell_type": "code",
            "execution_count": 44,
            "metadata": {},
            "outputs": [
                {
                    "name": "stdout",
                    "output_type": "stream",
                    "text": "total 448016\r\ndrwxr-xr-x   12 spark  2000      4096 Jul  2 17:15 .\r\ndrwxrwxr-x    1 spark spark      4096 Jul  2 17:00 ..\r\ndrwxrwxr-x    4 spark spark      4096 Jul  2 17:04 .cache\r\n-rw-rw-r--    1 spark spark     26841 Jul  2 17:15 codepoints.csv\r\ndrwxrwxr-x    3 spark spark      4096 Jul  2 17:00 conda\r\ndrwxrwxr-x    3 spark spark      4096 Jul  2 17:04 .config\r\ndrwxr-xr-x    5 spark spark      4096 Jul  2 17:00 .ipython\r\n-rw-rw-r--    1 spark spark  10971201 Feb  4  2019 k49-test-imgs.npz\r\n-rw-rw-r--    1 spark spark     27450 Feb  4  2019 k49-test-labels.npz\r\n-rw-rw-r--    1 spark spark  66117696 Feb  4  2019 k49-train-imgs.npz\r\n-rw-rw-r--    1 spark spark    164485 Feb  4  2019 k49-train-labels.npz\r\ndrwxrwxr-x    2 spark spark      4096 Jul  2 17:05 .keras\r\ndrwxr-xr-x 3834 spark spark    299008 Dec  8  2018 kkanji2\r\n-rw-rw-r--    1 spark spark 324290560 Dec  8  2018 kkanji.tar\r\ndrwxrwxr-x    2 spark spark      4096 Jul  2 17:05 kmnistdata\r\ndrwxrwxr-x    2 spark spark      4096 Jul  2 17:01 logs\r\ndrwxrwxr-x    2 spark spark      4096 Jul  2 17:00 spark-events\r\n-rw-rw-r--    1 spark spark   7840016 Feb  4  2019 t10k-images-idx3-ubyte\r\n-rw-rw-r--    1 spark spark     10008 Feb  4  2019 t10k-labels-idx1-ubyte\r\n-rw-rw-r--    1 spark spark  47040016 Feb  4  2019 train-images-idx3-ubyte\r\n-rw-rw-r--    1 spark spark     60008 Feb  4  2019 train-labels-idx1-ubyte\r\ndrwxrwxr-x    6 spark spark      4096 Jul  2 17:00 user-libs\r\n"
                }
            ],
            "source": "# make sure the file codepoints.csv is in the current directory:\n\n!ls -al"
        },
        {
            "cell_type": "code",
            "execution_count": 45,
            "metadata": {},
            "outputs": [
                {
                    "name": "stdout",
                    "output_type": "stream",
                    "text": "/home/spark/shared/codepoints.csv\n"
                }
            ],
            "source": "# verify the file's path:\n\nprint (os.path.abspath(\"codepoints.csv\"))"
        },
        {
            "cell_type": "code",
            "execution_count": 46,
            "metadata": {},
            "outputs": [
                {
                    "data": {
                        "text/html": "<div>\n<style scoped>\n    .dataframe tbody tr th:only-of-type {\n        vertical-align: middle;\n    }\n\n    .dataframe tbody tr th {\n        vertical-align: top;\n    }\n\n    .dataframe thead th {\n        text-align: right;\n    }\n</style>\n<table border=\"1\" class=\"dataframe\">\n  <thead>\n    <tr style=\"text-align: right;\">\n      <th></th>\n      <th>codepoint</th>\n    </tr>\n  </thead>\n  <tbody>\n    <tr>\n      <th>0</th>\n      <td>U+241C6</td>\n    </tr>\n    <tr>\n      <th>1</th>\n      <td>U+24FA3</td>\n    </tr>\n    <tr>\n      <th>2</th>\n      <td>U+25DA1</td>\n    </tr>\n    <tr>\n      <th>3</th>\n      <td>U+27752</td>\n    </tr>\n    <tr>\n      <th>4</th>\n      <td>U+29780</td>\n    </tr>\n    <tr>\n      <th>...</th>\n      <td>...</td>\n    </tr>\n    <tr>\n      <th>3827</th>\n      <td>U+FA38</td>\n    </tr>\n    <tr>\n      <th>3828</th>\n      <td>U+FA45</td>\n    </tr>\n    <tr>\n      <th>3829</th>\n      <td>U+FA4A</td>\n    </tr>\n    <tr>\n      <th>3830</th>\n      <td>U+FA55</td>\n    </tr>\n    <tr>\n      <th>3831</th>\n      <td>U+FA5C</td>\n    </tr>\n  </tbody>\n</table>\n<p>3832 rows \u00d7 1 columns</p>\n</div>",
                        "text/plain": "     codepoint\n0      U+241C6\n1      U+24FA3\n2      U+25DA1\n3      U+27752\n4      U+29780\n...        ...\n3827    U+FA38\n3828    U+FA45\n3829    U+FA4A\n3830    U+FA55\n3831    U+FA5C\n\n[3832 rows x 1 columns]"
                    },
                    "execution_count": 46,
                    "metadata": {},
                    "output_type": "execute_result"
                }
            ],
            "source": "# read all the lines of the file into pandas dataframe\n# including the column header which is already in the file\n# display new dataframe\n# here we can confirm that the data has 3832 classes\n\ndf_kanji_classmap = pd.read_csv(\"codepoints.csv\")\ndf_kanji_classmap"
        },
        {
            "cell_type": "code",
            "execution_count": 47,
            "metadata": {},
            "outputs": [
                {
                    "data": {
                        "image/png": "[encoded data removed]",
                        "text/plain": "<Figure size 432x288 with 1 Axes>"
                    },
                    "metadata": {
                        "needs_background": "light"
                    },
                    "output_type": "display_data"
                }
            ],
            "source": "# we'll need to read the images in to transform them\n#read the first listed image in the first folder and display it\nimg = mping.imread('kkanji2/U+5B87/72d56fcb33d10fe0.png')\nplt.imshow(img)\nplt.show()\n# note that this image in only \"first\" as listed from the tar arcive above\n# it is not \"first\" in terms of the codepoint listing we created directly above"
        },
        {
            "cell_type": "code",
            "execution_count": 48,
            "metadata": {},
            "outputs": [],
            "source": "# create a pandas dataframe that contains the codepoint for each image, \n# and its full path in the os and display that dataframe\n\n#  ** reminder:  makes sure to set the path line correctly using the fact that\n# the directory kkanji2 is in the same directory as the file codepoints.csv\n\ndata = []\ndir = os.path.realpath('/home/spark/shared/kkanji2')\nfor r, d, f in os.walk(dir):\n    for file in f:\n        if \".png\" in file:\n            data.append((r.split('/')[-1],os.path.join(r,file)))\ndf_kanji2 = pd.DataFrame(data, columns=['codepoint', 'image_file_path']).sort_values(by=['codepoint'], ignore_index = True)"
        },
        {
            "cell_type": "code",
            "execution_count": 49,
            "metadata": {},
            "outputs": [
                {
                    "data": {
                        "text/html": "<div>\n<style scoped>\n    .dataframe tbody tr th:only-of-type {\n        vertical-align: middle;\n    }\n\n    .dataframe tbody tr th {\n        vertical-align: top;\n    }\n\n    .dataframe thead th {\n        text-align: right;\n    }\n</style>\n<table border=\"1\" class=\"dataframe\">\n  <thead>\n    <tr style=\"text-align: right;\">\n      <th></th>\n      <th>codepoint</th>\n      <th>image_file_path</th>\n    </tr>\n  </thead>\n  <tbody>\n    <tr>\n      <th>0</th>\n      <td>U+241C6</td>\n      <td>/home/spark/shared/kkanji2/U+241C6/c0d603c6ce4a4538.png</td>\n    </tr>\n    <tr>\n      <th>1</th>\n      <td>U+241C6</td>\n      <td>/home/spark/shared/kkanji2/U+241C6/689fa55040ec4f03.png</td>\n    </tr>\n    <tr>\n      <th>2</th>\n      <td>U+24FA3</td>\n      <td>/home/spark/shared/kkanji2/U+24FA3/4190e728bfc948e0.png</td>\n    </tr>\n    <tr>\n      <th>3</th>\n      <td>U+24FA3</td>\n      <td>/home/spark/shared/kkanji2/U+24FA3/80582798ed70ce7c.png</td>\n    </tr>\n    <tr>\n      <th>4</th>\n      <td>U+25DA1</td>\n      <td>/home/spark/shared/kkanji2/U+25DA1/512d7fcacddd25fd.png</td>\n    </tr>\n    <tr>\n      <th>...</th>\n      <td>...</td>\n      <td>...</td>\n    </tr>\n    <tr>\n      <th>140419</th>\n      <td>U+FA55</td>\n      <td>/home/spark/shared/kkanji2/U+FA55/f03dee341d017a83.png</td>\n    </tr>\n    <tr>\n      <th>140420</th>\n      <td>U+FA55</td>\n      <td>/home/spark/shared/kkanji2/U+FA55/9bb329908332c929.png</td>\n    </tr>\n    <tr>\n      <th>140421</th>\n      <td>U+FA55</td>\n      <td>/home/spark/shared/kkanji2/U+FA55/9158bbb254b2ec88.png</td>\n    </tr>\n    <tr>\n      <th>140422</th>\n      <td>U+FA5C</td>\n      <td>/home/spark/shared/kkanji2/U+FA5C/15e2060396eba2b3.png</td>\n    </tr>\n    <tr>\n      <th>140423</th>\n      <td>U+FA5C</td>\n      <td>/home/spark/shared/kkanji2/U+FA5C/679e4b2f026f6297.png</td>\n    </tr>\n  </tbody>\n</table>\n<p>140424 rows \u00d7 2 columns</p>\n</div>",
                        "text/plain": "       codepoint                                          image_file_path\n0        U+241C6  /home/spark/shared/kkanji2/U+241C6/c0d603c6ce4a4538.png\n1        U+241C6  /home/spark/shared/kkanji2/U+241C6/689fa55040ec4f03.png\n2        U+24FA3  /home/spark/shared/kkanji2/U+24FA3/4190e728bfc948e0.png\n3        U+24FA3  /home/spark/shared/kkanji2/U+24FA3/80582798ed70ce7c.png\n4        U+25DA1  /home/spark/shared/kkanji2/U+25DA1/512d7fcacddd25fd.png\n...          ...                                                      ...\n140419    U+FA55   /home/spark/shared/kkanji2/U+FA55/f03dee341d017a83.png\n140420    U+FA55   /home/spark/shared/kkanji2/U+FA55/9bb329908332c929.png\n140421    U+FA55   /home/spark/shared/kkanji2/U+FA55/9158bbb254b2ec88.png\n140422    U+FA5C   /home/spark/shared/kkanji2/U+FA5C/15e2060396eba2b3.png\n140423    U+FA5C   /home/spark/shared/kkanji2/U+FA5C/679e4b2f026f6297.png\n\n[140424 rows x 2 columns]"
                    },
                    "execution_count": 49,
                    "metadata": {},
                    "output_type": "execute_result"
                }
            ],
            "source": "# display the new dataframe\n# we will change the display width of the pandas \n# dataframe to be able to see the entire path\n\npd.set_option('max_colwidth', 1000)\ndf_kanji2"
        },
        {
            "cell_type": "code",
            "execution_count": 50,
            "metadata": {},
            "outputs": [
                {
                    "data": {
                        "text/plain": "'/home/spark/shared/kkanji2/U+241C6/c0d603c6ce4a4538.png'"
                    },
                    "execution_count": 50,
                    "metadata": {},
                    "output_type": "execute_result"
                }
            ],
            "source": "# show the os path of the first image in the first folder\n# as listed in the dataframe\n# note that the dataframe list the images grouped by their codepoints\n# and the codepoints are sorted by their ASCII values\n\ndf_kanji2['image_file_path'][0]"
        },
        {
            "cell_type": "code",
            "execution_count": 51,
            "metadata": {},
            "outputs": [
                {
                    "name": "stdout",
                    "output_type": "stream",
                    "text": "PNG\n(64, 64)\nL\n"
                }
            ],
            "source": "# read the image using Pillow and show some information about it:\n\npimage = Image.open(df_kanji2['image_file_path'][0])\nprint(pimage.format)\nprint(pimage.size)\nprint(pimage.mode)"
        },
        {
            "cell_type": "code",
            "execution_count": 52,
            "metadata": {},
            "outputs": [
                {
                    "name": "stdout",
                    "output_type": "stream",
                    "text": "float32\n"
                },
                {
                    "data": {
                        "text/plain": "<matplotlib.image.AxesImage at 0x7f1cab0d7290>"
                    },
                    "execution_count": 52,
                    "metadata": {},
                    "output_type": "execute_result"
                },
                {
                    "data": {
                        "image/png": "[encoded data removed]",
                        "text/plain": "<Figure size 432x288 with 1 Axes>"
                    },
                    "metadata": {
                        "needs_background": "light"
                    },
                    "output_type": "display_data"
                }
            ],
            "source": "# read the image using matplotlib and show it\nimg = image.imread(df_kanji2['image_file_path'][0])\nprint(img.dtype)\nplt.imshow(img)"
        },
        {
            "cell_type": "code",
            "execution_count": 53,
            "metadata": {},
            "outputs": [
                {
                    "name": "stdout",
                    "output_type": "stream",
                    "text": "<class 'numpy.ndarray'>\n(64, 64)\n"
                }
            ],
            "source": "# convert to a numpy array and verify we created a numpy array and it's shape\nimg_nparray = asarray(img)\nprint(type(img_nparray))\nprint(img_nparray.shape)"
        },
        {
            "cell_type": "code",
            "execution_count": 54,
            "metadata": {},
            "outputs": [
                {
                    "data": {
                        "text/plain": "array([[0.        , 0.        , 0.        , ..., 0.        , 0.        ,\n        0.        ],\n       [0.        , 0.        , 0.        , ..., 0.        , 0.        ,\n        0.        ],\n       [0.        , 0.        , 0.        , ..., 0.        , 0.        ,\n        0.        ],\n       ...,\n       [0.        , 0.        , 0.        , ..., 0.6156863 , 0.07058824,\n        0.        ],\n       [0.        , 0.        , 0.        , ..., 0.0627451 , 0.        ,\n        0.        ],\n       [0.        , 0.        , 0.        , ..., 0.        , 0.        ,\n        0.        ]], dtype=float32)"
                    },
                    "execution_count": 54,
                    "metadata": {},
                    "output_type": "execute_result"
                }
            ],
            "source": "# show the values of the array\n# notice the array is already normalized\nimg_nparray"
        },
        {
            "cell_type": "code",
            "execution_count": 55,
            "metadata": {},
            "outputs": [
                {
                    "data": {
                        "text/plain": "(64, 64)"
                    },
                    "execution_count": 55,
                    "metadata": {},
                    "output_type": "execute_result"
                }
            ],
            "source": "img_nparray.shape"
        },
        {
            "cell_type": "code",
            "execution_count": 56,
            "metadata": {},
            "outputs": [
                {
                    "data": {
                        "text/html": "<div>\n<style scoped>\n    .dataframe tbody tr th:only-of-type {\n        vertical-align: middle;\n    }\n\n    .dataframe tbody tr th {\n        vertical-align: top;\n    }\n\n    .dataframe thead th {\n        text-align: right;\n    }\n</style>\n<table border=\"1\" class=\"dataframe\">\n  <thead>\n    <tr style=\"text-align: right;\">\n      <th></th>\n      <th>codepoint</th>\n      <th>image_file_path</th>\n      <th>np_array</th>\n    </tr>\n  </thead>\n  <tbody>\n    <tr>\n      <th>0</th>\n      <td>U+241C6</td>\n      <td>/home/spark/shared/kkanji2/U+241C6/c0d603c6ce4a4538.png</td>\n      <td></td>\n    </tr>\n    <tr>\n      <th>1</th>\n      <td>U+241C6</td>\n      <td>/home/spark/shared/kkanji2/U+241C6/689fa55040ec4f03.png</td>\n      <td></td>\n    </tr>\n    <tr>\n      <th>2</th>\n      <td>U+24FA3</td>\n      <td>/home/spark/shared/kkanji2/U+24FA3/4190e728bfc948e0.png</td>\n      <td></td>\n    </tr>\n    <tr>\n      <th>3</th>\n      <td>U+24FA3</td>\n      <td>/home/spark/shared/kkanji2/U+24FA3/80582798ed70ce7c.png</td>\n      <td></td>\n    </tr>\n    <tr>\n      <th>4</th>\n      <td>U+25DA1</td>\n      <td>/home/spark/shared/kkanji2/U+25DA1/512d7fcacddd25fd.png</td>\n      <td></td>\n    </tr>\n    <tr>\n      <th>...</th>\n      <td>...</td>\n      <td>...</td>\n      <td>...</td>\n    </tr>\n    <tr>\n      <th>140419</th>\n      <td>U+FA55</td>\n      <td>/home/spark/shared/kkanji2/U+FA55/f03dee341d017a83.png</td>\n      <td></td>\n    </tr>\n    <tr>\n      <th>140420</th>\n      <td>U+FA55</td>\n      <td>/home/spark/shared/kkanji2/U+FA55/9bb329908332c929.png</td>\n      <td></td>\n    </tr>\n    <tr>\n      <th>140421</th>\n      <td>U+FA55</td>\n      <td>/home/spark/shared/kkanji2/U+FA55/9158bbb254b2ec88.png</td>\n      <td></td>\n    </tr>\n    <tr>\n      <th>140422</th>\n      <td>U+FA5C</td>\n      <td>/home/spark/shared/kkanji2/U+FA5C/15e2060396eba2b3.png</td>\n      <td></td>\n    </tr>\n    <tr>\n      <th>140423</th>\n      <td>U+FA5C</td>\n      <td>/home/spark/shared/kkanji2/U+FA5C/679e4b2f026f6297.png</td>\n      <td></td>\n    </tr>\n  </tbody>\n</table>\n<p>140424 rows \u00d7 3 columns</p>\n</div>",
                        "text/plain": "       codepoint                                          image_file_path  \\\n0        U+241C6  /home/spark/shared/kkanji2/U+241C6/c0d603c6ce4a4538.png   \n1        U+241C6  /home/spark/shared/kkanji2/U+241C6/689fa55040ec4f03.png   \n2        U+24FA3  /home/spark/shared/kkanji2/U+24FA3/4190e728bfc948e0.png   \n3        U+24FA3  /home/spark/shared/kkanji2/U+24FA3/80582798ed70ce7c.png   \n4        U+25DA1  /home/spark/shared/kkanji2/U+25DA1/512d7fcacddd25fd.png   \n...          ...                                                      ...   \n140419    U+FA55   /home/spark/shared/kkanji2/U+FA55/f03dee341d017a83.png   \n140420    U+FA55   /home/spark/shared/kkanji2/U+FA55/9bb329908332c929.png   \n140421    U+FA55   /home/spark/shared/kkanji2/U+FA55/9158bbb254b2ec88.png   \n140422    U+FA5C   /home/spark/shared/kkanji2/U+FA5C/15e2060396eba2b3.png   \n140423    U+FA5C   /home/spark/shared/kkanji2/U+FA5C/679e4b2f026f6297.png   \n\n       np_array  \n0                \n1                \n2                \n3                \n4                \n...         ...  \n140419           \n140420           \n140421           \n140422           \n140423           \n\n[140424 rows x 3 columns]"
                    },
                    "execution_count": 56,
                    "metadata": {},
                    "output_type": "execute_result"
                }
            ],
            "source": "# add a blank column to the dataframe with column name 'np_array'\n\ndf_kanji2['np_array'] = \"\"\ndf_kanji2"
        },
        {
            "cell_type": "code",
            "execution_count": 57,
            "metadata": {},
            "outputs": [],
            "source": "# fire up the spark session (this cell commented since spark server)\n#sc = SparkContext.getOrCreate(SparkConf().setMaster(\"local[*]\"))\n\n#spark = SparkSession \\\n#    .builder \\\n#    .getOrCreate()"
        },
        {
            "cell_type": "code",
            "execution_count": 58,
            "metadata": {},
            "outputs": [],
            "source": "# enable arrow which lets us transfrom a pandas dataframe into a pyspark dataframe\nspark.conf.set(\"spark.sql.execution.arrow.enabled\",\"true\")"
        },
        {
            "cell_type": "code",
            "execution_count": 59,
            "metadata": {},
            "outputs": [],
            "source": "# convert the pandas dataframe into a pyspark dataframe\ndf_kanji2_pyspk = spark.createDataFrame(df_kanji2)"
        },
        {
            "cell_type": "code",
            "execution_count": 60,
            "metadata": {},
            "outputs": [
                {
                    "name": "stdout",
                    "output_type": "stream",
                    "text": "+---------+--------------------+--------+----------+\n|codepoint|     image_file_path|np_array|classIndex|\n+---------+--------------------+--------+----------+\n|  U+241C6|/home/spark/share...|        |    2606.0|\n|  U+241C6|/home/spark/share...|        |    2606.0|\n|  U+24FA3|/home/spark/share...|        |    2607.0|\n|  U+24FA3|/home/spark/share...|        |    2607.0|\n|  U+25DA1|/home/spark/share...|        |    3017.0|\n|  U+27752|/home/spark/share...|        |    1966.0|\n|  U+27752|/home/spark/share...|        |    1966.0|\n|  U+27752|/home/spark/share...|        |    1966.0|\n|  U+27752|/home/spark/share...|        |    1966.0|\n|  U+27752|/home/spark/share...|        |    1966.0|\n|  U+29780|/home/spark/share...|        |    3018.0|\n|  U+29DDA|/home/spark/share...|        |    3019.0|\n|  U+29E75|/home/spark/share...|        |    3020.0|\n|   U+4093|/home/spark/share...|        |    3021.0|\n|   U+4453|/home/spark/share...|        |     680.0|\n|   U+4453|/home/spark/share...|        |     680.0|\n|   U+4453|/home/spark/share...|        |     680.0|\n|   U+4453|/home/spark/share...|        |     680.0|\n|   U+4453|/home/spark/share...|        |     680.0|\n|   U+4453|/home/spark/share...|        |     680.0|\n+---------+--------------------+--------+----------+\nonly showing top 20 rows\n\n"
                }
            ],
            "source": "# our data has 3,831 different classes each with unique string names\n# which is based on their character codepoints\n# but we want simple numeric class index\n# so we instantiate a StringIndexer in spark:\n\nindexer = StringIndexer(inputCol=\"codepoint\",outputCol=\"classIndex\")\nindexed_df = indexer.fit(df_kanji2_pyspk).transform(df_kanji2_pyspk)\nindexed_df.show()"
        },
        {
            "cell_type": "code",
            "execution_count": 61,
            "metadata": {},
            "outputs": [
                {
                    "data": {
                        "text/html": "<div>\n<style scoped>\n    .dataframe tbody tr th:only-of-type {\n        vertical-align: middle;\n    }\n\n    .dataframe tbody tr th {\n        vertical-align: top;\n    }\n\n    .dataframe thead th {\n        text-align: right;\n    }\n</style>\n<table border=\"1\" class=\"dataframe\">\n  <thead>\n    <tr style=\"text-align: right;\">\n      <th></th>\n      <th>codepoint</th>\n      <th>image_file_path</th>\n      <th>np_array</th>\n      <th>classIndex</th>\n    </tr>\n  </thead>\n  <tbody>\n    <tr>\n      <th>0</th>\n      <td>U+241C6</td>\n      <td>/home/spark/shared/kkanji2/U+241C6/c0d603c6ce4a4538.png</td>\n      <td></td>\n      <td>2606.0</td>\n    </tr>\n    <tr>\n      <th>1</th>\n      <td>U+241C6</td>\n      <td>/home/spark/shared/kkanji2/U+241C6/689fa55040ec4f03.png</td>\n      <td></td>\n      <td>2606.0</td>\n    </tr>\n    <tr>\n      <th>2</th>\n      <td>U+24FA3</td>\n      <td>/home/spark/shared/kkanji2/U+24FA3/4190e728bfc948e0.png</td>\n      <td></td>\n      <td>2607.0</td>\n    </tr>\n    <tr>\n      <th>3</th>\n      <td>U+24FA3</td>\n      <td>/home/spark/shared/kkanji2/U+24FA3/80582798ed70ce7c.png</td>\n      <td></td>\n      <td>2607.0</td>\n    </tr>\n    <tr>\n      <th>4</th>\n      <td>U+25DA1</td>\n      <td>/home/spark/shared/kkanji2/U+25DA1/512d7fcacddd25fd.png</td>\n      <td></td>\n      <td>3017.0</td>\n    </tr>\n    <tr>\n      <th>...</th>\n      <td>...</td>\n      <td>...</td>\n      <td>...</td>\n      <td>...</td>\n    </tr>\n    <tr>\n      <th>140419</th>\n      <td>U+FA55</td>\n      <td>/home/spark/shared/kkanji2/U+FA55/f03dee341d017a83.png</td>\n      <td></td>\n      <td>1041.0</td>\n    </tr>\n    <tr>\n      <th>140420</th>\n      <td>U+FA55</td>\n      <td>/home/spark/shared/kkanji2/U+FA55/9bb329908332c929.png</td>\n      <td></td>\n      <td>1041.0</td>\n    </tr>\n    <tr>\n      <th>140421</th>\n      <td>U+FA55</td>\n      <td>/home/spark/shared/kkanji2/U+FA55/9158bbb254b2ec88.png</td>\n      <td></td>\n      <td>1041.0</td>\n    </tr>\n    <tr>\n      <th>140422</th>\n      <td>U+FA5C</td>\n      <td>/home/spark/shared/kkanji2/U+FA5C/15e2060396eba2b3.png</td>\n      <td></td>\n      <td>3016.0</td>\n    </tr>\n    <tr>\n      <th>140423</th>\n      <td>U+FA5C</td>\n      <td>/home/spark/shared/kkanji2/U+FA5C/679e4b2f026f6297.png</td>\n      <td></td>\n      <td>3016.0</td>\n    </tr>\n  </tbody>\n</table>\n<p>140424 rows \u00d7 4 columns</p>\n</div>",
                        "text/plain": "       codepoint                                          image_file_path  \\\n0        U+241C6  /home/spark/shared/kkanji2/U+241C6/c0d603c6ce4a4538.png   \n1        U+241C6  /home/spark/shared/kkanji2/U+241C6/689fa55040ec4f03.png   \n2        U+24FA3  /home/spark/shared/kkanji2/U+24FA3/4190e728bfc948e0.png   \n3        U+24FA3  /home/spark/shared/kkanji2/U+24FA3/80582798ed70ce7c.png   \n4        U+25DA1  /home/spark/shared/kkanji2/U+25DA1/512d7fcacddd25fd.png   \n...          ...                                                      ...   \n140419    U+FA55   /home/spark/shared/kkanji2/U+FA55/f03dee341d017a83.png   \n140420    U+FA55   /home/spark/shared/kkanji2/U+FA55/9bb329908332c929.png   \n140421    U+FA55   /home/spark/shared/kkanji2/U+FA55/9158bbb254b2ec88.png   \n140422    U+FA5C   /home/spark/shared/kkanji2/U+FA5C/15e2060396eba2b3.png   \n140423    U+FA5C   /home/spark/shared/kkanji2/U+FA5C/679e4b2f026f6297.png   \n\n       np_array  classIndex  \n0                    2606.0  \n1                    2606.0  \n2                    2607.0  \n3                    2607.0  \n4                    3017.0  \n...         ...         ...  \n140419               1041.0  \n140420               1041.0  \n140421               1041.0  \n140422               3016.0  \n140423               3016.0  \n\n[140424 rows x 4 columns]"
                    },
                    "execution_count": 61,
                    "metadata": {},
                    "output_type": "execute_result"
                }
            ],
            "source": "# transform back to pandas dataframe:\ndf_kanji2 = indexed_df.toPandas()\ndf_kanji2"
        },
        {
            "cell_type": "code",
            "execution_count": 62,
            "metadata": {},
            "outputs": [],
            "source": "# add a column containing and numpy array of the image indicated in the path in image_file_path\n# and at the same time, flatten each image from a 64 x 64 numpy array to a single\n# dimension 4096 element long numpy array, and normalize it\ndf_kanji2['np_array'] = df_kanji2['image_file_path'].apply(lambda x: np.asarray(Image.open(x))).apply(lambda y: np.reshape(y,(4096,)))"
        },
        {
            "cell_type": "code",
            "execution_count": 63,
            "metadata": {},
            "outputs": [
                {
                    "data": {
                        "text/html": "<div>\n<style scoped>\n    .dataframe tbody tr th:only-of-type {\n        vertical-align: middle;\n    }\n\n    .dataframe tbody tr th {\n        vertical-align: top;\n    }\n\n    .dataframe thead th {\n        text-align: right;\n    }\n</style>\n<table border=\"1\" class=\"dataframe\">\n  <thead>\n    <tr style=\"text-align: right;\">\n      <th></th>\n      <th>codepoint</th>\n      <th>image_file_path</th>\n      <th>np_array</th>\n      <th>classIndex</th>\n    </tr>\n  </thead>\n  <tbody>\n    <tr>\n      <th>0</th>\n      <td>U+241C6</td>\n      <td>/home/spark/shared/kkanji2/U+241C6/c0d603c6ce4a4538.png</td>\n      <td>[0, 0, 0, 0, 0, 0, 0, 0, 0, 0, 0, 0, 0, 0, 0, 0, 0, 1, 21, 32, 24, 3, 0, 0, 0, 0, 0, 0, 0, 0, 0, 0, 0, 0, 0, 0, 0, 0, 0, 0, 0, 0, 0, 0, 0, 0, 0, 0, 0, 0, 0, 0, 0, 0, 0, 0, 0, 0, 0, 0, 0, 0, 0, 0, 0, 0, 0, 0, 0, 0, 0, 0, 0, 0, 0, 0, 0, 0, 0, 0, 0, 12, 163, 206, 185, 104, 17, 1, 0, 0, 0, 0, 0, 0, 0, 0, 0, 0, 0, 0, ...]</td>\n      <td>2606.0</td>\n    </tr>\n    <tr>\n      <th>1</th>\n      <td>U+241C6</td>\n      <td>/home/spark/shared/kkanji2/U+241C6/689fa55040ec4f03.png</td>\n      <td>[0, 0, 0, 0, 0, 0, 0, 0, 0, 0, 0, 0, 0, 0, 0, 0, 0, 0, 0, 0, 0, 0, 0, 0, 0, 0, 0, 0, 0, 0, 0, 0, 0, 0, 0, 0, 0, 0, 0, 0, 0, 0, 0, 0, 0, 0, 0, 0, 0, 0, 0, 0, 0, 0, 0, 0, 0, 0, 0, 0, 0, 0, 0, 0, 0, 0, 0, 0, 0, 0, 0, 0, 0, 0, 0, 0, 0, 0, 0, 0, 0, 0, 0, 0, 0, 0, 0, 0, 0, 0, 0, 0, 0, 0, 0, 0, 0, 0, 0, 0, ...]</td>\n      <td>2606.0</td>\n    </tr>\n    <tr>\n      <th>2</th>\n      <td>U+24FA3</td>\n      <td>/home/spark/shared/kkanji2/U+24FA3/4190e728bfc948e0.png</td>\n      <td>[0, 0, 0, 0, 0, 0, 0, 0, 0, 0, 0, 0, 0, 0, 0, 0, 0, 0, 0, 0, 0, 0, 0, 0, 0, 0, 0, 0, 0, 0, 0, 0, 0, 0, 0, 0, 0, 0, 0, 0, 0, 0, 0, 0, 0, 0, 0, 0, 0, 0, 0, 0, 0, 0, 0, 0, 0, 0, 0, 0, 0, 0, 0, 0, 0, 0, 0, 0, 0, 0, 0, 0, 0, 0, 0, 0, 0, 0, 0, 0, 0, 0, 0, 0, 0, 0, 0, 0, 0, 0, 0, 0, 0, 0, 0, 0, 0, 0, 0, 0, ...]</td>\n      <td>2607.0</td>\n    </tr>\n    <tr>\n      <th>3</th>\n      <td>U+24FA3</td>\n      <td>/home/spark/shared/kkanji2/U+24FA3/80582798ed70ce7c.png</td>\n      <td>[0, 0, 0, 0, 0, 0, 0, 0, 0, 0, 0, 0, 0, 0, 0, 0, 0, 0, 0, 0, 0, 0, 0, 0, 0, 0, 0, 0, 0, 0, 0, 0, 0, 0, 0, 0, 0, 56, 18, 0, 0, 0, 0, 0, 0, 0, 0, 0, 0, 0, 0, 0, 0, 0, 0, 0, 0, 0, 0, 0, 0, 0, 0, 0, 0, 0, 0, 0, 0, 0, 0, 0, 0, 0, 0, 0, 0, 0, 0, 0, 0, 0, 0, 0, 0, 0, 0, 0, 0, 0, 0, 0, 0, 0, 0, 0, 0, 0, 0, 0, ...]</td>\n      <td>2607.0</td>\n    </tr>\n    <tr>\n      <th>4</th>\n      <td>U+25DA1</td>\n      <td>/home/spark/shared/kkanji2/U+25DA1/512d7fcacddd25fd.png</td>\n      <td>[0, 0, 0, 0, 0, 0, 0, 0, 0, 0, 0, 0, 0, 0, 0, 0, 0, 0, 0, 0, 0, 0, 0, 0, 0, 0, 0, 0, 0, 0, 0, 0, 0, 0, 0, 0, 0, 0, 0, 0, 0, 0, 0, 0, 0, 0, 0, 0, 0, 0, 0, 0, 0, 0, 0, 0, 0, 0, 0, 0, 0, 0, 0, 0, 0, 0, 0, 0, 0, 0, 0, 0, 0, 0, 0, 0, 0, 0, 0, 0, 0, 0, 0, 0, 0, 0, 0, 0, 0, 0, 0, 0, 0, 0, 0, 0, 0, 0, 0, 13, ...]</td>\n      <td>3017.0</td>\n    </tr>\n    <tr>\n      <th>...</th>\n      <td>...</td>\n      <td>...</td>\n      <td>...</td>\n      <td>...</td>\n    </tr>\n    <tr>\n      <th>140419</th>\n      <td>U+FA55</td>\n      <td>/home/spark/shared/kkanji2/U+FA55/f03dee341d017a83.png</td>\n      <td>[0, 0, 0, 0, 0, 0, 0, 0, 0, 0, 0, 0, 0, 0, 0, 0, 0, 0, 0, 0, 0, 43, 90, 14, 0, 0, 0, 0, 0, 0, 0, 0, 0, 0, 0, 0, 0, 0, 0, 0, 0, 0, 0, 0, 0, 0, 0, 0, 0, 0, 0, 0, 0, 0, 0, 0, 0, 0, 0, 0, 0, 0, 0, 0, 0, 0, 0, 0, 0, 0, 0, 0, 0, 0, 0, 0, 0, 0, 0, 0, 0, 0, 0, 0, 33, 172, 182, 49, 0, 0, 0, 1, 24, 25, 0, 0, 0, 0, 0, 0, ...]</td>\n      <td>1041.0</td>\n    </tr>\n    <tr>\n      <th>140420</th>\n      <td>U+FA55</td>\n      <td>/home/spark/shared/kkanji2/U+FA55/9bb329908332c929.png</td>\n      <td>[0, 0, 0, 0, 0, 0, 0, 0, 0, 0, 0, 0, 0, 20, 2, 4, 19, 9, 0, 11, 25, 20, 18, 39, 60, 40, 6, 0, 0, 0, 0, 0, 0, 0, 0, 0, 0, 0, 0, 0, 0, 0, 0, 0, 0, 0, 0, 0, 54, 175, 236, 255, 255, 255, 255, 255, 255, 255, 255, 255, 221, 25, 0, 0, 0, 0, 0, 0, 0, 0, 0, 0, 0, 0, 0, 0, 0, 0, 0, 39, 132, 154, 140, 188, 215, 203, 201, 230, 239, 205, 132, 58, 21, 2, 0, 0, 0, 0, 0, 0, ...]</td>\n      <td>1041.0</td>\n    </tr>\n    <tr>\n      <th>140421</th>\n      <td>U+FA55</td>\n      <td>/home/spark/shared/kkanji2/U+FA55/9158bbb254b2ec88.png</td>\n      <td>[0, 0, 0, 0, 0, 0, 0, 0, 0, 0, 0, 0, 0, 0, 0, 0, 0, 0, 0, 0, 0, 0, 0, 0, 0, 0, 12, 59, 110, 72, 22, 0, 0, 0, 0, 0, 0, 0, 0, 0, 0, 0, 0, 0, 0, 0, 0, 0, 0, 0, 0, 0, 0, 0, 0, 0, 0, 0, 0, 0, 0, 0, 0, 0, 0, 0, 0, 0, 0, 0, 0, 0, 0, 0, 0, 0, 0, 0, 0, 0, 0, 0, 0, 0, 0, 0, 0, 0, 4, 91, 188, 234, 248, 242, 176, 25, 0, 0, 0, 0, ...]</td>\n      <td>1041.0</td>\n    </tr>\n    <tr>\n      <th>140422</th>\n      <td>U+FA5C</td>\n      <td>/home/spark/shared/kkanji2/U+FA5C/15e2060396eba2b3.png</td>\n      <td>[0, 0, 0, 0, 0, 0, 0, 0, 0, 0, 0, 0, 0, 0, 0, 0, 0, 0, 0, 0, 0, 0, 0, 0, 0, 0, 0, 0, 0, 0, 0, 0, 0, 0, 0, 0, 0, 0, 0, 0, 7, 65, 151, 187, 57, 0, 0, 0, 0, 0, 0, 0, 0, 0, 0, 0, 0, 0, 0, 0, 0, 0, 0, 0, 0, 0, 0, 0, 0, 0, 0, 0, 0, 0, 0, 0, 0, 0, 0, 0, 0, 0, 0, 0, 0, 0, 0, 0, 0, 0, 0, 0, 0, 0, 0, 0, 0, 0, 0, 0, ...]</td>\n      <td>3016.0</td>\n    </tr>\n    <tr>\n      <th>140423</th>\n      <td>U+FA5C</td>\n      <td>/home/spark/shared/kkanji2/U+FA5C/679e4b2f026f6297.png</td>\n      <td>[0, 0, 0, 0, 0, 0, 0, 0, 0, 0, 0, 0, 0, 0, 0, 0, 0, 0, 0, 0, 0, 0, 0, 0, 0, 0, 18, 27, 34, 50, 29, 6, 0, 0, 0, 0, 0, 0, 0, 0, 0, 0, 0, 0, 0, 0, 0, 0, 0, 0, 0, 0, 0, 0, 0, 0, 0, 0, 0, 0, 0, 0, 0, 0, 0, 0, 0, 0, 0, 0, 0, 0, 0, 0, 0, 0, 0, 0, 0, 0, 0, 0, 0, 0, 0, 0, 0, 0, 0, 35, 213, 238, 240, 243, 235, 210, 33, 1, 0, 0, ...]</td>\n      <td>3016.0</td>\n    </tr>\n  </tbody>\n</table>\n<p>140424 rows \u00d7 4 columns</p>\n</div>",
                        "text/plain": "       codepoint                                          image_file_path  \\\n0        U+241C6  /home/spark/shared/kkanji2/U+241C6/c0d603c6ce4a4538.png   \n1        U+241C6  /home/spark/shared/kkanji2/U+241C6/689fa55040ec4f03.png   \n2        U+24FA3  /home/spark/shared/kkanji2/U+24FA3/4190e728bfc948e0.png   \n3        U+24FA3  /home/spark/shared/kkanji2/U+24FA3/80582798ed70ce7c.png   \n4        U+25DA1  /home/spark/shared/kkanji2/U+25DA1/512d7fcacddd25fd.png   \n...          ...                                                      ...   \n140419    U+FA55   /home/spark/shared/kkanji2/U+FA55/f03dee341d017a83.png   \n140420    U+FA55   /home/spark/shared/kkanji2/U+FA55/9bb329908332c929.png   \n140421    U+FA55   /home/spark/shared/kkanji2/U+FA55/9158bbb254b2ec88.png   \n140422    U+FA5C   /home/spark/shared/kkanji2/U+FA5C/15e2060396eba2b3.png   \n140423    U+FA5C   /home/spark/shared/kkanji2/U+FA5C/679e4b2f026f6297.png   \n\n                                                                                                                                                                                                                                                                                                                                                                             np_array  \\\n0                                                      [0, 0, 0, 0, 0, 0, 0, 0, 0, 0, 0, 0, 0, 0, 0, 0, 0, 1, 21, 32, 24, 3, 0, 0, 0, 0, 0, 0, 0, 0, 0, 0, 0, 0, 0, 0, 0, 0, 0, 0, 0, 0, 0, 0, 0, 0, 0, 0, 0, 0, 0, 0, 0, 0, 0, 0, 0, 0, 0, 0, 0, 0, 0, 0, 0, 0, 0, 0, 0, 0, 0, 0, 0, 0, 0, 0, 0, 0, 0, 0, 0, 12, 163, 206, 185, 104, 17, 1, 0, 0, 0, 0, 0, 0, 0, 0, 0, 0, 0, 0, ...]   \n1                                                                   [0, 0, 0, 0, 0, 0, 0, 0, 0, 0, 0, 0, 0, 0, 0, 0, 0, 0, 0, 0, 0, 0, 0, 0, 0, 0, 0, 0, 0, 0, 0, 0, 0, 0, 0, 0, 0, 0, 0, 0, 0, 0, 0, 0, 0, 0, 0, 0, 0, 0, 0, 0, 0, 0, 0, 0, 0, 0, 0, 0, 0, 0, 0, 0, 0, 0, 0, 0, 0, 0, 0, 0, 0, 0, 0, 0, 0, 0, 0, 0, 0, 0, 0, 0, 0, 0, 0, 0, 0, 0, 0, 0, 0, 0, 0, 0, 0, 0, 0, 0, ...]   \n2                                                                   [0, 0, 0, 0, 0, 0, 0, 0, 0, 0, 0, 0, 0, 0, 0, 0, 0, 0, 0, 0, 0, 0, 0, 0, 0, 0, 0, 0, 0, 0, 0, 0, 0, 0, 0, 0, 0, 0, 0, 0, 0, 0, 0, 0, 0, 0, 0, 0, 0, 0, 0, 0, 0, 0, 0, 0, 0, 0, 0, 0, 0, 0, 0, 0, 0, 0, 0, 0, 0, 0, 0, 0, 0, 0, 0, 0, 0, 0, 0, 0, 0, 0, 0, 0, 0, 0, 0, 0, 0, 0, 0, 0, 0, 0, 0, 0, 0, 0, 0, 0, ...]   \n3                                                                 [0, 0, 0, 0, 0, 0, 0, 0, 0, 0, 0, 0, 0, 0, 0, 0, 0, 0, 0, 0, 0, 0, 0, 0, 0, 0, 0, 0, 0, 0, 0, 0, 0, 0, 0, 0, 0, 56, 18, 0, 0, 0, 0, 0, 0, 0, 0, 0, 0, 0, 0, 0, 0, 0, 0, 0, 0, 0, 0, 0, 0, 0, 0, 0, 0, 0, 0, 0, 0, 0, 0, 0, 0, 0, 0, 0, 0, 0, 0, 0, 0, 0, 0, 0, 0, 0, 0, 0, 0, 0, 0, 0, 0, 0, 0, 0, 0, 0, 0, 0, ...]   \n4                                                                  [0, 0, 0, 0, 0, 0, 0, 0, 0, 0, 0, 0, 0, 0, 0, 0, 0, 0, 0, 0, 0, 0, 0, 0, 0, 0, 0, 0, 0, 0, 0, 0, 0, 0, 0, 0, 0, 0, 0, 0, 0, 0, 0, 0, 0, 0, 0, 0, 0, 0, 0, 0, 0, 0, 0, 0, 0, 0, 0, 0, 0, 0, 0, 0, 0, 0, 0, 0, 0, 0, 0, 0, 0, 0, 0, 0, 0, 0, 0, 0, 0, 0, 0, 0, 0, 0, 0, 0, 0, 0, 0, 0, 0, 0, 0, 0, 0, 0, 0, 13, ...]   \n...                                                                                                                                                                                                                                                                                                                                                                               ...   \n140419                                                   [0, 0, 0, 0, 0, 0, 0, 0, 0, 0, 0, 0, 0, 0, 0, 0, 0, 0, 0, 0, 0, 43, 90, 14, 0, 0, 0, 0, 0, 0, 0, 0, 0, 0, 0, 0, 0, 0, 0, 0, 0, 0, 0, 0, 0, 0, 0, 0, 0, 0, 0, 0, 0, 0, 0, 0, 0, 0, 0, 0, 0, 0, 0, 0, 0, 0, 0, 0, 0, 0, 0, 0, 0, 0, 0, 0, 0, 0, 0, 0, 0, 0, 0, 0, 33, 172, 182, 49, 0, 0, 0, 1, 24, 25, 0, 0, 0, 0, 0, 0, ...]   \n140420  [0, 0, 0, 0, 0, 0, 0, 0, 0, 0, 0, 0, 0, 20, 2, 4, 19, 9, 0, 11, 25, 20, 18, 39, 60, 40, 6, 0, 0, 0, 0, 0, 0, 0, 0, 0, 0, 0, 0, 0, 0, 0, 0, 0, 0, 0, 0, 0, 54, 175, 236, 255, 255, 255, 255, 255, 255, 255, 255, 255, 221, 25, 0, 0, 0, 0, 0, 0, 0, 0, 0, 0, 0, 0, 0, 0, 0, 0, 0, 39, 132, 154, 140, 188, 215, 203, 201, 230, 239, 205, 132, 58, 21, 2, 0, 0, 0, 0, 0, 0, ...]   \n140421                                            [0, 0, 0, 0, 0, 0, 0, 0, 0, 0, 0, 0, 0, 0, 0, 0, 0, 0, 0, 0, 0, 0, 0, 0, 0, 0, 12, 59, 110, 72, 22, 0, 0, 0, 0, 0, 0, 0, 0, 0, 0, 0, 0, 0, 0, 0, 0, 0, 0, 0, 0, 0, 0, 0, 0, 0, 0, 0, 0, 0, 0, 0, 0, 0, 0, 0, 0, 0, 0, 0, 0, 0, 0, 0, 0, 0, 0, 0, 0, 0, 0, 0, 0, 0, 0, 0, 0, 0, 4, 91, 188, 234, 248, 242, 176, 25, 0, 0, 0, 0, ...]   \n140422                                                        [0, 0, 0, 0, 0, 0, 0, 0, 0, 0, 0, 0, 0, 0, 0, 0, 0, 0, 0, 0, 0, 0, 0, 0, 0, 0, 0, 0, 0, 0, 0, 0, 0, 0, 0, 0, 0, 0, 0, 0, 7, 65, 151, 187, 57, 0, 0, 0, 0, 0, 0, 0, 0, 0, 0, 0, 0, 0, 0, 0, 0, 0, 0, 0, 0, 0, 0, 0, 0, 0, 0, 0, 0, 0, 0, 0, 0, 0, 0, 0, 0, 0, 0, 0, 0, 0, 0, 0, 0, 0, 0, 0, 0, 0, 0, 0, 0, 0, 0, 0, ...]   \n140423                                           [0, 0, 0, 0, 0, 0, 0, 0, 0, 0, 0, 0, 0, 0, 0, 0, 0, 0, 0, 0, 0, 0, 0, 0, 0, 0, 18, 27, 34, 50, 29, 6, 0, 0, 0, 0, 0, 0, 0, 0, 0, 0, 0, 0, 0, 0, 0, 0, 0, 0, 0, 0, 0, 0, 0, 0, 0, 0, 0, 0, 0, 0, 0, 0, 0, 0, 0, 0, 0, 0, 0, 0, 0, 0, 0, 0, 0, 0, 0, 0, 0, 0, 0, 0, 0, 0, 0, 0, 0, 35, 213, 238, 240, 243, 235, 210, 33, 1, 0, 0, ...]   \n\n        classIndex  \n0           2606.0  \n1           2606.0  \n2           2607.0  \n3           2607.0  \n4           3017.0  \n...            ...  \n140419      1041.0  \n140420      1041.0  \n140421      1041.0  \n140422      3016.0  \n140423      3016.0  \n\n[140424 rows x 4 columns]"
                    },
                    "execution_count": 63,
                    "metadata": {},
                    "output_type": "execute_result"
                }
            ],
            "source": "df_kanji2"
        },
        {
            "cell_type": "code",
            "execution_count": 64,
            "metadata": {},
            "outputs": [
                {
                    "data": {
                        "text/plain": "array([0, 0, 0, ..., 0, 0, 0], dtype=uint8)"
                    },
                    "execution_count": 64,
                    "metadata": {},
                    "output_type": "execute_result"
                }
            ],
            "source": "df_kanji2[\"np_array\"][0]"
        },
        {
            "cell_type": "code",
            "execution_count": 65,
            "metadata": {},
            "outputs": [
                {
                    "data": {
                        "text/plain": "numpy.ndarray"
                    },
                    "execution_count": 65,
                    "metadata": {},
                    "output_type": "execute_result"
                }
            ],
            "source": "type(df_kanji2[\"np_array\"][0])"
        },
        {
            "cell_type": "code",
            "execution_count": 66,
            "metadata": {},
            "outputs": [
                {
                    "name": "stdout",
                    "output_type": "stream",
                    "text": "[0 0 0 ... 0 0 0]\n"
                }
            ],
            "source": "print(df_kanji2[\"np_array\"][0])"
        },
        {
            "cell_type": "code",
            "execution_count": 67,
            "metadata": {},
            "outputs": [
                {
                    "name": "stdout",
                    "output_type": "stream",
                    "text": "[  0   0   0   0   0   0   0   0   0   0   0   0   0   0   0   0   0   1\n  21  32  24   3   0   0   0   0   0   0   0   0   0   0   0   0   0   0\n   0   0   0   0   0   0   0   0   0   0   0   0   0   0   0   0   0   0\n   0   0   0   0   0   0   0   0   0   0   0   0   0   0   0   0   0   0\n   0   0   0   0   0   0   0   0   0  12 163 206 185 104  17   1   0   0\n   0   0   0   0   0   0   0   0   0   0   0   0   0   0   0   0   0   0\n   0   0   0   0   0   0   0   0   0   0   0   0   0   0   0   0   0   0\n   0   0   0   0   0   0   0   0   0   0   0   0   0   0   0   0   0   0\n   0  40 223 255 255 240 173  58  14   3  19  16   1   0   0   0   0   0\n   0   0   0   0   0   0   0   0   0   0   0   0   0   0   0   0   0   0\n   0   0   0   0   0   0   0   0   0   0   0   0   0   0   0   0   0   0\n   0   0   0   0   0   0   0   0   0   0   0  12 140 231 242 249 239 113\n  22   1  39  31   0   0   0   0   0   0   0   0   0   0   0   0   0   0\n   0   0   0   0   0   0   0   0   0   0   0   0   0   0   0   0   0   0\n   0   0   0   0   0   0   0   0   0   0   0   0   0   8  29  11   5   0\n   0   0   0   0  17 103 152 231 255 189  74   0   7   8   0   0   0   0\n   0   0   0   0   0   0   0   0   0   0   0   0   0   0   0   0   0   0\n   0   0   0   0   0   0   0   0   0   0   0   0   0   0   0   0   0   0\n   0   0   0   0   0  13 119 185 166  74   7   0   0   0   6 118 216 252\n 255 252 195  52  12   0   0   0   0   0   0   0   0   0   0   0   0   0\n   0   0   0   0   0   0   0   0   0   0   0   0   0   0   0   0   0   0\n   0   0   0   0   0   0   0   0   0   0   0   0   0   0   0  22 169 255\n 250 207  96  21   0   0  30 208 255 255 255 255 251 191  99   5   0   0\n   0   0   0   0   0   0   0   0   0   0   0   0   0   0   0   0   0   0\n   0   0   0   0   0   0   0   0   0   0   0   0   0   0   0   0   0   0\n   0   0   0   0   0   0   2 113 242 245 220 254 245 175  31   1  18 158\n 248 255 255 255 255 254 175  33   9  14   2   0   0   0   0   0   0   0\n   0   0   0   0   0   0   0   0   0   0   0   0   0   0   0   0   0   0\n   0   0   0   0   0   0   0   0   0   0   0   0   0   0   0   0   1  97\n 240 255 255 255 255 240  76   4   2 105 238 255 255 255 255 255 222 133\n 131 145 100  25   0   0   0   0   0   0   0   0   0   0   0   0   0   0\n   0   0   0   1   7  13   3   1   0   0   0   0   0   0   0   0   0   0\n   0   0   0   0   0   0   0   0   0  37 209 255 255 255 255 253  87   2\n   1  88 226 255 255 255 255 255 255 255 255 255 252 151   0   0   0   0\n   0   0   0   0   0   0   0   0   0   0   0   0   7  60 120 113 102  87\n  50   1   0   0   0   0   0   0   0   0   0   0   0   0   0   0   0   0\n   0  30 165 252 251 255 253 200  43   0   0  28 151 248 255 255 255 255\n 255 255 255 255 255 192  11   0   0   0   0   0   0   0   0   2   1   0\n   0   0   0   1  50 150 224 230 236 240 212  70  15  18  19   4   0   0\n   0   0   0   0   0   0   0   0   0   0  16 130 208 250 255 255 235 112\n   7   0   0  40 163 249 255 255 255 255 255 255 255 255 255 239  88   6\n   0   0   0   0   0   0   1  62  72  35  23   3  16  49 124 226 255 255\n 246 218 248 216 165 186 198  57   1   0   0   0   0   0   0   0   0   0\n   0   7  96 236 254 255 255 255 232  87   0  11  40 160 248 255 255 255\n 255 255 255 255 251 255 255 255 206  47   2   0   0   0  15 108 161 231\n 237 225 199 153 179 224 239 252 255 255 252 209 214 244 231 219 217  61\n   3   0   0   0   0   0   0   0   0   0   0  59 224 255 255 255 255 255\n 250 157  60 135 192 243 255 255 255 255 255 255 255 254 232 255 255 255\n 247 118  13   0   0   0  68 218 255 255 255 253 255 255 255 255 255 255\n 239 206 171 126  97 175 252 250 227  90   9   0   0   0   0   0   0   0\n   0   0   6 164 254 255 255 255 255 255 253 228 226 251 254 254 252 255\n 255 255 255 255 255 255 253 255 255 255 253 203  55   0   0   0  10  88\n 186 254 253 241 241 230 167 142 169 135  56  16   8   4   2  93 222 237\n 142 131  79   9   0   0   0   0   0   0   0   0  42 236 255 255 255 255\n 255 255 255 255 255 255 255 255 255 255 255 255 255 255 255 255 255 255\n 255 255 255 249 103   2   0   0   0  14 104 229 214 139 112  69  24   7\n  12   2   0   0   0   0   0  54 201 239 168 237 182  33   0   0   0   0\n   0   0   0  52 164 253 255 255 255 255 255 255 255 255 255 255 255 255\n 255 255 255 255 239 188 138  92 134 237 255 255 255 252 144  10   0   0\n   0   0   7  54  36   0   0   0   0   0   0   0   0   0   0   0   0  13\n 120 221 244 255 158  21   0   0   0   0   0   0  16 189 250 255 255 255\n 255 255 255 255 255 255 255 253 254 255 255 255 255 246 156  28   9   0\n  70 217 255 255 255 255 191  23   0   0   0   0   0   0   0   0   0   0\n   0   0   0   0   0   0   0   0   0   0  15  67 152 237 218  62   1   0\n   0   0   0   0  63 235 255 255 255 255 255 255 255 255 255 255 250 209\n 206 245 255 255 232 150  34   0   0   0  69 218 255 255 255 255 189  21\n   0   0   0   0   0   0   0   0   0   0   0   0   0   0   0   0   0   0\n   0   0  12 100 193 255 254 186  22   0   0   0   0   0  73 241 255 255\n 255 255 255 255 255 255 246 230 182 154 183 249 255 238 122  37   4   0\n   0   9  84 213 255 255 255 255 196  24   0   0   0   0   0   0   0   0\n   0  19 106 119  51   3   0   0   0   0   0   0  61 228 254 255 255 227\n  59   0   0   0   0   2  98 246 255 255 255 255 255 255 240 199 131 118\n 106 150 232 255 246 182  46   0   0   0   0  22 120 224 255 255 255 255\n 197  25   0   0   0   0   0   0   3  20  41 147 251 255 209  66   0   0\n   0   0   0   0  56 224 255 255 255 239  86   1   0   0   0   7 135 251\n 255 255 255 237 223 174  84  20   8   8 106 199 254 255 239 128  10   0\n   0   0   0  14 119 230 255 255 255 255 215  38   0   0   0   0  15 110\n 189 215 206 243 247 236 233 187  62   4   0   0   0   0  50 208 255 255\n 254 205  55   0   0   0   0   1  93 245 254 210 172  86  52  34   4   0\n   0   0 175 252 255 255 255 146   1   0   0   0   1  32 157 250 246 251\n 255 255 248  91   0   0   0  19  90 180 231 250 245 244 191 163 229 243\n 173  39   0   0   0   0  40 191 254 255 254 214  64   2   0   0   0   0\n  20 122 106  16   5   1   0   0   0   0   0  10 229 255 255 255 242  95\n   0   0   0   0   0   6 113 221 184 197 255 255 255 134  41  61  53 153\n 232 219 209 237 254 254 250 242 254 245 189 109  15   0   0   0  38 216\n 255 255 255 252  91   5   0   0   0   0   0   9   5   0   0   0   0   0\n   0   0   0  37 249 255 255 255 204  31   0   0   0   0   0   1  72 218\n 242 247 255 255 255 202 201 222 187 227 254 254 255 255 255 255 255 255\n 255 255 255 221  55   0   0   0  19 188 254 255 255 242  73   0   0   0\n   0   0   0   0   0   0   0   0   0   0   0   0   5 114 255 255 255 247\n 164  17   0   0   0   3  25  23  52 177 226 243 255 255 255 244 255 255\n 233 237 229 190 205 223 226 239 254 255 255 255 254 180  21   0   0   0\n   2 109 241 255 255 249  86   0   0   0   0   0   0   0   0   0   0   0\n   0   0   0   0  29 193 255 255 254 183  53   2   1   0   1  36  85  30\n  25  98 147 189 247 255 255 255 252 248 247 242 191  75  45  91 160 226\n 254 255 255 255 223  83   0   0   0   0   3 145 251 255 255 255 130   5\n   0   0   0   0   0   0   0   0   0   0   0   0   0   0  74 230 255 255\n 255 163  44   2   4   0  22 162 199  57  63 151 221 244 255 255 255 255\n 218 137 119  88  33   0   3  88 226 255 255 255 255 254 174  20   0   0\n   0   0   4 153 252 255 255 255 165  10   0   0   0   0   0   0   0   0\n   0   0   0   0   2  27 153 249 255 255 251 150  29   1   1   7  50 220\n 182  86 130 218 254 255 255 250 252 250 172  31   7   4   0   0   4 112\n 245 255 255 255 241 172  50   2   0   0   0   0   1  52 162 238 255 245\n 111   8   0   0   0   0   0   0   0   0   0   0   0   0   6  87 236 255\n 255 255 228  86   1   0   6  68 175 255 178  58 160 245 255 255 255 248\n 248 253 178  14   0   0   0   0  20 164 252 255 241 241 163  53   0   0\n   0   0   0   0   0   4  69 211 255 248 104  13   0   0   0   0   0   0\n   0   0   0   0   0   0  32 170 253 255 255 254 203  62   3   0  24 164\n 246 255 178  66 195 254 255 255 228 226 224 242 153  10   0   0   0   0\n  16 123 243 255 253 253 157  27   0   0   0   0   0   0   0  34 155 240\n 255 255 192  34   0   0   0   0   0   0   0   0   0   0   0   4 117 246\n 255 255 255 251 158  43  17   2  33 235 255 237 120  44 188 222 212 214\n 156 203 223 222  85   3   0   0   0  19  49 143 246 255 255 255 131   4\n   0   0   0   0   0   0   0  51 220 255 255 255 214  39   0   0   0   0\n   0   0   0   0   0   0   0  47 212 255 255 255 255 245  92  10  32  62\n 152 252 254 184  75  36  55 117 169 214 198 240 255 242 129  31   1   0\n   5 143 225 255 255 255 255 255 111   2   0   0   0   0   0   0   0  38\n 201 254 255 255 163  16   0   0   0   0   0   0   0   0   0   0   9 143\n 249 255 255 255 255 242  53  12  72 204 250 255 254 227 113  65 150 233\n 252 240 201 236 253 249 210 198 173 127 116 209 254 255 255 255 255 255\n 202  80   2   0   0   0   0   0   0  22 178 255 255 255 194  34   0   0\n   0   0   0   0   0   0   0   0  13 180 255 255 255 255 255 252 194 165\n 210 252 255 255 255 255 145  74 151 221 212 210 191 202 231 210 168 222\n 252 255 255 255 255 255 255 255 255 255 255 204  54   3   0   0   0   0\n   0  13 148 255 255 255 230  74   0   0   0   0   0   0   0   0   0   7\n  69 208 255 255 255 255 255 255 254 252 255 255 255 255 255 249 142  95\n 171 219 174 178 197 235 231 177 128 175 206 215 249 255 255 255 255 255\n 255 255 213 172  63   5   0   0   0   0   0  13 102 221 255 255 228  60\n   0   0   0   0   0   0   0   0   3 106 213 253 255 255 255 255 255 255\n 255 255 255 255 255 255 254 185  61  51 156 207  77  42 150 237 232 185\n 141 151 151 160 217 232 213 209 220 228 218 204 132  53  10   0   0   0\n   0   0   0   2  38 201 254 255 226  55   0   0   0   0   0   0   0   8\n  91 241 254 255 255 255 255 255 255 255 255 255 255 255 255 255 251 121\n  28  12 122 241 170 110 184 250 242 193 109  50  21  18  64  80  47  44\n  34  24  22  19  11   3   0   0   0   0   0   0   0  29 131 241 254 254\n 197  34   0   0   0   0   0   0   0  78 213 255 255 255 255 255 255 255\n 255 255 255 255 255 255 255 255 242 119  57  41 134 253 255 245 240 249\n 171  75  33   2   0   0   0   4   1   0   0   0   0   0   0   0   0   0\n   0   0   0   0   0   8  96 242 253 239 126  12   0   0   0   0   0   0\n  25 201 254 249 253 255 255 255 255 255 255 255 255 255 255 255 255 255\n 252 158  84  97 180 255 255 255 255 253 180  47   1   0   2   9   2   0\n   0   0   0   0   0   0   0   0   0   0   0   0   0   0   0   0  97 247\n 252 220 139  42   0   0   0   0   0   2  68 241 254 239 253 255 249 217\n 231 255 255 255 255 255 255 255 255 255 255 201 101 143 221 255 254 254\n 255 255 219  73   0   0  21  36   6   0   0   0   0   0   0   0   0   0\n   0   0   0   0   0   0   0   0  71 212 255 247 210 107   0   0   0   0\n  12 110 205 254 255 251 255 255 229  93 110 234 255 255 255 255 255 255\n 255 255 252 140  46 139 237 251 208 206 252 255 234  93   0   0   8   9\n   0   0   0   0   0   0   0   0   0   0   0   0   0   0   0   0   0   0\n  77 246 255 255 255 193   0   0   0   6  80 208 253 255 255 255 255 252\n 155  28  28 153 250 255 255 255 255 255 255 255 224  62  27 176 247 253\n 226 230 244 252 209  67   0   0   5   8   1   0   0   0   0   0   0   0\n   0   0   0   0   0   0   0   0   0   7 128 255 255 255 255 183   0   0\n   0  51 144 176 184 240 255 255 251 189  50   0   0  27 168 251 255 255\n 255 255 255 255 228  76  94 238 255 255 254 223 163 208 167  51   0   1\n  44  63  23  31  14   0   0   0   0   0   0   0   0   0   0   0   0   0\n   0   5 103 243 255 255 255 170   0   0  27 128 159 153 121 170 196 248\n 240 113  12   0   0   0  46 204 255 255 255 255 255 255 253 172 188 255\n 255 255 253 207  86  79  64  15   5  41 140 113  35  35  31  30  28  24\n  72 113 118 118  88  44  18   5   0   0   0   0  68 247 255 255 242 115\n   0   4 129 229 217 238 230 229 243 255 247 111   5   0   0   0   9 121\n 255 255 255 255 255 252 240 234 250 237 215 250 244 165  91  71  97 101\n 122 207 235 143  83  77 131 207 202 176 212 250 254 252 247 223 172  99\n   9   0   0   2 100 233 255 255 237 104   0  65 231 243 231 250 255 253\n 255 250 196  43   0   0   0   0   1  52 194 248 255 255 255 248 221 239\n 255 240 220 248 253 197 187 240 248 249 250 244 187 126 116 140 204 255\n 254 239 228 233 243 255 255 255 254 230 108   8   0   8 129 253 255 255\n 254 144   0 115 255 247 247 205 219 218 218 176  55   1   0   0   0   0\n   0   2  39 152 250 255 255 255 230 181 215 255 253 250 255 241 217 249\n 255 255 255 245 166 107  96 187 249 255 255 255 255 255 255 255 255 255\n 255 254 231 101  15  28 130 238 255 255 255 166   4 125 251 255 255 227\n 242 255 255 225  55   0   0   0   0   0   0   0   0  58 232 255 255 233\n 143  24  54 208 246 250 255 255 255 255 255 254 223 191 206 170  81 154\n 229 250 249 220 225 255 255 255 255 255 255 255 255 238 169 154 169 242\n 255 255 253 159  19 165 252 254 255 255 252 252 250 211  49   0   0   0\n   0   0   0   0   0  30 172 245 226 119  31   0  36 203 252 255 255 255\n 255 255 255 249 158  88 157 192 161 149 112 173 198 133 112 161 145 123\n 121 188 248 255 255 255 253 244 237 255 255 255 250 155  26 184 255 250\n 252 251 220 212 154  34   0   0   0   0   0   0   0   0   0   0  28 113\n  71   2   0   0  10 123 237 255 255 255 255 255 255 245 143  71 109 110\n  65  23   0  17  39  11   1  11   2   0   0  31 180 253 255 233 246 255\n 255 255 255 255 248 145  81 230 255 255 255 254 250 218  84   0   0   0\n   0   0   0   0   0   0   0   0   0  10   6   0   0   0   1  24 148 244\n 255 255 255 255 255 180  34   4   9   6   0   0   0   0   0   0   0   0\n   0   0   0   9 133 249 255 134 118 210 251 255 251 236 231 124 111 246\n 255 255 255 252 218 131  16   0   0   0   0   0   0   0   0   0   0   0\n   0   0   0   0   0   0   0   0 104 239 255 255 255 255 244 125   9   0\n   0   0   0   0   0   0   0   0   0   0   0   0   0   2  76 226 255 171\n  90 115 228 255 253 251 249 150 106 240 255 255 255 235 102   9   0   0\n   0   0   0   0   0   0   0   0   0   0   0   0   0   0   0   0   0   0\n  79 219 228 201 108  94  65  15   1   0   0   0   0   0   0   0   0   0\n   0   0   0   0   0   0  11 131 253 244 220 189 239 255 254 250 241 104\n 152 254 255 255 255 221  51   0   0   0   0   0   0   0   0   0   0   0\n   0   0   0   0   0   0   0   0   0   0  31  64  57  20   0   0   0   0\n   0   0   0   0   0   0   0   0   0   0   0   0   0   0   0   0   0  72\n 218 255 255 255 255 255 253 246 236  72 160 255 255 255 255 171  20   0\n   0   0   0   0   0   0   0   0   0   0   0   0   0   0   0   0   0   0\n   0   0   0   0   0   0   0   0   0   0   0   0   0   0   0   0   0   0\n   0   0   0   0   0   0   0   0   0  14 118 242 255 255 255 255 255 255\n 244 112 125 250 255 255 253 102   1   0   0   0   0   0   0   0   0   0\n   0   0   0   0   0   0   0   0   0   0   0   0   0   0   0   0   0   0\n   0   0   0   0   0   0   0   0   0   0   0   0   0   0   0   0   0   0\n   0   1  26 164 245 255 255 255 255 255 254 161  35 177 231 247 210  36\n   0   0   0   0   0   0   0   0   0   0   0   0   0   0   0   0   0   0\n   0   0   0   0   0   0   0   0   0   0   0   0   0   0   0   0   0   0\n   0   0   0   0   0   0   0   0   0   0   0   0   0  57 191 255 255 255\n 255 255 254 161   1  26  88 164 153  14   0   0   0   0   0   0   0   0\n   0   0   0   0   0   0   0   0   0   0   0   0   0   0   0   0   0   0\n   0   0   0   0   0   0   0   0   0   0   0   0   0   0   0   0   0   0\n   0   0   0   0   0   6  73 241 255 255 255 255 255 178   0   0   0  27\n  30   1   0   0   0   0   0   0   0   0   0   0   0   0   0   0   0   0\n   0   0   0   0   0   0   0   0   0   0   0   0   0   0   0   0   0   0\n   0   0   0   0   0   0   0   0   0   0   0   0   0   0   0   0   5 145\n 248 255 255 255 250 159   0   0   0   0   0   0   0   0   0   0   0   0\n   0   4  25  23   8   0   0   0   0   0   0   0   0   0   0   0   0   0\n   0   0   0   0   0   0   0   0   0   0   0   0   0   0   0   0   0   0\n   0   0   0   0   0   0   0   0   0  54 213 255 255 247 156  50   0   0\n   0   0   0   0   0   0   0   0   0   0   3  73 194 193 124  21   0   0\n   0   0   0   0   0   0   0   0   0   0   0   0   0   0   0   0   0   0\n   0   0   0   0   0   0   0   0   0   0   0   0   0   0   0   0   0   0\n   0  10  77 232 250 157  18   0   0   0   0   0   0   0   0   0   0   0\n   0   0   6  99 181 184 173  95   0   0   0   0   0   0   0   0   0   0\n   0   0   0   0   0   0   0   0   0   0   0   0   0   0   0   0   0   0\n   0   0   0   0   0   0   0   0   0   0   0   0  11 101  93  16   0   0\n   0   0   0   0   0   0   0   0   0   0   0   0   0   0   0   0   0   0\n   0   0   0   0   0   0   0   0   0   0   0   0   0   0   0   0   0   0\n   0   0   0   0   0   0   0   0   0   0   0   0   0   0   0   0   0   0\n   0   0   0   0   0   0   0   0   0   0]\n"
                }
            ],
            "source": "np.set_printoptions(threshold=np.inf)\nprint(df_kanji2[\"np_array\"][0])"
        },
        {
            "cell_type": "code",
            "execution_count": 68,
            "metadata": {},
            "outputs": [
                {
                    "data": {
                        "text/plain": "4096"
                    },
                    "execution_count": 68,
                    "metadata": {},
                    "output_type": "execute_result"
                }
            ],
            "source": "df_kanji2[\"np_array\"][0].size"
        },
        {
            "cell_type": "code",
            "execution_count": 69,
            "metadata": {},
            "outputs": [
                {
                    "data": {
                        "text/plain": "numpy.ndarray"
                    },
                    "execution_count": 69,
                    "metadata": {},
                    "output_type": "execute_result"
                }
            ],
            "source": "type(df_kanji2[\"np_array\"][0])"
        },
        {
            "cell_type": "code",
            "execution_count": 70,
            "metadata": {},
            "outputs": [
                {
                    "data": {
                        "text/plain": "(140424,)"
                    },
                    "execution_count": 70,
                    "metadata": {},
                    "output_type": "execute_result"
                }
            ],
            "source": "df_kanji2['np_array'].shape"
        },
        {
            "cell_type": "code",
            "execution_count": 71,
            "metadata": {},
            "outputs": [
                {
                    "data": {
                        "text/plain": "(4096,)"
                    },
                    "execution_count": 71,
                    "metadata": {},
                    "output_type": "execute_result"
                }
            ],
            "source": "df_kanji2['np_array'][0].shape"
        },
        {
            "cell_type": "code",
            "execution_count": 72,
            "metadata": {},
            "outputs": [],
            "source": "images_kanji = df_kanji2[\"np_array\"].to_numpy()"
        },
        {
            "cell_type": "code",
            "execution_count": 73,
            "metadata": {},
            "outputs": [],
            "source": "labels_kanji = df_kanji2[\"classIndex\"].to_numpy()"
        },
        {
            "cell_type": "code",
            "execution_count": 74,
            "metadata": {},
            "outputs": [
                {
                    "data": {
                        "text/plain": "(140424,)"
                    },
                    "execution_count": 74,
                    "metadata": {},
                    "output_type": "execute_result"
                }
            ],
            "source": "images_kanji.shape"
        },
        {
            "cell_type": "code",
            "execution_count": 75,
            "metadata": {},
            "outputs": [
                {
                    "data": {
                        "text/plain": "(4096,)"
                    },
                    "execution_count": 75,
                    "metadata": {},
                    "output_type": "execute_result"
                }
            ],
            "source": "images_kanji[0].shape"
        },
        {
            "cell_type": "code",
            "execution_count": 76,
            "metadata": {},
            "outputs": [
                {
                    "name": "stdout",
                    "output_type": "stream",
                    "text": "(140424,)\n"
                }
            ],
            "source": "print(images_kanji.shape)"
        },
        {
            "cell_type": "code",
            "execution_count": 77,
            "metadata": {},
            "outputs": [
                {
                    "data": {
                        "text/plain": "numpy.ndarray"
                    },
                    "execution_count": 77,
                    "metadata": {},
                    "output_type": "execute_result"
                }
            ],
            "source": "type(images_kanji)"
        },
        {
            "cell_type": "code",
            "execution_count": 78,
            "metadata": {},
            "outputs": [
                {
                    "data": {
                        "text/plain": "numpy.ndarray"
                    },
                    "execution_count": 78,
                    "metadata": {},
                    "output_type": "execute_result"
                }
            ],
            "source": "type(images_kanji[0])"
        },
        {
            "cell_type": "code",
            "execution_count": 79,
            "metadata": {},
            "outputs": [],
            "source": "images_kanji = np.stack(images_kanji)"
        },
        {
            "cell_type": "code",
            "execution_count": 80,
            "metadata": {},
            "outputs": [
                {
                    "data": {
                        "text/plain": "(140424, 4096)"
                    },
                    "execution_count": 80,
                    "metadata": {},
                    "output_type": "execute_result"
                }
            ],
            "source": "images_kanji.shape"
        },
        {
            "cell_type": "code",
            "execution_count": 81,
            "metadata": {},
            "outputs": [
                {
                    "data": {
                        "text/plain": "(140424,)"
                    },
                    "execution_count": 81,
                    "metadata": {},
                    "output_type": "execute_result"
                }
            ],
            "source": "labels_kanji.shape"
        },
        {
            "cell_type": "code",
            "execution_count": 82,
            "metadata": {},
            "outputs": [],
            "source": "x_train_kanji, x_test_kanji, y_train_kanji, y_test_kanji = train_test_split(images_kanji, labels_kanji, test_size = 0.2, random_state=42)\nx_train_kanji, x_val_kanji, y_train_kanji, y_val_kanji = train_test_split(x_train_kanji, y_train_kanji, test_size = 0.2, random_state=42)"
        },
        {
            "cell_type": "code",
            "execution_count": 83,
            "metadata": {},
            "outputs": [
                {
                    "data": {
                        "text/plain": "(89871, 4096)"
                    },
                    "execution_count": 83,
                    "metadata": {},
                    "output_type": "execute_result"
                }
            ],
            "source": "x_train_kanji.shape"
        },
        {
            "cell_type": "code",
            "execution_count": 84,
            "metadata": {},
            "outputs": [
                {
                    "data": {
                        "text/plain": "(28085, 4096)"
                    },
                    "execution_count": 84,
                    "metadata": {},
                    "output_type": "execute_result"
                }
            ],
            "source": "x_test_kanji.shape"
        },
        {
            "cell_type": "code",
            "execution_count": 85,
            "metadata": {},
            "outputs": [
                {
                    "data": {
                        "text/plain": "(22468, 4096)"
                    },
                    "execution_count": 85,
                    "metadata": {},
                    "output_type": "execute_result"
                }
            ],
            "source": "x_val_kanji.shape"
        },
        {
            "cell_type": "code",
            "execution_count": 86,
            "metadata": {},
            "outputs": [
                {
                    "name": "stdout",
                    "output_type": "stream",
                    "text": "[  0   0   0   0   0   0  17  55  11   0   0   0   0   0   0   0   0   0\n   0   0   0   0   0   0   0   0   0   0   0   0   0   0   0   0   0   0\n   0   0   0   0   0   0   0   0   2  93 158 148 103  85  60  77 131 140\n 130 103  86  24   2   0   0   0   0   0   0   0   0   0   0   0   0   0\n   0   0   0   0   0   0   0   0   0   0   0   0   0   0   0   0   0   0\n   0   0   0   0   0   0   0   0   0   0   0   0   0   0   0   0   0   2\n  39 189 245 242 226 224 207 212 244 244 239 219 219 121  20   0   0   0\n   0   0   0   0   0   0   0   0   0   0   0   0   0   0   0   0   0   0\n   0   0   0   0   0   0   0   0   0   0   0   0   0   0   0   5  38 106\n 121 110  91  68  34  25  26  37  59  85 133 249 255 255 255 254 216 194\n 241 246 230 236 222 109  19   0   0   0   0   0   0   0   0   0   0   0\n   0   0   0   0   0   0   0   0   0   0   0   0   0   0   0   0   0   0\n   0   0   0   0   0   0   1  61 187 247 255 251 234 223 204 189 183 177\n 192 206 225 255 255 255 255 246 154 138 213 185 139 171 123  16   0   0\n   0   0   0   0   0   0   0   0   0   0   0   0   0   0   0   0   0   0\n  79  69   7   0   0   0   0   0   0   0   0   0   0   0   0   0  32 166\n 250 255 255 255 255 255 255 253 252 248 251 252 254 255 255 255 255 243\n 210 213 225 199 166 108  29   0   0   0   0   0   0   0   0   0   0   0\n   0   0   0   0   0   0   0   0   0   0 121 180  83  21   0   0   0   0\n   0   0   0   0   0   0   0   0  64 199 255 255 255 255 255 255 255 255\n 255 255 255 255 255 255 255 255 255 255 255 255 255 255 232 125  17   0\n   0   0   0   0   0   0   0   0   0   0   0   0   0   0   0   0   0   0\n   0   0 122 238 223 132  32   0   0   0   0   0   0   0   0   0   0   0\n  64 197 255 255 255 255 255 255 255 255 255 255 255 255 255 255 255 255\n 255 255 252 252 255 255 247 156  26   0   0   0   0   0   0   0   0   0\n   0   0   0   0   0   0   0   0   0   0   0   0  58 199 252 239 177  23\n   0   0   0   0   0   0   0   0   0   0  21 153 248 255 255 255 255 255\n 255 255 255 247 247 255 255 241 186 224 246 253 244 250 255 251 215 116\n  19   0   0   0   0   0   0   0   0   0   0   0   0   0   0   0   0   0\n   0   0   0   0  19 128 230 244 213  64   0   0   0   0   0   0   0   0\n   0   0  18 139 241 255 255 255 255 255 255 255 255 206 185 231 244 199\n 113 131 191 236 244 233 215 164  87  25   2   0   0   0   0   0   0   0\n   0   0   0   0   0   0   0   0   0   0   0   0   0   0  17 104 201 204\n 161  52   0   0   0   0   0   0   0   0   1   7  54 174 250 255 255 255\n 255 248 243 239 208 148 104  87  98  93  70  68 129 192 181 113  47  16\n   4   0   0   0   0   0   0   0   0   0   0   0   0   0   0   0   0   0\n   0   0   0   0   0  10 116 229 243 210 134  49   5   0   0   0   0   0\n   0   0  16  64 116 203 255 255 255 255 251 182 129  99  44  22   7   0\n  12  20   7  12  52  81  27   0   0   0   0   0   0   0   0   0   0   0\n   0   0   0   0   0   0   0   0   0   0   0   0   0   1   8  99 229 255\n 255 252 223 112  15   0   0   0   0   0   0   0  42 113 135 207 255 255\n 255 255 235 107  18   8   0   0   0   0   0   0   0   0   6  11   1   0\n   0   0   0   0   0   0   0   0   0   0   0   0   0   0   0   0   0   0\n   0   0   0   0   7  55 148 225 255 255 255 255 241  74   3   0   0   0\n   0   0   0   5  58 115 152 229 255 255 255 255 237  95   0   0   0   0\n   0   0   0   0   0   0   0   0   0   0   0   0   0   0   0   0   0   0\n   0   0   0   0   0   0   0   0   0   0   0   0   0   5  73 192 246 255\n 255 255 255 251 201  44   0   0   0   0   0   0   4  45 136 201 224 251\n 255 255 255 255 238 102   0   0   0   0   0   0   0   0   0   0   0   0\n   0   0   0   0   0   0   0   0   0   0   0   0   0   0   0   0   0   0\n   0   0   0   0   0  38 191 254 255 255 255 255 248 181  67   3   0   0\n   0   0   0   2  47 150 241 254 255 255 255 255 255 255 246 133   5   0\n   0   0   0   0   0   0   0   0   0   0   0   0   0   0   0   0   0   0\n   0   0   0   0   0   0   0   0   0   0   0   0   0   0  17 131 239 255\n 255 255 255 253 179  54   6   0   0   0   0   0   0  19 137 226 254 255\n 255 255 255 255 255 255 252 156   9   0   0   0   0   0   0   0   0   0\n   0   0   0   0   0   0   0   0   0   0   0   0   0   0   0   0   0   0\n   0   0   0   0   0  12  99 232 255 255 255 255 249 181  50   0   0   0\n   0   0   0   0  13  89 239 255 255 255 241 215 217 252 255 255 253 170\n  15   0   0   0   0   0   0   0   0   0   0   0   0   0   0   0   0   0\n   0   0   0   0   0   0   0   0   0   0   0   0   0   0   3  72 226 255\n 255 255 255 255 203  54   2   0   0   0   0   0   0   1  62 198 254 255\n 250 210 108  51  88 221 255 254 235 160  21   0   0   0   0   0   0   0\n   0   0   0   0   0   0   0   0   0   0   0   0   0   0   0   0   0   0\n   0   0   0   0   0   0  35 155 246 255 255 255 255 239 131  17   0   0\n   0   0   0   0   0  14 146 248 255 255 220  95  26   2  38 187 255 246\n 179 126  11   0   0   0   2  39  47   6   1   0   0   0   0   0   0   0\n   0   0   0   0   0   0   0   0   0   0   0   0   0   0   0   3  86 218\n 253 255 255 255 255 216  91   1   0   0   0   0   0   0  18 135 234 255\n 255 244 143  36   3   0  40 187 250 242 203 191  82  11   9  19  33 128\n 186 149 107  23   2   0   0   0   0   0   0   0   0   0   0   0   0   0\n   0   0   0   0   0   0   0  26 168 254 255 255 255 255 255 247 144  16\n   0   0   0   0   0   7  96 228 255 255 248 176  54   5   5  14  89 235\n 255 255 254 255 205 100  89 132 157 204 248 243 208  95  32  15   0   0\n   0   0   0   0   0   0   0   0   0   0   0   0   0   0   0   0   0  58\n 219 255 255 255 255 255 255 255 232 128  22   0   0   0   1  55 183 251\n 250 237 147  36   3   0  30  60  94 240 255 255 255 255 248 216 216 235\n 236 247 255 255 250 140  95  63  11   0   0   0   0   0   0   0   0   0\n   0   0   0   0   0   0   0   0   4 100 233 255 255 255 255 255 255 255\n 253 223  92   0   0   1  32 135 227 253 191 104  31   0   0   0  18  47\n  74 218 255 255 255 255 255 240 234 253 255 255 255 251 212 105  69  50\n   9   0   0   0   0   0   0   0   0   0   0   0   0   0   0   0   0   0\n   8 148 245 255 255 255 255 255 255 255 255 255 175  17   2  30 133 234\n 253 248 126  22   0   0   0   0   4  39  60 182 247 255 255 255 255 253\n 253 255 255 255 253 220 116  54  30  12   1   0   0   0   0   0   0   0\n   0   0   0   0   0   0   0   0   0   0  10 174 255 255 255 255 255 255\n 255 255 255 255 239  97  62 147 233 255 255 219  66   0   0   0   0   0\n   2  35  39 121 211 253 255 255 255 255 255 255 254 235 196 124  48  19\n   0   0   0   0   0   0   0   0   0   0   0   0   0   0   0   0   0   0\n   0   0   6 125 240 255 255 255 255 255 255 255 255 255 252 226 217 238\n 254 255 245 137  14   0   0   0   0   0   2  37  30  74 161 247 255 255\n 255 255 255 254 222 156 115  82  30   3   0   0   0   0   0   0   0   0\n   0   0   0   0   0   0   0   0   0   0   0   0   0  29 143 219 246 254\n 255 255 255 255 255 255 255 255 255 255 255 253 193  37   0   0   0   0\n   0   1   4  31  28  62 138 243 255 255 255 255 250 183 104  74  92  85\n  34   2   0   0   0   0   0   0   0   0   0   0   0   0   0   0   0   0\n   0   0   0   0   0   0  21  86 164 218 255 255 255 255 255 255 255 255\n 255 255 255 245 154  39   0   0   0   0   0   2   5   2  35  91 170 247\n 255 255 255 255 244 137  49  32  62  82  48   4   0   0   0   0   0   0\n   0   0   0   0   0   0   0   0   0   0   0   0   0   0   0   0   1   7\n  20  79 186 250 255 255 255 255 255 255 255 255 251 187  81  28   0   0\n   0   0   0   2   1   0  16  85 198 254 255 255 255 255 241 120  27   3\n  14  34  21   1   0   0   0   0   0   0   0   0   0   0   0   0   0   0\n   0   0   0   0   0   0   0   0   0   0   0   6  92 230 255 255 255 255\n 255 255 255 250 190  50   1   0   0   0   0   0   0   0   0   0   0  46\n 170 250 255 255 255 255 224  83   5   0   0   0   0   0   0   0   0   0\n   0   0   0   0   0   0   0   0   0   0   0   0   0   0   0   0   0   0\n   0   0   0   4  83 230 255 255 255 255 255 255 255 223  87   4   0   0\n   0   0   0   0   0   0   0   0   0  25 139 245 255 255 255 255 199  70\n  24   2   0   0   0   0   0   0   0   0   0   0   0   0   0   0   0   0\n   0   0   0   0   0   0   0   0   0   0   0   0   0   9 108 233 255 255\n 255 255 255 255 254 113  14   0   0   0   0   0   0   0   0   0   0   0\n   6  52 154 246 255 255 255 255 171  90  95  61  25   1   0   0   0   0\n   0   0   0   0   0   0   0   0   0   0   0   0   0   0   0   0   0   0\n   0   0   0   0   0  42 133 158 198 244 255 255 255 255 232  40   0   0\n   0   0   0   0   0   0   0   0   0   3  17 101 213 253 255 255 255 243\n 134  80 105 122 116  68  32   3   0   0   0   0   0   0   0   0   0   0\n   0   0   0   0   0   0   0   0   0   0   0   0   0   0   6 116 186 120\n 113 177 248 255 249 178  92   1   0   0   0   0   0   0   0   0   0   0\n   0  10  68 188 254 255 255 255 243 156  65  54  70  90 101  85  70  22\n   2   0   0   0   0   0   0   0   0   0   0   0   0   0   0   0   0   0\n   0   0   0   0   0   1  57 211 248 189 169 211 246 255 225  85   6   0\n   0   0   0   0   0   0   0   0   0   0   0  29 152 248 255 255 255 255\n 194  45  29  68  72  83  84  84  84  41   6   0   0   0   0   0   0   0\n   0   0   0   0   0   0   0   0   0   0   0   0   0   0   0  19 149 249\n 255 250 250 254 255 249 180  44   0   0   0   0   0   0   0   0   0   0\n   0   1  18  88 213 255 255 255 255 254 189  94 123 157 156 177 177 142\n 111  38   4   0   0   0   0   0   0   0   0   0   0   0   0   0   0   0\n   0   0   0   0   0   0   3  69 206 254 255 255 255 255 250 185  71   5\n   0   0   0   0   0   0   0   0   0   0   0  10  85 206 248 255 255 255\n 251 246 218 203 234 243 237 250 249 218 182 127  59   6   0   0   0   0\n   0   0   0   0   0   0   0   0   0   0   0   0   0   0   0   0  31 151\n 247 255 255 255 255 255 241 133  17   0   0   0   0   0   0   0   0   0\n   0   0   1  20 139 254 255 255 255 255 246 218 212 241 255 255 253 251\n 252 251 248 234 159  24   0   0   0   0   0   0   0   0   0   0   0   0\n   0   0   0   0   0   0   0   3  79 223 255 255 255 255 255 255 215  70\n   4   0   0   0   0   0   0   0   0   0   0   0  31  90 207 255 255 255\n 255 254 252 241 196 229 238 213 133  64  86 168 246 247 199  71  17  10\n   0   0   0   0   0   0   0   0   0   0   0   0   0   0   0   0   0  27\n 155 253 255 255 255 255 255 242 144  26   0   0   0   0   0   0   0   0\n   0   0   0   0  50 168 239 255 255 255 255 255 255 254 219 196 139  66\n  23   4  14  58 153 185 177 137 122  90  18   0   0   0   0   0   0   0\n   0   0   0   0   0   0   0   0  14 115 225 255 255 255 255 255 252 177\n  61   1   0   0   0   0   0   0   0   0   0   0   1  35 131 233 253 235\n 253 255 255 255 255 255 230 148  37   2   0   0   0   2  19  59 162 223\n 236 212 129  24   1   0   0   0   0   0   0   0   0   0   0   0   0  11\n  93 212 252 255 255 255 255 255 225 100  13   0   0   0   0   0   0   0\n   0   0   0   0  13 120 228 254 254 233 249 255 255 255 255 246 175  61\n   2   0   0   0   0   0   0  17 164 251 255 255 243 132  17   0   0   0\n   0   0   0   0   0   0   0   0   1  58 195 253 255 255 255 255 254 244\n 120  22   0   0   0   0   0   0   0   0   0   0   0   1  98 219 254 255\n 255 254 255 255 255 254 231 144  51   6   0   0   0   0   0   0   0   4\n  61 152 242 255 255 221 117  48  16   0   0   0   0   0   0   0   0   0\n  11 124 241 255 255 255 255 254 227 130  24   0   0   0   0   0   0   0\n   0   0   0   0   0  31 205 255 255 255 255 255 255 255 255 239 114  18\n   0   0   0   0   0   0   0   0   0   0   0  18 152 226 246 252 225 190\n 117   2   0   0   0   0   0   0   0   0  21 168 251 255 255 255 255 234\n 135  28   0   0   0   0   0   0   0   0   0   0   0   0  10  94 250 255\n 255 255 255 255 255 255 228 142  28   1   0   0   0   0   0   0   0   0\n   0   0   0   3  68 172 237 255 255 255 189  27   0   0   0   0   0   0\n   0   0  64 214 255 255 255 254 244 158  37   0   0   0   0   0   0   0\n   0   0   0   0   0   0  54 200 254 255 255 255 255 255 255 212  82   7\n   0   0   0   0   0   0   0   0   0   0   0   0   0   0  12 100 217 255\n 255 255 238 148  49  13   3   0   0   0   0  13 113 235 255 255 255 255\n 250 136  17   0   0   0   0   0   0   0   0   0   0   0   0   2  73 221\n 255 255 255 255 255 255 227 108  13   0   0   0   0   0   0   0   0   0\n   0   0   0   0   0   0   0  42 169 255 255 255 255 247 172 103  36   2\n   0   0   6  77 189 248 255 255 255 244 171  48   1   0   0   0   0   0\n   0   0   0   0   0   0   6  65 150 236 255 255 255 255 252 217 119  19\n   0   0   0   0   0   0   0   0   0   0   0   0   0   0   0   0   0   3\n  61 150 211 254 255 255 250 225 129  26   2   0  24 148 248 255 255 255\n 248 180  35   2   0   0   0   0   0   0   0   0   0   0   0   2  55 184\n 246 255 255 255 255 253 197  94  20   0   0   0   0   0   0   0   0   0\n   0   0   0   0   0   0   0   0   0   0   3  21 119 237 255 255 255 254\n 218 116  25   2  46 208 251 255 255 255 227  65   2   0   0   0   0   0\n   0   0   0   0   0   0   2  77 181 246 255 255 255 255 244 161  55  10\n   0   0   0   0   0   0   0   0   0   0   0   0   0   0   0   0   0   0\n   0   0   0   0 101 210 244 249 227 248 249 208 118  23  53 220 254 255\n 255 248 159   4   0   0   0   0   0   0   0   0   0   0   0   0  47 206\n 255 255 255 255 255 249 169  34   0   0   0   0   0   0   0   0   0   0\n   0   0   0   0   0   0   0   0   0   0   0   0   0   0  67 134 145 157\n 136 173 206 233 203  48  53 217 254 255 253 202  66   1   0   0   0   0\n   0   0   0   0   0   0   0   0  76 242 255 255 255 255 255 204  69   1\n   0   0   0   0   0   0   0   0   0   0   0   0   0   0   0   0   0   0\n   0   0   0   0   0   0  48 120 153 185 192 202 226 252 243  67  30 142\n 234 251 236 116  17   0   0   0   0   0   0   0   0   0   0   0   0   0\n  24 169 250 255 255 253 198  56   3   0   0   0   0   0   0   0   0   0\n   0   0   0   0   0   0   0   0   0   0   0   0   0   0  13  11  58 131\n 198 253 254 254 254 255 255  75   3  29 105 151 131  29   0   0   0   0\n   0   0   0   0   0   0   0   0   0   0   0  63 202 245 219 169  63   4\n   0   0   0   0   0   0   0   0   0   0   0   0   0   0   0   0   0   0\n   0   0   0   0   0   6  42  45  63  93 163 255 255 255 255 255 255  76\n   0   0   5  12  12   0   0   0   0   0   0   0   0   0   0   0   0   0\n   0   0   0  13  95 130  75  16   3   0   0   0   0   0   0   0   0   0\n   0   0   0   0   0   0   0   0   0   0   0   0   0   0   2  23  57  58\n  46  71 157 255 255 255 255 255 255  76   0   0   0   0   0   0   0   0\n   0   0   0   0   0   0   0   0   0   0   0   0   0   0   0   0   0   0\n   0   0   0   0   0   0   0   0   0   0   0   0   0   0   0   0   0   0\n   0   0   0   0   3   9  25  46  61  39  23  86 154 249 255 255 255 255\n 255  76   0   0   0   0   0   0   0   0   0   0   0   0   0   0   0   0\n   0   0   0   0   0   0   0   0   0   0   0   0   0   0   0   0   0   0\n   0   0   0   0   0   0   0   0   0   0   0   0   0  11  29  47  45  40\n  36  25  17  75 123 200 249 255 255 255 255  76   0   0   0   0   0   0\n   0   0   0   0   0   0   0   0   0   0   0   0   0   0   0   0   0   0\n   0   0   0   0   0   0   0   0   0   0   0   0   0   0   0   0   0   0\n   0   0   0   0   0   6  21  38  37  22  11  21   5  26  55 133 236 255\n 255 255 255  76   0   0   0   0   0   0   0   0   0   0   0   0   0   0\n   0   0   0   0   0   0   0   0   0   0   0   0   0   0   0   0   0   0\n   0   0   0   0   0   0   0   0   0   0   0   0   0   0   0   0   0   5\n   7   1   2  16   4   5   9  91 229 255 255 255 255  76   0   0   0   0\n   0   0   0   0   0   0   0   0   0   0   0   0   0  10  64  71  37   6\n   0   0   0   0   0   0   0   0   0   0   0   0   0   0   0   0   0   0\n   0   0   0   0   0   0   4   1   0   0   0   0   0   7   2  19  12  43\n 185 252 255 255 255  76   0   0   0   0   0   0   0   0   0   0   0   0\n   0   0   0   0   1  62 199 228 181  80  18   0   0   0   0   0   0   0\n   0   0   0   0   0   0   0   0   0   0   0   0   0   1   1   4  23   4\n   0   0   0   0   5   9   2  29  14  26 153 251 255 255 255  76  10  20\n  27  16   8   2   0   0   0   0   0   0   0   0   0   0   0  59 216 254\n 242 192 112  37  11   7   0   0   0   0   0   0   0   0   0   0   0   0\n   0   0   0   0   0   0   0   1   6   3   6  13  18  15  16   8   3  27\n   9  24 138 248 255 255 255  76  22  79 110 112  96  54  31  15   0   0\n   0   0   0   0   0   0   0  28 143 247 255 255 240 190 141 105  43  23\n   2   0   0   0   0   0   0   0   0   0   0   0   0   0   0   0   0   0\n   0   8   4   3   8  11   7   0   2  19  16  44 122 228 255 255 255  76\n   3  13  53  78 109 117 109  89  49   5   0   0   0   0   0   0   0   4\n  44 189 241 255 255 252 240 230 180 137  79  36  24   7   0   0   0   0\n   0   0   0   0   0   0   0   0   0   0   0   0   0   0   0   0   0   0\n   0   9  21  49 103 204 255 255 255  76]\n"
                }
            ],
            "source": "print(x_train_kanji[0])"
        },
        {
            "cell_type": "code",
            "execution_count": null,
            "metadata": {},
            "outputs": [],
            "source": "# since normalization is computationally intensive, we leave it until the training step\n# which has more compute resources"
        }
    ],
    "metadata": {
        "kernelspec": {
            "display_name": "Python 3.7 with Spark",
            "language": "python3",
            "name": "python37"
        },
        "language_info": {
            "codemirror_mode": {
                "name": "ipython",
                "version": 3
            },
            "file_extension": ".py",
            "mimetype": "text/x-python",
            "name": "python",
            "nbconvert_exporter": "python",
            "pygments_lexer": "ipython3",
            "version": "3.7.10"
        }
    },
    "nbformat": 4,
    "nbformat_minor": 1
}