{
    "cells": [
        {
            "cell_type": "markdown",
            "metadata": {
                "collapsed": true
            },
            "source": "### Keras\n\nKeras is a popular high level deep learning library and framework written in Python.  We can quickly prototype deep learning models using the Keras API.  Keras has been open source since 2015.  It's documentation can be found at:\n\nhttps://keras.io/\n\nSource code can be found at:\n\ngithub.com/fchollet/keras\n\nKeras can also be seen as a debugging tool.  Why is it such a good debugging tool?\n\nThere is a very robust community around Keras.  It is a very popular libarary and has an active community, that might be able to help you with any questions that may come up.\n\ngroups.google.com/forum/#forum/keras-users\n\nkeras-slack-autojoin.herokuapp.com\n\nAlso, Keras has an intuitive, high-level API, leads to fast prototyping.\n\nIt has modular building blocks.  Easy to build new customer layers.\n\nExtensions:\n\ngithub.com/fchollet/keras-resources\n\ngithub.com/fchollet/keras/tree/master/examples\n\nModels:\n\ngithub.com/fchollet/deep-learning-models\n\nDatasets:\n\ngithub.com/fchollet/keras/tree/master/keras/datasets\n\nYou can view Keras as a deep learning front end, and you can use other backends.  Keras provides a high level entry point, but in the back are different engines that do the heavy lifting.\n\nOne choice is google tensorflow.  There is also theano and Microsoft CNTK.  We exclusively use Tensorflow here.\n\nYou can easily swap backends, and depending on your configuration, Keras runs seemlessly on CPU's and GPU's.\n\nNext we will explore an example built with Keras.\n\n\n[to be continued]"
        }
    ],
    "metadata": {
        "kernelspec": {
            "display_name": "Python 3.7",
            "language": "python",
            "name": "python3"
        },
        "language_info": {
            "codemirror_mode": {
                "name": "ipython",
                "version": 3
            },
            "file_extension": ".py",
            "mimetype": "text/x-python",
            "name": "python",
            "nbconvert_exporter": "python",
            "pygments_lexer": "ipython3",
            "version": "3.7.10"
        }
    },
    "nbformat": 4,
    "nbformat_minor": 1
}