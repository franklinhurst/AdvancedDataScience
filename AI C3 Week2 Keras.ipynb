{
    "cells": [
        {
            "cell_type": "markdown",
            "metadata": {
                "collapsed": true
            },
            "source": "### Keras\n\nKeras is a popular high level deep learning library and framework written in Python.  We can quickly prototype deep learning models using the Keras API.  Keras has been open source since 2015.  It's documentation can be found at:\n\nhttps://keras.io/\n\nSource code can be found at:\n\ngithub.com/fchollet/keras\n\nKeras can also be seen as a debugging tool.  Why is it such a good debugging tool?\n\nThere is a very robust community around Keras.  It is a very popular libarary and has an active community, that might be able to help you with any questions that may come up.\n\ngroups.google.com/forum/#forum/keras-users\n\nkeras-slack-autojoin.herokuapp.com\n\nAlso, Keras has an intuitive, high-level API, leads to fast prototyping.\n\nIt has modular building blocks.  Easy to build new customer layers.\n\nExtensions:\n\ngithub.com/fchollet/keras-resources\n\ngithub.com/fchollet/keras/tree/master/examples\n\nModels:\n\ngithub.com/fchollet/deep-learning-models\n\nDatasets:\n\ngithub.com/fchollet/keras/tree/master/keras/datasets\n\nYou can view Keras as a deep learning front end, and you can use other backends.  Keras provides a high level entry point, but in the back are different engines that do the heavy lifting.\n\nOne choice is google tensorflow.  There is also theano and Microsoft CNTK.  We exclusively use Tensorflow here.\n\nYou can easily swap backends, and depending on your configuration, Keras runs seemlessly on CPU's and GPU's.\n\nLayers are the core abstraction for Keras.\n\nSequential layers have:\n\ninput\noutput\ninput_shape, and\noutput_shape\n\nCan get the weights as a list of numpy arrays:\n\nlayer.get_weights()\n\nCan set layer weights with:\n\nlayer.set_weights(weights)\n\nEach layer has a defining configuration:\n\nlayer.get_config()\n\nFirst, instantiate a sequential model.  Then, add layers to it.  Next compile the model with a mandatory loss function, a mandatory optimizer, and optional evaluation metrics.\n\nNext we use data to fit the model.\n\nNext we evaluate the model, persist or deploy the model, or start a new experiment, etc., depending on what you want to do at that point.\n\nThere are two options in specifying the loss function in the step of compiling the model:\n\n1.  Import from loss module (preferred), which looks something like this:\n\nfrom keras.losses import mean_squared_error\nmodel.compile(loss=mean_squared_error, optimizer=...)\n\n    (See the code example notebooks, since the import statement may be different based on the versions of tensorflow, etc) \n\n2.  Use strings, which looks like:\n\nmodel.compile(loss='mean_squared_error', optimizer=...)\n\nThe string approach is error-prone.\n\nTo define an optimizer, you have two different ways of doing this:\n\n1.  Load optimizir from a module (preferred), which looks like this:\n\n#instantiate an SGD object, which also lets you set some parameters:\n\nsgd = SGD(lr=0.01,          # need to set the learning rate >= 0\n          decay=1e-6,       # learning rate decay after updates\n          momentum=0.9)     # this is the momentum parameter used for the SGD optimizer\nThen:\n\nmodel.compile(loss=..., optimizer=sgd)\n\n2.  Again, can also pass a string for the optimizer value:\n\nmodel.compile(loss=..., optimizer='sgd')\n\nAgain, the second approach is more error-prone.  If you just pass a string, then the default optimizer parameters will be used.\n"
        },
        {
            "cell_type": "code",
            "execution_count": null,
            "metadata": {},
            "outputs": [],
            "source": ""
        }
    ],
    "metadata": {
        "kernelspec": {
            "display_name": "Python 3.7",
            "language": "python",
            "name": "python3"
        },
        "language_info": {
            "codemirror_mode": {
                "name": "ipython",
                "version": 3
            },
            "file_extension": ".py",
            "mimetype": "text/x-python",
            "name": "python",
            "nbconvert_exporter": "python",
            "pygments_lexer": "ipython3",
            "version": "3.7.10"
        }
    },
    "nbformat": 4,
    "nbformat_minor": 1
}