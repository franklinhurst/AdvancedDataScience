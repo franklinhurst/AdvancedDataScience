{
    "cells": [
        {
            "cell_type": "markdown",
            "metadata": {
                "collapsed": true
            },
            "source": "### Density-based clustering\n\nDensity-based clustering is also known as DBSCAN or density-based spatial clustering of applications with noise. It works by defining a cluster as the maximal set of density connected points.  There are two parameters that are taken into account, epsilon and minimum points. Epsilon is the maximum radius of the neighborhood and minimum points is the minimum number of points in the epsilon neighborhood to define a cluster.  There are three classifications of points. They are core, border, and outlier. A core point has at least minimum points (the number of minimum points is defined for a given analysis) within its epsilon neighborhood including itself. These are points that are at the interior of a cluster.  A border point has less than minimum points (as defined in the analysis) within its epsilon neighborhood but can be reached by the cluster. That is, it's in the neighborhood of a core point. And finally, an outlier or noise point is a point that cannot be reached by a cluster.  A point y is said to be reachable from x if there is a path p1 to pn with p1 = x and pn = y, where each pi + 1 on the path must be core points, with the possible exception of pn.  An object y is directly density-reachable from object x if x is a core object and y is in x's epsilon neighborhood. A is directly density-reachable from b, b is directly density-reachable from c, a is indirectly density-reachable from d, d is not density reachable from a, since a is not a core point.  Density based clustering works by picking a random point that does not belong to a cluster or is an outlier, and determines if that point is a core point. If not, label it as an outlier.  Now we'll pick another core point at random and determine if it is a core point. If it is a core point, then all of the directly reachable nodes are assigned to the cluster.\nThen do neighbor jumps to all reachable points and add them to the cluster. Keep finding neighbors until you're unable to. This point would be labelled as a border.  Now keep repeating steps one and two until all points have been labelled or assigned to a cluster. In this case, the last two points are also outliers. Now we have our cluster.  At this point, it's important to know the difference between density-based clustering or DBSCAN and K-means. DBSCAN is effective at cutting the noise out of data sets by labelling them as outlier, whereas K-means uses the entire data set.  In this example, we have two sets of clusters resembling half-moons, each belonging to different cluster sets. Now if we add some noise, we can see if DBSCAN or K-Means correctly assigns the clusters.  Let's run DBSCAN. We'll see that it'll correctly group the top half moon as a cluster and it'll do the same for the bottom half moon. Then it'll predict the rest of the points or outlier or noise, which is correct of course.  Now let's look at the same half moon example using K-means. This will also include the noise data points. Now two random centroids start off. And the collective points are assigned. Then each centroid is moved accordingly to their new locations, and once again the collective points are assigned. And the cycle repeats until the centroids are at the point where no new points are assigned to either side from their movement. Once K-means is complete, we can see that it did not correctly predict the half moon clusters nor the noise. K-means has a huge disadvantage, and that it considers the whole data set and can not distinguish noise from cluster groupings. It might also identify clusters incorrectly due to it's reliance on centroid placements.  Depending on the context, density-based clustering may be advantageous over K-means."
        },
        {
            "cell_type": "markdown",
            "metadata": {},
            "source": "What follows is a reading on Clustering analysis, including clustering evaluation:\n\nhttps://en.wikipedia.org/wiki/Cluster_analysis"
        },
        {
            "cell_type": "code",
            "execution_count": null,
            "metadata": {},
            "outputs": [],
            "source": ""
        }
    ],
    "metadata": {
        "kernelspec": {
            "display_name": "Python 3.7",
            "language": "python",
            "name": "python3"
        },
        "language_info": {
            "codemirror_mode": {
                "name": "ipython",
                "version": 3
            },
            "file_extension": ".py",
            "mimetype": "text/x-python",
            "name": "python",
            "nbconvert_exporter": "python",
            "pygments_lexer": "ipython3",
            "version": "3.7.10"
        }
    },
    "nbformat": 4,
    "nbformat_minor": 1
}