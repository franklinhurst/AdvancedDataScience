{
    "cells": [
        {
            "cell_type": "markdown",
            "metadata": {
                "collapsed": true
            },
            "source": "### Convolutional Neural Networks"
        },
        {
            "cell_type": "markdown",
            "metadata": {},
            "source": "An image can be seen as a very large spectra of pixel values.  We can consider a gray scale image first for simplicity.  We want to learn a hidden function, f, which accepts the vector representing the pixel values and outputs a scalar, c, which represents the class:\n\n$$\nf(\n\\begin{bmatrix} x_1 \\\\x_2 \\\\x_3 \\\\ \\ldots \\\\ x_{99998} \\\\ x_{99999} \\\\ x_{100000}\n\\end{bmatrix}\n) =c\n$$"
        },
        {
            "cell_type": "markdown",
            "metadata": {},
            "source": "Understanding the output c as a scalar may work for binary classification, it might be better to use a complete vector for multiclass specification."
        },
        {
            "cell_type": "markdown",
            "metadata": {},
            "source": "$$\nf(\n\\begin{bmatrix} x_1 \\\\x_2 \\\\x_3 \\\\ \\ldots \\\\ x_{99998} \\\\ x_{99999} \\\\ x_{100000}\n\\end{bmatrix}\n) =\n\\begin{bmatrix} c_1 \\\\c_2 \\\\c_3 \\\\ c_4 \\\\ c_5 \\\\ c_6\n\\end{bmatrix}\n$$"
        },
        {
            "cell_type": "markdown",
            "metadata": {},
            "source": "In this way we can train a neural network to learn whatever number of classes is necessary.  Solving this task with an ordinary feed forward neural network, it turns out that an image with only a hundred by a hundred pixels would need 10,000 weights in the weight network.  So the problem here is computational complexity."
        },
        {
            "cell_type": "markdown",
            "metadata": {},
            "source": "One answer to this complexity is convolutional neural networks. \n\nhttps://wiki.pathmind.com/convolutional-network"
        },
        {
            "cell_type": "code",
            "execution_count": null,
            "metadata": {},
            "outputs": [],
            "source": ""
        }
    ],
    "metadata": {
        "kernelspec": {
            "display_name": "Python 3.7",
            "language": "python",
            "name": "python3"
        },
        "language_info": {
            "codemirror_mode": {
                "name": "ipython",
                "version": 3
            },
            "file_extension": ".py",
            "mimetype": "text/x-python",
            "name": "python",
            "nbconvert_exporter": "python",
            "pygments_lexer": "ipython3",
            "version": "3.7.10"
        }
    },
    "nbformat": 4,
    "nbformat_minor": 1
}