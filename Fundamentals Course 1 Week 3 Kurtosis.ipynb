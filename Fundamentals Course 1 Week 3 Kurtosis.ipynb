{
    "cells": [
        {
            "cell_type": "code",
            "execution_count": 1,
            "metadata": {},
            "outputs": [
                {
                    "name": "stdout",
                    "output_type": "stream",
                    "text": "Waiting for a Spark session to start...\nSpark Initialization Done! ApplicationId = app-20210430203803-0000\nKERNEL_ID = 926f7f15-64a4-44d1-b9f3-0096e23c5139\n"
                }
            ],
            "source": "rdd = sc.parallelize(list(range(100))+[-1000]*10000)"
        },
        {
            "cell_type": "code",
            "execution_count": 3,
            "metadata": {},
            "outputs": [
                {
                    "name": "stdout",
                    "output_type": "stream",
                    "text": "-989.6089108910891\n"
                }
            ],
            "source": "sum = rdd.sum()\nn = rdd.count()\nmean = sum/float(n)\nprint(mean)"
        },
        {
            "cell_type": "code",
            "execution_count": 5,
            "metadata": {},
            "outputs": [
                {
                    "data": {
                        "text/plain": "103.95058098411899"
                    },
                    "execution_count": 5,
                    "metadata": {},
                    "output_type": "execute_result"
                }
            ],
            "source": "from math import sqrt\nsd = sqrt(rdd.map(lambda x : pow(x-mean,2)).sum()/n)\nsd"
        },
        {
            "cell_type": "code",
            "execution_count": 6,
            "metadata": {},
            "outputs": [
                {
                    "data": {
                        "text/plain": "9.911560206060534"
                    },
                    "execution_count": 6,
                    "metadata": {},
                    "output_type": "execute_result"
                }
            ],
            "source": "skewness = (1/n) * rdd.map(lambda x : pow(x-mean,3)/pow(sd,3) ).sum()\nskewness"
        },
        {
            "cell_type": "code",
            "execution_count": null,
            "metadata": {},
            "outputs": [],
            "source": "# To find the kurtosis, the 4th statistical moment\n# First we take the 4th power of difference between the\n# mean and each observation, and divide that by the\n# sd to the 4th power, then take the sum of all elements\n# finally, divide by n"
        },
        {
            "cell_type": "code",
            "execution_count": 9,
            "metadata": {},
            "outputs": [
                {
                    "data": {
                        "text/plain": "99.31671934325138"
                    },
                    "execution_count": 9,
                    "metadata": {},
                    "output_type": "execute_result"
                }
            ],
            "source": "kurtosis = (1/n) * rdd.map(lambda x : pow(x - mean, 4)/pow(sd,4)).sum()\nkurtosis"
        },
        {
            "cell_type": "code",
            "execution_count": null,
            "metadata": {},
            "outputs": [],
            "source": "This yields the kurtosis of the distribution."
        }
    ],
    "metadata": {
        "kernelspec": {
            "display_name": "Python 3.7 with Spark",
            "language": "python3",
            "name": "python37"
        },
        "language_info": {
            "codemirror_mode": {
                "name": "ipython",
                "version": 3
            },
            "file_extension": ".py",
            "mimetype": "text/x-python",
            "name": "python",
            "nbconvert_exporter": "python",
            "pygments_lexer": "ipython3",
            "version": "3.7.10"
        }
    },
    "nbformat": 4,
    "nbformat_minor": 1
}