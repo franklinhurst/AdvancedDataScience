{
    "cells": [
        {
            "cell_type": "code",
            "execution_count": 1,
            "metadata": {},
            "outputs": [
                {
                    "ename": "SyntaxError",
                    "evalue": "invalid syntax (<ipython-input-1-a4c1c68cdbb0>, line 3)",
                    "output_type": "error",
                    "traceback": [
                        "\u001b[0;36m  File \u001b[0;32m\"<ipython-input-1-a4c1c68cdbb0>\"\u001b[0;36m, line \u001b[0;32m3\u001b[0m\n\u001b[0;31m    In some process models Data Cleansing is a separate task, it is closely tied to Feature Creation but also draws findings from the Initial Data Exploration task. The actual data transformations are implemented in the Feature Creation asset deliverable; therefore, Data Cleansing is part of the Feature Creation task in this process model.\u001b[0m\n\u001b[0m          ^\u001b[0m\n\u001b[0;31mSyntaxError\u001b[0m\u001b[0;31m:\u001b[0m invalid syntax\n"
                    ]
                }
            ],
            "source": "### Data Cleansing\n\nIn some process models Data Cleansing is a separate task, it is closely tied to Feature Creation but also draws findings from the Initial Data Exploration task. The actual data transformations are implemented in the Feature Creation asset deliverable; therefore, Data Cleansing is part of the Feature Creation task in this process model.\n\nWhile tuning machine learning models, this deliverable asset is touched on a regular basis anyway because features need to be transformed to increase model performance. In such iterations, often issues with data are detected and therefore need to be corrected/addressed here as well.\n\nThe following none exhaustive list gives you some guidelines:\n\n- Data types Are data types of columns matching their content? E.g. is age stored as integer and not as string?  \n\n- Ranges Does the value distribution of values in a column make sense? Use stats (e.g. min, max, mean, standard deviation) and visualizations (e.g. box-plot, histogram) for help  \n\n- Emptiness Are all values non-null where mandatory? E.g. client IDs  \n\n- Uniqueness Are duplicates present where undesired? E.g. client IDs  \n\n- Set memberships Are only allowed values chosen for categorical or ordinal fields? E.g. Female, Male, Unknown  \n\n- Foreign key set memberships Are only allowed values chosen as field? E.g. ZIP code  \n\n- Regular expressions Some files need to stick to a pattern expressed by a regular expression. E.g. a lower-case character followed by 6 digits  \n\n- Cross-field validation Some fields can impact validity of other fields. E.g. a male person can\u2019t be pregnant   \n\nPlease transform your data set accordingly and add all code to the Feature Creation asset deliverable. Please comply with the naming convention documented in the process model.\n\n### Feature Engineering\n\nFeature Creation and Feature Engineering is one of the most important tasks in machine learning since it hugely impacts model performance. This also holds for deep learning, although to a lesser extent. Features can be changed or new features can be created from existing ones\n\nThe following none exhaustive list gives you some guidelines for feature transformation:\n\n- Imputing Some algorithms are very sensitive to missing values. Therefore, imputing allows for filling of empty fields based on its value distribution  \n\n- Imputed time-series quantization Time series often contain streams with measurements at different timestamps. Therefore, it is beneficial to quantize measurements to a common \u201cheart beat\u201d and impute the corresponding values. This can be done by sampling from the source time series distributions on the respective quantized time steps  \n\n- Scaling / Normalizing / Centering Some algorithms are very sensitive differences in value ranges for individual fields. Therefore, it is best practice to center data around zero and scale values to a standard deviation of one  \n\n- Filtering Sometimes imputing values doesn\u2019t perform well, therefore deletion of low quality records is a better strategy  \n\n- Discretizing Continuous fields might confuse the model, e.g. a discrete set of age ranges sometimes performs better than continuous values, especially on smaller amounts of data and with simpler models \n\nThe following none exhaustive list gives you some guidelines for feature creation:\n\n- One-hot-encoding Categorical integer features should be transformed into \u201cone-hot\u201d vectors. In relational terms this results in addition of additional columns \u2013 one columns for each distinct category  \n\n- Time-to-Frequency transformation Time-series (and sometimes also sequence data) is recorded in the time domain but can easily transformed into the frequency domain e.g. using FFT (Fast Fourier Transformation)  \n\n- Month-From-Date Creating an additional feature containing the month independent from data captures seasonal aspects. Sometimes further discretization in to quarters helps as well  \n\n- Aggregate-on-Target Simply aggregating fields the target variable (or even other fields) can improve performance, e.g. count number of data points per ZIP code or take the median of all values by geographical region\n\nAs feature engineering is an art on itself, this list cannot be exhaustive. It\u2019s not expected to become an expert in this topic at this point. Most of it you\u2019ll learn by practicing data science on real projects and talk to peers which might share their secrets and tricks with you.  \n\nPlease transform your data set accordingly and add all code to the Feature Creation asset deliverable. Please comply with the naming convention documented in the process model.\n\n### Milestones Checklist Week 2\n\n- Created an ETL Notebook\n\n- Added Data Cleansing code to the ETL Notebook\n\n- Created a Feature Creation Notebook\n\n- Transformed Features\n\n- Created additional Features"
        },
        {
            "cell_type": "code",
            "execution_count": null,
            "metadata": {},
            "outputs": [],
            "source": ""
        }
    ],
    "metadata": {
        "kernelspec": {
            "display_name": "Python 3.7",
            "language": "python",
            "name": "python3"
        },
        "language_info": {
            "codemirror_mode": {
                "name": "ipython",
                "version": 3
            },
            "file_extension": ".py",
            "mimetype": "text/x-python",
            "name": "python",
            "nbconvert_exporter": "python",
            "pygments_lexer": "ipython3",
            "version": "3.7.10"
        }
    },
    "nbformat": 4,
    "nbformat_minor": 1
}