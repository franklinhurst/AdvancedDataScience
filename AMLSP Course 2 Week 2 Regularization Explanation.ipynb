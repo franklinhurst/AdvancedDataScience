{
    "cells": [
        {
            "cell_type": "markdown",
            "metadata": {
                "collapsed": true
            },
            "source": "### Regularization\n\nWe have seen how to detect overfitting by splitting the data into training and testing data and we have seen how to split the data and use all of the data for training using crossvalidation.  But once we have detected overfitting, what can we do about it?\n\nIf we are overfitting then the model is essentially no good, so we will need to make some changes.  One thing you can do is use a simpler model.  For example, instead of using KNN or gradient boosting trees, just use linear or logistic regression.  But there is something else you can do.\n\nThere is a parameter in the model that you can tune that will determine how good the model will fit the training data.  This should prevent overfitting.   If you look at the square of errors function, this is the square of the difference between the real value and the predicted value.\n\n#### Lasso or L1 regularization\n\nWhen try to minimize the sum of squared errors you can add a regularization term which causes the model to perform worse and this helps with overfitting.  The parameter lambda can be specified in order to tune how strong this effect should be.\n\n#### Ridge or L2 regularization\n\nInstead of taking the absolute value of the beta parameter, we take the square.  This has the effect of penalizing large parameters in the model even more.  L2 is computationally more efficient than L1.\n\nhttps://ravedata.in/machine-learning/regularization-techniques-ridge-and-lasso/"
        },
        {
            "cell_type": "code",
            "execution_count": null,
            "metadata": {},
            "outputs": [],
            "source": ""
        }
    ],
    "metadata": {
        "kernelspec": {
            "display_name": "Python 3.7",
            "language": "python",
            "name": "python3"
        },
        "language_info": {
            "codemirror_mode": {
                "name": "ipython",
                "version": 3
            },
            "file_extension": ".py",
            "mimetype": "text/x-python",
            "name": "python",
            "nbconvert_exporter": "python",
            "pygments_lexer": "ipython3",
            "version": "3.7.10"
        }
    },
    "nbformat": 4,
    "nbformat_minor": 1
}