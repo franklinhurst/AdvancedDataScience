{
    "cells": [
        {
            "cell_type": "markdown",
            "metadata": {
                "collapsed": true
            },
            "source": "### Recurrent Neural Networks in and Keras LSTM's in particular\n\nIn this case we will classify sentiments from movie reviews.\n\nAvailable RNNs in Keras:\n\nSimpleRNN - basic RNN\nGRU - Gated Recursive Unit (2014)\nLSTM - Long short-term memory (1997) the most popular with Keras and maybe overall\n\nUsually when people talk about RNN's they are talking about LSTM's.\n\nWith an LSTM layer, you have two sets of weights.  The regular set of weights and the recurrent set of weights"
        },
        {
            "cell_type": "code",
            "execution_count": null,
            "metadata": {},
            "outputs": [],
            "source": "from keras.layers.recurrent import LSTM\n\nLSTM(units,\n     activation='tanh',\n     recurrent_activation='hard_sigmoid',\n     recurrent_initializer='orthagonal,\n     recurrent_regularizer=None,\n     dropout=0.0, recurrent_dropout=0.0,\n     return_sequences=False')"
        },
        {
            "cell_type": "markdown",
            "metadata": {},
            "source": "LSTM layers allow you to specify a dropout within the layer.  You don't have to specify a dropout layer separately.  The last key words is return_sequences.  If you specify True here then your return vector won't be a simple vector but a matrix instead.\n\nEmbedding layers transform integers into vectors of the same length:  [3, 12] is embedded as [[0.1, 0.5], [1.3, 4.2]]\n\nYou can use this to embed a certain vocabulary into a vector space.  Each word has to be given a representation in that vector space, then you apply those embedments to sequence of words.\n\n[stopping this early may continue it later - FH]"
        },
        {
            "cell_type": "code",
            "execution_count": null,
            "metadata": {},
            "outputs": [],
            "source": ""
        }
    ],
    "metadata": {
        "kernelspec": {
            "display_name": "Python 3.7",
            "language": "python",
            "name": "python3"
        },
        "language_info": {
            "codemirror_mode": {
                "name": "ipython",
                "version": 3
            },
            "file_extension": ".py",
            "mimetype": "text/x-python",
            "name": "python",
            "nbconvert_exporter": "python",
            "pygments_lexer": "ipython3",
            "version": "3.7.10"
        }
    },
    "nbformat": 4,
    "nbformat_minor": 1
}