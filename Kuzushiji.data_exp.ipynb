{
    "cells": [
        {
            "cell_type": "markdown",
            "metadata": {
                "collapsed": true
            },
            "source": "## Initial Data Exploration Kuzushiji\n\nOnce you've identified a Use Case and Data Set it is time to get familiar with data. In the process model this task is called Initial Data Exploration. Please take a minute or two to (re)visit the following lecture\n\nhttps://www.coursera.org/learn/data-science-methodology\n\nModule 2 - Data Understanding\n\nPlease also revisit:\n\nhttp://coursera.org/learn/ds\n\nModule 3 - Mathematical Foundations and Module 4 - Visualizations\n\nGiven the lectures above, please create statistics and visualization on your Data Set to identify good columns for modeling, potential data quality issues and anticipate potential feature transformations necessary.\n\nCreate a jupyter notebook where you document your code and include visualizations as first deliverable. Please also stick to the naming conventions explained in the the process model manual.\n\nSo, the most important reasons / steps are:\n\nIdentify quality issues (e.g. missing values, wrong measurements, \u2026)\n\nAssess feature quality \u2013 how relevant is a certain measurement (e.g. use correlation matrix)\n\nGet an idea on the value distribution of your data using statistical measures and visualizations"
        },
        {
            "cell_type": "code",
            "execution_count": 1,
            "metadata": {},
            "outputs": [
                {
                    "name": "stdout",
                    "output_type": "stream",
                    "text": "/opt/conda/envs/Python-3.7-main/lib/python3.7/site-packages/secretstorage/dhcrypto.py:16: CryptographyDeprecationWarning: int_from_bytes is deprecated, use int.from_bytes instead\n  from cryptography.utils import int_from_bytes\n/opt/conda/envs/Python-3.7-main/lib/python3.7/site-packages/secretstorage/util.py:25: CryptographyDeprecationWarning: int_from_bytes is deprecated, use int.from_bytes instead\n  from cryptography.utils import int_from_bytes\nCollecting tensorflow==1.14.0\n  Downloading tensorflow-1.14.0-cp37-cp37m-manylinux1_x86_64.whl (109.3 MB)\n\u001b[K     |\u2588\u2588\u2588\u2588\u2588\u2588\u2588\u2588\u2588\u2588\u2588\u2588\u2588\u2588\u2588\u2588\u2588\u2588\u2588\u2588\u2588\u2588\u2588\u2588\u2588\u2588\u2588\u2588\u2588\u2588\u2588\u2588| 109.3 MB 114 kB/s  eta 0:00:01| 89.8 MB 75.4 MB/s eta 0:00:01\n\u001b[?25hCollecting tensorflow-estimator<1.15.0rc0,>=1.14.0rc0\n  Downloading tensorflow_estimator-1.14.0-py2.py3-none-any.whl (488 kB)\n\u001b[K     |\u2588\u2588\u2588\u2588\u2588\u2588\u2588\u2588\u2588\u2588\u2588\u2588\u2588\u2588\u2588\u2588\u2588\u2588\u2588\u2588\u2588\u2588\u2588\u2588\u2588\u2588\u2588\u2588\u2588\u2588\u2588\u2588| 488 kB 65.7 MB/s eta 0:00:01\n\u001b[?25hCollecting tensorboard<1.15.0,>=1.14.0\n  Downloading tensorboard-1.14.0-py3-none-any.whl (3.1 MB)\n\u001b[K     |\u2588\u2588\u2588\u2588\u2588\u2588\u2588\u2588\u2588\u2588\u2588\u2588\u2588\u2588\u2588\u2588\u2588\u2588\u2588\u2588\u2588\u2588\u2588\u2588\u2588\u2588\u2588\u2588\u2588\u2588\u2588\u2588| 3.1 MB 68.1 MB/s eta 0:00:01\n\u001b[?25hRequirement already satisfied: keras-applications>=1.0.6 in /opt/conda/envs/Python-3.7-main/lib/python3.7/site-packages (from tensorflow==1.14.0) (1.0.8)\nRequirement already satisfied: protobuf>=3.6.1 in /opt/conda/envs/Python-3.7-main/lib/python3.7/site-packages (from tensorflow==1.14.0) (3.12.3)\nRequirement already satisfied: wheel>=0.26 in /opt/conda/envs/Python-3.7-main/lib/python3.7/site-packages (from tensorflow==1.14.0) (0.34.2)\nRequirement already satisfied: astor>=0.6.0 in /opt/conda/envs/Python-3.7-main/lib/python3.7/site-packages (from tensorflow==1.14.0) (0.8.0)\nRequirement already satisfied: absl-py>=0.7.0 in /opt/conda/envs/Python-3.7-main/lib/python3.7/site-packages (from tensorflow==1.14.0) (0.9.0)\nRequirement already satisfied: gast>=0.2.0 in /opt/conda/envs/Python-3.7-main/lib/python3.7/site-packages (from tensorflow==1.14.0) (0.2.2)\nRequirement already satisfied: keras-preprocessing>=1.0.5 in /opt/conda/envs/Python-3.7-main/lib/python3.7/site-packages (from tensorflow==1.14.0) (1.1.0)\nRequirement already satisfied: termcolor>=1.1.0 in /opt/conda/envs/Python-3.7-main/lib/python3.7/site-packages (from tensorflow==1.14.0) (1.1.0)\nRequirement already satisfied: grpcio>=1.8.6 in /opt/conda/envs/Python-3.7-main/lib/python3.7/site-packages (from tensorflow==1.14.0) (1.27.2)\nRequirement already satisfied: wrapt>=1.11.1 in /opt/conda/envs/Python-3.7-main/lib/python3.7/site-packages (from tensorflow==1.14.0) (1.12.1)\nRequirement already satisfied: numpy<2.0,>=1.14.5 in /opt/conda/envs/Python-3.7-main/lib/python3.7/site-packages (from tensorflow==1.14.0) (1.18.5)\nRequirement already satisfied: google-pasta>=0.1.6 in /opt/conda/envs/Python-3.7-main/lib/python3.7/site-packages (from tensorflow==1.14.0) (0.2.0)\nRequirement already satisfied: six>=1.10.0 in /opt/conda/envs/Python-3.7-main/lib/python3.7/site-packages (from tensorflow==1.14.0) (1.15.0)\nRequirement already satisfied: setuptools>=41.0.0 in /opt/conda/envs/Python-3.7-main/lib/python3.7/site-packages (from tensorboard<1.15.0,>=1.14.0->tensorflow==1.14.0) (47.3.1.post20200622)\nRequirement already satisfied: werkzeug>=0.11.15 in /opt/conda/envs/Python-3.7-main/lib/python3.7/site-packages (from tensorboard<1.15.0,>=1.14.0->tensorflow==1.14.0) (1.0.1)\nRequirement already satisfied: markdown>=2.6.8 in /opt/conda/envs/Python-3.7-main/lib/python3.7/site-packages (from tensorboard<1.15.0,>=1.14.0->tensorflow==1.14.0) (3.1.1)\nRequirement already satisfied: h5py in /opt/conda/envs/Python-3.7-main/lib/python3.7/site-packages (from keras-applications>=1.0.6->tensorflow==1.14.0) (2.10.0)\nInstalling collected packages: tensorflow-estimator, tensorboard, tensorflow\n  Attempting uninstall: tensorflow-estimator\n    Found existing installation: tensorflow-estimator 2.1.0\n    Uninstalling tensorflow-estimator-2.1.0:\n      Successfully uninstalled tensorflow-estimator-2.1.0\n  Attempting uninstall: tensorboard\n    Found existing installation: tensorboard 2.1.0\n    Uninstalling tensorboard-2.1.0:\n      Successfully uninstalled tensorboard-2.1.0\n  Attempting uninstall: tensorflow\n    Found existing installation: tensorflow 2.1.0\n    Uninstalling tensorflow-2.1.0:\n      Successfully uninstalled tensorflow-2.1.0\nSuccessfully installed tensorboard-1.14.0 tensorflow-1.14.0 tensorflow-estimator-1.14.0\n"
                }
            ],
            "source": "# install backend tensorflow\n!pip install tensorflow==1.14.0"
        },
        {
            "cell_type": "code",
            "execution_count": 2,
            "metadata": {},
            "outputs": [
                {
                    "name": "stderr",
                    "output_type": "stream",
                    "text": "/opt/conda/envs/Python-3.7-main/lib/python3.7/site-packages/tensorflow/python/framework/dtypes.py:516: FutureWarning: Passing (type, 1) or '1type' as a synonym of type is deprecated; in a future version of numpy, it will be understood as (type, (1,)) / '(1,)type'.\n  _np_qint8 = np.dtype([(\"qint8\", np.int8, 1)])\n/opt/conda/envs/Python-3.7-main/lib/python3.7/site-packages/tensorflow/python/framework/dtypes.py:517: FutureWarning: Passing (type, 1) or '1type' as a synonym of type is deprecated; in a future version of numpy, it will be understood as (type, (1,)) / '(1,)type'.\n  _np_quint8 = np.dtype([(\"quint8\", np.uint8, 1)])\n/opt/conda/envs/Python-3.7-main/lib/python3.7/site-packages/tensorflow/python/framework/dtypes.py:518: FutureWarning: Passing (type, 1) or '1type' as a synonym of type is deprecated; in a future version of numpy, it will be understood as (type, (1,)) / '(1,)type'.\n  _np_qint16 = np.dtype([(\"qint16\", np.int16, 1)])\n/opt/conda/envs/Python-3.7-main/lib/python3.7/site-packages/tensorflow/python/framework/dtypes.py:519: FutureWarning: Passing (type, 1) or '1type' as a synonym of type is deprecated; in a future version of numpy, it will be understood as (type, (1,)) / '(1,)type'.\n  _np_quint16 = np.dtype([(\"quint16\", np.uint16, 1)])\n/opt/conda/envs/Python-3.7-main/lib/python3.7/site-packages/tensorflow/python/framework/dtypes.py:520: FutureWarning: Passing (type, 1) or '1type' as a synonym of type is deprecated; in a future version of numpy, it will be understood as (type, (1,)) / '(1,)type'.\n  _np_qint32 = np.dtype([(\"qint32\", np.int32, 1)])\n/opt/conda/envs/Python-3.7-main/lib/python3.7/site-packages/tensorflow/python/framework/dtypes.py:525: FutureWarning: Passing (type, 1) or '1type' as a synonym of type is deprecated; in a future version of numpy, it will be understood as (type, (1,)) / '(1,)type'.\n  np_resource = np.dtype([(\"resource\", np.ubyte, 1)])\n/opt/conda/envs/Python-3.7-main/lib/python3.7/site-packages/tensorboard/compat/tensorflow_stub/dtypes.py:541: FutureWarning: Passing (type, 1) or '1type' as a synonym of type is deprecated; in a future version of numpy, it will be understood as (type, (1,)) / '(1,)type'.\n  _np_qint8 = np.dtype([(\"qint8\", np.int8, 1)])\n/opt/conda/envs/Python-3.7-main/lib/python3.7/site-packages/tensorboard/compat/tensorflow_stub/dtypes.py:542: FutureWarning: Passing (type, 1) or '1type' as a synonym of type is deprecated; in a future version of numpy, it will be understood as (type, (1,)) / '(1,)type'.\n  _np_quint8 = np.dtype([(\"quint8\", np.uint8, 1)])\n/opt/conda/envs/Python-3.7-main/lib/python3.7/site-packages/tensorboard/compat/tensorflow_stub/dtypes.py:543: FutureWarning: Passing (type, 1) or '1type' as a synonym of type is deprecated; in a future version of numpy, it will be understood as (type, (1,)) / '(1,)type'.\n  _np_qint16 = np.dtype([(\"qint16\", np.int16, 1)])\n/opt/conda/envs/Python-3.7-main/lib/python3.7/site-packages/tensorboard/compat/tensorflow_stub/dtypes.py:544: FutureWarning: Passing (type, 1) or '1type' as a synonym of type is deprecated; in a future version of numpy, it will be understood as (type, (1,)) / '(1,)type'.\n  _np_quint16 = np.dtype([(\"quint16\", np.uint16, 1)])\n/opt/conda/envs/Python-3.7-main/lib/python3.7/site-packages/tensorboard/compat/tensorflow_stub/dtypes.py:545: FutureWarning: Passing (type, 1) or '1type' as a synonym of type is deprecated; in a future version of numpy, it will be understood as (type, (1,)) / '(1,)type'.\n  _np_qint32 = np.dtype([(\"qint32\", np.int32, 1)])\n/opt/conda/envs/Python-3.7-main/lib/python3.7/site-packages/tensorboard/compat/tensorflow_stub/dtypes.py:550: FutureWarning: Passing (type, 1) or '1type' as a synonym of type is deprecated; in a future version of numpy, it will be understood as (type, (1,)) / '(1,)type'.\n  np_resource = np.dtype([(\"resource\", np.ubyte, 1)])\n"
                }
            ],
            "source": "import tensorflow as tf"
        },
        {
            "cell_type": "code",
            "execution_count": 3,
            "metadata": {},
            "outputs": [
                {
                    "data": {
                        "text/plain": "'1.14.0'"
                    },
                    "execution_count": 3,
                    "metadata": {},
                    "output_type": "execute_result"
                }
            ],
            "source": "tf.__version__"
        },
        {
            "cell_type": "code",
            "execution_count": 4,
            "metadata": {},
            "outputs": [
                {
                    "name": "stdout",
                    "output_type": "stream",
                    "text": "/opt/conda/envs/Python-3.7-main/lib/python3.7/site-packages/secretstorage/dhcrypto.py:16: CryptographyDeprecationWarning: int_from_bytes is deprecated, use int.from_bytes instead\n  from cryptography.utils import int_from_bytes\n/opt/conda/envs/Python-3.7-main/lib/python3.7/site-packages/secretstorage/util.py:25: CryptographyDeprecationWarning: int_from_bytes is deprecated, use int.from_bytes instead\n  from cryptography.utils import int_from_bytes\nCollecting python-mnist\n  Downloading python_mnist-0.7-py2.py3-none-any.whl (9.6 kB)\nInstalling collected packages: python-mnist\nSuccessfully installed python-mnist-0.7\n"
                }
            ],
            "source": "!pip install python-mnist"
        },
        {
            "cell_type": "code",
            "execution_count": 5,
            "metadata": {},
            "outputs": [],
            "source": "from mnist import MNIST"
        },
        {
            "cell_type": "code",
            "execution_count": 6,
            "metadata": {},
            "outputs": [
                {
                    "name": "stdout",
                    "output_type": "stream",
                    "text": "--2021-05-20 14:31:54--  http://codh.rois.ac.jp/kmnist/dataset/kmnist/train-images-idx3-ubyte.gz?raw=True\nResolving codh.rois.ac.jp (codh.rois.ac.jp)... 136.187.88.58\nConnecting to codh.rois.ac.jp (codh.rois.ac.jp)|136.187.88.58|:80... connected.\nHTTP request sent, awaiting response... 200 OK\nLength: 18165135 (17M)\nSaving to: \u2018train-images-idx3-ubyte.gz?raw=True\u2019\n\ntrain-images-idx3-u 100%[===================>]  17.32M  5.87MB/s    in 3.0s    \n\n2021-05-20 14:31:57 (5.87 MB/s) - \u2018train-images-idx3-ubyte.gz?raw=True\u2019 saved [18165135/18165135]\n\n"
                }
            ],
            "source": "!wget http://codh.rois.ac.jp/kmnist/dataset/kmnist/train-images-idx3-ubyte.gz?raw=True\n!mv train-images-idx3-ubyte.gz?raw=True train-images-idx3-ubyte.gz"
        },
        {
            "cell_type": "code",
            "execution_count": 7,
            "metadata": {},
            "outputs": [
                {
                    "name": "stdout",
                    "output_type": "stream",
                    "text": "-rw-rw---- 1 wsuser watsonstudio 45M Feb  4  2019 train-images-idx3-ubyte\r\n"
                }
            ],
            "source": "!gunzip train-images-idx3-ubyte.gz\n!ls -lahr train-images-idx3-ubyte"
        },
        {
            "cell_type": "code",
            "execution_count": 8,
            "metadata": {},
            "outputs": [
                {
                    "name": "stdout",
                    "output_type": "stream",
                    "text": "--2021-05-20 14:32:11--  http://codh.rois.ac.jp/kmnist/dataset/kmnist/train-labels-idx1-ubyte.gz?raw=True\nResolving codh.rois.ac.jp (codh.rois.ac.jp)... 136.187.88.58\nConnecting to codh.rois.ac.jp (codh.rois.ac.jp)|136.187.88.58|:80... connected.\nHTTP request sent, awaiting response... 200 OK\nLength: 29497 (29K)\nSaving to: \u2018train-labels-idx1-ubyte.gz?raw=True\u2019\n\ntrain-labels-idx1-u 100%[===================>]  28.81K  --.-KB/s    in 0.1s    \n\n2021-05-20 14:32:12 (202 KB/s) - \u2018train-labels-idx1-ubyte.gz?raw=True\u2019 saved [29497/29497]\n\n-rw-rw---- 1 wsuser watsonstudio 59K Feb  4  2019 train-labels-idx1-ubyte\n"
                }
            ],
            "source": "!wget http://codh.rois.ac.jp/kmnist/dataset/kmnist/train-labels-idx1-ubyte.gz?raw=True\n!mv train-labels-idx1-ubyte.gz?raw=True train-labels-idx1-ubyte.gz\n!gunzip train-labels-idx1-ubyte.gz\n!ls -lahr train-labels-idx1-ubyte"
        },
        {
            "cell_type": "code",
            "execution_count": 9,
            "metadata": {},
            "outputs": [
                {
                    "name": "stdout",
                    "output_type": "stream",
                    "text": "--2021-05-20 14:32:16--  http://codh.rois.ac.jp/kmnist/dataset/kmnist/t10k-images-idx3-ubyte.gz?raw=True\nResolving codh.rois.ac.jp (codh.rois.ac.jp)... 136.187.88.58\nConnecting to codh.rois.ac.jp (codh.rois.ac.jp)|136.187.88.58|:80... connected.\nHTTP request sent, awaiting response... 200 OK\nLength: 3041136 (2.9M)\nSaving to: \u2018t10k-images-idx3-ubyte.gz?raw=True\u2019\n\nt10k-images-idx3-ub 100%[===================>]   2.90M  2.49MB/s    in 1.2s    \n\n2021-05-20 14:32:18 (2.49 MB/s) - \u2018t10k-images-idx3-ubyte.gz?raw=True\u2019 saved [3041136/3041136]\n\n-rw-rw---- 1 wsuser watsonstudio 7.5M Feb  4  2019 t10k-images-idx3-ubyte\n"
                }
            ],
            "source": "!wget http://codh.rois.ac.jp/kmnist/dataset/kmnist/t10k-images-idx3-ubyte.gz?raw=True\n!mv t10k-images-idx3-ubyte.gz?raw=True t10k-images-idx3-ubyte.gz\n!gunzip t10k-images-idx3-ubyte.gz\n!ls -lahr t10k-images-idx3-ubyte"
        },
        {
            "cell_type": "code",
            "execution_count": 10,
            "metadata": {},
            "outputs": [
                {
                    "name": "stdout",
                    "output_type": "stream",
                    "text": "--2021-05-20 14:32:22--  http://codh.rois.ac.jp/kmnist/dataset/kmnist/t10k-labels-idx1-ubyte.gz?raw=True\nResolving codh.rois.ac.jp (codh.rois.ac.jp)... 136.187.88.58\nConnecting to codh.rois.ac.jp (codh.rois.ac.jp)|136.187.88.58|:80... connected.\nHTTP request sent, awaiting response... 200 OK\nLength: 5120 (5.0K)\nSaving to: \u2018t10k-labels-idx1-ubyte.gz?raw=True\u2019\n\nt10k-labels-idx1-ub 100%[===================>]   5.00K  --.-KB/s    in 0s      \n\n2021-05-20 14:32:23 (247 MB/s) - \u2018t10k-labels-idx1-ubyte.gz?raw=True\u2019 saved [5120/5120]\n\n-rw-rw---- 1 wsuser watsonstudio 9.8K Feb  4  2019 t10k-labels-idx1-ubyte\n"
                }
            ],
            "source": "!wget http://codh.rois.ac.jp/kmnist/dataset/kmnist/t10k-labels-idx1-ubyte.gz?raw=True\n!mv t10k-labels-idx1-ubyte.gz?raw=True t10k-labels-idx1-ubyte.gz\n!gunzip t10k-labels-idx1-ubyte.gz\n!ls -lahr t10k-labels-idx1-ubyte"
        },
        {
            "cell_type": "code",
            "execution_count": 11,
            "metadata": {},
            "outputs": [
                {
                    "data": {
                        "text/html": "<div>\n<style scoped>\n    .dataframe tbody tr th:only-of-type {\n        vertical-align: middle;\n    }\n\n    .dataframe tbody tr th {\n        vertical-align: top;\n    }\n\n    .dataframe thead th {\n        text-align: right;\n    }\n</style>\n<table border=\"1\" class=\"dataframe\">\n  <thead>\n    <tr style=\"text-align: right;\">\n      <th></th>\n      <th>index</th>\n      <th>codepoint</th>\n      <th>char</th>\n    </tr>\n  </thead>\n  <tbody>\n    <tr>\n      <th>0</th>\n      <td>0</td>\n      <td>U+304A</td>\n      <td>\u304a</td>\n    </tr>\n    <tr>\n      <th>1</th>\n      <td>1</td>\n      <td>U+304D</td>\n      <td>\u304d</td>\n    </tr>\n    <tr>\n      <th>2</th>\n      <td>2</td>\n      <td>U+3059</td>\n      <td>\u3059</td>\n    </tr>\n    <tr>\n      <th>3</th>\n      <td>3</td>\n      <td>U+3064</td>\n      <td>\u3064</td>\n    </tr>\n    <tr>\n      <th>4</th>\n      <td>4</td>\n      <td>U+306A</td>\n      <td>\u306a</td>\n    </tr>\n    <tr>\n      <th>5</th>\n      <td>5</td>\n      <td>U+306F</td>\n      <td>\u306f</td>\n    </tr>\n    <tr>\n      <th>6</th>\n      <td>6</td>\n      <td>U+307E</td>\n      <td>\u307e</td>\n    </tr>\n    <tr>\n      <th>7</th>\n      <td>7</td>\n      <td>U+3084</td>\n      <td>\u3084</td>\n    </tr>\n    <tr>\n      <th>8</th>\n      <td>8</td>\n      <td>U+308C</td>\n      <td>\u308c</td>\n    </tr>\n    <tr>\n      <th>9</th>\n      <td>9</td>\n      <td>U+3092</td>\n      <td>\u3092</td>\n    </tr>\n  </tbody>\n</table>\n</div>",
                        "text/plain": "   index codepoint char\n0      0    U+304A    \u304a\n1      1    U+304D    \u304d\n2      2    U+3059    \u3059\n3      3    U+3064    \u3064\n4      4    U+306A    \u306a\n5      5    U+306F    \u306f\n6      6    U+307E    \u307e\n7      7    U+3084    \u3084\n8      8    U+308C    \u308c\n9      9    U+3092    \u3092"
                    },
                    "execution_count": 11,
                    "metadata": {},
                    "output_type": "execute_result"
                }
            ],
            "source": "import pandas as pd\nurl = \"http://codh.rois.ac.jp/kmnist/dataset/kmnist/kmnist_classmap.csv\"\ndf_classmap = pd.read_csv(url)\ndf_classmap.head(11)"
        },
        {
            "cell_type": "code",
            "execution_count": 12,
            "metadata": {},
            "outputs": [],
            "source": "!mkdir datadir"
        },
        {
            "cell_type": "code",
            "execution_count": 13,
            "metadata": {},
            "outputs": [
                {
                    "name": "stdout",
                    "output_type": "stream",
                    "text": "total 53684\r\ndrwxr-x--- 3 wsuser watsonstudio     4096 May 20 14:32 .\r\ndrwx------ 1 wsuser watsonstudio     4096 May 20 14:31 ..\r\ndrwxrwx--- 2 wsuser watsonstudio     4096 May 20 14:32 datadir\r\n-rw-rw---- 1 wsuser watsonstudio  7840016 Feb  4  2019 t10k-images-idx3-ubyte\r\n-rw-rw---- 1 wsuser watsonstudio    10008 Feb  4  2019 t10k-labels-idx1-ubyte\r\n-rw-rw---- 1 wsuser watsonstudio 47040016 Feb  4  2019 train-images-idx3-ubyte\r\n-rw-rw---- 1 wsuser watsonstudio    60008 Feb  4  2019 train-labels-idx1-ubyte\r\n"
                }
            ],
            "source": "!ls -al"
        },
        {
            "cell_type": "code",
            "execution_count": 14,
            "metadata": {},
            "outputs": [],
            "source": "!cp t10k-images-idx3-ubyte datadir/t10k-images-idx3-ubyte\n!cp t10k-labels-idx1-ubyte datadir/t10k-labels-idx1-ubyte\n!cp train-images-idx3-ubyte datadir/train-images-idx3-ubyte\n!cp train-labels-idx1-ubyte datadir/train-labels-idx1-ubyte"
        },
        {
            "cell_type": "code",
            "execution_count": 15,
            "metadata": {},
            "outputs": [],
            "source": "data = MNIST('datadir')\ntrain_images, train_labels = data.load_training()\ntest_images, test_labels = data.load_testing()"
        },
        {
            "cell_type": "code",
            "execution_count": 20,
            "metadata": {},
            "outputs": [
                {
                    "name": "stdout",
                    "output_type": "stream",
                    "text": "8\n[0, 0, 0, 0, 0, 0, 0, 0, 0, 0, 0, 118, 255, 255, 124, 1, 0, 0, 0, 0, 0, 0, 0, 0, 0, 0, 0, 0, 0, 0, 0, 0, 0, 0, 0, 0, 0, 0, 36, 238, 255, 146, 2, 0, 0, 0, 0, 0, 0, 0, 0, 0, 0, 0, 0, 0, 0, 0, 0, 0, 0, 0, 0, 0, 0, 12, 203, 255, 220, 14, 0, 0, 0, 11, 132, 95, 187, 95, 0, 0, 0, 0, 0, 0, 0, 0, 0, 0, 0, 0, 0, 0, 0, 149, 255, 251, 66, 0, 0, 0, 7, 168, 136, 10, 223, 245, 67, 0, 0, 0, 0, 0, 0, 0, 0, 0, 0, 0, 0, 0, 51, 247, 255, 156, 1, 0, 0, 0, 130, 201, 9, 0, 158, 255, 170, 0, 0, 0, 0, 0, 0, 0, 0, 0, 0, 0, 0, 11, 212, 255, 226, 22, 0, 0, 0, 79, 240, 38, 0, 0, 143, 255, 197, 0, 0, 0, 0, 0, 0, 0, 0, 0, 0, 0, 0, 148, 255, 255, 107, 0, 0, 0, 33, 237, 121, 0, 0, 0, 144, 255, 222, 0, 0, 0, 0, 0, 0, 0, 0, 0, 0, 0, 0, 205, 255, 178, 3, 0, 0, 1, 179, 208, 5, 0, 0, 0, 126, 255, 166, 0, 0, 0, 0, 0, 0, 0, 0, 0, 0, 0, 7, 245, 255, 76, 0, 0, 0, 124, 254, 108, 0, 0, 0, 0, 91, 255, 156, 0, 0, 0, 0, 0, 0, 0, 0, 0, 0, 0, 23, 255, 239, 12, 0, 0, 62, 250, 225, 8, 0, 0, 0, 0, 78, 255, 197, 0, 0, 0, 0, 0, 0, 0, 0, 0, 0, 0, 48, 255, 192, 0, 0, 16, 207, 252, 84, 0, 0, 0, 0, 0, 81, 255, 178, 0, 0, 0, 0, 0, 0, 0, 0, 0, 0, 0, 53, 255, 148, 0, 0, 133, 255, 148, 0, 0, 0, 0, 0, 0, 73, 255, 157, 0, 0, 0, 0, 0, 0, 0, 0, 0, 0, 0, 95, 255, 143, 0, 105, 252, 220, 17, 0, 0, 0, 0, 0, 0, 79, 255, 96, 0, 0, 0, 0, 0, 0, 0, 0, 0, 0, 0, 149, 255, 121, 58, 246, 254, 79, 0, 0, 0, 0, 7, 53, 1, 102, 255, 100, 0, 0, 0, 0, 0, 0, 0, 0, 0, 0, 0, 202, 255, 213, 233, 255, 186, 2, 0, 0, 0, 0, 0, 10, 47, 132, 255, 97, 0, 0, 0, 0, 0, 0, 0, 0, 0, 0, 16, 246, 255, 255, 255, 230, 19, 0, 0, 0, 0, 0, 0, 0, 0, 144, 255, 95, 0, 0, 0, 0, 0, 0, 0, 0, 0, 0, 89, 255, 255, 255, 243, 71, 0, 0, 0, 0, 0, 0, 0, 0, 0, 157, 255, 105, 0, 0, 0, 0, 0, 0, 0, 0, 0, 0, 192, 255, 255, 254, 54, 0, 0, 0, 0, 0, 0, 0, 0, 0, 0, 189, 255, 104, 0, 0, 0, 0, 0, 0, 0, 0, 0, 45, 252, 255, 255, 252, 28, 0, 0, 0, 0, 0, 0, 0, 0, 0, 3, 233, 255, 116, 0, 0, 0, 0, 0, 0, 0, 0, 0, 161, 255, 255, 255, 251, 23, 0, 0, 0, 0, 0, 0, 0, 0, 0, 1, 223, 255, 178, 7, 0, 0, 0, 0, 0, 0, 0, 56, 252, 255, 255, 255, 249, 17, 0, 0, 0, 0, 0, 0, 0, 0, 0, 0, 159, 255, 255, 181, 12, 0, 0, 0, 0, 0, 0, 180, 255, 255, 255, 255, 250, 18, 0, 0, 0, 0, 0, 0, 0, 0, 0, 0, 39, 245, 255, 255, 177, 0, 0, 0, 0, 0, 15, 252, 255, 255, 255, 255, 237, 5, 0, 0, 0, 0, 0, 0, 0, 0, 0, 0, 0, 97, 253, 255, 231, 0, 0, 0, 0, 0, 17, 254, 243, 224, 255, 255, 239, 6, 0, 0, 0, 0, 0, 0, 0, 0, 0, 0, 0, 24, 241, 255, 213, 0, 0, 0, 0, 0, 5, 150, 70, 103, 255, 255, 168, 0, 0, 0, 0, 0, 0, 0, 0, 0, 0, 0, 35, 222, 255, 174, 21, 0, 0, 0, 0, 0, 0, 0, 0, 65, 255, 254, 62, 0, 0, 0, 0, 0, 0, 0, 0, 0, 0, 59, 227, 246, 93, 2, 0, 0, 0, 0, 0, 0, 0, 0, 0, 30, 253, 186, 2, 0, 0, 0, 0, 0, 0, 0, 0, 0, 24, 240, 240, 76, 0, 0, 0, 0, 0, 0, 0, 0, 0, 0, 0, 8, 144, 26, 0, 0, 0, 0, 0, 0, 0, 0, 0, 0, 122, 255, 90, 0, 0, 0, 0, 0, 0, 0]\n"
                }
            ],
            "source": "print(train_labels[0])\nprint(train_images[0])"
        },
        {
            "cell_type": "code",
            "execution_count": null,
            "metadata": {},
            "outputs": [],
            "source": "# We can actually see vaguely the shape of the character re, which \n# is labeled number 8"
        },
        {
            "cell_type": "code",
            "execution_count": 21,
            "metadata": {},
            "outputs": [
                {
                    "name": "stdout",
                    "output_type": "stream",
                    "text": "7\n[0, 0, 0, 0, 0, 0, 0, 0, 0, 0, 0, 0, 0, 0, 0, 0, 0, 0, 0, 0, 0, 0, 0, 0, 0, 0, 0, 0, 0, 0, 0, 0, 0, 0, 0, 0, 0, 0, 0, 0, 0, 0, 0, 0, 0, 0, 0, 0, 0, 0, 0, 0, 0, 0, 0, 0, 0, 0, 0, 0, 0, 0, 0, 0, 0, 0, 0, 0, 0, 0, 0, 0, 0, 0, 0, 0, 0, 0, 0, 0, 0, 0, 0, 0, 0, 0, 0, 0, 0, 0, 0, 0, 0, 0, 0, 0, 0, 0, 0, 0, 0, 0, 0, 0, 0, 0, 0, 0, 0, 0, 0, 0, 0, 0, 0, 0, 0, 0, 0, 0, 0, 0, 0, 0, 0, 0, 0, 0, 0, 0, 0, 0, 0, 0, 0, 0, 0, 0, 0, 0, 0, 0, 0, 0, 0, 0, 0, 0, 0, 0, 0, 0, 0, 0, 0, 0, 0, 0, 0, 0, 0, 0, 0, 0, 0, 0, 0, 0, 0, 0, 0, 0, 0, 0, 0, 0, 0, 0, 0, 0, 1, 134, 162, 155, 49, 0, 63, 89, 0, 0, 0, 0, 0, 0, 0, 0, 0, 0, 0, 0, 0, 0, 0, 0, 0, 0, 0, 7, 120, 253, 250, 129, 0, 0, 0, 0, 0, 0, 0, 0, 0, 0, 0, 0, 0, 0, 0, 0, 0, 0, 0, 0, 0, 0, 0, 77, 252, 251, 78, 0, 0, 0, 0, 0, 0, 0, 0, 0, 0, 0, 0, 0, 0, 0, 0, 0, 0, 0, 0, 0, 0, 4, 107, 210, 241, 121, 133, 16, 0, 0, 0, 0, 0, 0, 0, 0, 0, 0, 0, 0, 0, 0, 0, 0, 0, 0, 0, 0, 4, 147, 254, 244, 235, 230, 255, 138, 21, 0, 0, 0, 0, 0, 0, 0, 0, 0, 0, 0, 0, 0, 0, 0, 0, 0, 0, 82, 180, 254, 211, 236, 255, 218, 255, 255, 144, 0, 0, 0, 0, 0, 0, 0, 0, 0, 0, 0, 0, 0, 0, 0, 0, 0, 93, 249, 255, 208, 53, 241, 70, 10, 217, 255, 233, 57, 71, 117, 151, 110, 63, 9, 0, 0, 0, 0, 0, 0, 0, 0, 13, 177, 238, 251, 120, 19, 98, 218, 82, 102, 253, 255, 255, 252, 255, 255, 255, 255, 254, 214, 108, 5, 0, 0, 0, 0, 0, 6, 166, 255, 204, 83, 137, 229, 255, 255, 254, 222, 249, 255, 255, 192, 104, 133, 185, 255, 255, 255, 255, 222, 86, 2, 0, 0, 66, 219, 249, 217, 124, 233, 254, 255, 255, 218, 116, 2, 108, 255, 255, 110, 0, 0, 1, 70, 73, 185, 237, 255, 252, 66, 1, 97, 213, 211, 205, 255, 239, 237, 252, 163, 158, 177, 64, 0, 114, 255, 252, 66, 0, 0, 0, 0, 0, 0, 107, 255, 255, 140, 76, 239, 236, 255, 255, 255, 230, 163, 74, 2, 22, 193, 243, 110, 134, 255, 214, 6, 0, 0, 0, 0, 37, 155, 244, 255, 255, 191, 122, 255, 255, 255, 255, 220, 65, 5, 0, 0, 0, 30, 184, 252, 235, 255, 102, 0, 0, 0, 29, 140, 237, 255, 255, 255, 255, 113, 4, 71, 137, 185, 149, 32, 0, 0, 0, 0, 0, 0, 12, 177, 255, 255, 132, 75, 110, 195, 243, 255, 255, 255, 255, 255, 201, 12, 0, 0, 0, 0, 0, 0, 0, 0, 0, 0, 0, 0, 0, 18, 73, 89, 66, 152, 227, 255, 255, 255, 255, 255, 206, 111, 11, 0, 0, 0, 0, 0, 0, 0, 0, 0, 0, 0, 0, 0, 0, 66, 0, 0, 0, 0, 0, 0, 0, 34, 49, 5, 1, 0, 0, 0, 0, 0, 0, 0, 0, 0, 0, 0, 0, 0, 0, 0, 0, 0, 0, 0, 0, 0, 0, 0, 0, 0, 0, 0, 0, 0, 0, 0, 0, 0, 0, 0, 0, 0, 0, 0, 0, 0, 0, 0, 0, 0, 0, 0, 0, 0, 0, 0, 0, 0, 0, 0, 0, 0, 0, 0, 0, 0, 0, 0, 0, 0, 0, 0, 0, 0, 0, 0, 0, 0, 0, 0, 0, 0, 0, 0, 0, 0, 0, 0, 0, 0, 0, 0, 0, 0, 0, 0, 0, 0, 0, 0, 0, 0, 0, 0, 0, 0, 0, 0, 0, 0, 0, 0, 0, 0, 0, 0, 0, 0, 0, 0, 0, 0, 0, 0, 0, 0, 0, 0, 0, 0, 0, 0, 0, 0, 0, 0, 0, 0, 0, 0, 0, 0, 0, 0, 0, 0, 0, 0, 0, 0, 0, 0, 0, 0, 0, 0, 0, 0, 0, 0, 0, 0, 0, 0, 0, 0, 0, 0, 0, 0, 0, 0, 0, 0, 0, 0]\n"
                }
            ],
            "source": "print(train_labels[1])\nprint(train_images[1])"
        },
        {
            "cell_type": "code",
            "execution_count": 28,
            "metadata": {},
            "outputs": [
                {
                    "name": "stdout",
                    "output_type": "stream",
                    "text": "array('B', [8, 7, 0])\n[[0, 0, 0, 0, 0, 0, 0, 0, 0, 0, 0, 118, 255, 255, 124, 1, 0, 0, 0, 0, 0, 0, 0, 0, 0, 0, 0, 0, 0, 0, 0, 0, 0, 0, 0, 0, 0, 0, 36, 238, 255, 146, 2, 0, 0, 0, 0, 0, 0, 0, 0, 0, 0, 0, 0, 0, 0, 0, 0, 0, 0, 0, 0, 0, 0, 12, 203, 255, 220, 14, 0, 0, 0, 11, 132, 95, 187, 95, 0, 0, 0, 0, 0, 0, 0, 0, 0, 0, 0, 0, 0, 0, 0, 149, 255, 251, 66, 0, 0, 0, 7, 168, 136, 10, 223, 245, 67, 0, 0, 0, 0, 0, 0, 0, 0, 0, 0, 0, 0, 0, 51, 247, 255, 156, 1, 0, 0, 0, 130, 201, 9, 0, 158, 255, 170, 0, 0, 0, 0, 0, 0, 0, 0, 0, 0, 0, 0, 11, 212, 255, 226, 22, 0, 0, 0, 79, 240, 38, 0, 0, 143, 255, 197, 0, 0, 0, 0, 0, 0, 0, 0, 0, 0, 0, 0, 148, 255, 255, 107, 0, 0, 0, 33, 237, 121, 0, 0, 0, 144, 255, 222, 0, 0, 0, 0, 0, 0, 0, 0, 0, 0, 0, 0, 205, 255, 178, 3, 0, 0, 1, 179, 208, 5, 0, 0, 0, 126, 255, 166, 0, 0, 0, 0, 0, 0, 0, 0, 0, 0, 0, 7, 245, 255, 76, 0, 0, 0, 124, 254, 108, 0, 0, 0, 0, 91, 255, 156, 0, 0, 0, 0, 0, 0, 0, 0, 0, 0, 0, 23, 255, 239, 12, 0, 0, 62, 250, 225, 8, 0, 0, 0, 0, 78, 255, 197, 0, 0, 0, 0, 0, 0, 0, 0, 0, 0, 0, 48, 255, 192, 0, 0, 16, 207, 252, 84, 0, 0, 0, 0, 0, 81, 255, 178, 0, 0, 0, 0, 0, 0, 0, 0, 0, 0, 0, 53, 255, 148, 0, 0, 133, 255, 148, 0, 0, 0, 0, 0, 0, 73, 255, 157, 0, 0, 0, 0, 0, 0, 0, 0, 0, 0, 0, 95, 255, 143, 0, 105, 252, 220, 17, 0, 0, 0, 0, 0, 0, 79, 255, 96, 0, 0, 0, 0, 0, 0, 0, 0, 0, 0, 0, 149, 255, 121, 58, 246, 254, 79, 0, 0, 0, 0, 7, 53, 1, 102, 255, 100, 0, 0, 0, 0, 0, 0, 0, 0, 0, 0, 0, 202, 255, 213, 233, 255, 186, 2, 0, 0, 0, 0, 0, 10, 47, 132, 255, 97, 0, 0, 0, 0, 0, 0, 0, 0, 0, 0, 16, 246, 255, 255, 255, 230, 19, 0, 0, 0, 0, 0, 0, 0, 0, 144, 255, 95, 0, 0, 0, 0, 0, 0, 0, 0, 0, 0, 89, 255, 255, 255, 243, 71, 0, 0, 0, 0, 0, 0, 0, 0, 0, 157, 255, 105, 0, 0, 0, 0, 0, 0, 0, 0, 0, 0, 192, 255, 255, 254, 54, 0, 0, 0, 0, 0, 0, 0, 0, 0, 0, 189, 255, 104, 0, 0, 0, 0, 0, 0, 0, 0, 0, 45, 252, 255, 255, 252, 28, 0, 0, 0, 0, 0, 0, 0, 0, 0, 3, 233, 255, 116, 0, 0, 0, 0, 0, 0, 0, 0, 0, 161, 255, 255, 255, 251, 23, 0, 0, 0, 0, 0, 0, 0, 0, 0, 1, 223, 255, 178, 7, 0, 0, 0, 0, 0, 0, 0, 56, 252, 255, 255, 255, 249, 17, 0, 0, 0, 0, 0, 0, 0, 0, 0, 0, 159, 255, 255, 181, 12, 0, 0, 0, 0, 0, 0, 180, 255, 255, 255, 255, 250, 18, 0, 0, 0, 0, 0, 0, 0, 0, 0, 0, 39, 245, 255, 255, 177, 0, 0, 0, 0, 0, 15, 252, 255, 255, 255, 255, 237, 5, 0, 0, 0, 0, 0, 0, 0, 0, 0, 0, 0, 97, 253, 255, 231, 0, 0, 0, 0, 0, 17, 254, 243, 224, 255, 255, 239, 6, 0, 0, 0, 0, 0, 0, 0, 0, 0, 0, 0, 24, 241, 255, 213, 0, 0, 0, 0, 0, 5, 150, 70, 103, 255, 255, 168, 0, 0, 0, 0, 0, 0, 0, 0, 0, 0, 0, 35, 222, 255, 174, 21, 0, 0, 0, 0, 0, 0, 0, 0, 65, 255, 254, 62, 0, 0, 0, 0, 0, 0, 0, 0, 0, 0, 59, 227, 246, 93, 2, 0, 0, 0, 0, 0, 0, 0, 0, 0, 30, 253, 186, 2, 0, 0, 0, 0, 0, 0, 0, 0, 0, 24, 240, 240, 76, 0, 0, 0, 0, 0, 0, 0, 0, 0, 0, 0, 8, 144, 26, 0, 0, 0, 0, 0, 0, 0, 0, 0, 0, 122, 255, 90, 0, 0, 0, 0, 0, 0, 0], [0, 0, 0, 0, 0, 0, 0, 0, 0, 0, 0, 0, 0, 0, 0, 0, 0, 0, 0, 0, 0, 0, 0, 0, 0, 0, 0, 0, 0, 0, 0, 0, 0, 0, 0, 0, 0, 0, 0, 0, 0, 0, 0, 0, 0, 0, 0, 0, 0, 0, 0, 0, 0, 0, 0, 0, 0, 0, 0, 0, 0, 0, 0, 0, 0, 0, 0, 0, 0, 0, 0, 0, 0, 0, 0, 0, 0, 0, 0, 0, 0, 0, 0, 0, 0, 0, 0, 0, 0, 0, 0, 0, 0, 0, 0, 0, 0, 0, 0, 0, 0, 0, 0, 0, 0, 0, 0, 0, 0, 0, 0, 0, 0, 0, 0, 0, 0, 0, 0, 0, 0, 0, 0, 0, 0, 0, 0, 0, 0, 0, 0, 0, 0, 0, 0, 0, 0, 0, 0, 0, 0, 0, 0, 0, 0, 0, 0, 0, 0, 0, 0, 0, 0, 0, 0, 0, 0, 0, 0, 0, 0, 0, 0, 0, 0, 0, 0, 0, 0, 0, 0, 0, 0, 0, 0, 0, 0, 0, 0, 0, 1, 134, 162, 155, 49, 0, 63, 89, 0, 0, 0, 0, 0, 0, 0, 0, 0, 0, 0, 0, 0, 0, 0, 0, 0, 0, 0, 7, 120, 253, 250, 129, 0, 0, 0, 0, 0, 0, 0, 0, 0, 0, 0, 0, 0, 0, 0, 0, 0, 0, 0, 0, 0, 0, 0, 77, 252, 251, 78, 0, 0, 0, 0, 0, 0, 0, 0, 0, 0, 0, 0, 0, 0, 0, 0, 0, 0, 0, 0, 0, 0, 4, 107, 210, 241, 121, 133, 16, 0, 0, 0, 0, 0, 0, 0, 0, 0, 0, 0, 0, 0, 0, 0, 0, 0, 0, 0, 0, 4, 147, 254, 244, 235, 230, 255, 138, 21, 0, 0, 0, 0, 0, 0, 0, 0, 0, 0, 0, 0, 0, 0, 0, 0, 0, 0, 82, 180, 254, 211, 236, 255, 218, 255, 255, 144, 0, 0, 0, 0, 0, 0, 0, 0, 0, 0, 0, 0, 0, 0, 0, 0, 0, 93, 249, 255, 208, 53, 241, 70, 10, 217, 255, 233, 57, 71, 117, 151, 110, 63, 9, 0, 0, 0, 0, 0, 0, 0, 0, 13, 177, 238, 251, 120, 19, 98, 218, 82, 102, 253, 255, 255, 252, 255, 255, 255, 255, 254, 214, 108, 5, 0, 0, 0, 0, 0, 6, 166, 255, 204, 83, 137, 229, 255, 255, 254, 222, 249, 255, 255, 192, 104, 133, 185, 255, 255, 255, 255, 222, 86, 2, 0, 0, 66, 219, 249, 217, 124, 233, 254, 255, 255, 218, 116, 2, 108, 255, 255, 110, 0, 0, 1, 70, 73, 185, 237, 255, 252, 66, 1, 97, 213, 211, 205, 255, 239, 237, 252, 163, 158, 177, 64, 0, 114, 255, 252, 66, 0, 0, 0, 0, 0, 0, 107, 255, 255, 140, 76, 239, 236, 255, 255, 255, 230, 163, 74, 2, 22, 193, 243, 110, 134, 255, 214, 6, 0, 0, 0, 0, 37, 155, 244, 255, 255, 191, 122, 255, 255, 255, 255, 220, 65, 5, 0, 0, 0, 30, 184, 252, 235, 255, 102, 0, 0, 0, 29, 140, 237, 255, 255, 255, 255, 113, 4, 71, 137, 185, 149, 32, 0, 0, 0, 0, 0, 0, 12, 177, 255, 255, 132, 75, 110, 195, 243, 255, 255, 255, 255, 255, 201, 12, 0, 0, 0, 0, 0, 0, 0, 0, 0, 0, 0, 0, 0, 18, 73, 89, 66, 152, 227, 255, 255, 255, 255, 255, 206, 111, 11, 0, 0, 0, 0, 0, 0, 0, 0, 0, 0, 0, 0, 0, 0, 66, 0, 0, 0, 0, 0, 0, 0, 34, 49, 5, 1, 0, 0, 0, 0, 0, 0, 0, 0, 0, 0, 0, 0, 0, 0, 0, 0, 0, 0, 0, 0, 0, 0, 0, 0, 0, 0, 0, 0, 0, 0, 0, 0, 0, 0, 0, 0, 0, 0, 0, 0, 0, 0, 0, 0, 0, 0, 0, 0, 0, 0, 0, 0, 0, 0, 0, 0, 0, 0, 0, 0, 0, 0, 0, 0, 0, 0, 0, 0, 0, 0, 0, 0, 0, 0, 0, 0, 0, 0, 0, 0, 0, 0, 0, 0, 0, 0, 0, 0, 0, 0, 0, 0, 0, 0, 0, 0, 0, 0, 0, 0, 0, 0, 0, 0, 0, 0, 0, 0, 0, 0, 0, 0, 0, 0, 0, 0, 0, 0, 0, 0, 0, 0, 0, 0, 0, 0, 0, 0, 0, 0, 0, 0, 0, 0, 0, 0, 0, 0, 0, 0, 0, 0, 0, 0, 0, 0, 0, 0, 0, 0, 0, 0, 0, 0, 0, 0, 0, 0, 0, 0, 0, 0, 0, 0, 0, 0, 0, 0, 0, 0, 0], [0, 0, 0, 0, 0, 0, 0, 0, 0, 0, 0, 0, 0, 0, 0, 0, 0, 0, 0, 0, 0, 0, 0, 0, 0, 0, 0, 0, 0, 0, 0, 0, 0, 0, 0, 0, 0, 0, 0, 0, 0, 0, 0, 0, 0, 0, 0, 0, 0, 0, 0, 0, 0, 0, 0, 0, 0, 0, 0, 0, 0, 0, 3, 1, 0, 0, 0, 0, 0, 0, 0, 0, 1, 16, 18, 18, 18, 18, 18, 18, 8, 0, 0, 0, 0, 0, 0, 0, 0, 3, 156, 141, 4, 0, 0, 0, 0, 0, 0, 0, 3, 106, 221, 251, 255, 255, 255, 255, 96, 0, 0, 0, 0, 0, 0, 0, 0, 21, 235, 253, 54, 0, 0, 0, 0, 0, 0, 0, 0, 0, 6, 63, 129, 159, 252, 231, 27, 0, 0, 0, 0, 0, 0, 0, 0, 35, 248, 255, 133, 0, 0, 0, 0, 0, 0, 0, 0, 0, 0, 2, 28, 70, 247, 217, 28, 0, 0, 0, 0, 0, 0, 0, 0, 31, 234, 255, 202, 0, 0, 0, 0, 0, 0, 0, 0, 0, 0, 66, 243, 250, 255, 255, 234, 178, 57, 0, 34, 49, 9, 0, 0, 32, 235, 255, 178, 0, 0, 0, 0, 0, 0, 0, 0, 8, 78, 237, 255, 246, 189, 201, 237, 255, 213, 6, 173, 254, 175, 22, 0, 21, 229, 255, 66, 0, 0, 0, 0, 0, 0, 0, 17, 143, 252, 238, 151, 62, 1, 1, 39, 197, 250, 93, 34, 236, 253, 235, 160, 134, 255, 255, 40, 0, 0, 0, 0, 0, 0, 2, 177, 194, 100, 25, 3, 0, 0, 0, 0, 25, 247, 220, 0, 121, 242, 252, 255, 255, 255, 250, 42, 0, 0, 0, 0, 0, 45, 132, 69, 5, 0, 0, 0, 0, 0, 0, 0, 32, 248, 255, 0, 4, 62, 181, 210, 215, 255, 255, 39, 0, 0, 0, 36, 113, 232, 58, 149, 132, 10, 0, 0, 0, 0, 0, 0, 113, 255, 238, 0, 0, 0, 3, 5, 109, 255, 255, 61, 0, 0, 61, 185, 116, 125, 185, 254, 255, 165, 0, 0, 0, 0, 0, 62, 239, 255, 108, 0, 0, 0, 0, 0, 128, 255, 255, 75, 57, 132, 188, 138, 14, 0, 25, 111, 169, 252, 92, 0, 0, 0, 21, 227, 255, 223, 15, 0, 0, 0, 0, 0, 154, 255, 255, 244, 253, 255, 142, 38, 0, 0, 0, 0, 89, 242, 214, 12, 0, 17, 184, 246, 232, 66, 0, 0, 0, 0, 0, 56, 214, 255, 255, 255, 255, 207, 29, 0, 0, 0, 0, 0, 8, 208, 244, 33, 36, 183, 254, 239, 76, 0, 0, 0, 0, 12, 108, 217, 255, 255, 255, 255, 243, 42, 0, 0, 0, 0, 0, 0, 5, 129, 245, 45, 176, 255, 198, 38, 0, 0, 0, 0, 9, 157, 244, 232, 255, 255, 255, 255, 156, 1, 0, 0, 0, 0, 0, 0, 129, 233, 255, 215, 255, 210, 23, 0, 0, 0, 0, 0, 105, 223, 215, 227, 255, 255, 255, 203, 21, 0, 0, 0, 0, 0, 0, 1, 105, 233, 255, 255, 234, 102, 0, 0, 0, 0, 0, 2, 209, 244, 204, 250, 255, 255, 254, 66, 0, 0, 0, 0, 0, 0, 2, 80, 114, 200, 255, 218, 65, 9, 0, 0, 0, 0, 0, 43, 215, 255, 255, 255, 255, 255, 253, 143, 150, 188, 156, 120, 41, 61, 128, 81, 162, 226, 223, 32, 0, 0, 0, 0, 0, 0, 0, 15, 225, 247, 255, 255, 247, 226, 231, 255, 255, 255, 255, 255, 130, 149, 244, 74, 180, 176, 34, 0, 0, 0, 0, 0, 0, 0, 0, 0, 76, 222, 248, 173, 40, 14, 17, 82, 214, 255, 252, 255, 176, 80, 91, 160, 134, 17, 0, 0, 0, 0, 0, 0, 0, 0, 0, 0, 0, 17, 26, 10, 0, 0, 0, 0, 21, 116, 226, 255, 237, 10, 107, 151, 4, 0, 0, 0, 0, 0, 0, 0, 0, 0, 0, 0, 0, 0, 0, 0, 0, 0, 0, 0, 0, 0, 24, 205, 45, 30, 186, 16, 0, 0, 0, 0, 0, 0, 0, 0, 0, 0, 0, 0, 0, 0, 0, 0, 0, 0, 0, 0, 0, 0, 0, 10, 0, 6, 9, 0, 0, 0, 0, 0, 0, 0, 0, 0, 0, 0, 0, 0, 0, 0, 0, 0, 0, 0, 0, 0, 0, 0, 0, 0, 0, 0, 0, 0, 0, 0, 0, 0, 0, 0, 0, 0, 0, 0, 0, 0, 0, 0, 0, 0, 0, 0, 0, 0, 0, 0, 0, 0, 0, 0, 0, 0, 0, 0, 0, 0, 0, 0, 0, 0, 0, 0, 0]]\n"
                }
            ],
            "source": "print(train_labels[:3])\nprint(train_images[:3])"
        },
        {
            "cell_type": "code",
            "execution_count": null,
            "metadata": {},
            "outputs": [],
            "source": "# the output means that train_labels is an array of typecode 'B'\n# which is Python type int, and is C Type unsigned char"
        },
        {
            "cell_type": "code",
            "execution_count": 30,
            "metadata": {},
            "outputs": [
                {
                    "data": {
                        "text/plain": "array.array"
                    },
                    "execution_count": 30,
                    "metadata": {},
                    "output_type": "execute_result"
                }
            ],
            "source": "type(train_labels)"
        },
        {
            "cell_type": "code",
            "execution_count": 31,
            "metadata": {},
            "outputs": [
                {
                    "data": {
                        "text/plain": "list"
                    },
                    "execution_count": 31,
                    "metadata": {},
                    "output_type": "execute_result"
                }
            ],
            "source": "type(train_images)"
        },
        {
            "cell_type": "code",
            "execution_count": 33,
            "metadata": {},
            "outputs": [
                {
                    "data": {
                        "text/plain": "'B'"
                    },
                    "execution_count": 33,
                    "metadata": {},
                    "output_type": "execute_result"
                }
            ],
            "source": "train_labels.typecode"
        },
        {
            "cell_type": "code",
            "execution_count": 34,
            "metadata": {},
            "outputs": [
                {
                    "data": {
                        "text/plain": "(94648231677104, 60000)"
                    },
                    "execution_count": 34,
                    "metadata": {},
                    "output_type": "execute_result"
                }
            ],
            "source": "# this output is (address, length) giving current memory address\n# and length in elements of the buffer used to hold the array's\n# contents\n\ntrain_labels.buffer_info()"
        },
        {
            "cell_type": "code",
            "execution_count": 18,
            "metadata": {},
            "outputs": [
                {
                    "ename": "TypeError",
                    "evalue": "unsupported operand type(s) for /: 'list' and 'int'",
                    "output_type": "error",
                    "traceback": [
                        "\u001b[0;31m---------------------------------------------------------------------------\u001b[0m",
                        "\u001b[0;31mTypeError\u001b[0m                                 Traceback (most recent call last)",
                        "\u001b[0;32m<ipython-input-18-8358ff516f37>\u001b[0m in \u001b[0;36m<module>\u001b[0;34m\u001b[0m\n\u001b[0;32m----> 1\u001b[0;31m \u001b[0mtrain_images\u001b[0m \u001b[0;34m=\u001b[0m \u001b[0mtrain_images\u001b[0m \u001b[0;34m/\u001b[0m \u001b[0;36m255\u001b[0m\u001b[0;34m\u001b[0m\u001b[0;34m\u001b[0m\u001b[0m\n\u001b[0m\u001b[1;32m      2\u001b[0m \u001b[0mtest_images\u001b[0m \u001b[0;34m=\u001b[0m \u001b[0mtest_images\u001b[0m \u001b[0;34m/\u001b[0m \u001b[0;36m255\u001b[0m\u001b[0;34m\u001b[0m\u001b[0;34m\u001b[0m\u001b[0m\n",
                        "\u001b[0;31mTypeError\u001b[0m: unsupported operand type(s) for /: 'list' and 'int'"
                    ]
                }
            ],
            "source": "# need to move this code to another notebook\n# not the data exploration notebook\n# train_images = train_images / 255\n# test_images = test_images / 255"
        },
        {
            "cell_type": "code",
            "execution_count": null,
            "metadata": {},
            "outputs": [],
            "source": "# In the first dataset that we downloaded and loaded above, the data\n# is already flattened, which is good for the machine learning model\n# but we would like to actaully be able to view the images"
        }
    ],
    "metadata": {
        "kernelspec": {
            "display_name": "Python 3.7",
            "language": "python",
            "name": "python3"
        },
        "language_info": {
            "codemirror_mode": {
                "name": "ipython",
                "version": 3
            },
            "file_extension": ".py",
            "mimetype": "text/x-python",
            "name": "python",
            "nbconvert_exporter": "python",
            "pygments_lexer": "ipython3",
            "version": "3.7.10"
        }
    },
    "nbformat": 4,
    "nbformat_minor": 1
}