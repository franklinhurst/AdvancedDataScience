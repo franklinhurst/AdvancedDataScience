{
    "cells": [
        {
            "cell_type": "markdown",
            "metadata": {
                "collapsed": true
            },
            "source": "### Model Evaluation\n\nModel evaluation is a critical task in data science. This is one of the few measures business stakeholders are interested in. Model performance heavily influences business impact of a data science project. Therefore, it is important to take some time apart in an independent task in the process model. \n\nSo how are models evaluated? In supervised machine learning this is relatively straightforward since you can always create a ground truth and compare your results against ground truth.\n\nSo, we are either splitting data into training-, test- and validation-sets to assess model performance on the test set or we use cross validation. This all is explained in the following coursera course https://www.coursera.org/learn/advanced-machine-learning-signal-processing/ Week 2.\n\nIn case we know what data set we can use as ground truth in supervised learning (classification and regression) we need to define a different measure for evaluation than in unsupervised learning (clustering). Since it depends on the type of model we create, the following none exhaustive lists can be used as a starting point for further research:\n\n#### Classification:\n\n- Confusion Matrix\n\n- Accuracy\n\n- Precision\n\n- Recall\n\n- Specificity\n\n- True positive rate\n\n- True negative rate\n\n- False positive rate\n\n- False negative rate\n\n- F1-score\n\n- Gain and Lift\n\n- Kolomogorov Smirnov\n\n- Area Under ROC\n\n- Gini Coefficient\n\n- Concordant \u2013 Discordant ratio\n\n#### Regression:\n\n- Root Mean Squared Error (RMSE)\n\n- Mean Squared Error\n\n- Mean Absolute Error (MAE)\n\n- R-Squared\n\n- Relative Squared Error\n\n- Relative Absolute Error\n\n- Sum of Differences\n\n- ACF plot of residuals\n\n- Histogram of residuals\n\n- Residual plots against predictors\n\n- Residual plots against fitted values\n\nClustering:\n\n- Adjusted Rand index\n\n- Mutual Information\n\n- Homogeneity completeness\n\n- V-measure\n\n- Fowlkes-Mallows\n\n- Silhouette Coefficient Calinski-Harabaz\u00b6\n\nReferences:\n\nhttp://scikit-learn.org/stable/modules/clustering.html#clustering-performance-evaluation\n\nPlease choose at least one appropriate model performance measure, justify why you\u2019ve used it and document how iterative changes in the feature creation task influence it."
        },
        {
            "cell_type": "code",
            "execution_count": null,
            "metadata": {},
            "outputs": [],
            "source": ""
        }
    ],
    "metadata": {
        "kernelspec": {
            "display_name": "Python 3.7",
            "language": "python",
            "name": "python3"
        },
        "language_info": {
            "codemirror_mode": {
                "name": "ipython",
                "version": 3
            },
            "file_extension": ".py",
            "mimetype": "text/x-python",
            "name": "python",
            "nbconvert_exporter": "python",
            "pygments_lexer": "ipython3",
            "version": "3.7.10"
        }
    },
    "nbformat": 4,
    "nbformat_minor": 1
}