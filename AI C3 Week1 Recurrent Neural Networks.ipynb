{
    "cells": [
        {
            "cell_type": "markdown",
            "metadata": {
                "collapsed": true
            },
            "source": "### Recurrent Neural Networks"
        },
        {
            "cell_type": "markdown",
            "metadata": {},
            "source": "A single hidden layer feed forward neural network can represent any mathematical function.  But training such a neural network for any function is impossible.  Recurrent neural networks is one solution to this problem.\n\nWhile feed forward neural networks are often good at learning the function, they have issues with sequence and time series data, like we have for IOT sensor data.  Processing sequences and time series require some sort of memory since dynamic temporal behavior is also adding information to the whole picture.\n\nSo, by adding loop back connections between the neurons, such a recurrent neural network can remember past events.  Note that any recurrent neural network can be unfolded through time and then basically forms a feed forward neural network.  So this entire exercise is really just to make training more efficient.  There exists an abudance of recurrent neural network types:\n\nrecursive\nhopfield\nfully recurrent\nElman network\nJordan network\necho state\nneural history compressor\nand finally long short term memory (LSTM).\n\nWe will only focus on LSTM in this course.  These are powerful and essential."
        },
        {
            "cell_type": "code",
            "execution_count": null,
            "metadata": {},
            "outputs": [],
            "source": ""
        }
    ],
    "metadata": {
        "kernelspec": {
            "display_name": "Python 3.7",
            "language": "python",
            "name": "python3"
        },
        "language_info": {
            "codemirror_mode": {
                "name": "ipython",
                "version": 3
            },
            "file_extension": ".py",
            "mimetype": "text/x-python",
            "name": "python",
            "nbconvert_exporter": "python",
            "pygments_lexer": "ipython3",
            "version": "3.7.10"
        }
    },
    "nbformat": 4,
    "nbformat_minor": 1
}