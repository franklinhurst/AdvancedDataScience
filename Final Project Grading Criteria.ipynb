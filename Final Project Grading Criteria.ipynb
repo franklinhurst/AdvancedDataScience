{
    "cells": [
        {
            "cell_type": "markdown",
            "metadata": {
                "collapsed": true
            },
            "source": "These are the grading criteria:\n\nFrom the answer, please judge if the learner has read and understood the  documents on the process model and architectural decision guidelines\n\nPlease try to judge if the use case and data set is interesting and challenging enough to be an interesting capstone project\n\nPlease watch the video and assign points as described below. For each item you find coverage in the video please assign one point.\n\n- Use Case\n- Data Set\n- Data Quality Assessment\n- Data Exploration (e.g. correlation between columns)\n- Data Visualization (e.g. value distribution of columns)\n- At least one Feature Engineering (e.g. imputing missing values) applied\n- Selection and justification of Model Performance Indicator (e.g. F1 score)\n- At least one traditional Machine Learning Algorithm and one DeepLearning Algorithm applied and demonstrated\n- Model performance between different feature engineerings  and models compared and documented\n\nPlease assign one point for each item below which is properly covered in the ADD\n\n- Why have I chosen a specific method for data quality assessment?\n- Why have I chosen a specific method for feature engineering?\n- Why have I chosen a specific algorithm?\n- Why have I chosen a specific framework?\n- Why have I chosen a specific model performance indicator?\n\nPlease provide a list of IBM Watson Studio Notebook permalinks GIST to your notebooks you consider as your data product\n\nLearn how to share a GIST of your notebooks\n\nhttps://github.com/IBM/coursera/wiki/FAQ#how-do-i-share-a-gist-of-my-notebook\n\n\nPlease review the notebooks and assign points according to how many of the following items are properly covered\n\n- The notebooks are clearly structured and documented\n- The notebooks contain visualizations in the data quality assessment steps\n- The notebooks reveal the overall data processing steps ETL->Feature Engineering->Model Training/Evaluation/Selection->Final Result\n- The notebooks contain visualizations in the model performance assessment steps\n- The notebooks show the answers to the questions defined in the Usecase"
        },
        {
            "cell_type": "code",
            "execution_count": null,
            "metadata": {},
            "outputs": [],
            "source": ""
        }
    ],
    "metadata": {
        "kernelspec": {
            "display_name": "Python 3.7",
            "language": "python",
            "name": "python3"
        },
        "language_info": {
            "codemirror_mode": {
                "name": "ipython",
                "version": 3
            },
            "file_extension": ".py",
            "mimetype": "text/x-python",
            "name": "python",
            "nbconvert_exporter": "python",
            "pygments_lexer": "ipython3",
            "version": "3.7.10"
        }
    },
    "nbformat": 4,
    "nbformat_minor": 1
}