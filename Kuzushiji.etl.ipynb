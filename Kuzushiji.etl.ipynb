{
    "cells": [
        {
            "cell_type": "markdown",
            "metadata": {
                "collapsed": true
            },
            "source": "### Extract Transform Load (ETL)\n\nETL is one of the first things which needs to be done in a data science project. The nature of this task highly depends on the type of data source. Whether it is relational or unstructured, enterprise data or internet data, persistent data or streaming data. This heavily influences the choice of architecture. Therefore, you must document your choice and thinking process in the Architectural Decision Document (ADD).\n\nThis task involves \u2013 as the name implies \u2013 accessing the data source, transforming it in a way it can be easily worked with and finally make it available to downstream analytics processes \u2013 either real-time streaming or batch ones.\n\nIn case of operational relational data, de-normalization usually needs to take place, for unstructured data, some feature extraction might already be appropriate and for real-time data, windows are usually created.\n\nPlease create an ETL process, document it and save this deliverable according to the naming convention of the process model."
        },
        {
            "cell_type": "code",
            "execution_count": 1,
            "metadata": {},
            "outputs": [
                {
                    "name": "stdout",
                    "output_type": "stream",
                    "text": "/opt/conda/envs/Python-3.7-main/lib/python3.7/site-packages/secretstorage/dhcrypto.py:16: CryptographyDeprecationWarning: int_from_bytes is deprecated, use int.from_bytes instead\n  from cryptography.utils import int_from_bytes\n/opt/conda/envs/Python-3.7-main/lib/python3.7/site-packages/secretstorage/util.py:25: CryptographyDeprecationWarning: int_from_bytes is deprecated, use int.from_bytes instead\n  from cryptography.utils import int_from_bytes\nRequirement already satisfied: tensorflow in /opt/conda/envs/Python-3.7-main/lib/python3.7/site-packages (2.1.0)\nRequirement already satisfied: wrapt>=1.11.1 in /opt/conda/envs/Python-3.7-main/lib/python3.7/site-packages (from tensorflow) (1.12.1)\nRequirement already satisfied: termcolor>=1.1.0 in /opt/conda/envs/Python-3.7-main/lib/python3.7/site-packages (from tensorflow) (1.1.0)\nRequirement already satisfied: tensorboard<2.2.0,>=2.1.0 in /opt/conda/envs/Python-3.7-main/lib/python3.7/site-packages (from tensorflow) (2.1.0)\nRequirement already satisfied: wheel>=0.26; python_version >= \"3\" in /opt/conda/envs/Python-3.7-main/lib/python3.7/site-packages (from tensorflow) (0.34.2)\nRequirement already satisfied: numpy<2.0,>=1.16.0 in /opt/conda/envs/Python-3.7-main/lib/python3.7/site-packages (from tensorflow) (1.18.5)\nRequirement already satisfied: protobuf>=3.8.0 in /opt/conda/envs/Python-3.7-main/lib/python3.7/site-packages (from tensorflow) (3.12.3)\nRequirement already satisfied: six>=1.12.0 in /opt/conda/envs/Python-3.7-main/lib/python3.7/site-packages (from tensorflow) (1.15.0)\nRequirement already satisfied: keras-applications>=1.0.8 in /opt/conda/envs/Python-3.7-main/lib/python3.7/site-packages (from tensorflow) (1.0.8)\nRequirement already satisfied: opt-einsum>=2.3.2 in /opt/conda/envs/Python-3.7-main/lib/python3.7/site-packages (from tensorflow) (3.1.0)\nRequirement already satisfied: keras-preprocessing>=1.1.0 in /opt/conda/envs/Python-3.7-main/lib/python3.7/site-packages (from tensorflow) (1.1.0)\nRequirement already satisfied: astor>=0.6.0 in /opt/conda/envs/Python-3.7-main/lib/python3.7/site-packages (from tensorflow) (0.8.0)\nRequirement already satisfied: grpcio>=1.8.6 in /opt/conda/envs/Python-3.7-main/lib/python3.7/site-packages (from tensorflow) (1.27.2)\nRequirement already satisfied: scipy==1.4.1; python_version >= \"3\" in /opt/conda/envs/Python-3.7-main/lib/python3.7/site-packages (from tensorflow) (1.4.1)\nRequirement already satisfied: tensorflow-estimator<2.2.0,>=2.1.0rc0 in /opt/conda/envs/Python-3.7-main/lib/python3.7/site-packages (from tensorflow) (2.1.0)\nRequirement already satisfied: google-pasta>=0.1.6 in /opt/conda/envs/Python-3.7-main/lib/python3.7/site-packages (from tensorflow) (0.2.0)\nRequirement already satisfied: gast==0.2.2 in /opt/conda/envs/Python-3.7-main/lib/python3.7/site-packages (from tensorflow) (0.2.2)\nRequirement already satisfied: absl-py>=0.7.0 in /opt/conda/envs/Python-3.7-main/lib/python3.7/site-packages (from tensorflow) (0.9.0)\nRequirement already satisfied: setuptools>=41.0.0 in /opt/conda/envs/Python-3.7-main/lib/python3.7/site-packages (from tensorboard<2.2.0,>=2.1.0->tensorflow) (47.3.1.post20200622)\nRequirement already satisfied: requests<3,>=2.21.0 in /opt/conda/envs/Python-3.7-main/lib/python3.7/site-packages (from tensorboard<2.2.0,>=2.1.0->tensorflow) (2.24.0)\nRequirement already satisfied: google-auth<2,>=1.6.3 in /opt/conda/envs/Python-3.7-main/lib/python3.7/site-packages (from tensorboard<2.2.0,>=2.1.0->tensorflow) (1.22.0)\nRequirement already satisfied: google-auth-oauthlib<0.5,>=0.4.1 in /opt/conda/envs/Python-3.7-main/lib/python3.7/site-packages (from tensorboard<2.2.0,>=2.1.0->tensorflow) (0.4.1)\nRequirement already satisfied: markdown>=2.6.8 in /opt/conda/envs/Python-3.7-main/lib/python3.7/site-packages (from tensorboard<2.2.0,>=2.1.0->tensorflow) (3.1.1)\nRequirement already satisfied: werkzeug>=0.11.15 in /opt/conda/envs/Python-3.7-main/lib/python3.7/site-packages (from tensorboard<2.2.0,>=2.1.0->tensorflow) (1.0.1)\nRequirement already satisfied: h5py in /opt/conda/envs/Python-3.7-main/lib/python3.7/site-packages (from keras-applications>=1.0.8->tensorflow) (2.10.0)\nRequirement already satisfied: urllib3!=1.25.0,!=1.25.1,<1.26,>=1.21.1 in /opt/conda/envs/Python-3.7-main/lib/python3.7/site-packages (from requests<3,>=2.21.0->tensorboard<2.2.0,>=2.1.0->tensorflow) (1.25.9)\nRequirement already satisfied: chardet<4,>=3.0.2 in /opt/conda/envs/Python-3.7-main/lib/python3.7/site-packages (from requests<3,>=2.21.0->tensorboard<2.2.0,>=2.1.0->tensorflow) (3.0.4)\nRequirement already satisfied: certifi>=2017.4.17 in /opt/conda/envs/Python-3.7-main/lib/python3.7/site-packages (from requests<3,>=2.21.0->tensorboard<2.2.0,>=2.1.0->tensorflow) (2020.12.5)\nRequirement already satisfied: idna<3,>=2.5 in /opt/conda/envs/Python-3.7-main/lib/python3.7/site-packages (from requests<3,>=2.21.0->tensorboard<2.2.0,>=2.1.0->tensorflow) (2.9)\nRequirement already satisfied: rsa<5,>=3.1.4; python_version >= \"3.5\" in /opt/conda/envs/Python-3.7-main/lib/python3.7/site-packages (from google-auth<2,>=1.6.3->tensorboard<2.2.0,>=2.1.0->tensorflow) (4.6)\nRequirement already satisfied: aiohttp<4.0.0dev,>=3.6.2; python_version >= \"3.6\" in /opt/conda/envs/Python-3.7-main/lib/python3.7/site-packages (from google-auth<2,>=1.6.3->tensorboard<2.2.0,>=2.1.0->tensorflow) (3.6.2)\nRequirement already satisfied: pyasn1-modules>=0.2.1 in /opt/conda/envs/Python-3.7-main/lib/python3.7/site-packages (from google-auth<2,>=1.6.3->tensorboard<2.2.0,>=2.1.0->tensorflow) (0.2.8)\nRequirement already satisfied: cachetools<5.0,>=2.0.0 in /opt/conda/envs/Python-3.7-main/lib/python3.7/site-packages (from google-auth<2,>=1.6.3->tensorboard<2.2.0,>=2.1.0->tensorflow) (4.1.1)\nRequirement already satisfied: requests-oauthlib>=0.7.0 in /opt/conda/envs/Python-3.7-main/lib/python3.7/site-packages (from google-auth-oauthlib<0.5,>=0.4.1->tensorboard<2.2.0,>=2.1.0->tensorflow) (1.3.0)\nRequirement already satisfied: pyasn1>=0.1.3 in /opt/conda/envs/Python-3.7-main/lib/python3.7/site-packages (from rsa<5,>=3.1.4; python_version >= \"3.5\"->google-auth<2,>=1.6.3->tensorboard<2.2.0,>=2.1.0->tensorflow) (0.4.8)\nRequirement already satisfied: multidict<5.0,>=4.5 in /opt/conda/envs/Python-3.7-main/lib/python3.7/site-packages (from aiohttp<4.0.0dev,>=3.6.2; python_version >= \"3.6\"->google-auth<2,>=1.6.3->tensorboard<2.2.0,>=2.1.0->tensorflow) (4.7.6)\nRequirement already satisfied: attrs>=17.3.0 in /opt/conda/envs/Python-3.7-main/lib/python3.7/site-packages (from aiohttp<4.0.0dev,>=3.6.2; python_version >= \"3.6\"->google-auth<2,>=1.6.3->tensorboard<2.2.0,>=2.1.0->tensorflow) (19.3.0)\nRequirement already satisfied: yarl<2.0,>=1.0 in /opt/conda/envs/Python-3.7-main/lib/python3.7/site-packages (from aiohttp<4.0.0dev,>=3.6.2; python_version >= \"3.6\"->google-auth<2,>=1.6.3->tensorboard<2.2.0,>=2.1.0->tensorflow) (1.5.1)\nRequirement already satisfied: async-timeout<4.0,>=3.0 in /opt/conda/envs/Python-3.7-main/lib/python3.7/site-packages (from aiohttp<4.0.0dev,>=3.6.2; python_version >= \"3.6\"->google-auth<2,>=1.6.3->tensorboard<2.2.0,>=2.1.0->tensorflow) (3.0.1)\nRequirement already satisfied: oauthlib>=3.0.0 in /opt/conda/envs/Python-3.7-main/lib/python3.7/site-packages (from requests-oauthlib>=0.7.0->google-auth-oauthlib<0.5,>=0.4.1->tensorboard<2.2.0,>=2.1.0->tensorflow) (3.1.0)\nRequirement already satisfied: typing-extensions>=3.7.4; python_version < \"3.8\" in /opt/conda/envs/Python-3.7-main/lib/python3.7/site-packages (from yarl<2.0,>=1.0->aiohttp<4.0.0dev,>=3.6.2; python_version >= \"3.6\"->google-auth<2,>=1.6.3->tensorboard<2.2.0,>=2.1.0->tensorflow) (3.7.4.2)\n/opt/conda/envs/Python-3.7-main/lib/python3.7/site-packages/secretstorage/dhcrypto.py:16: CryptographyDeprecationWarning: int_from_bytes is deprecated, use int.from_bytes instead\n  from cryptography.utils import int_from_bytes\n/opt/conda/envs/Python-3.7-main/lib/python3.7/site-packages/secretstorage/util.py:25: CryptographyDeprecationWarning: int_from_bytes is deprecated, use int.from_bytes instead\n  from cryptography.utils import int_from_bytes\nRequirement already satisfied: python-mnist in /opt/conda/envs/Python-3.7-main/lib/python3.7/site-packages (0.7)\n/opt/conda/envs/Python-3.7-main/lib/python3.7/site-packages/secretstorage/dhcrypto.py:16: CryptographyDeprecationWarning: int_from_bytes is deprecated, use int.from_bytes instead\n  from cryptography.utils import int_from_bytes\n/opt/conda/envs/Python-3.7-main/lib/python3.7/site-packages/secretstorage/util.py:25: CryptographyDeprecationWarning: int_from_bytes is deprecated, use int.from_bytes instead\n  from cryptography.utils import int_from_bytes\nRequirement already satisfied: Pillow in /opt/conda/envs/Python-3.7-main/lib/python3.7/site-packages (7.2.0)\n/opt/conda/envs/Python-3.7-main/lib/python3.7/site-packages/secretstorage/dhcrypto.py:16: CryptographyDeprecationWarning: int_from_bytes is deprecated, use int.from_bytes instead\n  from cryptography.utils import int_from_bytes\n/opt/conda/envs/Python-3.7-main/lib/python3.7/site-packages/secretstorage/util.py:25: CryptographyDeprecationWarning: int_from_bytes is deprecated, use int.from_bytes instead\n  from cryptography.utils import int_from_bytes\nRequirement already satisfied: pyspark in /opt/conda/envs/Python-3.7-main/lib/python3.7/site-packages (3.1.2)\nRequirement already satisfied: py4j==0.10.9 in /opt/conda/envs/Python-3.7-main/lib/python3.7/site-packages (from pyspark) (0.10.9)\n"
                }
            ],
            "source": "!pip install tensorflow\n!pip install python-mnist\n!pip install Pillow\n!pip install pyspark"
        },
        {
            "cell_type": "code",
            "execution_count": 2,
            "metadata": {},
            "outputs": [],
            "source": "%matplotlib inline\nimport matplotlib.pyplot as plt\nfrom matplotlib import image\nimport tensorflow as tf\nimport seaborn as sns\nfrom mnist import MNIST\nimport numpy as np\nimport PIL\nfrom PIL import Image\nimport os\nimport matplotlib.image as mping\nfrom pyspark import SparkContext, SparkConf\nfrom pyspark.sql import SparkSession\nfrom pyspark.ml.feature import StringIndexer\nfrom numpy import asarray\nimport pandas as pd"
        },
        {
            "cell_type": "code",
            "execution_count": 3,
            "metadata": {},
            "outputs": [
                {
                    "data": {
                        "text/plain": "'2.1.0'"
                    },
                    "execution_count": 3,
                    "metadata": {},
                    "output_type": "execute_result"
                }
            ],
            "source": "tf.__version__"
        },
        {
            "cell_type": "code",
            "execution_count": 4,
            "metadata": {},
            "outputs": [
                {
                    "data": {
                        "text/plain": "'7.2.0'"
                    },
                    "execution_count": 4,
                    "metadata": {},
                    "output_type": "execute_result"
                }
            ],
            "source": "PIL.__version__"
        },
        {
            "cell_type": "markdown",
            "metadata": {},
            "source": "## First dataset\n\n#### 60,000 images and 10 classes, each image is 28 x 28 or represented by a 794 element array"
        },
        {
            "cell_type": "code",
            "execution_count": null,
            "metadata": {},
            "outputs": [],
            "source": "# need to download and gunzip each of the train and test images and labels\n\n!wget http://codh.rois.ac.jp/kmnist/dataset/kmnist/train-images-idx3-ubyte.gz?raw=True\n!mv train-images-idx3-ubyte.gz?raw=True train-images-idx3-ubyte.gz\n!gunzip train-images-idx3-ubyte.gz\n!ls -lahr train-images-idx3-ubyte\n\n!wget http://codh.rois.ac.jp/kmnist/dataset/kmnist/train-labels-idx1-ubyte.gz?raw=True\n!mv train-labels-idx1-ubyte.gz?raw=True train-labels-idx1-ubyte.gz\n!gunzip train-labels-idx1-ubyte.gz\n!ls -lahr train-labels-idx1-ubyte\n\n!wget http://codh.rois.ac.jp/kmnist/dataset/kmnist/t10k-images-idx3-ubyte.gz?raw=True\n!mv t10k-images-idx3-ubyte.gz?raw=True t10k-images-idx3-ubyte.gz\n!gunzip t10k-images-idx3-ubyte.gz\n!ls -lahr t10k-images-idx3-ubyte\n\n!wget http://codh.rois.ac.jp/kmnist/dataset/kmnist/t10k-labels-idx1-ubyte.gz?raw=True\n!mv t10k-labels-idx1-ubyte.gz?raw=True t10k-labels-idx1-ubyte.gz\n!gunzip t10k-labels-idx1-ubyte.gz\n!ls -lahr t10k-labels-idx1-ubyte"
        },
        {
            "cell_type": "code",
            "execution_count": 5,
            "metadata": {},
            "outputs": [
                {
                    "data": {
                        "text/html": "<div>\n<style scoped>\n    .dataframe tbody tr th:only-of-type {\n        vertical-align: middle;\n    }\n\n    .dataframe tbody tr th {\n        vertical-align: top;\n    }\n\n    .dataframe thead th {\n        text-align: right;\n    }\n</style>\n<table border=\"1\" class=\"dataframe\">\n  <thead>\n    <tr style=\"text-align: right;\">\n      <th></th>\n      <th>index</th>\n      <th>codepoint</th>\n      <th>char</th>\n      <th>phonetic</th>\n    </tr>\n  </thead>\n  <tbody>\n    <tr>\n      <th>0</th>\n      <td>0</td>\n      <td>U+304A</td>\n      <td>\u304a</td>\n      <td>o</td>\n    </tr>\n    <tr>\n      <th>1</th>\n      <td>1</td>\n      <td>U+304D</td>\n      <td>\u304d</td>\n      <td>ki</td>\n    </tr>\n    <tr>\n      <th>2</th>\n      <td>2</td>\n      <td>U+3059</td>\n      <td>\u3059</td>\n      <td>su</td>\n    </tr>\n    <tr>\n      <th>3</th>\n      <td>3</td>\n      <td>U+3064</td>\n      <td>\u3064</td>\n      <td>tsu</td>\n    </tr>\n    <tr>\n      <th>4</th>\n      <td>4</td>\n      <td>U+306A</td>\n      <td>\u306a</td>\n      <td>na</td>\n    </tr>\n    <tr>\n      <th>5</th>\n      <td>5</td>\n      <td>U+306F</td>\n      <td>\u306f</td>\n      <td>ha</td>\n    </tr>\n    <tr>\n      <th>6</th>\n      <td>6</td>\n      <td>U+307E</td>\n      <td>\u307e</td>\n      <td>ma</td>\n    </tr>\n    <tr>\n      <th>7</th>\n      <td>7</td>\n      <td>U+3084</td>\n      <td>\u3084</td>\n      <td>ya</td>\n    </tr>\n    <tr>\n      <th>8</th>\n      <td>8</td>\n      <td>U+308C</td>\n      <td>\u308c</td>\n      <td>re</td>\n    </tr>\n    <tr>\n      <th>9</th>\n      <td>9</td>\n      <td>U+3092</td>\n      <td>\u3092</td>\n      <td>wo</td>\n    </tr>\n  </tbody>\n</table>\n</div>",
                        "text/plain": "   index codepoint char phonetic\n0      0    U+304A    \u304a        o\n1      1    U+304D    \u304d       ki\n2      2    U+3059    \u3059       su\n3      3    U+3064    \u3064      tsu\n4      4    U+306A    \u306a       na\n5      5    U+306F    \u306f       ha\n6      6    U+307E    \u307e       ma\n7      7    U+3084    \u3084       ya\n8      8    U+308C    \u308c       re\n9      9    U+3092    \u3092       wo"
                    },
                    "execution_count": 5,
                    "metadata": {},
                    "output_type": "execute_result"
                }
            ],
            "source": "# download the classmap for the first dataset, add the phonetics, and display it\n# the classmap shows the classes that each written kuzushiji can be classified into\n# and we add the phonetic sound that the characters makes when spoken\n\nurl = \"http://codh.rois.ac.jp/kmnist/dataset/kmnist/kmnist_classmap.csv\"\ndf_classmap = pd.read_csv(url)\nphonetic = ['o','ki','su','tsu','na','ha','ma','ya','re','wo']\ndf_classmap['phonetic'] = phonetic\ndf_classmap"
        },
        {
            "cell_type": "code",
            "execution_count": 6,
            "metadata": {},
            "outputs": [
                {
                    "name": "stdout",
                    "output_type": "stream",
                    "text": "mkdir: cannot create directory \u2018kmnistdata\u2019: File exists\ntotal 53680\ndrwxrwx--- 2 wsuser watsonstudio     4096 Jun  3 23:41 .\ndrwxr-x--- 4 wsuser watsonstudio     4096 Jun  4 01:56 ..\n-rw-rw---- 1 wsuser watsonstudio  7840016 Jun  4 02:01 t10k-images-idx3-ubyte\n-rw-rw---- 1 wsuser watsonstudio    10008 Jun  4 02:01 t10k-labels-idx1-ubyte\n-rw-rw---- 1 wsuser watsonstudio 47040016 Jun  4 02:01 train-images-idx3-ubyte\n-rw-rw---- 1 wsuser watsonstudio    60008 Jun  4 02:01 train-labels-idx1-ubyte\n"
                }
            ],
            "source": "# create a directory and move these files into it\n# then show what is in the directory\n\n!mkdir kmnistdata\n!cp t10k-images-idx3-ubyte kmnistdata/t10k-images-idx3-ubyte\n!cp t10k-labels-idx1-ubyte kmnistdata/t10k-labels-idx1-ubyte\n!cp train-images-idx3-ubyte kmnistdata/train-images-idx3-ubyte\n!cp train-labels-idx1-ubyte kmnistdata/train-labels-idx1-ubyte\n!ls -al kmnistdata"
        },
        {
            "cell_type": "code",
            "execution_count": 7,
            "metadata": {},
            "outputs": [],
            "source": "# load the data into arrays\n\ndata = MNIST('kmnistdata')\ntrain_images, train_labels = data.load_training()\ntest_images, test_labels = data.load_testing()"
        },
        {
            "cell_type": "code",
            "execution_count": 8,
            "metadata": {},
            "outputs": [
                {
                    "name": "stdout",
                    "output_type": "stream",
                    "text": "8\n[0, 0, 0, 0, 0, 0, 0, 0, 0, 0, 0, 118, 255, 255, 124, 1, 0, 0, 0, 0, 0, 0, 0, 0, 0, 0, 0, 0, 0, 0, 0, 0, 0, 0, 0, 0, 0, 0, 36, 238, 255, 146, 2, 0, 0, 0, 0, 0, 0, 0, 0, 0, 0, 0, 0, 0, 0, 0, 0, 0, 0, 0, 0, 0, 0, 12, 203, 255, 220, 14, 0, 0, 0, 11, 132, 95, 187, 95, 0, 0, 0, 0, 0, 0, 0, 0, 0, 0, 0, 0, 0, 0, 0, 149, 255, 251, 66, 0, 0, 0, 7, 168, 136, 10, 223, 245, 67, 0, 0, 0, 0, 0, 0, 0, 0, 0, 0, 0, 0, 0, 51, 247, 255, 156, 1, 0, 0, 0, 130, 201, 9, 0, 158, 255, 170, 0, 0, 0, 0, 0, 0, 0, 0, 0, 0, 0, 0, 11, 212, 255, 226, 22, 0, 0, 0, 79, 240, 38, 0, 0, 143, 255, 197, 0, 0, 0, 0, 0, 0, 0, 0, 0, 0, 0, 0, 148, 255, 255, 107, 0, 0, 0, 33, 237, 121, 0, 0, 0, 144, 255, 222, 0, 0, 0, 0, 0, 0, 0, 0, 0, 0, 0, 0, 205, 255, 178, 3, 0, 0, 1, 179, 208, 5, 0, 0, 0, 126, 255, 166, 0, 0, 0, 0, 0, 0, 0, 0, 0, 0, 0, 7, 245, 255, 76, 0, 0, 0, 124, 254, 108, 0, 0, 0, 0, 91, 255, 156, 0, 0, 0, 0, 0, 0, 0, 0, 0, 0, 0, 23, 255, 239, 12, 0, 0, 62, 250, 225, 8, 0, 0, 0, 0, 78, 255, 197, 0, 0, 0, 0, 0, 0, 0, 0, 0, 0, 0, 48, 255, 192, 0, 0, 16, 207, 252, 84, 0, 0, 0, 0, 0, 81, 255, 178, 0, 0, 0, 0, 0, 0, 0, 0, 0, 0, 0, 53, 255, 148, 0, 0, 133, 255, 148, 0, 0, 0, 0, 0, 0, 73, 255, 157, 0, 0, 0, 0, 0, 0, 0, 0, 0, 0, 0, 95, 255, 143, 0, 105, 252, 220, 17, 0, 0, 0, 0, 0, 0, 79, 255, 96, 0, 0, 0, 0, 0, 0, 0, 0, 0, 0, 0, 149, 255, 121, 58, 246, 254, 79, 0, 0, 0, 0, 7, 53, 1, 102, 255, 100, 0, 0, 0, 0, 0, 0, 0, 0, 0, 0, 0, 202, 255, 213, 233, 255, 186, 2, 0, 0, 0, 0, 0, 10, 47, 132, 255, 97, 0, 0, 0, 0, 0, 0, 0, 0, 0, 0, 16, 246, 255, 255, 255, 230, 19, 0, 0, 0, 0, 0, 0, 0, 0, 144, 255, 95, 0, 0, 0, 0, 0, 0, 0, 0, 0, 0, 89, 255, 255, 255, 243, 71, 0, 0, 0, 0, 0, 0, 0, 0, 0, 157, 255, 105, 0, 0, 0, 0, 0, 0, 0, 0, 0, 0, 192, 255, 255, 254, 54, 0, 0, 0, 0, 0, 0, 0, 0, 0, 0, 189, 255, 104, 0, 0, 0, 0, 0, 0, 0, 0, 0, 45, 252, 255, 255, 252, 28, 0, 0, 0, 0, 0, 0, 0, 0, 0, 3, 233, 255, 116, 0, 0, 0, 0, 0, 0, 0, 0, 0, 161, 255, 255, 255, 251, 23, 0, 0, 0, 0, 0, 0, 0, 0, 0, 1, 223, 255, 178, 7, 0, 0, 0, 0, 0, 0, 0, 56, 252, 255, 255, 255, 249, 17, 0, 0, 0, 0, 0, 0, 0, 0, 0, 0, 159, 255, 255, 181, 12, 0, 0, 0, 0, 0, 0, 180, 255, 255, 255, 255, 250, 18, 0, 0, 0, 0, 0, 0, 0, 0, 0, 0, 39, 245, 255, 255, 177, 0, 0, 0, 0, 0, 15, 252, 255, 255, 255, 255, 237, 5, 0, 0, 0, 0, 0, 0, 0, 0, 0, 0, 0, 97, 253, 255, 231, 0, 0, 0, 0, 0, 17, 254, 243, 224, 255, 255, 239, 6, 0, 0, 0, 0, 0, 0, 0, 0, 0, 0, 0, 24, 241, 255, 213, 0, 0, 0, 0, 0, 5, 150, 70, 103, 255, 255, 168, 0, 0, 0, 0, 0, 0, 0, 0, 0, 0, 0, 35, 222, 255, 174, 21, 0, 0, 0, 0, 0, 0, 0, 0, 65, 255, 254, 62, 0, 0, 0, 0, 0, 0, 0, 0, 0, 0, 59, 227, 246, 93, 2, 0, 0, 0, 0, 0, 0, 0, 0, 0, 30, 253, 186, 2, 0, 0, 0, 0, 0, 0, 0, 0, 0, 24, 240, 240, 76, 0, 0, 0, 0, 0, 0, 0, 0, 0, 0, 0, 8, 144, 26, 0, 0, 0, 0, 0, 0, 0, 0, 0, 0, 122, 255, 90, 0, 0, 0, 0, 0, 0, 0]\n"
                }
            ],
            "source": "print(train_labels[0])\nprint(train_images[0])"
        },
        {
            "cell_type": "code",
            "execution_count": 9,
            "metadata": {},
            "outputs": [
                {
                    "data": {
                        "text/plain": "array.array"
                    },
                    "execution_count": 9,
                    "metadata": {},
                    "output_type": "execute_result"
                }
            ],
            "source": "type(train_labels)"
        },
        {
            "cell_type": "code",
            "execution_count": 10,
            "metadata": {},
            "outputs": [
                {
                    "data": {
                        "text/plain": "list"
                    },
                    "execution_count": 10,
                    "metadata": {},
                    "output_type": "execute_result"
                }
            ],
            "source": "type(train_images)"
        },
        {
            "cell_type": "code",
            "execution_count": 11,
            "metadata": {},
            "outputs": [],
            "source": "# the data needs to be transformed into numpy arrays for use  in the model\n\ntrain_images = np.array(train_images)\ntrain_labels = np.array(train_labels)\ntest_images = np.array(test_images)\ntest_labels = np.array(test_labels)"
        },
        {
            "cell_type": "code",
            "execution_count": 12,
            "metadata": {},
            "outputs": [
                {
                    "data": {
                        "text/plain": "numpy.ndarray"
                    },
                    "execution_count": 12,
                    "metadata": {},
                    "output_type": "execute_result"
                }
            ],
            "source": "type(train_images[0])"
        },
        {
            "cell_type": "code",
            "execution_count": 13,
            "metadata": {},
            "outputs": [
                {
                    "data": {
                        "text/plain": "numpy.ndarray"
                    },
                    "execution_count": 13,
                    "metadata": {},
                    "output_type": "execute_result"
                }
            ],
            "source": "type(train_images)"
        },
        {
            "cell_type": "code",
            "execution_count": 14,
            "metadata": {},
            "outputs": [
                {
                    "data": {
                        "text/plain": "(60000, 784)"
                    },
                    "execution_count": 14,
                    "metadata": {},
                    "output_type": "execute_result"
                }
            ],
            "source": "# the data as downloaded has two dimensions\n# there are 60000 images, each image is represented\n# in one dimension as 784 numbers\n\n# (see the notebook kuzushiji.data_exp for displayed images)\n\ntrain_images.shape"
        },
        {
            "cell_type": "code",
            "execution_count": 15,
            "metadata": {},
            "outputs": [
                {
                    "name": "stdout",
                    "output_type": "stream",
                    "text": "[  0   0   0   0   0   0   0   0   0   0   0 118 255 255 124   1   0   0\n   0   0   0   0   0   0   0   0   0   0   0   0   0   0   0   0   0   0\n   0   0  36 238 255 146   2   0   0   0   0   0   0   0   0   0   0   0\n   0   0   0   0   0   0   0   0   0   0   0  12 203 255 220  14   0   0\n   0  11 132  95 187  95   0   0   0   0   0   0   0   0   0   0   0   0\n   0   0   0 149 255 251  66   0   0   0   7 168 136  10 223 245  67   0\n   0   0   0   0   0   0   0   0   0   0   0   0  51 247 255 156   1   0\n   0   0 130 201   9   0 158 255 170   0   0   0   0   0   0   0   0   0\n   0   0   0  11 212 255 226  22   0   0   0  79 240  38   0   0 143 255\n 197   0   0   0   0   0   0   0   0   0   0   0   0 148 255 255 107   0\n   0   0  33 237 121   0   0   0 144 255 222   0   0   0   0   0   0   0\n   0   0   0   0   0 205 255 178   3   0   0   1 179 208   5   0   0   0\n 126 255 166   0   0   0   0   0   0   0   0   0   0   0   7 245 255  76\n   0   0   0 124 254 108   0   0   0   0  91 255 156   0   0   0   0   0\n   0   0   0   0   0   0  23 255 239  12   0   0  62 250 225   8   0   0\n   0   0  78 255 197   0   0   0   0   0   0   0   0   0   0   0  48 255\n 192   0   0  16 207 252  84   0   0   0   0   0  81 255 178   0   0   0\n   0   0   0   0   0   0   0   0  53 255 148   0   0 133 255 148   0   0\n   0   0   0   0  73 255 157   0   0   0   0   0   0   0   0   0   0   0\n  95 255 143   0 105 252 220  17   0   0   0   0   0   0  79 255  96   0\n   0   0   0   0   0   0   0   0   0   0 149 255 121  58 246 254  79   0\n   0   0   0   7  53   1 102 255 100   0   0   0   0   0   0   0   0   0\n   0   0 202 255 213 233 255 186   2   0   0   0   0   0  10  47 132 255\n  97   0   0   0   0   0   0   0   0   0   0  16 246 255 255 255 230  19\n   0   0   0   0   0   0   0   0 144 255  95   0   0   0   0   0   0   0\n   0   0   0  89 255 255 255 243  71   0   0   0   0   0   0   0   0   0\n 157 255 105   0   0   0   0   0   0   0   0   0   0 192 255 255 254  54\n   0   0   0   0   0   0   0   0   0   0 189 255 104   0   0   0   0   0\n   0   0   0   0  45 252 255 255 252  28   0   0   0   0   0   0   0   0\n   0   3 233 255 116   0   0   0   0   0   0   0   0   0 161 255 255 255\n 251  23   0   0   0   0   0   0   0   0   0   1 223 255 178   7   0   0\n   0   0   0   0   0  56 252 255 255 255 249  17   0   0   0   0   0   0\n   0   0   0   0 159 255 255 181  12   0   0   0   0   0   0 180 255 255\n 255 255 250  18   0   0   0   0   0   0   0   0   0   0  39 245 255 255\n 177   0   0   0   0   0  15 252 255 255 255 255 237   5   0   0   0   0\n   0   0   0   0   0   0   0  97 253 255 231   0   0   0   0   0  17 254\n 243 224 255 255 239   6   0   0   0   0   0   0   0   0   0   0   0  24\n 241 255 213   0   0   0   0   0   5 150  70 103 255 255 168   0   0   0\n   0   0   0   0   0   0   0   0  35 222 255 174  21   0   0   0   0   0\n   0   0   0  65 255 254  62   0   0   0   0   0   0   0   0   0   0  59\n 227 246  93   2   0   0   0   0   0   0   0   0   0  30 253 186   2   0\n   0   0   0   0   0   0   0   0  24 240 240  76   0   0   0   0   0   0\n   0   0   0   0   0   8 144  26   0   0   0   0   0   0   0   0   0   0\n 122 255  90   0   0   0   0   0   0   0]\n"
                }
            ],
            "source": "# the train_images are now a numpy array of numbers between 0 and 255\nprint(train_images[0])"
        },
        {
            "cell_type": "code",
            "execution_count": 16,
            "metadata": {},
            "outputs": [],
            "source": "# we need to normalize the numpy arrays so that each number in the numpy\n# array is between 0 and 1:\n\ntrain_images = train_images / 255\ntest_images = test_images / 255"
        },
        {
            "cell_type": "code",
            "execution_count": 17,
            "metadata": {},
            "outputs": [
                {
                    "data": {
                        "text/plain": "array([0.        , 0.        , 0.        , 0.        , 0.        ,\n       0.        , 0.        , 0.        , 0.        , 0.        ,\n       0.        , 0.4627451 , 1.        , 1.        , 0.48627451,\n       0.00392157, 0.        , 0.        , 0.        , 0.        ,\n       0.        , 0.        , 0.        , 0.        , 0.        ,\n       0.        , 0.        , 0.        , 0.        , 0.        ,\n       0.        , 0.        , 0.        , 0.        , 0.        ,\n       0.        , 0.        , 0.        , 0.14117647, 0.93333333,\n       1.        , 0.57254902, 0.00784314, 0.        , 0.        ,\n       0.        , 0.        , 0.        , 0.        , 0.        ,\n       0.        , 0.        , 0.        , 0.        , 0.        ,\n       0.        , 0.        , 0.        , 0.        , 0.        ,\n       0.        , 0.        , 0.        , 0.        , 0.        ,\n       0.04705882, 0.79607843, 1.        , 0.8627451 , 0.05490196,\n       0.        , 0.        , 0.        , 0.04313725, 0.51764706,\n       0.37254902, 0.73333333, 0.37254902, 0.        , 0.        ,\n       0.        , 0.        , 0.        , 0.        , 0.        ,\n       0.        , 0.        , 0.        , 0.        , 0.        ,\n       0.        , 0.        , 0.        , 0.58431373, 1.        ,\n       0.98431373, 0.25882353, 0.        , 0.        , 0.        ,\n       0.02745098, 0.65882353, 0.53333333, 0.03921569, 0.8745098 ,\n       0.96078431, 0.2627451 , 0.        , 0.        , 0.        ,\n       0.        , 0.        , 0.        , 0.        , 0.        ,\n       0.        , 0.        , 0.        , 0.        , 0.        ,\n       0.2       , 0.96862745, 1.        , 0.61176471, 0.00392157,\n       0.        , 0.        , 0.        , 0.50980392, 0.78823529,\n       0.03529412, 0.        , 0.61960784, 1.        , 0.66666667,\n       0.        , 0.        , 0.        , 0.        , 0.        ,\n       0.        , 0.        , 0.        , 0.        , 0.        ,\n       0.        , 0.        , 0.04313725, 0.83137255, 1.        ,\n       0.88627451, 0.08627451, 0.        , 0.        , 0.        ,\n       0.30980392, 0.94117647, 0.14901961, 0.        , 0.        ,\n       0.56078431, 1.        , 0.77254902, 0.        , 0.        ,\n       0.        , 0.        , 0.        , 0.        , 0.        ,\n       0.        , 0.        , 0.        , 0.        , 0.        ,\n       0.58039216, 1.        , 1.        , 0.41960784, 0.        ,\n       0.        , 0.        , 0.12941176, 0.92941176, 0.4745098 ,\n       0.        , 0.        , 0.        , 0.56470588, 1.        ,\n       0.87058824, 0.        , 0.        , 0.        , 0.        ,\n       0.        , 0.        , 0.        , 0.        , 0.        ,\n       0.        , 0.        , 0.        , 0.80392157, 1.        ,\n       0.69803922, 0.01176471, 0.        , 0.        , 0.00392157,\n       0.70196078, 0.81568627, 0.01960784, 0.        , 0.        ,\n       0.        , 0.49411765, 1.        , 0.65098039, 0.        ,\n       0.        , 0.        , 0.        , 0.        , 0.        ,\n       0.        , 0.        , 0.        , 0.        , 0.        ,\n       0.02745098, 0.96078431, 1.        , 0.29803922, 0.        ,\n       0.        , 0.        , 0.48627451, 0.99607843, 0.42352941,\n       0.        , 0.        , 0.        , 0.        , 0.35686275,\n       1.        , 0.61176471, 0.        , 0.        , 0.        ,\n       0.        , 0.        , 0.        , 0.        , 0.        ,\n       0.        , 0.        , 0.        , 0.09019608, 1.        ,\n       0.9372549 , 0.04705882, 0.        , 0.        , 0.24313725,\n       0.98039216, 0.88235294, 0.03137255, 0.        , 0.        ,\n       0.        , 0.        , 0.30588235, 1.        , 0.77254902,\n       0.        , 0.        , 0.        , 0.        , 0.        ,\n       0.        , 0.        , 0.        , 0.        , 0.        ,\n       0.        , 0.18823529, 1.        , 0.75294118, 0.        ,\n       0.        , 0.0627451 , 0.81176471, 0.98823529, 0.32941176,\n       0.        , 0.        , 0.        , 0.        , 0.        ,\n       0.31764706, 1.        , 0.69803922, 0.        , 0.        ,\n       0.        , 0.        , 0.        , 0.        , 0.        ,\n       0.        , 0.        , 0.        , 0.        , 0.20784314,\n       1.        , 0.58039216, 0.        , 0.        , 0.52156863,\n       1.        , 0.58039216, 0.        , 0.        , 0.        ,\n       0.        , 0.        , 0.        , 0.28627451, 1.        ,\n       0.61568627, 0.        , 0.        , 0.        , 0.        ,\n       0.        , 0.        , 0.        , 0.        , 0.        ,\n       0.        , 0.        , 0.37254902, 1.        , 0.56078431,\n       0.        , 0.41176471, 0.98823529, 0.8627451 , 0.06666667,\n       0.        , 0.        , 0.        , 0.        , 0.        ,\n       0.        , 0.30980392, 1.        , 0.37647059, 0.        ,\n       0.        , 0.        , 0.        , 0.        , 0.        ,\n       0.        , 0.        , 0.        , 0.        , 0.        ,\n       0.58431373, 1.        , 0.4745098 , 0.22745098, 0.96470588,\n       0.99607843, 0.30980392, 0.        , 0.        , 0.        ,\n       0.        , 0.02745098, 0.20784314, 0.00392157, 0.4       ,\n       1.        , 0.39215686, 0.        , 0.        , 0.        ,\n       0.        , 0.        , 0.        , 0.        , 0.        ,\n       0.        , 0.        , 0.        , 0.79215686, 1.        ,\n       0.83529412, 0.91372549, 1.        , 0.72941176, 0.00784314,\n       0.        , 0.        , 0.        , 0.        , 0.        ,\n       0.03921569, 0.18431373, 0.51764706, 1.        , 0.38039216,\n       0.        , 0.        , 0.        , 0.        , 0.        ,\n       0.        , 0.        , 0.        , 0.        , 0.        ,\n       0.0627451 , 0.96470588, 1.        , 1.        , 1.        ,\n       0.90196078, 0.0745098 , 0.        , 0.        , 0.        ,\n       0.        , 0.        , 0.        , 0.        , 0.        ,\n       0.56470588, 1.        , 0.37254902, 0.        , 0.        ,\n       0.        , 0.        , 0.        , 0.        , 0.        ,\n       0.        , 0.        , 0.        , 0.34901961, 1.        ,\n       1.        , 1.        , 0.95294118, 0.27843137, 0.        ,\n       0.        , 0.        , 0.        , 0.        , 0.        ,\n       0.        , 0.        , 0.        , 0.61568627, 1.        ,\n       0.41176471, 0.        , 0.        , 0.        , 0.        ,\n       0.        , 0.        , 0.        , 0.        , 0.        ,\n       0.        , 0.75294118, 1.        , 1.        , 0.99607843,\n       0.21176471, 0.        , 0.        , 0.        , 0.        ,\n       0.        , 0.        , 0.        , 0.        , 0.        ,\n       0.        , 0.74117647, 1.        , 0.40784314, 0.        ,\n       0.        , 0.        , 0.        , 0.        , 0.        ,\n       0.        , 0.        , 0.        , 0.17647059, 0.98823529,\n       1.        , 1.        , 0.98823529, 0.10980392, 0.        ,\n       0.        , 0.        , 0.        , 0.        , 0.        ,\n       0.        , 0.        , 0.        , 0.01176471, 0.91372549,\n       1.        , 0.45490196, 0.        , 0.        , 0.        ,\n       0.        , 0.        , 0.        , 0.        , 0.        ,\n       0.        , 0.63137255, 1.        , 1.        , 1.        ,\n       0.98431373, 0.09019608, 0.        , 0.        , 0.        ,\n       0.        , 0.        , 0.        , 0.        , 0.        ,\n       0.        , 0.00392157, 0.8745098 , 1.        , 0.69803922,\n       0.02745098, 0.        , 0.        , 0.        , 0.        ,\n       0.        , 0.        , 0.        , 0.21960784, 0.98823529,\n       1.        , 1.        , 1.        , 0.97647059, 0.06666667,\n       0.        , 0.        , 0.        , 0.        , 0.        ,\n       0.        , 0.        , 0.        , 0.        , 0.        ,\n       0.62352941, 1.        , 1.        , 0.70980392, 0.04705882,\n       0.        , 0.        , 0.        , 0.        , 0.        ,\n       0.        , 0.70588235, 1.        , 1.        , 1.        ,\n       1.        , 0.98039216, 0.07058824, 0.        , 0.        ,\n       0.        , 0.        , 0.        , 0.        , 0.        ,\n       0.        , 0.        , 0.        , 0.15294118, 0.96078431,\n       1.        , 1.        , 0.69411765, 0.        , 0.        ,\n       0.        , 0.        , 0.        , 0.05882353, 0.98823529,\n       1.        , 1.        , 1.        , 1.        , 0.92941176,\n       0.01960784, 0.        , 0.        , 0.        , 0.        ,\n       0.        , 0.        , 0.        , 0.        , 0.        ,\n       0.        , 0.        , 0.38039216, 0.99215686, 1.        ,\n       0.90588235, 0.        , 0.        , 0.        , 0.        ,\n       0.        , 0.06666667, 0.99607843, 0.95294118, 0.87843137,\n       1.        , 1.        , 0.9372549 , 0.02352941, 0.        ,\n       0.        , 0.        , 0.        , 0.        , 0.        ,\n       0.        , 0.        , 0.        , 0.        , 0.        ,\n       0.09411765, 0.94509804, 1.        , 0.83529412, 0.        ,\n       0.        , 0.        , 0.        , 0.        , 0.01960784,\n       0.58823529, 0.2745098 , 0.40392157, 1.        , 1.        ,\n       0.65882353, 0.        , 0.        , 0.        , 0.        ,\n       0.        , 0.        , 0.        , 0.        , 0.        ,\n       0.        , 0.        , 0.1372549 , 0.87058824, 1.        ,\n       0.68235294, 0.08235294, 0.        , 0.        , 0.        ,\n       0.        , 0.        , 0.        , 0.        , 0.        ,\n       0.25490196, 1.        , 0.99607843, 0.24313725, 0.        ,\n       0.        , 0.        , 0.        , 0.        , 0.        ,\n       0.        , 0.        , 0.        , 0.        , 0.23137255,\n       0.89019608, 0.96470588, 0.36470588, 0.00784314, 0.        ,\n       0.        , 0.        , 0.        , 0.        , 0.        ,\n       0.        , 0.        , 0.        , 0.11764706, 0.99215686,\n       0.72941176, 0.00784314, 0.        , 0.        , 0.        ,\n       0.        , 0.        , 0.        , 0.        , 0.        ,\n       0.        , 0.09411765, 0.94117647, 0.94117647, 0.29803922,\n       0.        , 0.        , 0.        , 0.        , 0.        ,\n       0.        , 0.        , 0.        , 0.        , 0.        ,\n       0.        , 0.03137255, 0.56470588, 0.10196078, 0.        ,\n       0.        , 0.        , 0.        , 0.        , 0.        ,\n       0.        , 0.        , 0.        , 0.        , 0.47843137,\n       1.        , 0.35294118, 0.        , 0.        , 0.        ,\n       0.        , 0.        , 0.        , 0.        ])"
                    },
                    "execution_count": 17,
                    "metadata": {},
                    "output_type": "execute_result"
                }
            ],
            "source": "train_images[0]"
        },
        {
            "cell_type": "markdown",
            "metadata": {},
            "source": "## Second dataset\n\n#### 232,365 images, 49 classes, each image is 28 x 28 or represented by a 794 element array"
        },
        {
            "cell_type": "code",
            "execution_count": 18,
            "metadata": {},
            "outputs": [
                {
                    "name": "stdout",
                    "output_type": "stream",
                    "text": "--2021-06-04 02:01:28--  http://codh.rois.ac.jp/kmnist/dataset/k49/k49-train-imgs.npz?raw=True\nResolving codh.rois.ac.jp (codh.rois.ac.jp)... 136.187.88.58\nConnecting to codh.rois.ac.jp (codh.rois.ac.jp)|136.187.88.58|:80... connected.\nHTTP request sent, awaiting response... 200 OK\nLength: 66117696 (63M)\nSaving to: \u2018k49-train-imgs.npz?raw=True\u2019\n\nk49-train-imgs.npz? 100%[===================>]  63.05M  8.54MB/s    in 8.3s    \n\n2021-06-04 02:01:36 (7.62 MB/s) - \u2018k49-train-imgs.npz?raw=True\u2019 saved [66117696/66117696]\n\n-rw-rw---- 1 wsuser watsonstudio 64M Feb  4  2019 k49-train-imgs.npz\n--2021-06-04 02:01:39--  http://codh.rois.ac.jp/kmnist/dataset/k49/k49-train-labels.npz?raw=True\nResolving codh.rois.ac.jp (codh.rois.ac.jp)... 136.187.88.58\nConnecting to codh.rois.ac.jp (codh.rois.ac.jp)|136.187.88.58|:80... connected.\nHTTP request sent, awaiting response... 200 OK\nLength: 164485 (161K)\nSaving to: \u2018k49-train-labels.npz?raw=True\u2019\n\nk49-train-labels.np 100%[===================>] 160.63K   369KB/s    in 0.4s    \n\n2021-06-04 02:01:40 (369 KB/s) - \u2018k49-train-labels.npz?raw=True\u2019 saved [164485/164485]\n\n-rw-rw---- 1 wsuser watsonstudio 161K Feb  4  2019 k49-train-labels.npz\n--2021-06-04 02:01:43--  http://codh.rois.ac.jp/kmnist/dataset/k49/k49-test-imgs.npz?raw=True\nResolving codh.rois.ac.jp (codh.rois.ac.jp)... 136.187.88.58\nConnecting to codh.rois.ac.jp (codh.rois.ac.jp)|136.187.88.58|:80... connected.\nHTTP request sent, awaiting response... 200 OK\nLength: 10971201 (10M)\nSaving to: \u2018k49-test-imgs.npz?raw=True\u2019\n\nk49-test-imgs.npz?r 100%[===================>]  10.46M  5.27MB/s    in 2.0s    \n\n2021-06-04 02:01:45 (5.27 MB/s) - \u2018k49-test-imgs.npz?raw=True\u2019 saved [10971201/10971201]\n\n-rw-rw---- 1 wsuser watsonstudio 11M Feb  4  2019 k49-test-imgs.npz\n--2021-06-04 02:01:48--  http://codh.rois.ac.jp/kmnist/dataset/k49/k49-test-labels.npz?raw=True\nResolving codh.rois.ac.jp (codh.rois.ac.jp)... 136.187.88.58\nConnecting to codh.rois.ac.jp (codh.rois.ac.jp)|136.187.88.58|:80... connected.\nHTTP request sent, awaiting response... 200 OK\nLength: 27450 (27K)\nSaving to: \u2018k49-test-labels.npz?raw=True\u2019\n\nk49-test-labels.npz 100%[===================>]  26.81K  --.-KB/s    in 0.1s    \n\n2021-06-04 02:01:49 (197 KB/s) - \u2018k49-test-labels.npz?raw=True\u2019 saved [27450/27450]\n\n-rw-rw---- 1 wsuser watsonstudio 27K Feb  4  2019 k49-test-labels.npz\n"
                }
            ],
            "source": "# download the train and test labels and images, \n# which are in .npz format \n\n!wget http://codh.rois.ac.jp/kmnist/dataset/k49/k49-train-imgs.npz?raw=True\n!mv k49-train-imgs.npz?raw=True k49-train-imgs.npz\n!ls -lahr k49-train-imgs.npz\n\n!wget http://codh.rois.ac.jp/kmnist/dataset/k49/k49-train-labels.npz?raw=True\n!mv k49-train-labels.npz?raw=True k49-train-labels.npz\n!ls -lahr k49-train-labels.npz\n\n!wget http://codh.rois.ac.jp/kmnist/dataset/k49/k49-test-imgs.npz?raw=True\n!mv k49-test-imgs.npz?raw=True k49-test-imgs.npz\n!ls -lahr k49-test-imgs.npz\n\n!wget http://codh.rois.ac.jp/kmnist/dataset/k49/k49-test-labels.npz?raw=True\n!mv k49-test-labels.npz?raw=True k49-test-labels.npz\n!ls -lahr k49-test-labels.npz"
        },
        {
            "cell_type": "code",
            "execution_count": 19,
            "metadata": {},
            "outputs": [],
            "source": "# we need to define a load function in order to extract the data\n# from the .npz format, and then use  it to extract:\n\ndef load(f):\n    return np.load(f)['arr_0']\n\nk49_train_images = load('k49-train-imgs.npz')\nk49_train_labels = load('k49-train-labels.npz')\nk49_test_images = load('k49-test-imgs.npz')\nk49_test_labels = load('k49-test-labels.npz')"
        },
        {
            "cell_type": "code",
            "execution_count": 20,
            "metadata": {},
            "outputs": [
                {
                    "name": "stdout",
                    "output_type": "stream",
                    "text": "49\n"
                },
                {
                    "data": {
                        "text/html": "<div>\n<style scoped>\n    .dataframe tbody tr th:only-of-type {\n        vertical-align: middle;\n    }\n\n    .dataframe tbody tr th {\n        vertical-align: top;\n    }\n\n    .dataframe thead th {\n        text-align: right;\n    }\n</style>\n<table border=\"1\" class=\"dataframe\">\n  <thead>\n    <tr style=\"text-align: right;\">\n      <th></th>\n      <th>index</th>\n      <th>codepoint</th>\n      <th>char</th>\n      <th>phonetic</th>\n    </tr>\n  </thead>\n  <tbody>\n    <tr>\n      <th>0</th>\n      <td>0</td>\n      <td>U+3042</td>\n      <td>\u3042</td>\n      <td>a</td>\n    </tr>\n    <tr>\n      <th>1</th>\n      <td>1</td>\n      <td>U+3044</td>\n      <td>\u3044</td>\n      <td>i</td>\n    </tr>\n    <tr>\n      <th>2</th>\n      <td>2</td>\n      <td>U+3046</td>\n      <td>\u3046</td>\n      <td>u</td>\n    </tr>\n    <tr>\n      <th>3</th>\n      <td>3</td>\n      <td>U+3048</td>\n      <td>\u3048</td>\n      <td>e</td>\n    </tr>\n    <tr>\n      <th>4</th>\n      <td>4</td>\n      <td>U+304A</td>\n      <td>\u304a</td>\n      <td>o</td>\n    </tr>\n    <tr>\n      <th>5</th>\n      <td>5</td>\n      <td>U+304B</td>\n      <td>\u304b</td>\n      <td>ka</td>\n    </tr>\n    <tr>\n      <th>6</th>\n      <td>6</td>\n      <td>U+304D</td>\n      <td>\u304d</td>\n      <td>ki</td>\n    </tr>\n    <tr>\n      <th>7</th>\n      <td>7</td>\n      <td>U+304F</td>\n      <td>\u304f</td>\n      <td>ku</td>\n    </tr>\n    <tr>\n      <th>8</th>\n      <td>8</td>\n      <td>U+3051</td>\n      <td>\u3051</td>\n      <td>ke</td>\n    </tr>\n    <tr>\n      <th>9</th>\n      <td>9</td>\n      <td>U+3053</td>\n      <td>\u3053</td>\n      <td>ko</td>\n    </tr>\n    <tr>\n      <th>10</th>\n      <td>10</td>\n      <td>U+3055</td>\n      <td>\u3055</td>\n      <td>sa</td>\n    </tr>\n    <tr>\n      <th>11</th>\n      <td>11</td>\n      <td>U+3057</td>\n      <td>\u3057</td>\n      <td>shi</td>\n    </tr>\n    <tr>\n      <th>12</th>\n      <td>12</td>\n      <td>U+3059</td>\n      <td>\u3059</td>\n      <td>su</td>\n    </tr>\n    <tr>\n      <th>13</th>\n      <td>13</td>\n      <td>U+305B</td>\n      <td>\u305b</td>\n      <td>se</td>\n    </tr>\n    <tr>\n      <th>14</th>\n      <td>14</td>\n      <td>U+305D</td>\n      <td>\u305d</td>\n      <td>so</td>\n    </tr>\n    <tr>\n      <th>15</th>\n      <td>15</td>\n      <td>U+305F</td>\n      <td>\u305f</td>\n      <td>ta</td>\n    </tr>\n    <tr>\n      <th>16</th>\n      <td>16</td>\n      <td>U+3061</td>\n      <td>\u3061</td>\n      <td>chi</td>\n    </tr>\n    <tr>\n      <th>17</th>\n      <td>17</td>\n      <td>U+3064</td>\n      <td>\u3064</td>\n      <td>tsu</td>\n    </tr>\n    <tr>\n      <th>18</th>\n      <td>18</td>\n      <td>U+3066</td>\n      <td>\u3066</td>\n      <td>te</td>\n    </tr>\n    <tr>\n      <th>19</th>\n      <td>19</td>\n      <td>U+3068</td>\n      <td>\u3068</td>\n      <td>to</td>\n    </tr>\n    <tr>\n      <th>20</th>\n      <td>20</td>\n      <td>U+306A</td>\n      <td>\u306a</td>\n      <td>na</td>\n    </tr>\n    <tr>\n      <th>21</th>\n      <td>21</td>\n      <td>U+306B</td>\n      <td>\u306b</td>\n      <td>ni</td>\n    </tr>\n    <tr>\n      <th>22</th>\n      <td>22</td>\n      <td>U+306C</td>\n      <td>\u306c</td>\n      <td>nu</td>\n    </tr>\n    <tr>\n      <th>23</th>\n      <td>23</td>\n      <td>U+306D</td>\n      <td>\u306d</td>\n      <td>ne</td>\n    </tr>\n    <tr>\n      <th>24</th>\n      <td>24</td>\n      <td>U+306E</td>\n      <td>\u306e</td>\n      <td>no</td>\n    </tr>\n    <tr>\n      <th>25</th>\n      <td>25</td>\n      <td>U+306F</td>\n      <td>\u306f</td>\n      <td>ha</td>\n    </tr>\n    <tr>\n      <th>26</th>\n      <td>26</td>\n      <td>U+3072</td>\n      <td>\u3072</td>\n      <td>hi</td>\n    </tr>\n    <tr>\n      <th>27</th>\n      <td>27</td>\n      <td>U+3075</td>\n      <td>\u3075</td>\n      <td>fu</td>\n    </tr>\n    <tr>\n      <th>28</th>\n      <td>28</td>\n      <td>U+3078</td>\n      <td>\u3078</td>\n      <td>he</td>\n    </tr>\n    <tr>\n      <th>29</th>\n      <td>29</td>\n      <td>U+307B</td>\n      <td>\u307b</td>\n      <td>ho</td>\n    </tr>\n    <tr>\n      <th>30</th>\n      <td>30</td>\n      <td>U+307E</td>\n      <td>\u307e</td>\n      <td>ma</td>\n    </tr>\n    <tr>\n      <th>31</th>\n      <td>31</td>\n      <td>U+307F</td>\n      <td>\u307f</td>\n      <td>mi</td>\n    </tr>\n    <tr>\n      <th>32</th>\n      <td>32</td>\n      <td>U+3080</td>\n      <td>\u3080</td>\n      <td>mu</td>\n    </tr>\n    <tr>\n      <th>33</th>\n      <td>33</td>\n      <td>U+3081</td>\n      <td>\u3081</td>\n      <td>me</td>\n    </tr>\n    <tr>\n      <th>34</th>\n      <td>34</td>\n      <td>U+3082</td>\n      <td>\u3082</td>\n      <td>mo</td>\n    </tr>\n    <tr>\n      <th>35</th>\n      <td>35</td>\n      <td>U+3084</td>\n      <td>\u3084</td>\n      <td>ya</td>\n    </tr>\n    <tr>\n      <th>36</th>\n      <td>36</td>\n      <td>U+3086</td>\n      <td>\u3086</td>\n      <td>yu</td>\n    </tr>\n    <tr>\n      <th>37</th>\n      <td>37</td>\n      <td>U+3088</td>\n      <td>\u3088</td>\n      <td>yo</td>\n    </tr>\n    <tr>\n      <th>38</th>\n      <td>38</td>\n      <td>U+3089</td>\n      <td>\u3089</td>\n      <td>ra</td>\n    </tr>\n    <tr>\n      <th>39</th>\n      <td>39</td>\n      <td>U+308A</td>\n      <td>\u308a</td>\n      <td>ri</td>\n    </tr>\n    <tr>\n      <th>40</th>\n      <td>40</td>\n      <td>U+308B</td>\n      <td>\u308b</td>\n      <td>ru</td>\n    </tr>\n    <tr>\n      <th>41</th>\n      <td>41</td>\n      <td>U+308C</td>\n      <td>\u308c</td>\n      <td>re</td>\n    </tr>\n    <tr>\n      <th>42</th>\n      <td>42</td>\n      <td>U+308D</td>\n      <td>\u308d</td>\n      <td>ro</td>\n    </tr>\n    <tr>\n      <th>43</th>\n      <td>43</td>\n      <td>U+308F</td>\n      <td>\u308f</td>\n      <td>wa</td>\n    </tr>\n    <tr>\n      <th>44</th>\n      <td>44</td>\n      <td>U+3090</td>\n      <td>\u3090</td>\n      <td>wi</td>\n    </tr>\n    <tr>\n      <th>45</th>\n      <td>45</td>\n      <td>U+3091</td>\n      <td>\u3091</td>\n      <td>we</td>\n    </tr>\n    <tr>\n      <th>46</th>\n      <td>46</td>\n      <td>U+3092</td>\n      <td>\u3092</td>\n      <td>wo</td>\n    </tr>\n    <tr>\n      <th>47</th>\n      <td>47</td>\n      <td>U+3093</td>\n      <td>\u3093</td>\n      <td>n</td>\n    </tr>\n    <tr>\n      <th>48</th>\n      <td>48</td>\n      <td>U+309D</td>\n      <td>\u309d</td>\n      <td>iteration_mark</td>\n    </tr>\n  </tbody>\n</table>\n</div>",
                        "text/plain": "    index codepoint char        phonetic\n0       0    U+3042    \u3042               a\n1       1    U+3044    \u3044               i\n2       2    U+3046    \u3046               u\n3       3    U+3048    \u3048               e\n4       4    U+304A    \u304a               o\n5       5    U+304B    \u304b              ka\n6       6    U+304D    \u304d              ki\n7       7    U+304F    \u304f              ku\n8       8    U+3051    \u3051              ke\n9       9    U+3053    \u3053              ko\n10     10    U+3055    \u3055              sa\n11     11    U+3057    \u3057             shi\n12     12    U+3059    \u3059              su\n13     13    U+305B    \u305b              se\n14     14    U+305D    \u305d              so\n15     15    U+305F    \u305f              ta\n16     16    U+3061    \u3061             chi\n17     17    U+3064    \u3064             tsu\n18     18    U+3066    \u3066              te\n19     19    U+3068    \u3068              to\n20     20    U+306A    \u306a              na\n21     21    U+306B    \u306b              ni\n22     22    U+306C    \u306c              nu\n23     23    U+306D    \u306d              ne\n24     24    U+306E    \u306e              no\n25     25    U+306F    \u306f              ha\n26     26    U+3072    \u3072              hi\n27     27    U+3075    \u3075              fu\n28     28    U+3078    \u3078              he\n29     29    U+307B    \u307b              ho\n30     30    U+307E    \u307e              ma\n31     31    U+307F    \u307f              mi\n32     32    U+3080    \u3080              mu\n33     33    U+3081    \u3081              me\n34     34    U+3082    \u3082              mo\n35     35    U+3084    \u3084              ya\n36     36    U+3086    \u3086              yu\n37     37    U+3088    \u3088              yo\n38     38    U+3089    \u3089              ra\n39     39    U+308A    \u308a              ri\n40     40    U+308B    \u308b              ru\n41     41    U+308C    \u308c              re\n42     42    U+308D    \u308d              ro\n43     43    U+308F    \u308f              wa\n44     44    U+3090    \u3090              wi\n45     45    U+3091    \u3091             we \n46     46    U+3092    \u3092              wo\n47     47    U+3093    \u3093               n\n48     48    U+309D    \u309d  iteration_mark"
                    },
                    "execution_count": 20,
                    "metadata": {},
                    "output_type": "execute_result"
                }
            ],
            "source": "# next we download the classmap for this dataset\n# and add the phonetic, and display it:\n\nurl = \"http://codh.rois.ac.jp/kmnist/dataset/k49/k49_classmap.csv\"\ndf_k49_classmap = pd.read_csv(url)\n\nk49_phonetic = ['a', 'i',  'u',  'e',  'o',\\\n                'ka','ki', 'ku', 'ke', 'ko',\\\n                'sa','shi','su', 'se', 'so',\\\n                'ta','chi','tsu','te', 'to',\\\n                'na','ni', 'nu', 'ne', 'no',\\\n                'ha','hi', 'fu', 'he', 'ho',\\\n                'ma','mi', 'mu', 'me', 'mo',\\\n                'ya','yu', 'yo',\\\n                'ra','ri', 'ru', 're', 'ro',\\\n                'wa','wi', 'we ','wo', 'n','iteration_mark']\nprint(len(k49_phonetic))\ndf_k49_classmap['phonetic'] = k49_phonetic\ndf_k49_classmap"
        },
        {
            "cell_type": "code",
            "execution_count": 21,
            "metadata": {},
            "outputs": [
                {
                    "data": {
                        "text/plain": "numpy.ndarray"
                    },
                    "execution_count": 21,
                    "metadata": {},
                    "output_type": "execute_result"
                }
            ],
            "source": "# the data is already a numpy array\n# since we pulled it out of the .nps formatted structure\n\ntype(k49_train_images)"
        },
        {
            "cell_type": "code",
            "execution_count": 22,
            "metadata": {},
            "outputs": [
                {
                    "data": {
                        "text/plain": "(232365, 28, 28)"
                    },
                    "execution_count": 22,
                    "metadata": {},
                    "output_type": "execute_result"
                }
            ],
            "source": "# need to check the dimensionality of the data:\n\nk49_train_images.shape"
        },
        {
            "cell_type": "code",
            "execution_count": 23,
            "metadata": {},
            "outputs": [
                {
                    "data": {
                        "text/plain": "(232365,)"
                    },
                    "execution_count": 23,
                    "metadata": {},
                    "output_type": "execute_result"
                }
            ],
            "source": "k49_train_labels.shape"
        },
        {
            "cell_type": "code",
            "execution_count": 24,
            "metadata": {},
            "outputs": [
                {
                    "data": {
                        "text/plain": "(38547, 28, 28)"
                    },
                    "execution_count": 24,
                    "metadata": {},
                    "output_type": "execute_result"
                }
            ],
            "source": "k49_test_images.shape"
        },
        {
            "cell_type": "code",
            "execution_count": 25,
            "metadata": {},
            "outputs": [],
            "source": "# this means we need to flatten the data\n# to two dimensions\n\nk49_train_images = np.reshape(k49_train_images, (232365, 784))\nk49_test_images = np.reshape(k49_test_images, (38547, 784))"
        },
        {
            "cell_type": "code",
            "execution_count": 26,
            "metadata": {},
            "outputs": [
                {
                    "data": {
                        "text/plain": "(232365, 784)"
                    },
                    "execution_count": 26,
                    "metadata": {},
                    "output_type": "execute_result"
                }
            ],
            "source": "k49_train_images.shape"
        },
        {
            "cell_type": "code",
            "execution_count": 27,
            "metadata": {},
            "outputs": [
                {
                    "data": {
                        "text/plain": "(38547, 784)"
                    },
                    "execution_count": 27,
                    "metadata": {},
                    "output_type": "execute_result"
                }
            ],
            "source": "k49_test_images.shape"
        },
        {
            "cell_type": "code",
            "execution_count": 28,
            "metadata": {},
            "outputs": [
                {
                    "name": "stdout",
                    "output_type": "stream",
                    "text": "[  0   0   0   0   0   0   0   0   0   0  69 213  39  32 193  52   0   0\n   0   0   0   0   0   0   0   0   0   0   0   0   0   0   0   0   0   0\n   0  58 235  65   0   0  64 222  15   0   0   0   0   0   0   0   0   0\n   0   0   0   0   0   0   0   0   0   0   8 213  59   0   0   0   9 229\n  93   0   0   0   0   0   0   0   0   0   0   0   0   0   0   0   0   0\n   0   0  47 164   0   0   1  37  30 174  90   0   0   0   0   0   0   0\n   0   0   0   0   0   0   0   0   0   0   0   0  77 132  28  84 172 252\n 239 199  10   0   0   0   0   0   0   0   0   0   0   0   0   0   0   0\n   0   0   0   0  65 253 248 255 203 132  26 200 123  56  62  38   0   0\n   0   0   0   0   0   0   0   0   0   0   0   0   0   0   1 117 150  72\n   6   0   0 176 255 255 255 200   0   0   0   0   0   0   0   0   0   0\n   0   0   0   0   0   0   0   0   0   0   0   0   0 208 255 250 173  39\n   0   0   0   0   0   0   0   0   0   0   0   0   0   0   0   0   0   0\n   0   0   0  15 150 246 132  48   1   0   0   0   0   0   0   0   0   0\n   0   0   0   0   0   0   0   0   1  28   0   8  92 230 254 247  39   0\n   0   0   0   0   0   0   0   0   0   0   0   0   0   0   0   0   0   0\n  46 213 142 227 227 119  67 254  50   0   0   0   0   0   0   0   0   0\n   0   0   0   0   0   0   0   0   0   0  61 212 244 176  33   0   9 244\n  63   0   0   0   0   0   0   0   0   0   0   0   0   0   0   0   0   0\n   0   0   0   7  17   1   0   0   1 220 109   0   0   0   0   0   0   0\n   0   0   0   0   0   0   0   0   0   0   0   0   0   0   0   0   0   0\n   0 188 127   0   0   0   0   0   0   0   0   0   0   0   0   0   0   0\n   0   0   0   0   0   0   0   0   0   0  28 190 128   0   0   0   0   0\n   0   0   0   0   0   0   0   0   0   0   0   0   0   0   0   0   0   0\n   3 126 253 254 118   0   0   0   0   0   0   0   0   0   0   0   0   0\n   0   0   0   0   0   0   0   0   0   4 185 255 255 255 203  16   0   0\n   0   0   0   0   0   0   0   0   0   0   0   0   0   0   0   0   0   0\n   0  42 242 249 255 255 255 165   2   0   0   0   0   0   0   0   0   0\n   0   0   0   0   0   0   0   0   0   0   0  99 235 246 255 179 178 253\n 115   0   0   0   0   0   0   0   0   0   0   0   0   0   0   0   0   0\n   0   0   0  51 226 255 212  24  30 249 192   0   0   0   0   0   0   0\n   0   0   0   0   0   0   0   0   0   0   0   0   0   0  32 157  38   0\n   0 197 229   2   0   0   0   0   0   0   0   0   0   0   0   0   0   0\n   0   0   0   0   0   0   0   0   0   0   0 170 242   6   0   0   0   0\n   0   0   0   0   0   0   0   0   0   0   0   0   0   0   0   0   0   0\n   0   0   0 197 188   0   0   0   0   0   0   0   0   0   0   0   0   0\n   0   0   0   0   0   0   0   0   0   0   0   0   6 231 129   0   0   0\n   0   0   0   0   0   0   0   0   0   0   0   0   0   0   0   0   0   0\n   0   0   0   0  39 254  50   0   0   0   0   0   0   0   0   0   0   0\n   0   0   0   0   0   0   0   0   0   0   0   0   0   0 115 216   6   0\n   0   0   0   0   0   0   0   0   0   0   0   0   0   0   0   0   0   0\n   0   0   0   0   0   0 196 104   0   0   0   0   0   0   0   0   0   0\n   0   0   0   0   0   0   0   0   0   0   0   0   0   0   0  55 246  36\n   0   0   0   0   0   0   0   0   0   0]\n"
                }
            ],
            "source": "# the k49_train_images are now a numpy array of numbers between 0 and 255\nprint(k49_train_images[0])"
        },
        {
            "cell_type": "code",
            "execution_count": 29,
            "metadata": {},
            "outputs": [],
            "source": "# we need to normalize the numpy arrays so that each number in the numpy\n# array is between 0 and 1:\n\nk49_train_images = k49_train_images / 255\nk49_test_images = k49_test_images / 255"
        },
        {
            "cell_type": "code",
            "execution_count": 30,
            "metadata": {},
            "outputs": [
                {
                    "name": "stdout",
                    "output_type": "stream",
                    "text": "[0.         0.         0.         0.         0.         0.\n 0.         0.         0.         0.         0.27058824 0.83529412\n 0.15294118 0.1254902  0.75686275 0.20392157 0.         0.\n 0.         0.         0.         0.         0.         0.\n 0.         0.         0.         0.         0.         0.\n 0.         0.         0.         0.         0.         0.\n 0.         0.22745098 0.92156863 0.25490196 0.         0.\n 0.25098039 0.87058824 0.05882353 0.         0.         0.\n 0.         0.         0.         0.         0.         0.\n 0.         0.         0.         0.         0.         0.\n 0.         0.         0.         0.         0.03137255 0.83529412\n 0.23137255 0.         0.         0.         0.03529412 0.89803922\n 0.36470588 0.         0.         0.         0.         0.\n 0.         0.         0.         0.         0.         0.\n 0.         0.         0.         0.         0.         0.\n 0.         0.         0.18431373 0.64313725 0.         0.\n 0.00392157 0.14509804 0.11764706 0.68235294 0.35294118 0.\n 0.         0.         0.         0.         0.         0.\n 0.         0.         0.         0.         0.         0.\n 0.         0.         0.         0.         0.         0.\n 0.30196078 0.51764706 0.10980392 0.32941176 0.6745098  0.98823529\n 0.9372549  0.78039216 0.03921569 0.         0.         0.\n 0.         0.         0.         0.         0.         0.\n 0.         0.         0.         0.         0.         0.\n 0.         0.         0.         0.         0.25490196 0.99215686\n 0.97254902 1.         0.79607843 0.51764706 0.10196078 0.78431373\n 0.48235294 0.21960784 0.24313725 0.14901961 0.         0.\n 0.         0.         0.         0.         0.         0.\n 0.         0.         0.         0.         0.         0.\n 0.         0.         0.00392157 0.45882353 0.58823529 0.28235294\n 0.02352941 0.         0.         0.69019608 1.         1.\n 1.         0.78431373 0.         0.         0.         0.\n 0.         0.         0.         0.         0.         0.\n 0.         0.         0.         0.         0.         0.\n 0.         0.         0.         0.         0.         0.\n 0.         0.81568627 1.         0.98039216 0.67843137 0.15294118\n 0.         0.         0.         0.         0.         0.\n 0.         0.         0.         0.         0.         0.\n 0.         0.         0.         0.         0.         0.\n 0.         0.         0.         0.05882353 0.58823529 0.96470588\n 0.51764706 0.18823529 0.00392157 0.         0.         0.\n 0.         0.         0.         0.         0.         0.\n 0.         0.         0.         0.         0.         0.\n 0.         0.         0.00392157 0.10980392 0.         0.03137255\n 0.36078431 0.90196078 0.99607843 0.96862745 0.15294118 0.\n 0.         0.         0.         0.         0.         0.\n 0.         0.         0.         0.         0.         0.\n 0.         0.         0.         0.         0.         0.\n 0.18039216 0.83529412 0.55686275 0.89019608 0.89019608 0.46666667\n 0.2627451  0.99607843 0.19607843 0.         0.         0.\n 0.         0.         0.         0.         0.         0.\n 0.         0.         0.         0.         0.         0.\n 0.         0.         0.         0.         0.23921569 0.83137255\n 0.95686275 0.69019608 0.12941176 0.         0.03529412 0.95686275\n 0.24705882 0.         0.         0.         0.         0.\n 0.         0.         0.         0.         0.         0.\n 0.         0.         0.         0.         0.         0.\n 0.         0.         0.         0.02745098 0.06666667 0.00392157\n 0.         0.         0.00392157 0.8627451  0.42745098 0.\n 0.         0.         0.         0.         0.         0.\n 0.         0.         0.         0.         0.         0.\n 0.         0.         0.         0.         0.         0.\n 0.         0.         0.         0.         0.         0.\n 0.         0.7372549  0.49803922 0.         0.         0.\n 0.         0.         0.         0.         0.         0.\n 0.         0.         0.         0.         0.         0.\n 0.         0.         0.         0.         0.         0.\n 0.         0.         0.         0.         0.10980392 0.74509804\n 0.50196078 0.         0.         0.         0.         0.\n 0.         0.         0.         0.         0.         0.\n 0.         0.         0.         0.         0.         0.\n 0.         0.         0.         0.         0.         0.\n 0.01176471 0.49411765 0.99215686 0.99607843 0.4627451  0.\n 0.         0.         0.         0.         0.         0.\n 0.         0.         0.         0.         0.         0.\n 0.         0.         0.         0.         0.         0.\n 0.         0.         0.         0.01568627 0.7254902  1.\n 1.         1.         0.79607843 0.0627451  0.         0.\n 0.         0.         0.         0.         0.         0.\n 0.         0.         0.         0.         0.         0.\n 0.         0.         0.         0.         0.         0.\n 0.         0.16470588 0.94901961 0.97647059 1.         1.\n 1.         0.64705882 0.00784314 0.         0.         0.\n 0.         0.         0.         0.         0.         0.\n 0.         0.         0.         0.         0.         0.\n 0.         0.         0.         0.         0.         0.38823529\n 0.92156863 0.96470588 1.         0.70196078 0.69803922 0.99215686\n 0.45098039 0.         0.         0.         0.         0.\n 0.         0.         0.         0.         0.         0.\n 0.         0.         0.         0.         0.         0.\n 0.         0.         0.         0.2        0.88627451 1.\n 0.83137255 0.09411765 0.11764706 0.97647059 0.75294118 0.\n 0.         0.         0.         0.         0.         0.\n 0.         0.         0.         0.         0.         0.\n 0.         0.         0.         0.         0.         0.\n 0.         0.         0.1254902  0.61568627 0.14901961 0.\n 0.         0.77254902 0.89803922 0.00784314 0.         0.\n 0.         0.         0.         0.         0.         0.\n 0.         0.         0.         0.         0.         0.\n 0.         0.         0.         0.         0.         0.\n 0.         0.         0.         0.         0.         0.66666667\n 0.94901961 0.02352941 0.         0.         0.         0.\n 0.         0.         0.         0.         0.         0.\n 0.         0.         0.         0.         0.         0.\n 0.         0.         0.         0.         0.         0.\n 0.         0.         0.         0.77254902 0.7372549  0.\n 0.         0.         0.         0.         0.         0.\n 0.         0.         0.         0.         0.         0.\n 0.         0.         0.         0.         0.         0.\n 0.         0.         0.         0.         0.         0.\n 0.02352941 0.90588235 0.50588235 0.         0.         0.\n 0.         0.         0.         0.         0.         0.\n 0.         0.         0.         0.         0.         0.\n 0.         0.         0.         0.         0.         0.\n 0.         0.         0.         0.         0.15294118 0.99607843\n 0.19607843 0.         0.         0.         0.         0.\n 0.         0.         0.         0.         0.         0.\n 0.         0.         0.         0.         0.         0.\n 0.         0.         0.         0.         0.         0.\n 0.         0.         0.45098039 0.84705882 0.02352941 0.\n 0.         0.         0.         0.         0.         0.\n 0.         0.         0.         0.         0.         0.\n 0.         0.         0.         0.         0.         0.\n 0.         0.         0.         0.         0.         0.\n 0.76862745 0.40784314 0.         0.         0.         0.\n 0.         0.         0.         0.         0.         0.\n 0.         0.         0.         0.         0.         0.\n 0.         0.         0.         0.         0.         0.\n 0.         0.         0.         0.21568627 0.96470588 0.14117647\n 0.         0.         0.         0.         0.         0.\n 0.         0.         0.         0.        ]\n"
                }
            ],
            "source": "print(k49_train_images[0])"
        },
        {
            "cell_type": "code",
            "execution_count": 31,
            "metadata": {},
            "outputs": [],
            "source": "# this is the format we need for the machine learning model"
        },
        {
            "cell_type": "markdown",
            "metadata": {},
            "source": "## The Third Dataset \n\n#### includes Kanji characters, this data has 3832 different classes and consists of 140,426 images, each image is 64 X 64 pixels\n#### This dataset is not as processed as the other two.  It is just a bunch of png images in a directory inside an archive file."
        },
        {
            "cell_type": "code",
            "execution_count": 32,
            "metadata": {},
            "outputs": [
                {
                    "name": "stdout",
                    "output_type": "stream",
                    "text": "--2021-06-04 02:01:54--  http://codh.rois.ac.jp/kmnist/dataset/kkanji/kkanji.tar?raw=True\nResolving codh.rois.ac.jp (codh.rois.ac.jp)... 136.187.88.58\nConnecting to codh.rois.ac.jp (codh.rois.ac.jp)|136.187.88.58|:80... connected.\nHTTP request sent, awaiting response... 200 OK\nLength: 324290560 (309M) [application/x-tar]\nSaving to: \u2018kkanji.tar?raw=True\u2019\n\nkkanji.tar?raw=True 100%[===================>] 309.27M  8.59MB/s    in 46s     \n\n2021-06-04 02:02:40 (6.72 MB/s) - \u2018kkanji.tar?raw=True\u2019 saved [324290560/324290560]\n\n-rw-rw---- 1 wsuser watsonstudio 310M Dec  8  2018 kkanji.tar\nkkanji2/\nkkanji2/U+5B87/\nkkanji2/U+5B87/72d56fcb33d10fe0.png\nkkanji2/U+5B87/75f7923797777c74.png\nkkanji2/U+5B87/69d6becd4f8f2d61.png\nkkanji2/U+5B87/522dd01c5f9573f5.png\nkkanji2/U+5B87/36aadd8d92c64049.png\nkkanji2/U+5B87/58f75629e53b9e63.png\nkkanji2/U+5B87/557950fbb39b019b.png\nkkanji2/U+5B87/c4ca643dbc0299b6.png\nkkanji2/U+5B87/02f161e7e7a3c364.png\nkkanji2/U+5B87/c45553bb4a35c8d4.png\nkkanji2/U+5B87/ffa955bd6cb43af8.png\nkkanji2/U+5B87/d0387f14448f2a95.png\nkkanji2/U+5B87/d8c4a0dbd99fc02f.png\nkkanji2/U+5B87/419beef7f2c593da.png\nkkanji2/U+5B87/f2308287339f973d.png\nkkanji2/U+5B87/f885e3a957b99e8e.png\nkkanji2/U+5B87/f5e7a417e3d831d8.png\nkkanji2/U+5B87/17681a9b66db23e0.png\nkkanji2/U+5B87/cc2b8cd01c984262.png\nkkanji2/U+5B87/3e76b512ef42c8f2.png\nkkanji2/U+5B87/49276561d0ca08e0.png\nkkanji2/U+5B87/a169cf27462e020d.png\nkkanji2/U+5B87/61b85600b3fdbea9.png\nkkanji2/U+5B87/112b17b885fbfa61.png\nkkanji2/U+5B87/99654e0e2e597032.png\nkkanji2/U+5B87/7af7faf202121801.png\nkkanji2/U+5B87/8a6b7ea64d025e6d.png\nkkanji2/U+5B87/3c965132ab259d2b.png\nkkanji2/U+5B87/e5e120e4a9d70b6b.png\nkkanji2/U+5B87/a83b76ab3c9ab31c.png\nkkanji2/U+5B87/5a3cf89898fb6100.png\nkkanji2/U+5B87/d84ddc102e8425b6.png\nkkanji2/U+5B87/bdf7cd68b0df8857.png\nkkanji2/U+5B87/a0a4815c3bfe9f15.png\nkkanji2/U+5B87/b2e74a3d92ef78ac.png\nkkanji2/U+5B87/25e9d668d9b64914.png\nkkanji2/U+5B87/5b6ee9b9d03fc3ad.png\nkkanji2/U+583A/\nkkanji2/U+583A/2adaddcb1db613b1.png\nkkanji2/U+583A/3bd7379e66373395.png\nkkanji2/U+583A/ea8dd8f0d7375e9c.png\nkkanji2/U+583A/f738049a58a97177.png\nkkanji2/U+583A/b3a041d6510720b2.png\nkkanji2/U+583A/3921ca3a71dcaaff.png\nkkanji2/U+583A/21d02bce1618fd05.png\nkkanji2/U+583A/df87ce26b03e824d.png\nkkanji2/U+583A/5e5b7454b683e6b0.png\nkkanji2/U+583A/10063d313e1474aa.png\nkkanji2/U+583A/84e528c1a87102b4.png\nkkanji2/U+583A/f8db9187baf4b352.png\nkkanji2/U+583A/e1eb722d60ac207c.png\nkkanji2/U+583A/ab464d2670b260bc.png\nkkanji2/U+583A/596e410f8ae20a07.png\nkkanji2/U+583A/805fa5f10779d104.png\nkkanji2/U+583A/66e27da7a955f8ea.png\nkkanji2/U+583A/d43d5197995e7345.png\nkkanji2/U+583A/0ceea4b4033e6c66.png\nkkanji2/U+5ECA/\nkkanji2/U+5ECA/47d36e0f7df9b8ab.png\nkkanji2/U+5ECA/ea6adb0abe33425c.png\nkkanji2/U+5ECA/542e3b1950722456.png\nkkanji2/U+5ECA/3b16e7bcc8a3a717.png\nkkanji2/U+5ECA/7f899bc5008c5824.png\nkkanji2/U+9CF6/\nkkanji2/U+9CF6/e52af171049817f9.png\nkkanji2/U+9CF6/3a09e6488fd81fcd.png\nkkanji2/U+9CF6/ae5f75bd30a73375.png\nkkanji2/U+5A9B/\ntar: write error\n"
                }
            ],
            "source": "# we download the archive:\n\n!wget http://codh.rois.ac.jp/kmnist/dataset/kkanji/kkanji.tar?raw=True\n!mv kkanji.tar?raw=True kkanji.tar\n!ls -lahr kkanji.tar\n\n# list the contents of the archive\n# limit output to the first 70 files\n\n!tar -tf kkanji.tar | head -70"
        },
        {
            "cell_type": "code",
            "execution_count": 33,
            "metadata": {},
            "outputs": [
                {
                    "name": "stdout",
                    "output_type": "stream",
                    "text": "total 466728\r\ndrwxr-x---    4 wsuser watsonstudio      4096 Jun  4 02:02 .\r\ndrwx------    1 wsuser watsonstudio      4096 Jun  3 23:36 ..\r\n-rw-rw----    1 wsuser watsonstudio     26841 Jun  4 01:56 codepoints.csv\r\n-rw-rw----    1 wsuser watsonstudio  10971201 Feb  4  2019 k49-test-imgs.npz\r\n-rw-rw----    1 wsuser watsonstudio     27450 Feb  4  2019 k49-test-labels.npz\r\n-rw-rw----    1 wsuser watsonstudio  66117696 Feb  4  2019 k49-train-imgs.npz\r\n-rw-rw----    1 wsuser watsonstudio    164485 Feb  4  2019 k49-train-labels.npz\r\ndrwxr-x--- 3834 wsuser watsonstudio     90112 Dec  8  2018 kkanji2\r\n-rw-rw----    1 wsuser watsonstudio 324290560 Dec  8  2018 kkanji.tar\r\ndrwxrwx---    2 wsuser watsonstudio      4096 Jun  3 23:41 kmnistdata\r\n-rw-rw----    1 wsuser watsonstudio   7840016 Feb  4  2019 t10k-images-idx3-ubyte\r\n-rw-rw----    1 wsuser watsonstudio   3041136 Feb  4  2019 t10k-images-idx3-ubyte.gz\r\n-rw-rw----    1 wsuser watsonstudio     10008 Feb  4  2019 t10k-labels-idx1-ubyte\r\n-rw-rw----    1 wsuser watsonstudio      5120 Feb  4  2019 t10k-labels-idx1-ubyte.gz\r\n-rw-rw----    1 wsuser watsonstudio  47040016 Feb  4  2019 train-images-idx3-ubyte\r\n-rw-rw----    1 wsuser watsonstudio  18165135 Feb  4  2019 train-images-idx3-ubyte.gz\r\n-rw-rw----    1 wsuser watsonstudio     60008 Feb  4  2019 train-labels-idx1-ubyte\r\n-rw-rw----    1 wsuser watsonstudio     29497 Feb  4  2019 train-labels-idx1-ubyte.gz\r\n"
                }
            ],
            "source": "# extract the archive:\n!tar -xf kkanji.tar\n\n# check whats in the current working directory:\n!ls -al\n\n"
        },
        {
            "cell_type": "code",
            "execution_count": 34,
            "metadata": {},
            "outputs": [
                {
                    "name": "stdout",
                    "output_type": "stream",
                    "text": "U+241C6\r\nU+24FA3\r\nU+25DA1\r\nU+27752\r\nU+29780\r\nU+29DDA\r\nU+29E75\r\nU+4093\r\nU+4453\r\nU+4543\r\nU+4572\r\nU+4C61\r\nU+4C99\r\nU+4E00\r\nU+4E01\r\nU+4E03\r\nU+4E07\r\nU+4E08\r\nU+4E09\r\nU+4E0A\r\nU+4E0B\r\nU+4E0D\r\nU+4E0E\r\nU+4E11\r\nU+4E14\r\nU+4E16\r\nU+4E17\r\nU+4E18\r\nU+4E19\r\nU+4E1E\r\nU+4E21\r\nU+4E26\r\nU+4E2D\r\nU+4E32\r\nU+4E38\r\nU+4E39\r\nU+4E3B\r\nU+4E3C\r\nU+4E42\r\nU+4E43\r\nU+4E45\r\nU+4E4B\r\nU+4E4D\r\nU+4E4E\r\nU+4E4F\r\nU+4E57\r\nU+4E58\r\nU+4E59\r\nU+4E5D\r\nU+4E5E\r\n"
                }
            ],
            "source": "# check the extracted png files in the newly extracted directory\n# List out the first 50 folder names in the directory kkanji2\n# the folder names are also the codepoint of each of the characters:\n\n!ls kkanji2 | head -50"
        },
        {
            "cell_type": "code",
            "execution_count": 35,
            "metadata": {},
            "outputs": [
                {
                    "name": "stdout",
                    "output_type": "stream",
                    "text": "codepoint\r\nU+241C6\r\nU+24FA3\r\nU+25DA1\r\nU+27752\r\nU+29780\r\nU+29DDA\r\nU+29E75\r\nU+4093\r\nU+4453\r\nU+4543\r\nU+4572\r\nU+4C61\r\nU+4C99\r\nU+4E00\r\nU+4E01\r\nU+4E03\r\nU+4E07\r\nU+4E08\r\nU+4E09\r\nU+4E0A\r\nU+4E0B\r\nU+4E0D\r\nU+4E0E\r\nU+4E11\r\nU+4E14\r\nU+4E16\r\nU+4E17\r\nU+4E18\r\nU+4E19\r\nU+4E1E\r\nU+4E21\r\nU+4E26\r\nU+4E2D\r\nU+4E32\r\nU+4E38\r\nU+4E39\r\nU+4E3B\r\nU+4E3C\r\nU+4E42\r\nU+4E43\r\nU+4E45\r\nU+4E4B\r\nU+4E4D\r\nU+4E4E\r\nU+4E4F\r\nU+4E57\r\nU+4E58\r\nU+4E59\r\nU+4E5D\r\n"
                }
            ],
            "source": "# put the codepoints in a file\n# let the first line of the file be name\n# of the column in the dataframe we are creating\n!echo codepoint > codepoints.csv\n!ls kkanji2 >> codepoints.csv\n!cat codepoints.csv | head -50"
        },
        {
            "cell_type": "code",
            "execution_count": 36,
            "metadata": {},
            "outputs": [
                {
                    "name": "stdout",
                    "output_type": "stream",
                    "text": "total 466728\r\ndrwxr-x---    4 wsuser watsonstudio      4096 Jun  4 02:02 .\r\ndrwx------    1 wsuser watsonstudio      4096 Jun  3 23:36 ..\r\n-rw-rw----    1 wsuser watsonstudio     26841 Jun  4 02:02 codepoints.csv\r\n-rw-rw----    1 wsuser watsonstudio  10971201 Feb  4  2019 k49-test-imgs.npz\r\n-rw-rw----    1 wsuser watsonstudio     27450 Feb  4  2019 k49-test-labels.npz\r\n-rw-rw----    1 wsuser watsonstudio  66117696 Feb  4  2019 k49-train-imgs.npz\r\n-rw-rw----    1 wsuser watsonstudio    164485 Feb  4  2019 k49-train-labels.npz\r\ndrwxr-x--- 3834 wsuser watsonstudio     90112 Dec  8  2018 kkanji2\r\n-rw-rw----    1 wsuser watsonstudio 324290560 Dec  8  2018 kkanji.tar\r\ndrwxrwx---    2 wsuser watsonstudio      4096 Jun  3 23:41 kmnistdata\r\n-rw-rw----    1 wsuser watsonstudio   7840016 Feb  4  2019 t10k-images-idx3-ubyte\r\n-rw-rw----    1 wsuser watsonstudio   3041136 Feb  4  2019 t10k-images-idx3-ubyte.gz\r\n-rw-rw----    1 wsuser watsonstudio     10008 Feb  4  2019 t10k-labels-idx1-ubyte\r\n-rw-rw----    1 wsuser watsonstudio      5120 Feb  4  2019 t10k-labels-idx1-ubyte.gz\r\n-rw-rw----    1 wsuser watsonstudio  47040016 Feb  4  2019 train-images-idx3-ubyte\r\n-rw-rw----    1 wsuser watsonstudio  18165135 Feb  4  2019 train-images-idx3-ubyte.gz\r\n-rw-rw----    1 wsuser watsonstudio     60008 Feb  4  2019 train-labels-idx1-ubyte\r\n-rw-rw----    1 wsuser watsonstudio     29497 Feb  4  2019 train-labels-idx1-ubyte.gz\r\n"
                }
            ],
            "source": "# make sure the file codepoints.csv is in the current directory:\n\n!ls -al"
        },
        {
            "cell_type": "code",
            "execution_count": 37,
            "metadata": {},
            "outputs": [
                {
                    "name": "stdout",
                    "output_type": "stream",
                    "text": "/home/wsuser/work/codepoints.csv\n"
                }
            ],
            "source": "# verify the file's path:\n\nprint (os.path.abspath(\"codepoints.csv\"))"
        },
        {
            "cell_type": "code",
            "execution_count": 38,
            "metadata": {},
            "outputs": [
                {
                    "data": {
                        "text/html": "<div>\n<style scoped>\n    .dataframe tbody tr th:only-of-type {\n        vertical-align: middle;\n    }\n\n    .dataframe tbody tr th {\n        vertical-align: top;\n    }\n\n    .dataframe thead th {\n        text-align: right;\n    }\n</style>\n<table border=\"1\" class=\"dataframe\">\n  <thead>\n    <tr style=\"text-align: right;\">\n      <th></th>\n      <th>codepoint</th>\n    </tr>\n  </thead>\n  <tbody>\n    <tr>\n      <th>0</th>\n      <td>U+241C6</td>\n    </tr>\n    <tr>\n      <th>1</th>\n      <td>U+24FA3</td>\n    </tr>\n    <tr>\n      <th>2</th>\n      <td>U+25DA1</td>\n    </tr>\n    <tr>\n      <th>3</th>\n      <td>U+27752</td>\n    </tr>\n    <tr>\n      <th>4</th>\n      <td>U+29780</td>\n    </tr>\n    <tr>\n      <th>...</th>\n      <td>...</td>\n    </tr>\n    <tr>\n      <th>3827</th>\n      <td>U+FA38</td>\n    </tr>\n    <tr>\n      <th>3828</th>\n      <td>U+FA45</td>\n    </tr>\n    <tr>\n      <th>3829</th>\n      <td>U+FA4A</td>\n    </tr>\n    <tr>\n      <th>3830</th>\n      <td>U+FA55</td>\n    </tr>\n    <tr>\n      <th>3831</th>\n      <td>U+FA5C</td>\n    </tr>\n  </tbody>\n</table>\n<p>3832 rows \u00d7 1 columns</p>\n</div>",
                        "text/plain": "     codepoint\n0      U+241C6\n1      U+24FA3\n2      U+25DA1\n3      U+27752\n4      U+29780\n...        ...\n3827    U+FA38\n3828    U+FA45\n3829    U+FA4A\n3830    U+FA55\n3831    U+FA5C\n\n[3832 rows x 1 columns]"
                    },
                    "execution_count": 38,
                    "metadata": {},
                    "output_type": "execute_result"
                }
            ],
            "source": "# read all the lines of the file into pandas dataframe\n# including the column header which is already in the file\n# display new dataframe\n# here we can confirm that the data has 3832 classes\n\ndf_kanji_classmap = pd.read_csv(\"codepoints.csv\")\ndf_kanji_classmap"
        },
        {
            "cell_type": "code",
            "execution_count": 39,
            "metadata": {},
            "outputs": [
                {
                    "data": {
                        "image/png": "[encoded data removed]",
                        "text/plain": "<Figure size 432x288 with 1 Axes>"
                    },
                    "metadata": {
                        "needs_background": "light"
                    },
                    "output_type": "display_data"
                }
            ],
            "source": "# we'll need to read the images in to transform them\n#read the first listed image in the first folder and display it\nimg = mping.imread('kkanji2/U+5B87/72d56fcb33d10fe0.png')\nplt.imshow(img)\nplt.show()\n# note that this image in only \"first\" as listed from the tar arcive above\n# it is not \"first\" in terms of the codepoint listing we created directly above"
        },
        {
            "cell_type": "code",
            "execution_count": 40,
            "metadata": {},
            "outputs": [],
            "source": "# create a pandas dataframe that contains the codepoint for each image, \n# and its full path in the os and display that dataframe\n\ndata = []\ndir = os.path.realpath('/home/wsuser/work/kkanji2')\nfor r, d, f in os.walk(dir):\n    for file in f:\n        if \".png\" in file:\n            data.append((r.split('/')[-1],os.path.join(r,file)))\ndf_kanji2 = pd.DataFrame(data, columns=['codepoint', 'image_file_path']).sort_values(by=['codepoint'], ignore_index = True)"
        },
        {
            "cell_type": "code",
            "execution_count": 41,
            "metadata": {},
            "outputs": [
                {
                    "data": {
                        "text/html": "<div>\n<style scoped>\n    .dataframe tbody tr th:only-of-type {\n        vertical-align: middle;\n    }\n\n    .dataframe tbody tr th {\n        vertical-align: top;\n    }\n\n    .dataframe thead th {\n        text-align: right;\n    }\n</style>\n<table border=\"1\" class=\"dataframe\">\n  <thead>\n    <tr style=\"text-align: right;\">\n      <th></th>\n      <th>codepoint</th>\n      <th>image_file_path</th>\n    </tr>\n  </thead>\n  <tbody>\n    <tr>\n      <th>0</th>\n      <td>U+241C6</td>\n      <td>/home/wsuser/work/kkanji2/U+241C6/689fa55040ec4f03.png</td>\n    </tr>\n    <tr>\n      <th>1</th>\n      <td>U+241C6</td>\n      <td>/home/wsuser/work/kkanji2/U+241C6/c0d603c6ce4a4538.png</td>\n    </tr>\n    <tr>\n      <th>2</th>\n      <td>U+24FA3</td>\n      <td>/home/wsuser/work/kkanji2/U+24FA3/4190e728bfc948e0.png</td>\n    </tr>\n    <tr>\n      <th>3</th>\n      <td>U+24FA3</td>\n      <td>/home/wsuser/work/kkanji2/U+24FA3/80582798ed70ce7c.png</td>\n    </tr>\n    <tr>\n      <th>4</th>\n      <td>U+25DA1</td>\n      <td>/home/wsuser/work/kkanji2/U+25DA1/512d7fcacddd25fd.png</td>\n    </tr>\n    <tr>\n      <th>...</th>\n      <td>...</td>\n      <td>...</td>\n    </tr>\n    <tr>\n      <th>140419</th>\n      <td>U+FA55</td>\n      <td>/home/wsuser/work/kkanji2/U+FA55/e837b009ba51dd64.png</td>\n    </tr>\n    <tr>\n      <th>140420</th>\n      <td>U+FA55</td>\n      <td>/home/wsuser/work/kkanji2/U+FA55/81c4ea089fd6d977.png</td>\n    </tr>\n    <tr>\n      <th>140421</th>\n      <td>U+FA55</td>\n      <td>/home/wsuser/work/kkanji2/U+FA55/4231e630011bf349.png</td>\n    </tr>\n    <tr>\n      <th>140422</th>\n      <td>U+FA5C</td>\n      <td>/home/wsuser/work/kkanji2/U+FA5C/679e4b2f026f6297.png</td>\n    </tr>\n    <tr>\n      <th>140423</th>\n      <td>U+FA5C</td>\n      <td>/home/wsuser/work/kkanji2/U+FA5C/15e2060396eba2b3.png</td>\n    </tr>\n  </tbody>\n</table>\n<p>140424 rows \u00d7 2 columns</p>\n</div>",
                        "text/plain": "       codepoint                                         image_file_path\n0        U+241C6  /home/wsuser/work/kkanji2/U+241C6/689fa55040ec4f03.png\n1        U+241C6  /home/wsuser/work/kkanji2/U+241C6/c0d603c6ce4a4538.png\n2        U+24FA3  /home/wsuser/work/kkanji2/U+24FA3/4190e728bfc948e0.png\n3        U+24FA3  /home/wsuser/work/kkanji2/U+24FA3/80582798ed70ce7c.png\n4        U+25DA1  /home/wsuser/work/kkanji2/U+25DA1/512d7fcacddd25fd.png\n...          ...                                                     ...\n140419    U+FA55   /home/wsuser/work/kkanji2/U+FA55/e837b009ba51dd64.png\n140420    U+FA55   /home/wsuser/work/kkanji2/U+FA55/81c4ea089fd6d977.png\n140421    U+FA55   /home/wsuser/work/kkanji2/U+FA55/4231e630011bf349.png\n140422    U+FA5C   /home/wsuser/work/kkanji2/U+FA5C/679e4b2f026f6297.png\n140423    U+FA5C   /home/wsuser/work/kkanji2/U+FA5C/15e2060396eba2b3.png\n\n[140424 rows x 2 columns]"
                    },
                    "execution_count": 41,
                    "metadata": {},
                    "output_type": "execute_result"
                }
            ],
            "source": "# display the new dataframe\n# we will change the display width of the pandas \n# dataframe to be able to see the entire path\n\npd.set_option('max_colwidth', 1000)\ndf_kanji2"
        },
        {
            "cell_type": "code",
            "execution_count": 42,
            "metadata": {},
            "outputs": [
                {
                    "data": {
                        "text/plain": "'/home/wsuser/work/kkanji2/U+241C6/689fa55040ec4f03.png'"
                    },
                    "execution_count": 42,
                    "metadata": {},
                    "output_type": "execute_result"
                }
            ],
            "source": "# show the os path of the first image in the first folder\n# as listed in the dataframe\n# note that the dataframe list the images grouped by their codepoints\n# and the codepoints are sorted by their ASCII values\n\ndf_kanji2['image_file_path'][0]"
        },
        {
            "cell_type": "code",
            "execution_count": 43,
            "metadata": {},
            "outputs": [
                {
                    "name": "stdout",
                    "output_type": "stream",
                    "text": "PNG\n(64, 64)\nL\n"
                }
            ],
            "source": "# read the image using Pillow and show some information about it:\n\npimage = Image.open(df_kanji2['image_file_path'][0])\nprint(pimage.format)\nprint(pimage.size)\nprint(pimage.mode)"
        },
        {
            "cell_type": "code",
            "execution_count": 44,
            "metadata": {},
            "outputs": [
                {
                    "name": "stdout",
                    "output_type": "stream",
                    "text": "float32\n"
                },
                {
                    "data": {
                        "text/plain": "<matplotlib.image.AxesImage at 0x7fce4019c690>"
                    },
                    "execution_count": 44,
                    "metadata": {},
                    "output_type": "execute_result"
                },
                {
                    "data": {
                        "image/png": "[encoded data removed]",
                        "text/plain": "<Figure size 432x288 with 1 Axes>"
                    },
                    "metadata": {
                        "needs_background": "light"
                    },
                    "output_type": "display_data"
                }
            ],
            "source": "# read the image using matplotlib and show it\nimg = image.imread(df_kanji2['image_file_path'][0])\nprint(img.dtype)\nplt.imshow(img)"
        },
        {
            "cell_type": "code",
            "execution_count": 45,
            "metadata": {},
            "outputs": [
                {
                    "name": "stdout",
                    "output_type": "stream",
                    "text": "<class 'numpy.ndarray'>\n(64, 64)\n"
                }
            ],
            "source": "# convert to a numpy array and verify we created a numpy array and it shape\nimg_nparray = asarray(img)\nprint(type(img_nparray))\nprint(img_nparray.shape)"
        },
        {
            "cell_type": "code",
            "execution_count": 46,
            "metadata": {},
            "outputs": [
                {
                    "data": {
                        "text/plain": "array([[0.        , 0.        , 0.        , ..., 0.        , 0.        ,\n        0.        ],\n       [0.        , 0.        , 0.        , ..., 0.        , 0.        ,\n        0.        ],\n       [0.        , 0.        , 0.        , ..., 0.        , 0.        ,\n        0.        ],\n       ...,\n       [0.        , 0.        , 0.        , ..., 0.09803922, 0.        ,\n        0.        ],\n       [0.        , 0.        , 0.        , ..., 0.        , 0.        ,\n        0.        ],\n       [0.        , 0.        , 0.        , ..., 0.        , 0.        ,\n        0.        ]], dtype=float32)"
                    },
                    "execution_count": 46,
                    "metadata": {},
                    "output_type": "execute_result"
                }
            ],
            "source": "# show the values of the array\n# notice the array is already normalized\nimg_nparray"
        },
        {
            "cell_type": "code",
            "execution_count": 47,
            "metadata": {},
            "outputs": [
                {
                    "data": {
                        "text/plain": "(64, 64)"
                    },
                    "execution_count": 47,
                    "metadata": {},
                    "output_type": "execute_result"
                }
            ],
            "source": "img_nparray.shape"
        },
        {
            "cell_type": "code",
            "execution_count": 48,
            "metadata": {},
            "outputs": [
                {
                    "data": {
                        "text/html": "<div>\n<style scoped>\n    .dataframe tbody tr th:only-of-type {\n        vertical-align: middle;\n    }\n\n    .dataframe tbody tr th {\n        vertical-align: top;\n    }\n\n    .dataframe thead th {\n        text-align: right;\n    }\n</style>\n<table border=\"1\" class=\"dataframe\">\n  <thead>\n    <tr style=\"text-align: right;\">\n      <th></th>\n      <th>codepoint</th>\n      <th>image_file_path</th>\n      <th>np_array</th>\n    </tr>\n  </thead>\n  <tbody>\n    <tr>\n      <th>0</th>\n      <td>U+241C6</td>\n      <td>/home/wsuser/work/kkanji2/U+241C6/689fa55040ec4f03.png</td>\n      <td></td>\n    </tr>\n    <tr>\n      <th>1</th>\n      <td>U+241C6</td>\n      <td>/home/wsuser/work/kkanji2/U+241C6/c0d603c6ce4a4538.png</td>\n      <td></td>\n    </tr>\n    <tr>\n      <th>2</th>\n      <td>U+24FA3</td>\n      <td>/home/wsuser/work/kkanji2/U+24FA3/4190e728bfc948e0.png</td>\n      <td></td>\n    </tr>\n    <tr>\n      <th>3</th>\n      <td>U+24FA3</td>\n      <td>/home/wsuser/work/kkanji2/U+24FA3/80582798ed70ce7c.png</td>\n      <td></td>\n    </tr>\n    <tr>\n      <th>4</th>\n      <td>U+25DA1</td>\n      <td>/home/wsuser/work/kkanji2/U+25DA1/512d7fcacddd25fd.png</td>\n      <td></td>\n    </tr>\n    <tr>\n      <th>...</th>\n      <td>...</td>\n      <td>...</td>\n      <td>...</td>\n    </tr>\n    <tr>\n      <th>140419</th>\n      <td>U+FA55</td>\n      <td>/home/wsuser/work/kkanji2/U+FA55/e837b009ba51dd64.png</td>\n      <td></td>\n    </tr>\n    <tr>\n      <th>140420</th>\n      <td>U+FA55</td>\n      <td>/home/wsuser/work/kkanji2/U+FA55/81c4ea089fd6d977.png</td>\n      <td></td>\n    </tr>\n    <tr>\n      <th>140421</th>\n      <td>U+FA55</td>\n      <td>/home/wsuser/work/kkanji2/U+FA55/4231e630011bf349.png</td>\n      <td></td>\n    </tr>\n    <tr>\n      <th>140422</th>\n      <td>U+FA5C</td>\n      <td>/home/wsuser/work/kkanji2/U+FA5C/679e4b2f026f6297.png</td>\n      <td></td>\n    </tr>\n    <tr>\n      <th>140423</th>\n      <td>U+FA5C</td>\n      <td>/home/wsuser/work/kkanji2/U+FA5C/15e2060396eba2b3.png</td>\n      <td></td>\n    </tr>\n  </tbody>\n</table>\n<p>140424 rows \u00d7 3 columns</p>\n</div>",
                        "text/plain": "       codepoint                                         image_file_path  \\\n0        U+241C6  /home/wsuser/work/kkanji2/U+241C6/689fa55040ec4f03.png   \n1        U+241C6  /home/wsuser/work/kkanji2/U+241C6/c0d603c6ce4a4538.png   \n2        U+24FA3  /home/wsuser/work/kkanji2/U+24FA3/4190e728bfc948e0.png   \n3        U+24FA3  /home/wsuser/work/kkanji2/U+24FA3/80582798ed70ce7c.png   \n4        U+25DA1  /home/wsuser/work/kkanji2/U+25DA1/512d7fcacddd25fd.png   \n...          ...                                                     ...   \n140419    U+FA55   /home/wsuser/work/kkanji2/U+FA55/e837b009ba51dd64.png   \n140420    U+FA55   /home/wsuser/work/kkanji2/U+FA55/81c4ea089fd6d977.png   \n140421    U+FA55   /home/wsuser/work/kkanji2/U+FA55/4231e630011bf349.png   \n140422    U+FA5C   /home/wsuser/work/kkanji2/U+FA5C/679e4b2f026f6297.png   \n140423    U+FA5C   /home/wsuser/work/kkanji2/U+FA5C/15e2060396eba2b3.png   \n\n       np_array  \n0                \n1                \n2                \n3                \n4                \n...         ...  \n140419           \n140420           \n140421           \n140422           \n140423           \n\n[140424 rows x 3 columns]"
                    },
                    "execution_count": 48,
                    "metadata": {},
                    "output_type": "execute_result"
                }
            ],
            "source": "# add a blank column to the dataframe with column name 'np_array'\n\ndf_kanji2['np_array'] = \"\"\ndf_kanji2"
        },
        {
            "cell_type": "code",
            "execution_count": 49,
            "metadata": {},
            "outputs": [
                {
                    "data": {
                        "text/plain": "pandas.core.series.Series"
                    },
                    "execution_count": 49,
                    "metadata": {},
                    "output_type": "execute_result"
                }
            ],
            "source": "type(df_kanji2['np_array'])\n"
        },
        {
            "cell_type": "code",
            "execution_count": 50,
            "metadata": {},
            "outputs": [
                {
                    "data": {
                        "text/plain": "str"
                    },
                    "execution_count": 50,
                    "metadata": {},
                    "output_type": "execute_result"
                }
            ],
            "source": "type(df_kanji2['np_array'][0])"
        },
        {
            "cell_type": "code",
            "execution_count": 51,
            "metadata": {},
            "outputs": [
                {
                    "data": {
                        "text/plain": "(140424,)"
                    },
                    "execution_count": 51,
                    "metadata": {},
                    "output_type": "execute_result"
                }
            ],
            "source": "df_kanji2['np_array'].shape"
        },
        {
            "cell_type": "code",
            "execution_count": 52,
            "metadata": {},
            "outputs": [],
            "source": "# fire up the spark session\nsc = SparkContext.getOrCreate(SparkConf().setMaster(\"local[*]\"))\n\nspark = SparkSession \\\n    .builder \\\n    .getOrCreate()"
        },
        {
            "cell_type": "code",
            "execution_count": 53,
            "metadata": {},
            "outputs": [],
            "source": "# enable arrow which lets us transfrom a pandas dataframe into a pyspark dataframe\nspark.conf.set(\"spark.sql.execution.arrow.enabled\",\"true\")"
        },
        {
            "cell_type": "code",
            "execution_count": 54,
            "metadata": {},
            "outputs": [],
            "source": "# convert the pandas dataframe into a pyspark dataframe\ndf_kanji2_pyspk = spark.createDataFrame(df_kanji2)"
        },
        {
            "cell_type": "code",
            "execution_count": 55,
            "metadata": {},
            "outputs": [
                {
                    "name": "stdout",
                    "output_type": "stream",
                    "text": "+---------+--------------------+--------+----------+\n|codepoint|     image_file_path|np_array|classIndex|\n+---------+--------------------+--------+----------+\n|  U+241C6|/home/wsuser/work...|        |    2606.0|\n|  U+241C6|/home/wsuser/work...|        |    2606.0|\n|  U+24FA3|/home/wsuser/work...|        |    2607.0|\n|  U+24FA3|/home/wsuser/work...|        |    2607.0|\n|  U+25DA1|/home/wsuser/work...|        |    3017.0|\n|  U+27752|/home/wsuser/work...|        |    1966.0|\n|  U+27752|/home/wsuser/work...|        |    1966.0|\n|  U+27752|/home/wsuser/work...|        |    1966.0|\n|  U+27752|/home/wsuser/work...|        |    1966.0|\n|  U+27752|/home/wsuser/work...|        |    1966.0|\n|  U+29780|/home/wsuser/work...|        |    3018.0|\n|  U+29DDA|/home/wsuser/work...|        |    3019.0|\n|  U+29E75|/home/wsuser/work...|        |    3020.0|\n|   U+4093|/home/wsuser/work...|        |    3021.0|\n|   U+4453|/home/wsuser/work...|        |     680.0|\n|   U+4453|/home/wsuser/work...|        |     680.0|\n|   U+4453|/home/wsuser/work...|        |     680.0|\n|   U+4453|/home/wsuser/work...|        |     680.0|\n|   U+4453|/home/wsuser/work...|        |     680.0|\n|   U+4453|/home/wsuser/work...|        |     680.0|\n+---------+--------------------+--------+----------+\nonly showing top 20 rows\n\n"
                }
            ],
            "source": "# our data has 3,831 different classes each with unique string names\n# which is based on their character codepoints\n# but we want simple numeric class index\n# so we instantiate a StringIndexer in spark:\n\nindexer = StringIndexer(inputCol=\"codepoint\",outputCol=\"classIndex\")\nindexed_df = indexer.fit(df_kanji2_pyspk).transform(df_kanji2_pyspk)\nindexed_df.show()"
        },
        {
            "cell_type": "code",
            "execution_count": 56,
            "metadata": {},
            "outputs": [
                {
                    "data": {
                        "text/html": "<div>\n<style scoped>\n    .dataframe tbody tr th:only-of-type {\n        vertical-align: middle;\n    }\n\n    .dataframe tbody tr th {\n        vertical-align: top;\n    }\n\n    .dataframe thead th {\n        text-align: right;\n    }\n</style>\n<table border=\"1\" class=\"dataframe\">\n  <thead>\n    <tr style=\"text-align: right;\">\n      <th></th>\n      <th>codepoint</th>\n      <th>image_file_path</th>\n      <th>np_array</th>\n      <th>classIndex</th>\n    </tr>\n  </thead>\n  <tbody>\n    <tr>\n      <th>0</th>\n      <td>U+241C6</td>\n      <td>/home/wsuser/work/kkanji2/U+241C6/689fa55040ec4f03.png</td>\n      <td></td>\n      <td>2606.0</td>\n    </tr>\n    <tr>\n      <th>1</th>\n      <td>U+241C6</td>\n      <td>/home/wsuser/work/kkanji2/U+241C6/c0d603c6ce4a4538.png</td>\n      <td></td>\n      <td>2606.0</td>\n    </tr>\n    <tr>\n      <th>2</th>\n      <td>U+24FA3</td>\n      <td>/home/wsuser/work/kkanji2/U+24FA3/4190e728bfc948e0.png</td>\n      <td></td>\n      <td>2607.0</td>\n    </tr>\n    <tr>\n      <th>3</th>\n      <td>U+24FA3</td>\n      <td>/home/wsuser/work/kkanji2/U+24FA3/80582798ed70ce7c.png</td>\n      <td></td>\n      <td>2607.0</td>\n    </tr>\n    <tr>\n      <th>4</th>\n      <td>U+25DA1</td>\n      <td>/home/wsuser/work/kkanji2/U+25DA1/512d7fcacddd25fd.png</td>\n      <td></td>\n      <td>3017.0</td>\n    </tr>\n    <tr>\n      <th>...</th>\n      <td>...</td>\n      <td>...</td>\n      <td>...</td>\n      <td>...</td>\n    </tr>\n    <tr>\n      <th>140419</th>\n      <td>U+FA55</td>\n      <td>/home/wsuser/work/kkanji2/U+FA55/e837b009ba51dd64.png</td>\n      <td></td>\n      <td>1041.0</td>\n    </tr>\n    <tr>\n      <th>140420</th>\n      <td>U+FA55</td>\n      <td>/home/wsuser/work/kkanji2/U+FA55/81c4ea089fd6d977.png</td>\n      <td></td>\n      <td>1041.0</td>\n    </tr>\n    <tr>\n      <th>140421</th>\n      <td>U+FA55</td>\n      <td>/home/wsuser/work/kkanji2/U+FA55/4231e630011bf349.png</td>\n      <td></td>\n      <td>1041.0</td>\n    </tr>\n    <tr>\n      <th>140422</th>\n      <td>U+FA5C</td>\n      <td>/home/wsuser/work/kkanji2/U+FA5C/679e4b2f026f6297.png</td>\n      <td></td>\n      <td>3016.0</td>\n    </tr>\n    <tr>\n      <th>140423</th>\n      <td>U+FA5C</td>\n      <td>/home/wsuser/work/kkanji2/U+FA5C/15e2060396eba2b3.png</td>\n      <td></td>\n      <td>3016.0</td>\n    </tr>\n  </tbody>\n</table>\n<p>140424 rows \u00d7 4 columns</p>\n</div>",
                        "text/plain": "       codepoint                                         image_file_path  \\\n0        U+241C6  /home/wsuser/work/kkanji2/U+241C6/689fa55040ec4f03.png   \n1        U+241C6  /home/wsuser/work/kkanji2/U+241C6/c0d603c6ce4a4538.png   \n2        U+24FA3  /home/wsuser/work/kkanji2/U+24FA3/4190e728bfc948e0.png   \n3        U+24FA3  /home/wsuser/work/kkanji2/U+24FA3/80582798ed70ce7c.png   \n4        U+25DA1  /home/wsuser/work/kkanji2/U+25DA1/512d7fcacddd25fd.png   \n...          ...                                                     ...   \n140419    U+FA55   /home/wsuser/work/kkanji2/U+FA55/e837b009ba51dd64.png   \n140420    U+FA55   /home/wsuser/work/kkanji2/U+FA55/81c4ea089fd6d977.png   \n140421    U+FA55   /home/wsuser/work/kkanji2/U+FA55/4231e630011bf349.png   \n140422    U+FA5C   /home/wsuser/work/kkanji2/U+FA5C/679e4b2f026f6297.png   \n140423    U+FA5C   /home/wsuser/work/kkanji2/U+FA5C/15e2060396eba2b3.png   \n\n       np_array  classIndex  \n0                    2606.0  \n1                    2606.0  \n2                    2607.0  \n3                    2607.0  \n4                    3017.0  \n...         ...         ...  \n140419               1041.0  \n140420               1041.0  \n140421               1041.0  \n140422               3016.0  \n140423               3016.0  \n\n[140424 rows x 4 columns]"
                    },
                    "execution_count": 56,
                    "metadata": {},
                    "output_type": "execute_result"
                }
            ],
            "source": "# transform back to pandas dataframe:\ndf_kanji2 = indexed_df.toPandas()\ndf_kanji2"
        },
        {
            "cell_type": "code",
            "execution_count": null,
            "metadata": {},
            "outputs": [],
            "source": ""
        },
        {
            "cell_type": "code",
            "execution_count": 57,
            "metadata": {},
            "outputs": [],
            "source": "# add a column containing and numpy array of the image indicated in the path in image_file_path\n# and at the same time, flatten each image from a 64 x 64 numpy array to a single\n# dimension 4096 element long numpy array, and normalize it\ndf_kanji2['np_array'] = df_kanji2['image_file_path'].apply(lambda x: np.asarray(Image.open(x))).apply(lambda y: np.reshape(y,(4096,)))"
        },
        {
            "cell_type": "code",
            "execution_count": 58,
            "metadata": {},
            "outputs": [],
            "source": "# df_kanji2['np_array'] = df_kanji2['np_array'].apply(lambda z: z / 255)"
        },
        {
            "cell_type": "code",
            "execution_count": 59,
            "metadata": {},
            "outputs": [
                {
                    "data": {
                        "text/html": "<div>\n<style scoped>\n    .dataframe tbody tr th:only-of-type {\n        vertical-align: middle;\n    }\n\n    .dataframe tbody tr th {\n        vertical-align: top;\n    }\n\n    .dataframe thead th {\n        text-align: right;\n    }\n</style>\n<table border=\"1\" class=\"dataframe\">\n  <thead>\n    <tr style=\"text-align: right;\">\n      <th></th>\n      <th>codepoint</th>\n      <th>image_file_path</th>\n      <th>np_array</th>\n      <th>classIndex</th>\n    </tr>\n  </thead>\n  <tbody>\n    <tr>\n      <th>0</th>\n      <td>U+241C6</td>\n      <td>/home/wsuser/work/kkanji2/U+241C6/689fa55040ec4f03.png</td>\n      <td>[0, 0, 0, 0, 0, 0, 0, 0, 0, 0, 0, 0, 0, 0, 0, 0, 0, 0, 0, 0, 0, 0, 0, 0, 0, 0, 0, 0, 0, 0, 0, 0, 0, 0, 0, 0, 0, 0, 0, 0, 0, 0, 0, 0, 0, 0, 0, 0, 0, 0, 0, 0, 0, 0, 0, 0, 0, 0, 0, 0, 0, 0, 0, 0, 0, 0, 0, 0, 0, 0, 0, 0, 0, 0, 0, 0, 0, 0, 0, 0, 0, 0, 0, 0, 0, 0, 0, 0, 0, 0, 0, 0, 0, 0, 0, 0, 0, 0, 0, 0, ...]</td>\n      <td>2606.0</td>\n    </tr>\n    <tr>\n      <th>1</th>\n      <td>U+241C6</td>\n      <td>/home/wsuser/work/kkanji2/U+241C6/c0d603c6ce4a4538.png</td>\n      <td>[0, 0, 0, 0, 0, 0, 0, 0, 0, 0, 0, 0, 0, 0, 0, 0, 0, 1, 21, 32, 24, 3, 0, 0, 0, 0, 0, 0, 0, 0, 0, 0, 0, 0, 0, 0, 0, 0, 0, 0, 0, 0, 0, 0, 0, 0, 0, 0, 0, 0, 0, 0, 0, 0, 0, 0, 0, 0, 0, 0, 0, 0, 0, 0, 0, 0, 0, 0, 0, 0, 0, 0, 0, 0, 0, 0, 0, 0, 0, 0, 0, 12, 163, 206, 185, 104, 17, 1, 0, 0, 0, 0, 0, 0, 0, 0, 0, 0, 0, 0, ...]</td>\n      <td>2606.0</td>\n    </tr>\n    <tr>\n      <th>2</th>\n      <td>U+24FA3</td>\n      <td>/home/wsuser/work/kkanji2/U+24FA3/4190e728bfc948e0.png</td>\n      <td>[0, 0, 0, 0, 0, 0, 0, 0, 0, 0, 0, 0, 0, 0, 0, 0, 0, 0, 0, 0, 0, 0, 0, 0, 0, 0, 0, 0, 0, 0, 0, 0, 0, 0, 0, 0, 0, 0, 0, 0, 0, 0, 0, 0, 0, 0, 0, 0, 0, 0, 0, 0, 0, 0, 0, 0, 0, 0, 0, 0, 0, 0, 0, 0, 0, 0, 0, 0, 0, 0, 0, 0, 0, 0, 0, 0, 0, 0, 0, 0, 0, 0, 0, 0, 0, 0, 0, 0, 0, 0, 0, 0, 0, 0, 0, 0, 0, 0, 0, 0, ...]</td>\n      <td>2607.0</td>\n    </tr>\n    <tr>\n      <th>3</th>\n      <td>U+24FA3</td>\n      <td>/home/wsuser/work/kkanji2/U+24FA3/80582798ed70ce7c.png</td>\n      <td>[0, 0, 0, 0, 0, 0, 0, 0, 0, 0, 0, 0, 0, 0, 0, 0, 0, 0, 0, 0, 0, 0, 0, 0, 0, 0, 0, 0, 0, 0, 0, 0, 0, 0, 0, 0, 0, 56, 18, 0, 0, 0, 0, 0, 0, 0, 0, 0, 0, 0, 0, 0, 0, 0, 0, 0, 0, 0, 0, 0, 0, 0, 0, 0, 0, 0, 0, 0, 0, 0, 0, 0, 0, 0, 0, 0, 0, 0, 0, 0, 0, 0, 0, 0, 0, 0, 0, 0, 0, 0, 0, 0, 0, 0, 0, 0, 0, 0, 0, 0, ...]</td>\n      <td>2607.0</td>\n    </tr>\n    <tr>\n      <th>4</th>\n      <td>U+25DA1</td>\n      <td>/home/wsuser/work/kkanji2/U+25DA1/512d7fcacddd25fd.png</td>\n      <td>[0, 0, 0, 0, 0, 0, 0, 0, 0, 0, 0, 0, 0, 0, 0, 0, 0, 0, 0, 0, 0, 0, 0, 0, 0, 0, 0, 0, 0, 0, 0, 0, 0, 0, 0, 0, 0, 0, 0, 0, 0, 0, 0, 0, 0, 0, 0, 0, 0, 0, 0, 0, 0, 0, 0, 0, 0, 0, 0, 0, 0, 0, 0, 0, 0, 0, 0, 0, 0, 0, 0, 0, 0, 0, 0, 0, 0, 0, 0, 0, 0, 0, 0, 0, 0, 0, 0, 0, 0, 0, 0, 0, 0, 0, 0, 0, 0, 0, 0, 13, ...]</td>\n      <td>3017.0</td>\n    </tr>\n    <tr>\n      <th>...</th>\n      <td>...</td>\n      <td>...</td>\n      <td>...</td>\n      <td>...</td>\n    </tr>\n    <tr>\n      <th>140419</th>\n      <td>U+FA55</td>\n      <td>/home/wsuser/work/kkanji2/U+FA55/e837b009ba51dd64.png</td>\n      <td>[0, 0, 0, 0, 0, 0, 0, 0, 0, 0, 0, 0, 0, 0, 0, 0, 0, 0, 0, 0, 0, 0, 0, 0, 14, 60, 89, 19, 0, 0, 0, 0, 0, 0, 0, 0, 0, 0, 0, 0, 0, 0, 0, 0, 0, 0, 0, 0, 0, 0, 0, 0, 0, 0, 0, 0, 0, 0, 0, 0, 0, 0, 0, 0, 0, 0, 0, 0, 0, 0, 0, 0, 0, 0, 0, 0, 0, 0, 0, 0, 0, 0, 0, 0, 0, 8, 81, 94, 169, 214, 196, 97, 27, 1, 0, 0, 0, 0, 0, 0, ...]</td>\n      <td>1041.0</td>\n    </tr>\n    <tr>\n      <th>140420</th>\n      <td>U+FA55</td>\n      <td>/home/wsuser/work/kkanji2/U+FA55/81c4ea089fd6d977.png</td>\n      <td>[0, 0, 0, 0, 0, 0, 0, 0, 0, 0, 0, 0, 0, 0, 0, 0, 0, 0, 0, 0, 0, 0, 10, 78, 158, 190, 144, 67, 23, 1, 0, 0, 0, 0, 0, 0, 0, 0, 0, 0, 0, 0, 0, 0, 0, 0, 0, 0, 0, 0, 0, 0, 1, 16, 2, 0, 0, 0, 0, 0, 0, 0, 0, 0, 0, 0, 0, 0, 0, 0, 0, 0, 0, 0, 0, 0, 0, 0, 0, 0, 0, 0, 0, 0, 0, 0, 29, 179, 245, 247, 233, 219, 198, 129, 21, 0, 0, 0, 0, 0, ...]</td>\n      <td>1041.0</td>\n    </tr>\n    <tr>\n      <th>140421</th>\n      <td>U+FA55</td>\n      <td>/home/wsuser/work/kkanji2/U+FA55/4231e630011bf349.png</td>\n      <td>[0, 0, 0, 0, 0, 0, 0, 0, 0, 0, 0, 0, 0, 0, 0, 0, 0, 0, 0, 0, 0, 0, 0, 0, 0, 3, 37, 100, 37, 0, 0, 0, 0, 0, 0, 0, 0, 0, 0, 0, 0, 0, 0, 0, 0, 0, 0, 0, 0, 0, 0, 0, 0, 0, 0, 0, 0, 0, 0, 0, 0, 0, 0, 0, 0, 0, 0, 0, 0, 0, 0, 0, 0, 0, 0, 0, 0, 0, 0, 0, 0, 0, 0, 0, 0, 0, 0, 0, 1, 55, 148, 187, 134, 34, 14, 0, 0, 0, 0, 0, ...]</td>\n      <td>1041.0</td>\n    </tr>\n    <tr>\n      <th>140422</th>\n      <td>U+FA5C</td>\n      <td>/home/wsuser/work/kkanji2/U+FA5C/679e4b2f026f6297.png</td>\n      <td>[0, 0, 0, 0, 0, 0, 0, 0, 0, 0, 0, 0, 0, 0, 0, 0, 0, 0, 0, 0, 0, 0, 0, 0, 0, 0, 18, 27, 34, 50, 29, 6, 0, 0, 0, 0, 0, 0, 0, 0, 0, 0, 0, 0, 0, 0, 0, 0, 0, 0, 0, 0, 0, 0, 0, 0, 0, 0, 0, 0, 0, 0, 0, 0, 0, 0, 0, 0, 0, 0, 0, 0, 0, 0, 0, 0, 0, 0, 0, 0, 0, 0, 0, 0, 0, 0, 0, 0, 0, 35, 213, 238, 240, 243, 235, 210, 33, 1, 0, 0, ...]</td>\n      <td>3016.0</td>\n    </tr>\n    <tr>\n      <th>140423</th>\n      <td>U+FA5C</td>\n      <td>/home/wsuser/work/kkanji2/U+FA5C/15e2060396eba2b3.png</td>\n      <td>[0, 0, 0, 0, 0, 0, 0, 0, 0, 0, 0, 0, 0, 0, 0, 0, 0, 0, 0, 0, 0, 0, 0, 0, 0, 0, 0, 0, 0, 0, 0, 0, 0, 0, 0, 0, 0, 0, 0, 0, 7, 65, 151, 187, 57, 0, 0, 0, 0, 0, 0, 0, 0, 0, 0, 0, 0, 0, 0, 0, 0, 0, 0, 0, 0, 0, 0, 0, 0, 0, 0, 0, 0, 0, 0, 0, 0, 0, 0, 0, 0, 0, 0, 0, 0, 0, 0, 0, 0, 0, 0, 0, 0, 0, 0, 0, 0, 0, 0, 0, ...]</td>\n      <td>3016.0</td>\n    </tr>\n  </tbody>\n</table>\n<p>140424 rows \u00d7 4 columns</p>\n</div>",
                        "text/plain": "       codepoint                                         image_file_path  \\\n0        U+241C6  /home/wsuser/work/kkanji2/U+241C6/689fa55040ec4f03.png   \n1        U+241C6  /home/wsuser/work/kkanji2/U+241C6/c0d603c6ce4a4538.png   \n2        U+24FA3  /home/wsuser/work/kkanji2/U+24FA3/4190e728bfc948e0.png   \n3        U+24FA3  /home/wsuser/work/kkanji2/U+24FA3/80582798ed70ce7c.png   \n4        U+25DA1  /home/wsuser/work/kkanji2/U+25DA1/512d7fcacddd25fd.png   \n...          ...                                                     ...   \n140419    U+FA55   /home/wsuser/work/kkanji2/U+FA55/e837b009ba51dd64.png   \n140420    U+FA55   /home/wsuser/work/kkanji2/U+FA55/81c4ea089fd6d977.png   \n140421    U+FA55   /home/wsuser/work/kkanji2/U+FA55/4231e630011bf349.png   \n140422    U+FA5C   /home/wsuser/work/kkanji2/U+FA5C/679e4b2f026f6297.png   \n140423    U+FA5C   /home/wsuser/work/kkanji2/U+FA5C/15e2060396eba2b3.png   \n\n                                                                                                                                                                                                                                                                                                                                            np_array  \\\n0                                  [0, 0, 0, 0, 0, 0, 0, 0, 0, 0, 0, 0, 0, 0, 0, 0, 0, 0, 0, 0, 0, 0, 0, 0, 0, 0, 0, 0, 0, 0, 0, 0, 0, 0, 0, 0, 0, 0, 0, 0, 0, 0, 0, 0, 0, 0, 0, 0, 0, 0, 0, 0, 0, 0, 0, 0, 0, 0, 0, 0, 0, 0, 0, 0, 0, 0, 0, 0, 0, 0, 0, 0, 0, 0, 0, 0, 0, 0, 0, 0, 0, 0, 0, 0, 0, 0, 0, 0, 0, 0, 0, 0, 0, 0, 0, 0, 0, 0, 0, 0, ...]   \n1                     [0, 0, 0, 0, 0, 0, 0, 0, 0, 0, 0, 0, 0, 0, 0, 0, 0, 1, 21, 32, 24, 3, 0, 0, 0, 0, 0, 0, 0, 0, 0, 0, 0, 0, 0, 0, 0, 0, 0, 0, 0, 0, 0, 0, 0, 0, 0, 0, 0, 0, 0, 0, 0, 0, 0, 0, 0, 0, 0, 0, 0, 0, 0, 0, 0, 0, 0, 0, 0, 0, 0, 0, 0, 0, 0, 0, 0, 0, 0, 0, 0, 12, 163, 206, 185, 104, 17, 1, 0, 0, 0, 0, 0, 0, 0, 0, 0, 0, 0, 0, ...]   \n2                                  [0, 0, 0, 0, 0, 0, 0, 0, 0, 0, 0, 0, 0, 0, 0, 0, 0, 0, 0, 0, 0, 0, 0, 0, 0, 0, 0, 0, 0, 0, 0, 0, 0, 0, 0, 0, 0, 0, 0, 0, 0, 0, 0, 0, 0, 0, 0, 0, 0, 0, 0, 0, 0, 0, 0, 0, 0, 0, 0, 0, 0, 0, 0, 0, 0, 0, 0, 0, 0, 0, 0, 0, 0, 0, 0, 0, 0, 0, 0, 0, 0, 0, 0, 0, 0, 0, 0, 0, 0, 0, 0, 0, 0, 0, 0, 0, 0, 0, 0, 0, ...]   \n3                                [0, 0, 0, 0, 0, 0, 0, 0, 0, 0, 0, 0, 0, 0, 0, 0, 0, 0, 0, 0, 0, 0, 0, 0, 0, 0, 0, 0, 0, 0, 0, 0, 0, 0, 0, 0, 0, 56, 18, 0, 0, 0, 0, 0, 0, 0, 0, 0, 0, 0, 0, 0, 0, 0, 0, 0, 0, 0, 0, 0, 0, 0, 0, 0, 0, 0, 0, 0, 0, 0, 0, 0, 0, 0, 0, 0, 0, 0, 0, 0, 0, 0, 0, 0, 0, 0, 0, 0, 0, 0, 0, 0, 0, 0, 0, 0, 0, 0, 0, 0, ...]   \n4                                 [0, 0, 0, 0, 0, 0, 0, 0, 0, 0, 0, 0, 0, 0, 0, 0, 0, 0, 0, 0, 0, 0, 0, 0, 0, 0, 0, 0, 0, 0, 0, 0, 0, 0, 0, 0, 0, 0, 0, 0, 0, 0, 0, 0, 0, 0, 0, 0, 0, 0, 0, 0, 0, 0, 0, 0, 0, 0, 0, 0, 0, 0, 0, 0, 0, 0, 0, 0, 0, 0, 0, 0, 0, 0, 0, 0, 0, 0, 0, 0, 0, 0, 0, 0, 0, 0, 0, 0, 0, 0, 0, 0, 0, 0, 0, 0, 0, 0, 0, 13, ...]   \n...                                                                                                                                                                                                                                                                                                                                              ...   \n140419               [0, 0, 0, 0, 0, 0, 0, 0, 0, 0, 0, 0, 0, 0, 0, 0, 0, 0, 0, 0, 0, 0, 0, 0, 14, 60, 89, 19, 0, 0, 0, 0, 0, 0, 0, 0, 0, 0, 0, 0, 0, 0, 0, 0, 0, 0, 0, 0, 0, 0, 0, 0, 0, 0, 0, 0, 0, 0, 0, 0, 0, 0, 0, 0, 0, 0, 0, 0, 0, 0, 0, 0, 0, 0, 0, 0, 0, 0, 0, 0, 0, 0, 0, 0, 0, 8, 81, 94, 169, 214, 196, 97, 27, 1, 0, 0, 0, 0, 0, 0, ...]   \n140420  [0, 0, 0, 0, 0, 0, 0, 0, 0, 0, 0, 0, 0, 0, 0, 0, 0, 0, 0, 0, 0, 0, 10, 78, 158, 190, 144, 67, 23, 1, 0, 0, 0, 0, 0, 0, 0, 0, 0, 0, 0, 0, 0, 0, 0, 0, 0, 0, 0, 0, 0, 0, 1, 16, 2, 0, 0, 0, 0, 0, 0, 0, 0, 0, 0, 0, 0, 0, 0, 0, 0, 0, 0, 0, 0, 0, 0, 0, 0, 0, 0, 0, 0, 0, 0, 0, 29, 179, 245, 247, 233, 219, 198, 129, 21, 0, 0, 0, 0, 0, ...]   \n140421                [0, 0, 0, 0, 0, 0, 0, 0, 0, 0, 0, 0, 0, 0, 0, 0, 0, 0, 0, 0, 0, 0, 0, 0, 0, 3, 37, 100, 37, 0, 0, 0, 0, 0, 0, 0, 0, 0, 0, 0, 0, 0, 0, 0, 0, 0, 0, 0, 0, 0, 0, 0, 0, 0, 0, 0, 0, 0, 0, 0, 0, 0, 0, 0, 0, 0, 0, 0, 0, 0, 0, 0, 0, 0, 0, 0, 0, 0, 0, 0, 0, 0, 0, 0, 0, 0, 0, 0, 1, 55, 148, 187, 134, 34, 14, 0, 0, 0, 0, 0, ...]   \n140422          [0, 0, 0, 0, 0, 0, 0, 0, 0, 0, 0, 0, 0, 0, 0, 0, 0, 0, 0, 0, 0, 0, 0, 0, 0, 0, 18, 27, 34, 50, 29, 6, 0, 0, 0, 0, 0, 0, 0, 0, 0, 0, 0, 0, 0, 0, 0, 0, 0, 0, 0, 0, 0, 0, 0, 0, 0, 0, 0, 0, 0, 0, 0, 0, 0, 0, 0, 0, 0, 0, 0, 0, 0, 0, 0, 0, 0, 0, 0, 0, 0, 0, 0, 0, 0, 0, 0, 0, 0, 35, 213, 238, 240, 243, 235, 210, 33, 1, 0, 0, ...]   \n140423                       [0, 0, 0, 0, 0, 0, 0, 0, 0, 0, 0, 0, 0, 0, 0, 0, 0, 0, 0, 0, 0, 0, 0, 0, 0, 0, 0, 0, 0, 0, 0, 0, 0, 0, 0, 0, 0, 0, 0, 0, 7, 65, 151, 187, 57, 0, 0, 0, 0, 0, 0, 0, 0, 0, 0, 0, 0, 0, 0, 0, 0, 0, 0, 0, 0, 0, 0, 0, 0, 0, 0, 0, 0, 0, 0, 0, 0, 0, 0, 0, 0, 0, 0, 0, 0, 0, 0, 0, 0, 0, 0, 0, 0, 0, 0, 0, 0, 0, 0, 0, ...]   \n\n        classIndex  \n0           2606.0  \n1           2606.0  \n2           2607.0  \n3           2607.0  \n4           3017.0  \n...            ...  \n140419      1041.0  \n140420      1041.0  \n140421      1041.0  \n140422      3016.0  \n140423      3016.0  \n\n[140424 rows x 4 columns]"
                    },
                    "execution_count": 59,
                    "metadata": {},
                    "output_type": "execute_result"
                }
            ],
            "source": "df_kanji2"
        },
        {
            "cell_type": "code",
            "execution_count": 60,
            "metadata": {},
            "outputs": [
                {
                    "data": {
                        "text/plain": "pandas.core.series.Series"
                    },
                    "execution_count": 60,
                    "metadata": {},
                    "output_type": "execute_result"
                }
            ],
            "source": "type(df_kanji2['np_array'])"
        },
        {
            "cell_type": "code",
            "execution_count": 61,
            "metadata": {},
            "outputs": [
                {
                    "data": {
                        "text/plain": "numpy.ndarray"
                    },
                    "execution_count": 61,
                    "metadata": {},
                    "output_type": "execute_result"
                }
            ],
            "source": "type(df_kanji2['np_array'][0])"
        },
        {
            "cell_type": "code",
            "execution_count": 62,
            "metadata": {},
            "outputs": [
                {
                    "data": {
                        "text/plain": "(140424,)"
                    },
                    "execution_count": 62,
                    "metadata": {},
                    "output_type": "execute_result"
                }
            ],
            "source": "df_kanji2['np_array'].shape"
        },
        {
            "cell_type": "code",
            "execution_count": 63,
            "metadata": {},
            "outputs": [
                {
                    "data": {
                        "text/plain": "(4096,)"
                    },
                    "execution_count": 63,
                    "metadata": {},
                    "output_type": "execute_result"
                }
            ],
            "source": "df_kanji2['np_array'][0].shape"
        },
        {
            "cell_type": "code",
            "execution_count": null,
            "metadata": {},
            "outputs": [],
            "source": ""
        }
    ],
    "metadata": {
        "kernelspec": {
            "display_name": "Python 3.7",
            "language": "python",
            "name": "python3"
        },
        "language_info": {
            "codemirror_mode": {
                "name": "ipython",
                "version": 3
            },
            "file_extension": ".py",
            "mimetype": "text/x-python",
            "name": "python",
            "nbconvert_exporter": "python",
            "pygments_lexer": "ipython3",
            "version": "3.7.10"
        }
    },
    "nbformat": 4,
    "nbformat_minor": 1
}