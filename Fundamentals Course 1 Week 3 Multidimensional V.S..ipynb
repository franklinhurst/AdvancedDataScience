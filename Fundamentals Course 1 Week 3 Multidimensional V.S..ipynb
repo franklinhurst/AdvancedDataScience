{
    "cells": [
        {
            "cell_type": "code",
            "execution_count": 1,
            "metadata": {},
            "outputs": [
                {
                    "name": "stdout",
                    "output_type": "stream",
                    "text": "Waiting for a Spark session to start...\nSpark Initialization Done! ApplicationId = app-20210430231104-0000\nKERNEL_ID = 3cb8b300-da41-41a4-acff-25a80691fe44\n"
                }
            ],
            "source": "# We only need a datatset with two dimensions to plot points in two dimensions\n# *all* data can be viewed as points in *some* number of dimensions\n# with the number of dimensions relating to the number of columns (features)\n# The simplest thing to notice visually in two dimensional space is sets of \n# clusters of the data.  In two dimensions it is easy to see, also can be \n# seen in 3 dimensions\n# However, we need some kind of algoritm to detect and understand \n# clusters in higher dimensions than three.  The algorithms will of\n# course work on data in two and three dimensions.\n\n# Points not within the boundaries of any cluster can be seen as outliers, once\n# we have established what constitutes a boundary of a cluster.\n\n# Instead of establishing a boundary for each cluster, we can try to draw a \n# line (in two dimensions) between the clusters.  This would be a plane in \n# three dimensions and a hyperplane in more than 3 dimensions\n\n# We can generate a 3d scatter plot with random data.  We can still see clusters\n# if they exist in 3 dimensional vector space.  If we establish boundaries of the clusters\n# in 3d space, there boundaries will be spheres.  If instead we want to separate the clusters\n# then we would use a 3d plane.  \n\n# if dimensions exist in the data greater than 3, we have several options:\n\n#  We can try to color code the data in 3d to denote what is happening in the higher dimentions,\n#  or we can use different shapes to represent the 4th and higher dimensions visually.\n#  This only works with low cardinality above 3d.  \n#  Another option is that we can remove certain dimensions from a higher dimension dataset\n#  and then plot only the most \"interesting\" dimensions in 3d or 2d.  In selecting the \n#  most \"interesting\" dimensions, we would use a correlation matrix to see which dimensions in\n#  the data have the greatest correlations with each other.  If two features have a very high\n#  correlation, then removing one of those features will not remove a large amount of most intersting\n#  relationship between the features in the data.  If one feature is highly correlated with another\n#  it is less interesting because they are both represented, mostly, but one or the other of those\n#  two highly correlated features.\n\n#  For example, suppose our dataset was composed of features related to homes on the market, and \n#  our features were things like number of bedrooms, number of bath rooms, square footage, year built,\n#  last sale price, appraisal value, sale price for sale before last sale price, yard square footage, \n#  garage square footage, etc.  Suppose we wanted to reduce the dimensionality of the data.  We might\n#  look at a correlation matrix between all these features in our data set and we might determine that\n#  there is a very high correlation betrween the last sale price and the sale price in the sale before\n#  the last sale.  Therefore we might decide to just drop the latter feature to lower the dimensionality\n#  our data, since if we have the last sale price, the sale price before last doesn't really give us\n#  all that much more information about the house.\n\n#  Another approach is to create multiple plots with different subsets of features (dimensions)\n\n#  Yet another approach is to use a mathematical method for dimensionality reduction.\n\n#  If we do not want to reduce dimensions, we can still use clustering and classifiation algorithms in \n#  higher dimensional space to determine cluster groupings and determine cluster centers.\n"
        },
        {
            "cell_type": "code",
            "execution_count": null,
            "metadata": {},
            "outputs": [],
            "source": ""
        }
    ],
    "metadata": {
        "kernelspec": {
            "display_name": "Python 3.7 with Spark",
            "language": "python3",
            "name": "python37"
        },
        "language_info": {
            "codemirror_mode": {
                "name": "ipython",
                "version": 3
            },
            "file_extension": ".py",
            "mimetype": "text/x-python",
            "name": "python",
            "nbconvert_exporter": "python",
            "pygments_lexer": "ipython3",
            "version": "3.7.10"
        }
    },
    "nbformat": 4,
    "nbformat_minor": 1
}