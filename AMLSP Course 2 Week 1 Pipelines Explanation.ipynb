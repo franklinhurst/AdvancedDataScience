{
    "cells": [
        {
            "cell_type": "code",
            "execution_count": 1,
            "metadata": {},
            "outputs": [],
            "source": "# Database ->  String Indexing -> Scaling and Normalization -> One Hot Encoding -> Modeling Algorithm A\n#                                                                                     or\n#                                                                                  Modeling Algorithm B\n#                                                                                     or\n#                                                                                  Modeling Algorithm C\n#                                                                                     or\n#                                                                                  Modeling Algorithm D\n\n# Pipelines allow us to be modular about each step in the process, we can change it out \n# if there is something about it that we can make better.\n\n\n#  fit()   ->    evaluate()    ->     score()\n\n#  we can crossvalidate using the same pipeline and that accelerates "
        },
        {
            "cell_type": "code",
            "execution_count": null,
            "metadata": {},
            "outputs": [],
            "source": ""
        }
    ],
    "metadata": {
        "kernelspec": {
            "display_name": "Python 3.7",
            "language": "python",
            "name": "python3"
        },
        "language_info": {
            "codemirror_mode": {
                "name": "ipython",
                "version": 3
            },
            "file_extension": ".py",
            "mimetype": "text/x-python",
            "name": "python",
            "nbconvert_exporter": "python",
            "pygments_lexer": "ipython3",
            "version": "3.7.10"
        }
    },
    "nbformat": 4,
    "nbformat_minor": 1
}